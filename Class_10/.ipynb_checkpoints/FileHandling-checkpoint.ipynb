{
 "cells": [
  {
   "cell_type": "markdown",
   "id": "d6f8211a",
   "metadata": {},
   "source": [
    "## Absolute Path \n",
    "* C:\\Users\\Zbook\\OneDrive\\Desktop\\Saylani\\Class_10\\FileHandling.ipynb\n",
    "* C:\\Users\\Zbook\\OneDrive\\Desktop\\Saylani\\Class_10\\Untitled.xlx"
   ]
  },
  {
   "cell_type": "markdown",
   "id": "d5d73c31",
   "metadata": {},
   "source": [
    "## Relative Path\n",
    "* sir ki github se dekhna hai "
   ]
  },
  {
   "cell_type": "markdown",
   "id": "021f2be6",
   "metadata": {},
   "source": [
    "## Read File from Current Directory\n",
    "* ./"
   ]
  },
  {
   "cell_type": "markdown",
   "id": "00671bc1",
   "metadata": {},
   "source": [
    "### Example 1\n"
   ]
  },
  {
   "cell_type": "code",
   "execution_count": 3,
   "id": "7e3dfaba",
   "metadata": {},
   "outputs": [
    {
     "name": "stdout",
     "output_type": "stream",
     "text": [
      "<class '_io.TextIOWrapper'>\n"
     ]
    }
   ],
   "source": [
    "f= open(\"./untitled.xlx\")\n",
    "print(type(f))"
   ]
  },
  {
   "cell_type": "code",
   "execution_count": 4,
   "id": "116eda16",
   "metadata": {},
   "outputs": [
    {
     "name": "stdout",
     "output_type": "stream",
     "text": [
      "['_CHUNK_SIZE', '__class__', '__del__', '__delattr__', '__dict__', '__dir__', '__doc__', '__enter__', '__eq__', '__exit__', '__format__', '__ge__', '__getattribute__', '__gt__', '__hash__', '__init__', '__init_subclass__', '__iter__', '__le__', '__lt__', '__ne__', '__new__', '__next__', '__reduce__', '__reduce_ex__', '__repr__', '__setattr__', '__sizeof__', '__str__', '__subclasshook__', '_checkClosed', '_checkReadable', '_checkSeekable', '_checkWritable', '_finalizing', 'buffer', 'close', 'closed', 'detach', 'encoding', 'errors', 'fileno', 'flush', 'isatty', 'line_buffering', 'mode', 'name', 'newlines', 'read', 'readable', 'readline', 'readlines', 'reconfigure', 'seek', 'seekable', 'tell', 'truncate', 'writable', 'write', 'write_through', 'writelines']\n"
     ]
    }
   ],
   "source": [
    "print(dir(f))"
   ]
  },
  {
   "cell_type": "code",
   "execution_count": 7,
   "id": "78e1a00f",
   "metadata": {},
   "outputs": [],
   "source": [
    "f=open(\"./text.txt\")\n",
    "print(f.read())  # read all file\n",
    "f.close()"
   ]
  },
  {
   "cell_type": "code",
   "execution_count": 14,
   "id": "4e39994c",
   "metadata": {},
   "outputs": [
    {
     "name": "stdout",
     "output_type": "stream",
     "text": [
      "Pakistan\n",
      "\n"
     ]
    }
   ],
   "source": [
    "f=open(\"./text.txt\")\n",
    "print(f.readline())  # read 1st line from file\n",
    "f.close()"
   ]
  },
  {
   "cell_type": "code",
   "execution_count": 13,
   "id": "883f34e2",
   "metadata": {},
   "outputs": [
    {
     "name": "stdout",
     "output_type": "stream",
     "text": [
      "['Pakistan\\n', 'welsom\\n', 'fff']\n"
     ]
    }
   ],
   "source": [
    "f=open(\"./text.txt\")\n",
    "print(f.readlines()[:10])  # read sprecific lines from file\n",
    "f.close()"
   ]
  },
  {
   "cell_type": "markdown",
   "id": "1bafad42",
   "metadata": {},
   "source": [
    "## Read File from Child Directory\n",
    "* ./folder1/folder2/folder3"
   ]
  },
  {
   "cell_type": "markdown",
   "id": "348ba33c",
   "metadata": {},
   "source": [
    "## Read File from Parent Directory\n",
    "*  ../../"
   ]
  },
  {
   "cell_type": "markdown",
   "id": "4acb418f",
   "metadata": {},
   "source": [
    "## Solution  For Absolute Path "
   ]
  },
  {
   "cell_type": "markdown",
   "id": "cef7f717",
   "metadata": {},
   "source": [
    "## 1st Solution \n",
    "* replace \\ with /"
   ]
  },
  {
   "cell_type": "markdown",
   "id": "ddd05247",
   "metadata": {},
   "source": [
    "## 2nd Solution\n",
    "* put 'r' before path"
   ]
  },
  {
   "cell_type": "markdown",
   "id": "27b69e7c",
   "metadata": {},
   "source": [
    "## Now Open File With Block"
   ]
  },
  {
   "cell_type": "code",
   "execution_count": 17,
   "id": "2c9dd361",
   "metadata": {},
   "outputs": [
    {
     "name": "stdout",
     "output_type": "stream",
     "text": [
      "Pakistan\n",
      "welsom\n",
      "fff\n"
     ]
    }
   ],
   "source": [
    "with open (\"./text.txt\") as f:\n",
    "    print(f.read())"
   ]
  },
  {
   "cell_type": "code",
   "execution_count": 21,
   "id": "0e379935",
   "metadata": {},
   "outputs": [
    {
     "name": "stdout",
     "output_type": "stream",
     "text": [
      "Pakistan\n",
      "welsom\n",
      "fff\n"
     ]
    }
   ],
   "source": [
    "with open (\"./text.txt\") as f:\n",
    "    f.seek(0)\n",
    "    print(f.read())"
   ]
  },
  {
   "cell_type": "code",
   "execution_count": 22,
   "id": "a6de08d9",
   "metadata": {},
   "outputs": [
    {
     "name": "stdout",
     "output_type": "stream",
     "text": [
      "akistan\n",
      "welsom\n",
      "fff\n"
     ]
    }
   ],
   "source": [
    "with open (\"./text.txt\") as f:\n",
    "    f.seek(1)\n",
    "    print(f.read())"
   ]
  },
  {
   "cell_type": "code",
   "execution_count": 23,
   "id": "7b2f92be",
   "metadata": {},
   "outputs": [
    {
     "name": "stdout",
     "output_type": "stream",
     "text": [
      "kistan\n",
      "welsom\n",
      "fff\n"
     ]
    }
   ],
   "source": [
    "with open (\"./text.txt\") as f:\n",
    "    f.seek(2)\n",
    "    print(f.read())"
   ]
  },
  {
   "cell_type": "code",
   "execution_count": 24,
   "id": "5076e6e5",
   "metadata": {},
   "outputs": [
    {
     "name": "stdout",
     "output_type": "stream",
     "text": [
      "Pakistan\n",
      "welsom\n",
      "fff\n"
     ]
    },
    {
     "ename": "UnsupportedOperation",
     "evalue": "not writable",
     "output_type": "error",
     "traceback": [
      "\u001b[1;31m---------------------------------------------------------------------------\u001b[0m",
      "\u001b[1;31mUnsupportedOperation\u001b[0m                      Traceback (most recent call last)",
      "\u001b[1;32m~\\AppData\\Local\\Temp\\ipykernel_9972\\382570346.py\u001b[0m in \u001b[0;36m<module>\u001b[1;34m\u001b[0m\n\u001b[0;32m      1\u001b[0m \u001b[1;32mwith\u001b[0m \u001b[0mopen\u001b[0m \u001b[1;33m(\u001b[0m\u001b[1;34m\"./text.txt\"\u001b[0m\u001b[1;33m)\u001b[0m \u001b[1;32mas\u001b[0m \u001b[0mf\u001b[0m\u001b[1;33m:\u001b[0m\u001b[1;33m\u001b[0m\u001b[1;33m\u001b[0m\u001b[0m\n\u001b[0;32m      2\u001b[0m     \u001b[0mprint\u001b[0m\u001b[1;33m(\u001b[0m\u001b[0mf\u001b[0m\u001b[1;33m.\u001b[0m\u001b[0mread\u001b[0m\u001b[1;33m(\u001b[0m\u001b[1;33m)\u001b[0m\u001b[1;33m)\u001b[0m\u001b[1;33m\u001b[0m\u001b[1;33m\u001b[0m\u001b[0m\n\u001b[1;32m----> 3\u001b[1;33m     \u001b[0mf\u001b[0m\u001b[1;33m.\u001b[0m\u001b[0mwrite\u001b[0m\u001b[1;33m(\u001b[0m\u001b[1;34m\"Hello World\"\u001b[0m\u001b[1;33m)\u001b[0m\u001b[1;33m\u001b[0m\u001b[1;33m\u001b[0m\u001b[0m\n\u001b[0m",
      "\u001b[1;31mUnsupportedOperation\u001b[0m: not writable"
     ]
    }
   ],
   "source": [
    "with open (\"./text.txt\") as f:\n",
    "    print(f.read())\n",
    "    f.write(\"Hello World\")"
   ]
  },
  {
   "cell_type": "code",
   "execution_count": 25,
   "id": "7a3bae35",
   "metadata": {},
   "outputs": [],
   "source": [
    "with open (\"./text.txt\",mode=\"w\") as f:\n",
    "    f.write(\"Hello World\")"
   ]
  },
  {
   "cell_type": "code",
   "execution_count": 43,
   "id": "df979b27",
   "metadata": {},
   "outputs": [
    {
     "name": "stdout",
     "output_type": "stream",
     "text": [
      "Hello Workd\n"
     ]
    }
   ],
   "source": [
    "with open (\"./text.txt\",mode=\"w+\") as f:\n",
    "    f.write(\"Hello Workd\")\n",
    "    f.seek(0)\n",
    "    print(f.read())"
   ]
  },
  {
   "cell_type": "code",
   "execution_count": 46,
   "id": "f2205019",
   "metadata": {},
   "outputs": [
    {
     "name": "stdout",
     "output_type": "stream",
     "text": [
      "\n",
      "j;lsfj;sajf\n",
      "afslfjashfla\n",
      "afhaldjhlhfla\n",
      "fahlhfasdhl\n"
     ]
    }
   ],
   "source": [
    "with open (\"./text.txt\",mode=\"r+\") as f:\n",
    "    f.write(\"Hello Workd\")\n",
    "    print(f.read())"
   ]
  },
  {
   "cell_type": "code",
   "execution_count": 47,
   "id": "f4198ce2",
   "metadata": {},
   "outputs": [
    {
     "name": "stdout",
     "output_type": "stream",
     "text": [
      "Hello Workd\n",
      "j;lsfj;sajf\n",
      "afslfjashfla\n",
      "afhaldjhlhfla\n",
      "fahlhfasdhl\u0000Hello Workd\n"
     ]
    }
   ],
   "source": [
    "with open (\"./text.txt\",mode=\"r+\") as f:\n",
    "    f.seek(len(f.read())+1)\n",
    "    f.write(\"Hello Workd\")\n",
    "    f.seek(0)\n",
    "    print(f.read())\n",
    "    "
   ]
  },
  {
   "cell_type": "code",
   "execution_count": 48,
   "id": "aca40937",
   "metadata": {},
   "outputs": [
    {
     "name": "stdout",
     "output_type": "stream",
     "text": [
      "<class '_io.BufferedReader'>\n",
      "b'Hello Workd\\nj;lsfj;sajf\\nafslfjashfla\\nafhaldjhlhfla\\nfahlhfasdhl\\x00Hello Workd'\n"
     ]
    }
   ],
   "source": [
    "with open (\"./text.txt\",mode=\"rb\") as f:\n",
    "    print(type(f))\n",
    "    print(f.read())"
   ]
  },
  {
   "cell_type": "markdown",
   "id": "e3e572f7",
   "metadata": {},
   "source": [
    "## Store Input User in File Using While Loop"
   ]
  },
  {
   "cell_type": "code",
   "execution_count": null,
   "id": "1bacf856",
   "metadata": {},
   "outputs": [],
   "source": [
    "while True:\n",
    "    name=input(\"Enter your name \")\n",
    "    if name.lower()==\"exit\" or name.lower()==\"x\":\n",
    "        break\n",
    "        with open (\"studentName.txt\",\"a\") as f: # Create new file \n",
    "            f.write(name)"
   ]
  }
 ],
 "metadata": {
  "kernelspec": {
   "display_name": "Python 3 (ipykernel)",
   "language": "python",
   "name": "python3"
  },
  "language_info": {
   "codemirror_mode": {
    "name": "ipython",
    "version": 3
   },
   "file_extension": ".py",
   "mimetype": "text/x-python",
   "name": "python",
   "nbconvert_exporter": "python",
   "pygments_lexer": "ipython3",
   "version": "3.9.13"
  }
 },
 "nbformat": 4,
 "nbformat_minor": 5
}
