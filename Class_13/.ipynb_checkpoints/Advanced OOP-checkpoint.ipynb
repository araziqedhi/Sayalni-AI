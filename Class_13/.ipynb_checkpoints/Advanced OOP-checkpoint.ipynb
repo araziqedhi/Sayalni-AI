{
 "cells": [
  {
   "cell_type": "code",
   "execution_count": 1,
   "id": "53e17328",
   "metadata": {},
   "outputs": [],
   "source": [
    "class Student():\n",
    "    counter=0\n",
    "    def __init__(self,sname):   ## self argument is an extra argument which will not be used ## __init__ is a constructor\n",
    "        #self.attribute= value\n",
    "        self.name=sname   # attribute\n",
    "        self.father_name=None\n",
    "        \n",
    "    def login(self,user,password):\n",
    "        pass\n",
    "\n",
    "s1= Student(\"Qasim\")\n",
    "s2=Student(\"Raziq\")\n",
    "s3=Student(\"Maaz\")"
   ]
  },
  {
   "cell_type": "code",
   "execution_count": null,
   "id": "986d7337",
   "metadata": {},
   "outputs": [],
   "source": []
  }
 ],
 "metadata": {
  "kernelspec": {
   "display_name": "Python 3 (ipykernel)",
   "language": "python",
   "name": "python3"
  },
  "language_info": {
   "codemirror_mode": {
    "name": "ipython",
    "version": 3
   },
   "file_extension": ".py",
   "mimetype": "text/x-python",
   "name": "python",
   "nbconvert_exporter": "python",
   "pygments_lexer": "ipython3",
   "version": "3.9.13"
  }
 },
 "nbformat": 4,
 "nbformat_minor": 5
}
