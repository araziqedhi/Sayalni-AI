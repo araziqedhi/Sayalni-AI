{
 "cells": [
  {
   "cell_type": "code",
   "execution_count": 1,
   "id": "4afb9cb1",
   "metadata": {},
   "outputs": [],
   "source": [
    "class Student():\n",
    "    counter=0\n",
    "    def __init__(self,sname):   ## self argument is an extra argument which will not be used ## __init__ is a constructor\n",
    "        #self.attribute= value\n",
    "        self.name=sname   # attribute\n",
    "        self.father_name=None\n",
    "        \n",
    "    def login(self,user,password):\n",
    "        pass\n",
    "\n",
    "s1= Student(\"Qasim\")\n",
    "s2=Student(\"Raziq\")\n",
    "s3=Student(\"Maaz\")"
   ]
  },
  {
   "cell_type": "code",
   "execution_count": 2,
   "id": "e2ddc483",
   "metadata": {},
   "outputs": [
    {
     "name": "stdout",
     "output_type": "stream",
     "text": [
      "None\n"
     ]
    }
   ],
   "source": [
    "print(s1.father_name)\n"
   ]
  },
  {
   "cell_type": "code",
   "execution_count": 3,
   "id": "02c9a891",
   "metadata": {},
   "outputs": [
    {
     "name": "stdout",
     "output_type": "stream",
     "text": [
      "Alwani\n"
     ]
    }
   ],
   "source": [
    "s1.father_name=\"Alwani\"\n",
    "print(s1.father_name)"
   ]
  },
  {
   "cell_type": "code",
   "execution_count": 4,
   "id": "1787bf5c",
   "metadata": {},
   "outputs": [
    {
     "name": "stdout",
     "output_type": "stream",
     "text": [
      "Hamza\n"
     ]
    }
   ],
   "source": [
    "s2.name=\"Hamza\"\n",
    "print(s2.name)"
   ]
  },
  {
   "cell_type": "code",
   "execution_count": 5,
   "id": "26f353b0",
   "metadata": {},
   "outputs": [
    {
     "name": "stdout",
     "output_type": "stream",
     "text": [
      "Qasim\n",
      "Alwani\n",
      "031555555\n",
      "{'name': 'Qasim', 'father_name': 'Alwani', 'contact': '031555555'}\n"
     ]
    }
   ],
   "source": [
    "s1.contact=\"031555555\"\n",
    "print(s1.name)\n",
    "print(s1.father_name)\n",
    "print(s1.contact)\n",
    "\n",
    "# print all attributes of s1\n",
    "print(vars(s1))"
   ]
  },
  {
   "cell_type": "code",
   "execution_count": 6,
   "id": "ff3d491e",
   "metadata": {},
   "outputs": [
    {
     "name": "stdout",
     "output_type": "stream",
     "text": [
      "None\n"
     ]
    }
   ],
   "source": [
    "print(s2.father_name)"
   ]
  },
  {
   "cell_type": "code",
   "execution_count": 7,
   "id": "7ef0afb0",
   "metadata": {},
   "outputs": [],
   "source": [
    "## print(s2.contact)"
   ]
  },
  {
   "cell_type": "markdown",
   "id": "623b20d0",
   "metadata": {},
   "source": [
    "## Inheritance"
   ]
  },
  {
   "cell_type": "code",
   "execution_count": 8,
   "id": "29c90f78",
   "metadata": {},
   "outputs": [],
   "source": [
    "class Parents():\n",
    "    def __init__(self,name,father):\n",
    "        self.name=name\n",
    "        self.father=father\n",
    "        \n",
    "    def speak(self,words):\n",
    "        return words         ## we are returning it directly bcz it is temporary and we dont need to store it permanently\n",
    "    \n",
    "    def look(self,objects):\n",
    "        return f\"{self.name} is looking {objects}\""
   ]
  },
  {
   "cell_type": "code",
   "execution_count": 9,
   "id": "9721f374",
   "metadata": {},
   "outputs": [],
   "source": [
    "class Child(Parents):  ## Parents class has been Inherited in child class \n",
    "    def reading(self,context):\n",
    "        return f\"{self.name} is reading {context}!\"\n",
    "        "
   ]
  },
  {
   "cell_type": "code",
   "execution_count": 10,
   "id": "066accdf",
   "metadata": {},
   "outputs": [
    {
     "name": "stdout",
     "output_type": "stream",
     "text": [
      "Qasim\n",
      "Ilyas\n",
      "Paksitan\n",
      "Qasim is looking Beautiful\n"
     ]
    }
   ],
   "source": [
    "p1=Parents(\"Qasim\",\"Ilyas\")\n",
    "print(p1.name)\n",
    "print(p1.father)\n",
    "print(p1.speak(\"Paksitan\"))\n",
    "print(p1.look(\"Beautiful\"))\n",
    "## print(p1.reading(\"Beautiful\"))"
   ]
  },
  {
   "cell_type": "code",
   "execution_count": 11,
   "id": "562b2638",
   "metadata": {},
   "outputs": [
    {
     "name": "stdout",
     "output_type": "stream",
     "text": [
      "Hamza\n",
      "Yawar\n",
      "India\n",
      "Hamza is looking ugly\n",
      "Hamza is reading Beautiful!\n"
     ]
    }
   ],
   "source": [
    "c1=Child(\"Hamza\",\"Yawar\")\n",
    "print(c1.name)\n",
    "print(c1.father)\n",
    "print(c1.speak(\"India\"))\n",
    "print(c1.look(\"ugly\"))\n",
    "print(c1.reading(\"Beautiful\"))"
   ]
  },
  {
   "cell_type": "code",
   "execution_count": 12,
   "id": "1904cdfc",
   "metadata": {},
   "outputs": [
    {
     "data": {
      "text/plain": [
       "['father', 'look', 'name', 'speak']"
      ]
     },
     "execution_count": 12,
     "metadata": {},
     "output_type": "execute_result"
    }
   ],
   "source": [
    "[i for i in dir(p1) if \"_\"not in i]"
   ]
  },
  {
   "cell_type": "code",
   "execution_count": 13,
   "id": "f7edd0ef",
   "metadata": {},
   "outputs": [
    {
     "data": {
      "text/plain": [
       "['father', 'look', 'name', 'reading', 'speak']"
      ]
     },
     "execution_count": 13,
     "metadata": {},
     "output_type": "execute_result"
    }
   ],
   "source": [
    "[i for i in dir(c1) if \"_\"not in i]"
   ]
  },
  {
   "cell_type": "code",
   "execution_count": 14,
   "id": "6ee2d8cf",
   "metadata": {},
   "outputs": [],
   "source": [
    "class Parents():\n",
    "    def __init__(self,name,father):\n",
    "        self.name=name\n",
    "        self.father=father\n",
    "        \n",
    "    def speak(self,words):\n",
    "        return words         ## we are returning it directly bcz it is temporary and we dont need to store it permanently\n",
    "    \n",
    "    def look(self,objects):\n",
    "        return f\"{self.name} is looking {objects}\"\n",
    "\n",
    "class Child(Parents):  ## Parents class has been Inherited in child class \n",
    "    def __init__(self,name,father,age):\n",
    "        super().__init__(name,father)  # super is used for calling from parent constructor fucntion\n",
    "        self.age=age\n",
    "    def reading(self,context):\n",
    "        return f\"{self.name} is reading {context}!\"\n",
    "        \n",
    "    "
   ]
  },
  {
   "cell_type": "code",
   "execution_count": 15,
   "id": "547f1351",
   "metadata": {},
   "outputs": [],
   "source": [
    "c1=Child(\"Asim\",\"jasna\",12)"
   ]
  },
  {
   "cell_type": "code",
   "execution_count": 16,
   "id": "634c2dd7",
   "metadata": {},
   "outputs": [
    {
     "data": {
      "text/plain": [
       "['father', 'look', 'name', 'speak']"
      ]
     },
     "execution_count": 16,
     "metadata": {},
     "output_type": "execute_result"
    }
   ],
   "source": [
    "[i for i in dir(p1) if \"_\"not in i]"
   ]
  },
  {
   "cell_type": "code",
   "execution_count": 17,
   "id": "37d57613",
   "metadata": {},
   "outputs": [
    {
     "data": {
      "text/plain": [
       "['age', 'father', 'look', 'name', 'reading', 'speak']"
      ]
     },
     "execution_count": 17,
     "metadata": {},
     "output_type": "execute_result"
    }
   ],
   "source": [
    "[i for i in dir(c1) if \"_\"not in i]"
   ]
  },
  {
   "cell_type": "code",
   "execution_count": 18,
   "id": "72c0a5c4",
   "metadata": {},
   "outputs": [],
   "source": [
    "class Student():\n",
    "    def __init__(self):\n",
    "        self.name=None\n",
    "        self.father=None\n",
    "        self.course=None\n",
    "        self.fee=0\n",
    "    def submit_fee(self,fee):\n",
    "        self.fee=fee\n",
    "        return f'{self.fee}Fee Submitted'\n",
    "    "
   ]
  },
  {
   "cell_type": "markdown",
   "id": "369ba3f3",
   "metadata": {},
   "source": [
    "## Polymorphism\n",
    "* OverLoading ( same function call within a class with different arguments )\n",
    "* OverRiding  ( same function call in a child class with different arguments)"
   ]
  },
  {
   "cell_type": "markdown",
   "id": "b3f635e6",
   "metadata": {},
   "source": [
    "class Parent():\n",
    "    def __init__(self):\n",
    "        pass\n",
    "    # Old Way \n",
    "    def add_two_nos(num1 int ,num2 int): return num1+num2\n",
    "    def add_two_nos(num1 float ,num2 float): return num1+num2\n",
    "    def add_two_nos(num1 int ,num2 float): return num1+num2\n",
    "    def add_two_nos(num1 float ,num2 int): return num1+num2"
   ]
  },
  {
   "cell_type": "code",
   "execution_count": 19,
   "id": "1f04edca",
   "metadata": {},
   "outputs": [
    {
     "name": "stdout",
     "output_type": "stream",
     "text": [
      "50\n",
      "50.8\n",
      "50.5\n",
      "50.2\n"
     ]
    }
   ],
   "source": [
    "## Over Loading \n",
    "class Parent():\n",
    "    def __init__(self):\n",
    "        pass\n",
    "    \n",
    "    def add_two_nums(self,num1,num2):\n",
    "        return num1+num2\n",
    "    \n",
    "p1=Parent()\n",
    "print(p1.add_two_nums(20,30))\n",
    "print(p1.add_two_nums(20.4,30.4))\n",
    "print(p1.add_two_nums(20,30.5))\n",
    "print(p1.add_two_nums(20.2,30))"
   ]
  },
  {
   "cell_type": "code",
   "execution_count": 20,
   "id": "c59dd183",
   "metadata": {},
   "outputs": [],
   "source": [
    "## OVerRiding \n",
    "class Parents():\n",
    "    def __init__(self):\n",
    "        pass\n",
    "    \n",
    "    def speak(self,language=\"Urdu\"):        # same name in parent \n",
    "        return f\"I can speak {language}\""
   ]
  },
  {
   "cell_type": "code",
   "execution_count": 21,
   "id": "2921f39e",
   "metadata": {},
   "outputs": [],
   "source": [
    "class Child(Parents):\n",
    "    def speak(self,language=\"English\"):    # same name in child --> Overriding\n",
    "        return f\"I can speak {language}\""
   ]
  },
  {
   "cell_type": "code",
   "execution_count": 22,
   "id": "35b98471",
   "metadata": {},
   "outputs": [
    {
     "name": "stdout",
     "output_type": "stream",
     "text": [
      "I can speak Urdu\n"
     ]
    }
   ],
   "source": [
    "p1=Parents()\n",
    "print(p1.speak())"
   ]
  },
  {
   "cell_type": "code",
   "execution_count": 23,
   "id": "4415eacb",
   "metadata": {},
   "outputs": [
    {
     "name": "stdout",
     "output_type": "stream",
     "text": [
      "I can speak English\n"
     ]
    }
   ],
   "source": [
    "c1=Child()\n",
    "print(c1.speak())"
   ]
  },
  {
   "cell_type": "markdown",
   "id": "18e90ad7",
   "metadata": {},
   "source": [
    "## Encapsulation\n",
    "* make some method / attribute to private \n",
    "  * add \"__\"before any method\n",
    "    * if we make any attribute pvt \n",
    "         * we can access with in class or attribute\n",
    "* we can access or change these methods / attributes \n",
    "   * with setter and getter functions / methods"
   ]
  },
  {
   "cell_type": "code",
   "execution_count": 29,
   "id": "594768dc",
   "metadata": {},
   "outputs": [],
   "source": [
    "class Parents():\n",
    "    def __init__(self,sid,name,father):\n",
    "        self.__sid=sid\n",
    "        self.name=name\n",
    "        self.father=father\n",
    "        \n",
    "    def speak(self,words):\n",
    "        return words         ## we are returning it directly bcz it is temporary and we dont need to store it permanently\n",
    "    \n",
    "    def look(self,objects):\n",
    "        return f\" student id {self.__sid} is {self.name} is looking {objects}\"  ## call in a class accessible \n",
    "    \n",
    "    def update_sid(self,new_id):    #setter function\n",
    "        self.__sid=new_id \n",
    "        \n",
    "    def display_sid(self):         # getter function\n",
    "        return self.__sid"
   ]
  },
  {
   "cell_type": "code",
   "execution_count": 32,
   "id": "cc3f6cfc",
   "metadata": {},
   "outputs": [
    {
     "data": {
      "text/plain": [
       "1"
      ]
     },
     "execution_count": 32,
     "metadata": {},
     "output_type": "execute_result"
    }
   ],
   "source": [
    "p1=Parents(1,\"Muhaamdd\",\"jawas\")\n",
    "p1.__sid=7\n",
    "p1.display_sid()"
   ]
  },
  {
   "cell_type": "code",
   "execution_count": 26,
   "id": "7f6524b3",
   "metadata": {},
   "outputs": [
    {
     "name": "stdout",
     "output_type": "stream",
     "text": [
      "Muhaamdd\n",
      "jawas\n"
     ]
    }
   ],
   "source": [
    "p1=Parents(1,\"Muhaamdd\",\"jawas\")\n",
    "print(p1.name)\n",
    "print(p1.father)\n",
    " ## print(p1.__sid)   #call outside class is not acceessible "
   ]
  },
  {
   "cell_type": "code",
   "execution_count": null,
   "id": "4f9647f7",
   "metadata": {},
   "outputs": [],
   "source": []
  },
  {
   "cell_type": "code",
   "execution_count": 27,
   "id": "d82533b3",
   "metadata": {},
   "outputs": [],
   "source": [
    "class Child(Parents):  ## Parents class has been Inherited in child class \n",
    "    def __init__(self,name,father,age):\n",
    "        super().__init__(name,father)  # super is used for calling from parent constructor fucntion\n",
    "        self.age=age\n",
    "    def reading(self,context):\n",
    "        return f\"{self.name} is reading {context}!\"\n",
    "        \n",
    "    "
   ]
  },
  {
   "cell_type": "markdown",
   "id": "5c61941c",
   "metadata": {},
   "source": [
    "## Abstraction"
   ]
  },
  {
   "cell_type": "code",
   "execution_count": 28,
   "id": "3afb2a0b",
   "metadata": {},
   "outputs": [],
   "source": [
    "## sir ki github se dekhna hai \n",
    "## abstract class me inheritance tw hoti hai lekin khud se obj nh banaiga "
   ]
  }
 ],
 "metadata": {
  "kernelspec": {
   "display_name": "Python 3 (ipykernel)",
   "language": "python",
   "name": "python3"
  },
  "language_info": {
   "codemirror_mode": {
    "name": "ipython",
    "version": 3
   },
   "file_extension": ".py",
   "mimetype": "text/x-python",
   "name": "python",
   "nbconvert_exporter": "python",
   "pygments_lexer": "ipython3",
   "version": "3.9.13"
  }
 },
 "nbformat": 4,
 "nbformat_minor": 5
}
