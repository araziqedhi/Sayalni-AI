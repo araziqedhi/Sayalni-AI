{
 "cells": [
  {
   "cell_type": "code",
   "execution_count": 1,
   "id": "3f1be279",
   "metadata": {},
   "outputs": [
    {
     "data": {
      "text/plain": [
       "range(0, 11)"
      ]
     },
     "execution_count": 1,
     "metadata": {},
     "output_type": "execute_result"
    }
   ],
   "source": [
    "range(11)"
   ]
  },
  {
   "cell_type": "code",
   "execution_count": 2,
   "id": "b6c09fbe",
   "metadata": {},
   "outputs": [
    {
     "name": "stdout",
     "output_type": "stream",
     "text": [
      "0\n",
      "1\n",
      "2\n",
      "3\n",
      "4\n",
      "5\n",
      "6\n",
      "7\n",
      "8\n",
      "9\n",
      "10\n"
     ]
    }
   ],
   "source": [
    "for i in range(11):\n",
    "    print(i)"
   ]
  },
  {
   "cell_type": "code",
   "execution_count": 3,
   "id": "0e19a3df",
   "metadata": {},
   "outputs": [
    {
     "name": "stdout",
     "output_type": "stream",
     "text": [
      "Iteration no 0\n",
      "Iteration no 1\n",
      "Iteration no 2\n",
      "Iteration no 3\n",
      "Iteration no 4\n",
      "Iteration no 5\n",
      "Iteration no 6\n",
      "Iteration no 7\n",
      "Iteration no 8\n",
      "Iteration no 9\n",
      "Iteration no 10\n"
     ]
    }
   ],
   "source": [
    "for i in range(11):\n",
    "    print(\"Iteration no\",i)"
   ]
  },
  {
   "cell_type": "code",
   "execution_count": 4,
   "id": "fb0709a5",
   "metadata": {},
   "outputs": [
    {
     "name": "stdout",
     "output_type": "stream",
     "text": [
      "Enter the table you want to generate:  11\n",
      "0\n",
      "11\n",
      "22\n",
      "33\n",
      "44\n",
      "55\n",
      "66\n",
      "77\n",
      "88\n",
      "99\n",
      "110\n"
     ]
    }
   ],
   "source": [
    "table=int(input(\"Enter the table you want to generate:  \"))\n",
    "for i in range(11):\n",
    "    print(table*i)"
   ]
  },
  {
   "cell_type": "code",
   "execution_count": 7,
   "id": "0a28464f",
   "metadata": {},
   "outputs": [
    {
     "ename": "SyntaxError",
     "evalue": "invalid syntax (2238339546.py, line 3)",
     "output_type": "error",
     "traceback": [
      "\u001b[1;36m  File \u001b[1;32m\"C:\\Users\\Zbook\\AppData\\Local\\Temp\\ipykernel_16072\\2238339546.py\"\u001b[1;36m, line \u001b[1;32m3\u001b[0m\n\u001b[1;33m    number2=int(input(range\"Enter\"))\u001b[0m\n\u001b[1;37m                           ^\u001b[0m\n\u001b[1;31mSyntaxError\u001b[0m\u001b[1;31m:\u001b[0m invalid syntax\n"
     ]
    }
   ],
   "source": [
    "table2=int(input(\"Enter the table you want to generate:  \"))\n",
    "number = int(input(\"Enter another Table:  \"))\n",
    "number2=int(input(range\"Enter\"))\n",
    "for i in range(number):\n",
    "    print(f'{table2}X{number}={table2*number}')"
   ]
  },
  {
   "cell_type": "code",
   "execution_count": 10,
   "id": "0d5e7d18",
   "metadata": {},
   "outputs": [
    {
     "name": "stdout",
     "output_type": "stream",
     "text": [
      "Enter the table you want to generate:  2\n",
      "Enter another Table:  4\n",
      "0\n",
      "2\n",
      "4\n",
      "6\n"
     ]
    }
   ],
   "source": [
    "table2=int(input(\"Enter the table you want to generate:  \"))\n",
    "number= int(input(\"Enter another Table:  \"))\n",
    "for i in range(number):\n",
    "    print(f'{table2*i}')"
   ]
  },
  {
   "cell_type": "markdown",
   "id": "f27ea475",
   "metadata": {},
   "source": [
    "## Create Table\n",
    "pass argument1 2 to n table will be generated\n",
    "pass argument2 range of each table 1 to n\n",
    "argument1 = 3\n",
    "agrument2 = 5\n",
    "2 x 1 = 2  3X1=3\n",
    "2 x 2 = 4  3X2=6\n",
    "2 x 3 = 6  3X3=9\n",
    "2 x 4 = 8  3X4=12\n",
    "2 x 5 = 10 3X5=15 "
   ]
  },
  {
   "cell_type": "code",
   "execution_count": 21,
   "id": "185d9454",
   "metadata": {},
   "outputs": [
    {
     "name": "stdout",
     "output_type": "stream",
     "text": [
      "10\n",
      "10\n",
      "10\n",
      "10\n",
      "10\n"
     ]
    }
   ],
   "source": [
    "argument1=3\n",
    "argument2=5\n",
    "for i1 in range(2,argument1):\n",
    "    print(f'{i1*argument2}')\n",
    "    for i2 in range(1,argument2):\n",
    "        print(f'{i1*argument2}')"
   ]
  },
  {
   "cell_type": "code",
   "execution_count": 25,
   "id": "a4258636",
   "metadata": {},
   "outputs": [
    {
     "name": "stdout",
     "output_type": "stream",
     "text": [
      "2\n",
      "4\n",
      "6\n",
      "8\n"
     ]
    }
   ],
   "source": [
    "argument1=3\n",
    "argument2=5\n",
    "for i1 in range(1,argument2):\n",
    "    for i2 in range(2,argument1):\n",
    "        print(i2*i1)"
   ]
  },
  {
   "cell_type": "markdown",
   "id": "debe0db1",
   "metadata": {},
   "source": [
    "## Tuple "
   ]
  },
  {
   "cell_type": "code",
   "execution_count": 27,
   "id": "2c325f45",
   "metadata": {},
   "outputs": [
    {
     "name": "stdout",
     "output_type": "stream",
     "text": [
      "<class 'tuple'>\n",
      "<class 'tuple'>\n"
     ]
    }
   ],
   "source": [
    "list1=(1,23,4,\"a\",\"g\")\n",
    "print(type(list1))\n",
    "list2=1,24,5,\"a\",\"t\"\n",
    "print(type(list2))"
   ]
  },
  {
   "cell_type": "markdown",
   "id": "603cefa8",
   "metadata": {},
   "source": [
    "## Dictionary"
   ]
  },
  {
   "cell_type": "code",
   "execution_count": 28,
   "id": "45ada1ca",
   "metadata": {},
   "outputs": [
    {
     "name": "stdout",
     "output_type": "stream",
     "text": [
      "<class 'dict'>\n"
     ]
    }
   ],
   "source": [
    "data = {\n",
    "    \"name\":\"Raziq\",\n",
    "    \"Roll no\":\"1234\",\n",
    "    \"Subject\":\"AI\"\n",
    "}\n",
    "print(type(data))\n"
   ]
  },
  {
   "cell_type": "code",
   "execution_count": null,
   "id": "6a45b44b",
   "metadata": {},
   "outputs": [],
   "source": []
  }
 ],
 "metadata": {
  "kernelspec": {
   "display_name": "Python 3 (ipykernel)",
   "language": "python",
   "name": "python3"
  },
  "language_info": {
   "codemirror_mode": {
    "name": "ipython",
    "version": 3
   },
   "file_extension": ".py",
   "mimetype": "text/x-python",
   "name": "python",
   "nbconvert_exporter": "python",
   "pygments_lexer": "ipython3",
   "version": "3.9.13"
  }
 },
 "nbformat": 4,
 "nbformat_minor": 5
}
