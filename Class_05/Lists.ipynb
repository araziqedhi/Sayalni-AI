{
 "cells": [
  {
   "cell_type": "markdown",
   "id": "d475a131",
   "metadata": {},
   "source": [
    "## List Data Type"
   ]
  },
  {
   "cell_type": "markdown",
   "id": "7b6d1a1f",
   "metadata": {},
   "source": [
    "### Lists,Tuple, Dictionary,stat are used for creating single variable for multiple data points . Lists has an advantage over Array is that it has dynamic length and type of variable\n",
    "#### 1) It starts and closed with Square Bracket\n",
    "#### 2) it can store any data Type\n",
    "#### 3) Separator bw two items is ' , '\n",
    "#### 4) Positive indexing (Left to Right )\n",
    "#### 5) Negative Indexing(Right to Left)\n",
    "#### 6)  positive Indexing starts from 0 \n",
    "#### 7) Negative indexing Starts from -1"
   ]
  },
  {
   "cell_type": "code",
   "execution_count": 1,
   "id": "c0878ca1",
   "metadata": {},
   "outputs": [
    {
     "name": "stdout",
     "output_type": "stream",
     "text": [
      "['Asim', 'Hamza', 'Raziq', 3, 5, 555, True, 0.4]\n"
     ]
    }
   ],
   "source": [
    "names = [\"Asim\",\"Hamza\",\"Raziq\",3,5,555,True,0.4]\n",
    "print(names)"
   ]
  },
  {
   "cell_type": "code",
   "execution_count": 2,
   "id": "c432a3a5",
   "metadata": {},
   "outputs": [
    {
     "name": "stdout",
     "output_type": "stream",
     "text": [
      "Hamza\n",
      "Hamza\n",
      "3 3\n"
     ]
    }
   ],
   "source": [
    "print(names[1])\n",
    "print(names[-7])\n",
    "print(names[3],names[-5])"
   ]
  },
  {
   "cell_type": "code",
   "execution_count": 3,
   "id": "ee266137",
   "metadata": {},
   "outputs": [
    {
     "name": "stdout",
     "output_type": "stream",
     "text": [
      "3000 3000\n",
      "3 3\n"
     ]
    }
   ],
   "source": [
    "names = [\"Asim\",\"Hamza\",\"Raziq\",3,5,3000,True,0.4]\n",
    "print(names[-3],names[5])\n",
    "print(names[3],names[-5])"
   ]
  },
  {
   "cell_type": "code",
   "execution_count": 4,
   "id": "dbdbe2a8",
   "metadata": {},
   "outputs": [
    {
     "name": "stdout",
     "output_type": "stream",
     "text": [
      "Asim\n",
      "Hamza\n",
      "Raziq\n",
      "3\n",
      "5\n",
      "3000\n",
      "True\n",
      "0.4\n"
     ]
    }
   ],
   "source": [
    "# For printing all the values \n",
    "names = [\"Asim\",\"Hamza\",\"Raziq\",3,5,3000,True,0.4]\n",
    "\n",
    "for name in names:\n",
    "    print(name)\n"
   ]
  },
  {
   "cell_type": "markdown",
   "id": "41ac0c15",
   "metadata": {},
   "source": [
    "## Slicing"
   ]
  },
  {
   "cell_type": "markdown",
   "id": "d9bb3293",
   "metadata": {},
   "source": [
    "### 'variable[start:end:step]' all parameters are numbers\n",
    "### **Start** include\n",
    "### **end** exclude (end-1)\n",
    "### **step** sequence( -->> By default it is 1)"
   ]
  },
  {
   "cell_type": "code",
   "execution_count": 5,
   "id": "18b1d19f",
   "metadata": {},
   "outputs": [
    {
     "name": "stdout",
     "output_type": "stream",
     "text": [
      "['Hamza', 'Raziq', 3, 5, 3000]\n",
      "['Hamza', 3, 3000]\n",
      "['Asim', 'Hamza', 'Raziq', 3, 5, 3000, True, 0.4]\n",
      "['Asim', 'Raziq', 5, True]\n",
      "['Asim', 3, True]\n",
      "['Asim', 5]\n",
      "[0.4, True, 3000, 5, 3, 'Raziq', 'Hamza', 'Asim']\n",
      "[0.4, 3000, 3, 'Hamza']\n",
      "[0.4, 5, 'Hamza']\n",
      "[0.4, 3]\n"
     ]
    }
   ],
   "source": [
    "names = [\"Asim\",\"Hamza\",\"Raziq\",3,5,3000,True,0.4]\n",
    "print(names[1:6])\n",
    "print(names[1:7:2])\n",
    "print(names[::1])\n",
    "print(names[::2])\n",
    "print(names[::3])\n",
    "print(names[::4])\n",
    "print(names[::-1])\n",
    "print(names[::-2])\n",
    "print(names[::-3])\n",
    "print(names[::-4])"
   ]
  },
  {
   "cell_type": "code",
   "execution_count": 6,
   "id": "13e0d980",
   "metadata": {},
   "outputs": [
    {
     "name": "stdout",
     "output_type": "stream",
     "text": [
      "[]\n",
      "[5, 3000, True]\n",
      "[5]\n",
      "['Asim', 'Hamza', 'Raziq', 3, 5, 3000, True]\n",
      "[True, 3000, 5, 3, 'Raziq']\n",
      "[0.4, True, 3000, 5, 3, 'Raziq', 'Hamza']\n",
      "[0.4]\n",
      "[3000, True, 0.4]\n",
      "['Asim', 'Hamza', 'Raziq']\n"
     ]
    }
   ],
   "source": [
    "names = [\"Asim\",\"Hamza\",\"Raziq\",3,5,3000,True,0.4]\n",
    "print(names[4:-7])\n",
    "print(names[4:-1])\n",
    "print(names[4:-5:-1])\n",
    "print(names[-8:7])\n",
    "print(names[-2:-7:-1])\n",
    "print(names[-1:0:-1])\n",
    "print(names[-1::1])\n",
    "print(names[-3:])\n",
    "print(names[:3])"
   ]
  },
  {
   "cell_type": "markdown",
   "id": "0bdefe98",
   "metadata": {},
   "source": [
    "## apply operators on list data type"
   ]
  },
  {
   "cell_type": "code",
   "execution_count": 7,
   "id": "9320ac75",
   "metadata": {},
   "outputs": [
    {
     "name": "stdout",
     "output_type": "stream",
     "text": [
      "['pakistan', 1000, 2000, 'India', 3000, 4000]\n",
      "['pakistan', 1000, 2000, 'pakistan', 1000, 2000, 'pakistan', 1000, 2000]\n"
     ]
    }
   ],
   "source": [
    "l1=[\"pakistan\",1000,2000]\n",
    "l2=['abc','xyz']\n",
    "l3=[\"India\",3000,4000]\n",
    "a3=300\n",
    "print(l1+l3)\n",
    "print(l1*3)"
   ]
  },
  {
   "cell_type": "markdown",
   "id": "5e461a5c",
   "metadata": {},
   "source": [
    "## List Data Type Methods"
   ]
  },
  {
   "cell_type": "code",
   "execution_count": 8,
   "id": "8c54109b",
   "metadata": {},
   "outputs": [
    {
     "data": {
      "text/plain": [
       "['__add__',\n",
       " '__class__',\n",
       " '__class_getitem__',\n",
       " '__contains__',\n",
       " '__delattr__',\n",
       " '__delitem__',\n",
       " '__dir__',\n",
       " '__doc__',\n",
       " '__eq__',\n",
       " '__format__',\n",
       " '__ge__',\n",
       " '__getattribute__',\n",
       " '__getitem__',\n",
       " '__gt__',\n",
       " '__hash__',\n",
       " '__iadd__',\n",
       " '__imul__',\n",
       " '__init__',\n",
       " '__init_subclass__',\n",
       " '__iter__',\n",
       " '__le__',\n",
       " '__len__',\n",
       " '__lt__',\n",
       " '__mul__',\n",
       " '__ne__',\n",
       " '__new__',\n",
       " '__reduce__',\n",
       " '__reduce_ex__',\n",
       " '__repr__',\n",
       " '__reversed__',\n",
       " '__rmul__',\n",
       " '__setattr__',\n",
       " '__setitem__',\n",
       " '__sizeof__',\n",
       " '__str__',\n",
       " '__subclasshook__',\n",
       " 'append',\n",
       " 'clear',\n",
       " 'copy',\n",
       " 'count',\n",
       " 'extend',\n",
       " 'index',\n",
       " 'insert',\n",
       " 'pop',\n",
       " 'remove',\n",
       " 'reverse',\n",
       " 'sort']"
      ]
     },
     "execution_count": 8,
     "metadata": {},
     "output_type": "execute_result"
    }
   ],
   "source": [
    "dir(list)"
   ]
  },
  {
   "cell_type": "code",
   "execution_count": 9,
   "id": "5a1aee8f",
   "metadata": {},
   "outputs": [
    {
     "name": "stdout",
     "output_type": "stream",
     "text": [
      "['Razq', 'Asif', [1, 3, 4]]\n"
     ]
    }
   ],
   "source": [
    "names=[\"Razq\"]\n",
    "names.append(\"Asif\")\n",
    "names.append([1,3,4])  \n",
    "print(names)"
   ]
  },
  {
   "cell_type": "code",
   "execution_count": 10,
   "id": "7d44a64b",
   "metadata": {},
   "outputs": [],
   "source": [
    "# delete removes variables name from memory while clear removes data but not variable Means del is used for permanent deleting while clear only used for deleitng item\n",
    "\n",
    "\n",
    "\n"
   ]
  },
  {
   "cell_type": "code",
   "execution_count": 11,
   "id": "2440e582",
   "metadata": {},
   "outputs": [
    {
     "name": "stdout",
     "output_type": "stream",
     "text": [
      "['abc', 7000]\n"
     ]
    }
   ],
   "source": [
    "l2[1] = 7000\n",
    "print(l2)"
   ]
  },
  {
   "cell_type": "code",
   "execution_count": 12,
   "id": "6e6126eb",
   "metadata": {},
   "outputs": [
    {
     "data": {
      "text/plain": [
       "1"
      ]
     },
     "execution_count": 12,
     "metadata": {},
     "output_type": "execute_result"
    }
   ],
   "source": [
    "l2.count(7000)"
   ]
  },
  {
   "cell_type": "code",
   "execution_count": 13,
   "id": "09f0941a",
   "metadata": {},
   "outputs": [
    {
     "name": "stdout",
     "output_type": "stream",
     "text": [
      "['Razq', 'Asif', [1, 3, 4]]\n",
      "['Razq', 'Asif', [1, 3, 4], 1, 3, 4]\n"
     ]
    }
   ],
   "source": [
    "names=[\"Razq\"]\n",
    "names.append(\"Asif\")\n",
    "names.append([1,3,4])  \n",
    "print(names)\n",
    "names.extend([1,3,4])\n",
    "print(names)"
   ]
  },
  {
   "cell_type": "code",
   "execution_count": 14,
   "id": "7fb04dad",
   "metadata": {},
   "outputs": [
    {
     "name": "stdout",
     "output_type": "stream",
     "text": [
      "[1, 2, 3, 3, 3, 'a', 'b', 'c']\n"
     ]
    }
   ],
   "source": [
    "l1=[1,2,3,3,3]\n",
    "l2=['a','b','c']\n",
    "l1.extend(l2)\n",
    "print(l1)"
   ]
  },
  {
   "cell_type": "code",
   "execution_count": 15,
   "id": "eb6f9ea1",
   "metadata": {},
   "outputs": [
    {
     "name": "stdout",
     "output_type": "stream",
     "text": [
      "2\n",
      "4\n"
     ]
    }
   ],
   "source": [
    "print(l1.index(3))\n",
    "print(l1.index(3,4))"
   ]
  },
  {
   "cell_type": "code",
   "execution_count": 16,
   "id": "ea49e1cf",
   "metadata": {},
   "outputs": [
    {
     "name": "stdout",
     "output_type": "stream",
     "text": [
      "['pakistan', 1, 2, 3, 3, 3, 'a', 'b', 'c']\n"
     ]
    }
   ],
   "source": [
    "l1.insert(0,\"pakistan\")\n",
    "print(l1)"
   ]
  },
  {
   "cell_type": "code",
   "execution_count": 17,
   "id": "23cc511d",
   "metadata": {},
   "outputs": [
    {
     "name": "stdout",
     "output_type": "stream",
     "text": [
      "['pakistan', 1, 2, 3, 3, 3, 'a', 'b']\n",
      "['pakistan', 2, 3, 3, 3, 'a', 'b']\n",
      "['c', 1]\n"
     ]
    }
   ],
   "source": [
    "l2=[]\n",
    "l2.append(l1.pop())\n",
    "print(l1)\n",
    "l2.append(l1.pop(1))\n",
    "print(l1)\n",
    "print(l2)"
   ]
  },
  {
   "cell_type": "code",
   "execution_count": 18,
   "id": "c8b10305",
   "metadata": {},
   "outputs": [
    {
     "name": "stdout",
     "output_type": "stream",
     "text": [
      "[1, 2, 2, 3, 5]\n"
     ]
    }
   ],
   "source": [
    "l4=[1,2,3,5,2]\n",
    "l4.sort()\n",
    "print(l4)\n"
   ]
  },
  {
   "cell_type": "code",
   "execution_count": 19,
   "id": "a3092115",
   "metadata": {},
   "outputs": [
    {
     "name": "stdout",
     "output_type": "stream",
     "text": [
      "[5, 3, 2, 2, 1]\n"
     ]
    }
   ],
   "source": [
    "l4.reverse()\n",
    "print(l4)"
   ]
  },
  {
   "cell_type": "code",
   "execution_count": 21,
   "id": "ecd60be2",
   "metadata": {},
   "outputs": [
    {
     "name": "stdout",
     "output_type": "stream",
     "text": [
      "Enter item: b\n",
      "b <class 'str'>\n",
      "1 <class 'int'>\n",
      "['a', 'c', 'a', 'x']\n"
     ]
    }
   ],
   "source": [
    "# Remove Function \n",
    "l1=['a','b','c','a','x']\n",
    "remove_item=input(\"Enter item: \")\n",
    "indx = l1.index(remove_item)\n",
    "print(remove_item,type(remove_item))\n",
    "print(indx,type(indx))\n",
    "l1.pop(indx)\n",
    "print(l1)"
   ]
  },
  {
   "cell_type": "code",
   "execution_count": 22,
   "id": "30c872e2",
   "metadata": {},
   "outputs": [
    {
     "name": "stdout",
     "output_type": "stream",
     "text": [
      "['a', 'b', 'c', 'a']\n"
     ]
    }
   ],
   "source": [
    "l1=['a','b','c','a','x']\n",
    "l1.remove('x')\n",
    "print(l1)"
   ]
  },
  {
   "cell_type": "code",
   "execution_count": 26,
   "id": "9f83dbe7",
   "metadata": {},
   "outputs": [
    {
     "name": "stdout",
     "output_type": "stream",
     "text": [
      "Enter item: a\n",
      "['b', 'c', 'a', 'x']\n"
     ]
    }
   ],
   "source": [
    "l1=['a','b','c','a','x']\n",
    "remove_item=input(\"Enter item: \")\n",
    "l1.remove(remove_item)\n",
    "print(l1)"
   ]
  },
  {
   "cell_type": "markdown",
   "id": "f9234b41",
   "metadata": {},
   "source": [
    "## LOOPS"
   ]
  },
  {
   "cell_type": "code",
   "execution_count": 27,
   "id": "33717b9b",
   "metadata": {},
   "outputs": [
    {
     "name": "stdout",
     "output_type": "stream",
     "text": [
      "a\n",
      "b\n",
      "c\n",
      "a\n",
      "x\n"
     ]
    }
   ],
   "source": [
    "l1=['a','b','c','a','x']\n",
    "for i in l1:\n",
    "    print(i)"
   ]
  },
  {
   "cell_type": "code",
   "execution_count": null,
   "id": "c064c8ab",
   "metadata": {},
   "outputs": [],
   "source": []
  },
  {
   "cell_type": "code",
   "execution_count": null,
   "id": "52f2db17",
   "metadata": {},
   "outputs": [],
   "source": []
  }
 ],
 "metadata": {
  "kernelspec": {
   "display_name": "Python 3 (ipykernel)",
   "language": "python",
   "name": "python3"
  },
  "language_info": {
   "codemirror_mode": {
    "name": "ipython",
    "version": 3
   },
   "file_extension": ".py",
   "mimetype": "text/x-python",
   "name": "python",
   "nbconvert_exporter": "python",
   "pygments_lexer": "ipython3",
   "version": "3.9.13"
  }
 },
 "nbformat": 4,
 "nbformat_minor": 5
}
