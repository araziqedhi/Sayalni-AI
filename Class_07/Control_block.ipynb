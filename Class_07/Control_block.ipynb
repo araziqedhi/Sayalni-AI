{
 "cells": [
  {
   "cell_type": "markdown",
   "id": "35130d07",
   "metadata": {},
   "source": [
    "## Linear Programming"
   ]
  },
  {
   "cell_type": "code",
   "execution_count": 1,
   "id": "154c7568",
   "metadata": {},
   "outputs": [
    {
     "name": "stdout",
     "output_type": "stream",
     "text": [
      "Pakistan Zindabad\n",
      "Pakistan Zindabad\n",
      "Pakistan Zindabad\n",
      "Pakistan Zindabad\n",
      "Pakistan Zindabad\n",
      "Pakistan Zindabad\n",
      "Pakistan Zindabad\n",
      "Pakistan Zindabad\n",
      "Pakistan Zindabad\n",
      "Pakistan Zindabad\n"
     ]
    }
   ],
   "source": [
    "print(\"Pakistan Zindabad\")\n",
    "print(\"Pakistan Zindabad\")\n",
    "print(\"Pakistan Zindabad\")\n",
    "print(\"Pakistan Zindabad\")\n",
    "print(\"Pakistan Zindabad\")\n",
    "print(\"Pakistan Zindabad\")\n",
    "print(\"Pakistan Zindabad\")\n",
    "print(\"Pakistan Zindabad\")\n",
    "print(\"Pakistan Zindabad\")\n",
    "print(\"Pakistan Zindabad\")\n"
   ]
  },
  {
   "cell_type": "markdown",
   "id": "798efd9c",
   "metadata": {},
   "source": [
    "## Structural Programming"
   ]
  },
  {
   "cell_type": "code",
   "execution_count": 2,
   "id": "ebf39a14",
   "metadata": {},
   "outputs": [
    {
     "name": "stdout",
     "output_type": "stream",
     "text": [
      "Pakistan Zindabad\n",
      "\tSaylani AI\n",
      "Pakistan Zindabad\n",
      "\tSaylani AI\n",
      "Pakistan Zindabad\n",
      "\tSaylani AI\n",
      "Pakistan Zindabad\n",
      "\tSaylani AI\n",
      "Pakistan Zindabad\n",
      "\tSaylani AI\n",
      "Pakistan Zindabad\n",
      "\tSaylani AI\n",
      "Pakistan Zindabad\n",
      "\tSaylani AI\n",
      "Pakistan Zindabad\n",
      "\tSaylani AI\n",
      "Pakistan Zindabad\n",
      "\tSaylani AI\n",
      "Pakistan Zindabad\n",
      "\tSaylani AI\n"
     ]
    }
   ],
   "source": [
    "for num in range(1,11):\n",
    "    print(\"Pakistan Zindabad\")\n",
    "    print(\"\\tSaylani AI\")"
   ]
  },
  {
   "cell_type": "markdown",
   "id": "f4e12840",
   "metadata": {},
   "source": [
    "## Controls"
   ]
  },
  {
   "cell_type": "markdown",
   "id": "116f43ab",
   "metadata": {},
   "source": [
    "* if\n",
    "     *else\n",
    "     *elif\n",
    "* for/while\n",
    "     *break\n",
    "     *continue\n",
    "     *pass\n",
    "     *else\n",
    "*def\n",
    "*try\n",
    "     *except\n",
    "     *else\n",
    "     *finally\n",
    "We can't give reserved words as variable "
   ]
  },
  {
   "cell_type": "markdown",
   "id": "b6b90b15",
   "metadata": {},
   "source": [
    "## if"
   ]
  },
  {
   "cell_type": "code",
   "execution_count": 3,
   "id": "6f11fb1e",
   "metadata": {},
   "outputs": [
    {
     "name": "stdout",
     "output_type": "stream",
     "text": [
      "Enter Integer 2\n",
      "not ok\n"
     ]
    }
   ],
   "source": [
    "a = int(input(\"Enter Integer \"))\n",
    "if (a>10):\n",
    "    print('ok')\n",
    "else:\n",
    "    print(\"not ok\")"
   ]
  },
  {
   "cell_type": "code",
   "execution_count": 4,
   "id": "7f79e064",
   "metadata": {},
   "outputs": [
    {
     "name": "stdout",
     "output_type": "stream",
     "text": [
      "Enter any number: 2\n",
      "10 <class 'int'>\n",
      "2 is Even\n"
     ]
    }
   ],
   "source": [
    "a = int(input(\"Enter any number: \"))\n",
    "print(num,type(a))\n",
    "if(a%2==0):\n",
    "    print(f\"{a} is Even\")\n",
    "else:\n",
    "    print(f\"{a} id Odd\")"
   ]
  },
  {
   "cell_type": "code",
   "execution_count": 5,
   "id": "a419a7b2",
   "metadata": {},
   "outputs": [
    {
     "name": "stdout",
     "output_type": "stream",
     "text": [
      "Enter Your Percentage:  2\n",
      "Student has failed\n"
     ]
    }
   ],
   "source": [
    "percentage=int(input(\"Enter Your Percentage:  \"))\n",
    "if (percentage >= 80 ):\n",
    "    print(f'Student scored A Grades')\n",
    "elif (percentage >=70):\n",
    "    print(f'Student scored B Grades')\n",
    "elif (percentage >=60):\n",
    "    print(f'Student scored C Grades')\n",
    "elif (percentage >=50):\n",
    "    print(f'Student scored D Grades')\n",
    "else:\n",
    "    print(\"Student has failed\")"
   ]
  },
  {
   "cell_type": "code",
   "execution_count": 6,
   "id": "942ef710",
   "metadata": {},
   "outputs": [
    {
     "name": "stdout",
     "output_type": "stream",
     "text": [
      "Enter Your Percentage : 2\n",
      "Fail\n"
     ]
    }
   ],
   "source": [
    "per = int (input(\"Enter Your Percentage : \"))\n",
    "if per >= 0:            ## Logical Errror\n",
    "    print(\"Fail\")\n",
    "elif per>=33:\n",
    "    print(\"E\")\n",
    "elif per>=40:\n",
    "    print(\"D\")\n",
    "elif per>=50:\n",
    "    print(\"C\")"
   ]
  },
  {
   "cell_type": "code",
   "execution_count": 8,
   "id": "a1302689",
   "metadata": {},
   "outputs": [
    {
     "name": "stdout",
     "output_type": "stream",
     "text": [
      "Enter Your Percentage : 45\n",
      "D\n"
     ]
    }
   ],
   "source": [
    "per = int (input(\"Enter Your Percentage : \"))\n",
    "if per >= 0 and per<33:            \n",
    "    print(\"Fail\")\n",
    "elif per>=33 and per <40:\n",
    "    print(\"E\")\n",
    "elif per>=40 and per <50:\n",
    "    print(\"D\")\n",
    "elif per>=50 and per <60:\n",
    "    print(\"C\")\n",
    "else:\n",
    "    print (\"A\")"
   ]
  },
  {
   "cell_type": "code",
   "execution_count": 11,
   "id": "80440ef4",
   "metadata": {},
   "outputs": [
    {
     "name": "stdout",
     "output_type": "stream",
     "text": [
      "Enter your username:  ADmin\n",
      "Enter your password:   admin\n",
      "Valid Username and password\n"
     ]
    }
   ],
   "source": [
    "username = input(\"Enter your username:  \")\n",
    "password = input(\"Enter your password:   \")\n",
    "if username.lower() == \"admin\" and password == \"admin\" :\n",
    "    print(\"Valid Username and password\")\n",
    "else:\n",
    "    print(\"Incorrect Password\")"
   ]
  },
  {
   "cell_type": "markdown",
   "id": "2aafb977",
   "metadata": {},
   "source": [
    "## Comprehensive Way of Writting if elif and else"
   ]
  },
  {
   "cell_type": "markdown",
   "id": "323aa9ce",
   "metadata": {},
   "source": [
    "True_block_body if True/False else False_block_body"
   ]
  },
  {
   "cell_type": "code",
   "execution_count": 12,
   "id": "aef17432",
   "metadata": {},
   "outputs": [
    {
     "name": "stdout",
     "output_type": "stream",
     "text": [
      "Enter your username:  admin\n",
      "Enter your password:   admin\n",
      "Valid Username and password\n"
     ]
    }
   ],
   "source": [
    "username = input(\"Enter your username:  \")\n",
    "password = input(\"Enter your password:   \")\n",
    "print(\"Valid Username and password\") if username.lower() == \"admin\" and password == \"admin\" else print(\"Incorrect Password\")"
   ]
  },
  {
   "cell_type": "markdown",
   "id": "193d3940",
   "metadata": {},
   "source": [
    "## LOOP "
   ]
  },
  {
   "cell_type": "code",
   "execution_count": 14,
   "id": "dd5e1201",
   "metadata": {},
   "outputs": [
    {
     "name": "stdout",
     "output_type": "stream",
     "text": [
      "a\n",
      "b\n",
      "c\n",
      "1\n",
      "3\n",
      "5\n"
     ]
    }
   ],
   "source": [
    "for i in [\"a\",\"b\",\"c\",1,3,5]:\n",
    "    print(i)"
   ]
  },
  {
   "cell_type": "code",
   "execution_count": 15,
   "id": "8bb44895",
   "metadata": {},
   "outputs": [
    {
     "data": {
      "text/plain": [
       "[(0, 'a'), (1, 'b'), (2, 'c'), (3, 1), (4, 3), (5, 5)]"
      ]
     },
     "execution_count": 15,
     "metadata": {},
     "output_type": "execute_result"
    }
   ],
   "source": [
    "# enumerate Function\n",
    "list(enumerate([\"a\",\"b\",\"c\",1,3,5]))"
   ]
  },
  {
   "cell_type": "code",
   "execution_count": 16,
   "id": "6619019b",
   "metadata": {},
   "outputs": [
    {
     "name": "stdout",
     "output_type": "stream",
     "text": [
      "0 a\n",
      "1 b\n",
      "2 c\n",
      "3 1\n",
      "4 3\n",
      "5 5\n"
     ]
    }
   ],
   "source": [
    "for index,value in enumerate ([\"a\",\"b\",\"c\",1,3,5]):\n",
    "    print(index,value)"
   ]
  },
  {
   "cell_type": "code",
   "execution_count": 17,
   "id": "9ee0ddc0",
   "metadata": {},
   "outputs": [
    {
     "data": {
      "text/plain": [
       "['P', 'a', 'k', 'i', 's', 't', 'a', 'n']"
      ]
     },
     "execution_count": 17,
     "metadata": {},
     "output_type": "execute_result"
    }
   ],
   "source": [
    "list(\"Pakistan\")"
   ]
  },
  {
   "cell_type": "markdown",
   "id": "874cde78",
   "metadata": {},
   "source": [
    "ASCII \n",
    " * 0-9 = 48 - 57\n",
    " * A-Z = 65 - 90\n",
    " * a-z = 97 - 122"
   ]
  },
  {
   "cell_type": "markdown",
   "id": "7242a32a",
   "metadata": {},
   "source": [
    "## Dealing With Ascii"
   ]
  },
  {
   "cell_type": "code",
   "execution_count": 20,
   "id": "6cac8787",
   "metadata": {},
   "outputs": [
    {
     "name": "stdout",
     "output_type": "stream",
     "text": [
      "65\n",
      "97\n",
      "48\n",
      "66\n"
     ]
    }
   ],
   "source": [
    "print(ord(\"A\"))\n",
    "print(ord(\"a\"))\n",
    "print(ord(\"0\"))\n",
    "print(ord(\"B\"))"
   ]
  },
  {
   "cell_type": "code",
   "execution_count": 22,
   "id": "c1307fa0",
   "metadata": {},
   "outputs": [
    {
     "name": "stdout",
     "output_type": "stream",
     "text": [
      "A\n",
      "a\n",
      "0\n",
      "B\n"
     ]
    }
   ],
   "source": [
    "print(chr(65))\n",
    "print(chr(97))\n",
    "print(chr(48))\n",
    "print(chr(66))"
   ]
  },
  {
   "cell_type": "code",
   "execution_count": 32,
   "id": "cee750fa",
   "metadata": {},
   "outputs": [
    {
     "name": "stdout",
     "output_type": "stream",
     "text": [
      "A\n",
      "B\n",
      "C\n",
      "D\n",
      "E\n",
      "F\n",
      "G\n",
      "H\n",
      "I\n",
      "J\n",
      "K\n",
      "L\n",
      "M\n",
      "N\n",
      "O\n",
      "P\n",
      "Q\n",
      "R\n",
      "S\n",
      "T\n",
      "U\n",
      "V\n",
      "W\n",
      "X\n",
      "Y\n",
      "Z\n"
     ]
    }
   ],
   "source": [
    "for i in range (65,91):\n",
    "    print(chr(i))"
   ]
  },
  {
   "cell_type": "code",
   "execution_count": 34,
   "id": "284efe8e",
   "metadata": {},
   "outputs": [
    {
     "data": {
      "text/plain": [
       "['A',\n",
       " 'B',\n",
       " 'C',\n",
       " 'D',\n",
       " 'E',\n",
       " 'F',\n",
       " 'G',\n",
       " 'H',\n",
       " 'I',\n",
       " 'J',\n",
       " 'K',\n",
       " 'L',\n",
       " 'M',\n",
       " 'N',\n",
       " 'O',\n",
       " 'P',\n",
       " 'Q',\n",
       " 'R',\n",
       " 'S',\n",
       " 'T',\n",
       " 'U',\n",
       " 'V',\n",
       " 'W',\n",
       " 'X',\n",
       " 'Y',\n",
       " 'Z',\n",
       " '0',\n",
       " '1',\n",
       " '2',\n",
       " '3',\n",
       " '4',\n",
       " '5',\n",
       " '6',\n",
       " '7',\n",
       " '8',\n",
       " 'a',\n",
       " 'b',\n",
       " 'c',\n",
       " 'd',\n",
       " 'e',\n",
       " 'f',\n",
       " 'g',\n",
       " 'h',\n",
       " 'i',\n",
       " 'j',\n",
       " 'k',\n",
       " 'l',\n",
       " 'm',\n",
       " 'n',\n",
       " 'o',\n",
       " 'p',\n",
       " 'q',\n",
       " 'r',\n",
       " 's',\n",
       " 't',\n",
       " 'u',\n",
       " 'v',\n",
       " 'w',\n",
       " 'x',\n",
       " 'y',\n",
       " 'z']"
      ]
     },
     "execution_count": 34,
     "metadata": {},
     "output_type": "execute_result"
    }
   ],
   "source": [
    "[chr(i) for i in range(65,91)] +\\\n",
    "[chr(i) for i in range(48,57)] +\\\n",
    "[chr(i) for i in range(97,123)] "
   ]
  },
  {
   "cell_type": "code",
   "execution_count": 35,
   "id": "6543d0ce",
   "metadata": {},
   "outputs": [
    {
     "data": {
      "text/plain": [
       "[66, 68, 70, 72, 74, 76, 78, 80, 82, 84, 86, 88, 90]"
      ]
     },
     "execution_count": 35,
     "metadata": {},
     "output_type": "execute_result"
    }
   ],
   "source": [
    "[(i) for i in range(65,91) if i % 2 ==0 ]"
   ]
  },
  {
   "cell_type": "code",
   "execution_count": 36,
   "id": "4bf7c37c",
   "metadata": {},
   "outputs": [
    {
     "data": {
      "text/plain": [
       "['B', 'D', 'F', 'H', 'J', 'L', 'N', 'P', 'R', 'T', 'V', 'X', 'Z']"
      ]
     },
     "execution_count": 36,
     "metadata": {},
     "output_type": "execute_result"
    }
   ],
   "source": [
    "[chr(i) for i in range(65,91) if i % 2 ==0 ]"
   ]
  },
  {
   "cell_type": "code",
   "execution_count": 37,
   "id": "5553fb56",
   "metadata": {},
   "outputs": [
    {
     "data": {
      "text/plain": [
       "[65, 67, 69, 71, 73, 75, 77, 79, 81, 83, 85, 87, 89]"
      ]
     },
     "execution_count": 37,
     "metadata": {},
     "output_type": "execute_result"
    }
   ],
   "source": [
    "[(i) for i in range(65,91) if i % 2 !=0 ]"
   ]
  },
  {
   "cell_type": "code",
   "execution_count": 38,
   "id": "0e19aebb",
   "metadata": {},
   "outputs": [
    {
     "data": {
      "text/plain": [
       "['A', 'C', 'E', 'G', 'I', 'K', 'M', 'O', 'Q', 'S', 'U', 'W', 'Y']"
      ]
     },
     "execution_count": 38,
     "metadata": {},
     "output_type": "execute_result"
    }
   ],
   "source": [
    "[chr(i) for i in range(65,91) if i % 2 !=0 ]"
   ]
  },
  {
   "cell_type": "markdown",
   "id": "1a8ef331",
   "metadata": {},
   "source": [
    "## Loop Controls "
   ]
  },
  {
   "cell_type": "code",
   "execution_count": 40,
   "id": "31e8b4b7",
   "metadata": {},
   "outputs": [
    {
     "name": "stdout",
     "output_type": "stream",
     "text": [
      "1\n"
     ]
    }
   ],
   "source": [
    "# Break stops the loop\n",
    "for i in range (1,11):\n",
    "    print(i)\n",
    "    break"
   ]
  },
  {
   "cell_type": "code",
   "execution_count": 41,
   "id": "44784188",
   "metadata": {},
   "outputs": [
    {
     "name": "stdout",
     "output_type": "stream",
     "text": [
      "1\n",
      "2\n",
      "3\n",
      "4\n",
      "5\n"
     ]
    }
   ],
   "source": [
    "for i in range (1,11):\n",
    "    print(i)\n",
    "    if i == 5:\n",
    "        break"
   ]
  },
  {
   "cell_type": "code",
   "execution_count": 42,
   "id": "599dd621",
   "metadata": {},
   "outputs": [
    {
     "name": "stdout",
     "output_type": "stream",
     "text": [
      "1\n",
      "2\n",
      "3\n",
      "4\n",
      "5\n",
      "6\n"
     ]
    }
   ],
   "source": [
    "for i in range (1,11):\n",
    "    print(i)\n",
    "    if i == 6:\n",
    "        break"
   ]
  },
  {
   "cell_type": "code",
   "execution_count": 53,
   "id": "a2c6bc4d",
   "metadata": {},
   "outputs": [
    {
     "name": "stdout",
     "output_type": "stream",
     "text": [
      " Saylani Mass IT Traingin\n",
      "    Roll : 1\n",
      "    name : Qasim\n"
     ]
    }
   ],
   "source": [
    "data = [\n",
    "        {\"id\":1,\"name\":\"Qasim\"},\n",
    "        {\"id\":2,\"name\":\"Hussain\"},\n",
    "        {\"id\":3,\"name\":\"Asim\"},\n",
    "       ]\n",
    "for record in data :\n",
    "    card =\"\"\" Saylani Mass IT Traingin\n",
    "    Roll : {id}\n",
    "    name : {name}\"\"\".format_map(record)\n",
    "    print(card)\n",
    "    break"
   ]
  },
  {
   "cell_type": "code",
   "execution_count": 52,
   "id": "57d19f1f",
   "metadata": {},
   "outputs": [
    {
     "name": "stdout",
     "output_type": "stream",
     "text": [
      "Enter your username fff\n",
      "Enter your password333\n",
      "Invalid\n"
     ]
    }
   ],
   "source": [
    "data = [\n",
    "        {\"id\":1,\"name\":\"Qasim Muhammad\",\"u\":\"Qasim\",\"p\":\"123\"},\n",
    "        {\"id\":2,\"name\":\"Hussain Khan\",\"u\":\"Hussain\",\"p\":\"123xyz\"},\n",
    "        {\"id\":3,\"name\":\"Asim Khan\",\"u\":\"Asim\",\"p\":\"123abc\"},\n",
    "       ]\n",
    "user = input(\"Enter your username \")\n",
    "pas= input(\"Enter your password\")\n",
    "\n",
    "for record in data : \n",
    "    if record ['u'] == user and record ['p']==pas:\n",
    "        print(record)\n",
    "        break\n",
    "else :\n",
    "    print(\"Invalid\")"
   ]
  },
  {
   "cell_type": "code",
   "execution_count": 55,
   "id": "07f8bf0d",
   "metadata": {},
   "outputs": [
    {
     "name": "stdout",
     "output_type": "stream",
     "text": [
      "1\n",
      "2\n",
      "3\n",
      "4\n",
      "7\n",
      "8\n",
      "9\n",
      "10\n"
     ]
    }
   ],
   "source": [
    "# Continue skips the value\n",
    "for i in range(1,11):\n",
    "    if(i==5 or i==6):\n",
    "        continue\n",
    "    print(i)"
   ]
  },
  {
   "cell_type": "code",
   "execution_count": 56,
   "id": "b1d29884",
   "metadata": {},
   "outputs": [],
   "source": [
    "#pass (baad me jb bh decide krna hoga tw pass likhenge)\n",
    "for i in range (1,1000):\n",
    "    pass"
   ]
  },
  {
   "cell_type": "code",
   "execution_count": 58,
   "id": "fed7b614",
   "metadata": {},
   "outputs": [],
   "source": [
    "if True:\n",
    "    pass\n",
    "else:\n",
    "    pass"
   ]
  },
  {
   "cell_type": "markdown",
   "id": "2001feb5",
   "metadata": {},
   "source": [
    "## While Loop\n",
    " * Counter\n",
    " * Logic\n",
    " * Loop body\n",
    " * Increment / Decrement\n",
    " *  agar logic sahi hai hogi tw while loop chalega \n"
   ]
  },
  {
   "cell_type": "code",
   "execution_count": 59,
   "id": "0c5d8b31",
   "metadata": {},
   "outputs": [
    {
     "name": "stdout",
     "output_type": "stream",
     "text": [
      "0 line\n",
      "1 line\n",
      "2 line\n",
      "3 line\n",
      "4 line\n",
      "5 line\n",
      "6 line\n",
      "7 line\n",
      "8 line\n",
      "9 line\n",
      "10 line\n"
     ]
    }
   ],
   "source": [
    "counter = 0 \n",
    "while counter <= 10 :\n",
    "    print(counter,\"line\")\n",
    "    counter +=1"
   ]
  },
  {
   "cell_type": "code",
   "execution_count": 61,
   "id": "c14fc19b",
   "metadata": {},
   "outputs": [
    {
     "name": "stdout",
     "output_type": "stream",
     "text": [
      "100 line\n",
      "99 line\n",
      "98 line\n",
      "97 line\n",
      "96 line\n",
      "95 line\n",
      "94 line\n",
      "93 line\n",
      "92 line\n",
      "91 line\n",
      "90 line\n"
     ]
    }
   ],
   "source": [
    "counter = 100 \n",
    "while counter >= 90 :\n",
    "    print(counter,\"line\")\n",
    "    counter -=1"
   ]
  },
  {
   "cell_type": "code",
   "execution_count": 62,
   "id": "efba0bec",
   "metadata": {},
   "outputs": [
    {
     "name": "stdout",
     "output_type": "stream",
     "text": [
      "2023 line\n",
      "2022 line\n",
      "2021 line\n",
      "2020 line\n",
      "2019 line\n",
      "2018 line\n",
      "2017 line\n",
      "2016 line\n",
      "2015 line\n",
      "2014 line\n",
      "2013 line\n",
      "2012 line\n",
      "2011 line\n",
      "2010 line\n",
      "2009 line\n",
      "2008 line\n",
      "2007 line\n",
      "2006 line\n",
      "2005 line\n",
      "2004 line\n",
      "2003 line\n",
      "2002 line\n",
      "2001 line\n",
      "2000 line\n",
      "1999 line\n",
      "1998 line\n",
      "1997 line\n",
      "1996 line\n",
      "1995 line\n",
      "1994 line\n",
      "1993 line\n",
      "1992 line\n"
     ]
    }
   ],
   "source": [
    "counter = 2023 \n",
    "while counter >= 1992 :\n",
    "    print(counter,\"line\")\n",
    "    counter -=1"
   ]
  },
  {
   "cell_type": "markdown",
   "id": "cb81a8cd",
   "metadata": {},
   "source": [
    "## Assignment\n",
    "from sir's github"
   ]
  },
  {
   "cell_type": "code",
   "execution_count": null,
   "id": "69a0299d",
   "metadata": {},
   "outputs": [],
   "source": []
  }
 ],
 "metadata": {
  "kernelspec": {
   "display_name": "Python 3 (ipykernel)",
   "language": "python",
   "name": "python3"
  },
  "language_info": {
   "codemirror_mode": {
    "name": "ipython",
    "version": 3
   },
   "file_extension": ".py",
   "mimetype": "text/x-python",
   "name": "python",
   "nbconvert_exporter": "python",
   "pygments_lexer": "ipython3",
   "version": "3.9.13"
  }
 },
 "nbformat": 4,
 "nbformat_minor": 5
}
