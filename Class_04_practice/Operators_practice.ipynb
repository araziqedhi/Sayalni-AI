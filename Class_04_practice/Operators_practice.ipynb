{
 "cells": [
  {
   "cell_type": "code",
   "execution_count": 2,
   "id": "d83e237b",
   "metadata": {},
   "outputs": [
    {
     "name": "stdout",
     "output_type": "stream",
     "text": [
      "['1', '2', '3', '6', '5', '4']\n",
      "['1', '2', '3'] ['6', '5', '4']\n"
     ]
    }
   ],
   "source": [
    "l1=['1','2','3']\n",
    "l2=['6','5','4']\n",
    "print(l1+l2)\n",
    "print(l1,l2)"
   ]
  },
  {
   "cell_type": "markdown",
   "id": "29f446a0",
   "metadata": {},
   "source": [
    "## 1) Python Arithmetic Operators"
   ]
  },
  {
   "cell_type": "code",
   "execution_count": 4,
   "id": "2e4832ab",
   "metadata": {},
   "outputs": [
    {
     "name": "stdout",
     "output_type": "stream",
     "text": [
      "12\n",
      "-2\n",
      "35\n",
      "0.7142857142857143\n",
      "0\n",
      "100000\n",
      "2\n"
     ]
    }
   ],
   "source": [
    "a=5\n",
    "b=7\n",
    "print(a+b)\n",
    "print(a-b)\n",
    "print(a*b)\n",
    "print(a/b)\n",
    "a=10\n",
    "b=5\n",
    "print(a%b)\n",
    "print(a**b)\n",
    "print(a//b)"
   ]
  },
  {
   "cell_type": "markdown",
   "id": "e93fbc09",
   "metadata": {},
   "source": [
    "## 2) Python Assignment Operators"
   ]
  },
  {
   "cell_type": "code",
   "execution_count": 7,
   "id": "7a501382",
   "metadata": {},
   "outputs": [
    {
     "name": "stdout",
     "output_type": "stream",
     "text": [
      "10\n"
     ]
    }
   ],
   "source": [
    "a=5\n",
    "a+=5\n",
    "print(a)"
   ]
  },
  {
   "cell_type": "code",
   "execution_count": 9,
   "id": "68ae3e2f",
   "metadata": {},
   "outputs": [
    {
     "name": "stdout",
     "output_type": "stream",
     "text": [
      "0\n"
     ]
    }
   ],
   "source": [
    "a=5\n",
    "a-=5\n",
    "print(a)"
   ]
  },
  {
   "cell_type": "code",
   "execution_count": 10,
   "id": "48a99ab1",
   "metadata": {},
   "outputs": [
    {
     "name": "stdout",
     "output_type": "stream",
     "text": [
      "25\n"
     ]
    }
   ],
   "source": [
    "a=5\n",
    "a*=5\n",
    "print(a)"
   ]
  },
  {
   "cell_type": "code",
   "execution_count": 11,
   "id": "fbf6f5cf",
   "metadata": {},
   "outputs": [
    {
     "name": "stdout",
     "output_type": "stream",
     "text": [
      "1.0\n"
     ]
    }
   ],
   "source": [
    "a=5\n",
    "a/=5\n",
    "print(a)"
   ]
  },
  {
   "cell_type": "code",
   "execution_count": 12,
   "id": "e2fb4d66",
   "metadata": {},
   "outputs": [
    {
     "name": "stdout",
     "output_type": "stream",
     "text": [
      "0\n"
     ]
    }
   ],
   "source": [
    "a=5\n",
    "a%=5\n",
    "print(a)"
   ]
  },
  {
   "cell_type": "code",
   "execution_count": 13,
   "id": "406407c9",
   "metadata": {},
   "outputs": [
    {
     "name": "stdout",
     "output_type": "stream",
     "text": [
      "1\n"
     ]
    }
   ],
   "source": [
    "a=5\n",
    "a//=5\n",
    "print(a)"
   ]
  },
  {
   "cell_type": "code",
   "execution_count": 17,
   "id": "9bbe0dc7",
   "metadata": {},
   "outputs": [
    {
     "name": "stdout",
     "output_type": "stream",
     "text": [
      "3125\n"
     ]
    }
   ],
   "source": [
    "a=5\n",
    "a**=5\n",
    "print(a)"
   ]
  },
  {
   "cell_type": "code",
   "execution_count": 20,
   "id": "8f430752",
   "metadata": {},
   "outputs": [
    {
     "name": "stdout",
     "output_type": "stream",
     "text": [
      "5\n"
     ]
    }
   ],
   "source": [
    "a=5\n",
    "a&=7\n",
    "print(a)"
   ]
  },
  {
   "cell_type": "markdown",
   "id": "30f98900",
   "metadata": {},
   "source": [
    "## 3) Python Comparision Operators"
   ]
  },
  {
   "cell_type": "code",
   "execution_count": 21,
   "id": "4509f1b0",
   "metadata": {},
   "outputs": [
    {
     "data": {
      "text/plain": [
       "True"
      ]
     },
     "execution_count": 21,
     "metadata": {},
     "output_type": "execute_result"
    }
   ],
   "source": [
    "5==5"
   ]
  },
  {
   "cell_type": "code",
   "execution_count": 22,
   "id": "d2a74fc4",
   "metadata": {},
   "outputs": [
    {
     "data": {
      "text/plain": [
       "False"
      ]
     },
     "execution_count": 22,
     "metadata": {},
     "output_type": "execute_result"
    }
   ],
   "source": [
    "6==5"
   ]
  },
  {
   "cell_type": "code",
   "execution_count": 23,
   "id": "12fad14e",
   "metadata": {},
   "outputs": [
    {
     "data": {
      "text/plain": [
       "True"
      ]
     },
     "execution_count": 23,
     "metadata": {},
     "output_type": "execute_result"
    }
   ],
   "source": [
    "6!=5"
   ]
  },
  {
   "cell_type": "code",
   "execution_count": 24,
   "id": "fd45a010",
   "metadata": {},
   "outputs": [
    {
     "data": {
      "text/plain": [
       "True"
      ]
     },
     "execution_count": 24,
     "metadata": {},
     "output_type": "execute_result"
    }
   ],
   "source": [
    "6>5"
   ]
  },
  {
   "cell_type": "code",
   "execution_count": 25,
   "id": "ca88a9b8",
   "metadata": {},
   "outputs": [
    {
     "data": {
      "text/plain": [
       "False"
      ]
     },
     "execution_count": 25,
     "metadata": {},
     "output_type": "execute_result"
    }
   ],
   "source": [
    "6<5"
   ]
  },
  {
   "cell_type": "code",
   "execution_count": 26,
   "id": "69b1c7f7",
   "metadata": {},
   "outputs": [
    {
     "data": {
      "text/plain": [
       "True"
      ]
     },
     "execution_count": 26,
     "metadata": {},
     "output_type": "execute_result"
    }
   ],
   "source": [
    "6>=6"
   ]
  },
  {
   "cell_type": "code",
   "execution_count": 27,
   "id": "222a453a",
   "metadata": {},
   "outputs": [
    {
     "data": {
      "text/plain": [
       "True"
      ]
     },
     "execution_count": 27,
     "metadata": {},
     "output_type": "execute_result"
    }
   ],
   "source": [
    "6<=6"
   ]
  },
  {
   "cell_type": "markdown",
   "id": "0d796fa0",
   "metadata": {},
   "source": [
    "## 4) Python Logical Operators"
   ]
  },
  {
   "cell_type": "code",
   "execution_count": 30,
   "id": "af81c0db",
   "metadata": {},
   "outputs": [
    {
     "data": {
      "text/plain": [
       "6"
      ]
     },
     "execution_count": 30,
     "metadata": {},
     "output_type": "execute_result"
    }
   ],
   "source": [
    "6 & 6"
   ]
  },
  {
   "cell_type": "code",
   "execution_count": 31,
   "id": "a84e1576",
   "metadata": {},
   "outputs": [
    {
     "data": {
      "text/plain": [
       "6"
      ]
     },
     "execution_count": 31,
     "metadata": {},
     "output_type": "execute_result"
    }
   ],
   "source": [
    "6|6"
   ]
  },
  {
   "cell_type": "code",
   "execution_count": 32,
   "id": "b0a207b8",
   "metadata": {},
   "outputs": [
    {
     "data": {
      "text/plain": [
       "7"
      ]
     },
     "execution_count": 32,
     "metadata": {},
     "output_type": "execute_result"
    }
   ],
   "source": [
    "6|5"
   ]
  },
  {
   "cell_type": "markdown",
   "id": "7be72aaf",
   "metadata": {},
   "source": [
    "## Shallow Copy and Deep Copy "
   ]
  },
  {
   "cell_type": "markdown",
   "id": "17f7f1aa",
   "metadata": {},
   "source": [
    "Shallow Copy not creating a different space for storage and deep copy means creating a different space for storage "
   ]
  },
  {
   "cell_type": "markdown",
   "id": "265dcfcf",
   "metadata": {},
   "source": [
    "### i) Shallow Copy"
   ]
  },
  {
   "cell_type": "code",
   "execution_count": 33,
   "id": "3f3030b6",
   "metadata": {},
   "outputs": [
    {
     "name": "stdout",
     "output_type": "stream",
     "text": [
      "1550590699952 1550590699952 1550590699952\n"
     ]
    }
   ],
   "source": [
    "a=5\n",
    "b=5\n",
    "c=5\n",
    "print(id(a),id(b),id(c))"
   ]
  },
  {
   "cell_type": "code",
   "execution_count": 45,
   "id": "f07c9784",
   "metadata": {},
   "outputs": [
    {
     "name": "stdout",
     "output_type": "stream",
     "text": [
      "1550709643392 1550709643392\n",
      "[[1, 2, 3], 6, [7, 8, 'a']]\n",
      "[[1, 2, 3], 6, [7, 8, 'a']]\n"
     ]
    }
   ],
   "source": [
    "old_list = [[1, 2, 3], [4, 5, 6], [7, 8, 'a']]\n",
    "new_list=old_list                                    # It is a classic example of Shallow Copy \n",
    "print(id(new_list),id(old_list))\n",
    "old_list[1]=6 \n",
    "print(new_list)      # It means that in shallow copy when we make changes in old_list new list automatically changes\n",
    "print(old_list)"
   ]
  },
  {
   "cell_type": "markdown",
   "id": "ca65eced",
   "metadata": {},
   "source": [
    "### ii) Deep Copy"
   ]
  },
  {
   "cell_type": "code",
   "execution_count": 34,
   "id": "accb500f",
   "metadata": {},
   "outputs": [
    {
     "name": "stdout",
     "output_type": "stream",
     "text": [
      "1550590699952 1550591629296\n"
     ]
    }
   ],
   "source": [
    "a=5\n",
    "b=\"5\"\n",
    "print(id(a),id(b))"
   ]
  },
  {
   "cell_type": "code",
   "execution_count": 44,
   "id": "5cd2d978",
   "metadata": {},
   "outputs": [
    {
     "name": "stdout",
     "output_type": "stream",
     "text": [
      "1550708537408 1550707955072\n",
      "[[1, 2, 3], [4, 5, 6], 7]\n",
      "[[1, 2, 3], [4, 5, 6], [7, 8, 'a']]\n"
     ]
    }
   ],
   "source": [
    "old_list = [[1, 2, 3], [4, 5, 6], [7, 8, 'a']]\n",
    "new_list=old_list.copy()\n",
    "print(id(new_list),id(old_list))\n",
    "old_list[2]=7\n",
    "print(old_list)\n",
    "print(new_list)"
   ]
  },
  {
   "cell_type": "markdown",
   "id": "56c099e2",
   "metadata": {},
   "source": [
    "## 5) Python Identity Operators"
   ]
  },
  {
   "cell_type": "code",
   "execution_count": 46,
   "id": "530143e3",
   "metadata": {},
   "outputs": [
    {
     "name": "stdout",
     "output_type": "stream",
     "text": [
      "1550709205568 1550709205568\n"
     ]
    },
    {
     "data": {
      "text/plain": [
       "True"
      ]
     },
     "execution_count": 46,
     "metadata": {},
     "output_type": "execute_result"
    }
   ],
   "source": [
    "# is Operator\n",
    "old_list = [[1, 2, 3], [4, 5, 6], [7, 8, 'a']]\n",
    "new_list=old_list                                    \n",
    "print(id(new_list),id(old_list))\n",
    "new_list is old_list"
   ]
  },
  {
   "cell_type": "code",
   "execution_count": 49,
   "id": "c7897438",
   "metadata": {},
   "outputs": [
    {
     "name": "stdout",
     "output_type": "stream",
     "text": [
      "1550707031616 1550709248192\n"
     ]
    },
    {
     "data": {
      "text/plain": [
       "False"
      ]
     },
     "execution_count": 49,
     "metadata": {},
     "output_type": "execute_result"
    }
   ],
   "source": [
    "old_list = [[1, 2, 3], [4, 5, 6], [7, 8, 'a']]\n",
    "new_list=old_list.copy()\n",
    "print(id(new_list),id(old_list))\n",
    "new_list is old_list"
   ]
  },
  {
   "cell_type": "code",
   "execution_count": 47,
   "id": "c054648f",
   "metadata": {},
   "outputs": [
    {
     "name": "stdout",
     "output_type": "stream",
     "text": [
      "1550709914112 1550709914112\n"
     ]
    },
    {
     "data": {
      "text/plain": [
       "False"
      ]
     },
     "execution_count": 47,
     "metadata": {},
     "output_type": "execute_result"
    }
   ],
   "source": [
    "# is not Operator \n",
    "old_list = [[1, 2, 3], [4, 5, 6], [7, 8, 'a']]\n",
    "new_list=old_list                                     \n",
    "print(id(new_list),id(old_list))\n",
    "new_list is not old_list"
   ]
  },
  {
   "cell_type": "code",
   "execution_count": 50,
   "id": "c78c4a0b",
   "metadata": {},
   "outputs": [
    {
     "name": "stdout",
     "output_type": "stream",
     "text": [
      "1550718547840 1550708242176\n"
     ]
    },
    {
     "data": {
      "text/plain": [
       "True"
      ]
     },
     "execution_count": 50,
     "metadata": {},
     "output_type": "execute_result"
    }
   ],
   "source": [
    "old_list = [[1, 2, 3], [4, 5, 6], [7, 8, 'a']]\n",
    "new_list=old_list.copy()\n",
    "print(id(new_list),id(old_list))\n",
    "new_list is not old_list"
   ]
  },
  {
   "cell_type": "markdown",
   "id": "63a18fb9",
   "metadata": {},
   "source": [
    "## 6) Python Membership Operators"
   ]
  },
  {
   "cell_type": "code",
   "execution_count": 60,
   "id": "c179a690",
   "metadata": {},
   "outputs": [
    {
     "name": "stdout",
     "output_type": "stream",
     "text": [
      "True\n",
      "False\n",
      "False\n",
      "True\n"
     ]
    }
   ],
   "source": [
    "a=\"student of Saylani and Ned\"\n",
    "print(\"student\" in a)\n",
    "print(\"Raziq\" in a)\n",
    "print(\"student\" not in a)\n",
    "print(\"Raziq\" not in a)"
   ]
  },
  {
   "cell_type": "code",
   "execution_count": 61,
   "id": "30bbe6b2",
   "metadata": {},
   "outputs": [
    {
     "data": {
      "text/plain": [
       "False"
      ]
     },
     "execution_count": 61,
     "metadata": {},
     "output_type": "execute_result"
    }
   ],
   "source": [
    "bool(0)"
   ]
  },
  {
   "cell_type": "code",
   "execution_count": 62,
   "id": "398cc4a3",
   "metadata": {},
   "outputs": [
    {
     "data": {
      "text/plain": [
       "True"
      ]
     },
     "execution_count": 62,
     "metadata": {},
     "output_type": "execute_result"
    }
   ],
   "source": [
    "bool(1)"
   ]
  },
  {
   "cell_type": "code",
   "execution_count": null,
   "id": "54b9e913",
   "metadata": {},
   "outputs": [],
   "source": []
  }
 ],
 "metadata": {
  "kernelspec": {
   "display_name": "Python 3 (ipykernel)",
   "language": "python",
   "name": "python3"
  },
  "language_info": {
   "codemirror_mode": {
    "name": "ipython",
    "version": 3
   },
   "file_extension": ".py",
   "mimetype": "text/x-python",
   "name": "python",
   "nbconvert_exporter": "python",
   "pygments_lexer": "ipython3",
   "version": "3.9.13"
  }
 },
 "nbformat": 4,
 "nbformat_minor": 5
}
