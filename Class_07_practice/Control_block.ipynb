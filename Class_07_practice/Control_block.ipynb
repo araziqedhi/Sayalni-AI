{
 "cells": [
  {
   "cell_type": "code",
   "execution_count": 7,
   "id": "4a180607",
   "metadata": {},
   "outputs": [
    {
     "name": "stdout",
     "output_type": "stream",
     "text": [
      "Pakistan\n",
      "\t Saulaini\n",
      "Pakistan\n",
      "\t Saulaini\n",
      "Pakistan\n",
      "\t Saulaini\n",
      "Pakistan\n",
      "\t Saulaini\n",
      "Pakistan\n",
      "\t Saulaini\n",
      "Pakistan\n",
      "\t Saulaini\n",
      "Pakistan\n",
      "\t Saulaini\n",
      "Pakistan\n",
      "\t Saulaini\n",
      "Pakistan\n",
      "\t Saulaini\n",
      "Pakistan\n",
      "\t Saulaini\n",
      "Pakistan\n",
      "\t Saulaini\n"
     ]
    }
   ],
   "source": [
    "for i in range(11):\n",
    "    print(\"Pakistan\")\n",
    "    print(\"\\t Saulaini\")"
   ]
  },
  {
   "cell_type": "code",
   "execution_count": 13,
   "id": "6e6fd59a",
   "metadata": {},
   "outputs": [
    {
     "name": "stdout",
     "output_type": "stream",
     "text": [
      "(0, 'a')\n",
      "(1, 'b')\n",
      "(2, 'd')\n",
      "(3, [1, 23, 5])\n"
     ]
    }
   ],
   "source": [
    "list=enumerate([\"a\",\"b\",\"d\",[1,23,5]])\n",
    "for i in list:\n",
    "    print(i)"
   ]
  },
  {
   "cell_type": "code",
   "execution_count": 15,
   "id": "4d69cabc",
   "metadata": {},
   "outputs": [
    {
     "name": "stdout",
     "output_type": "stream",
     "text": [
      "0 a\n",
      "1 b\n",
      "2 d\n",
      "3 [1, 23, 5]\n"
     ]
    }
   ],
   "source": [
    "for index,value in enumerate([\"a\",\"b\",\"d\",[1,23,5]]):\n",
    "    print(index,value)"
   ]
  },
  {
   "cell_type": "markdown",
   "id": "b0e7b9d9",
   "metadata": {},
   "source": [
    "## Assignment 1"
   ]
  },
  {
   "cell_type": "code",
   "execution_count": 34,
   "id": "cf963266",
   "metadata": {},
   "outputs": [
    {
     "name": "stdout",
     "output_type": "stream",
     "text": [
      "Enter your username:   araziq\n",
      "Enter your email:   araz@gmail.com\n",
      "Enter your phone:   03313741903\n",
      "Enter your password:   aaa\n",
      "enter Correct dAta\n"
     ]
    }
   ],
   "source": [
    "# create list of dictionary with (name,id,user,password,email,phone)\n",
    "#create program where user can login with user/email/phone but password must be same\n",
    "\n",
    "data=[\n",
    "    {\"name\":\"Raziq\",\"id\":\"234\",\"user\":\"araziq\",\"pass\":\"123\",\"email\":\"araz@gmail.com\",\"phone\":\"03313741903\"},\n",
    "    {\"name\":\"Abdul\",\"id\":\"235\",\"user\":\"araziqe\",\"pass\":\"1234\",\"email\":\"arazi@gmail.com\",\"phone\":\"03313741902\"},\n",
    "    {\"name\":\"Qasim\",\"id\":\"236\",\"user\":\"araziqed\",\"pass\":\"12345\",\"email\":\"araziq@gmail.com\",\"phone\":\"03313741901\"}\n",
    "]\n",
    "username=input(\"Enter your username:   \")\n",
    "email=input(\"Enter your email:   \")\n",
    "phone=input(\"Enter your phone:   \")\n",
    "password=input(\"Enter your password:   \")\n",
    "\n",
    "for i in data:\n",
    "    if ((username==i[\"user\"] or email==i[\"email\"] or phone==i[\"phone\"]) and password==i[\"pass\"]):\n",
    "        print(f'Congratulations you have successfully Loged into your data: {i}')\n",
    "        break\n",
    "else:\n",
    "    print(\"enter Correct dAta\")"
   ]
  },
  {
   "cell_type": "markdown",
   "id": "d1c05b47",
   "metadata": {},
   "source": [
    "## Continue Statement"
   ]
  },
  {
   "cell_type": "code",
   "execution_count": 40,
   "id": "0c55766e",
   "metadata": {},
   "outputs": [
    {
     "name": "stdout",
     "output_type": "stream",
     "text": [
      "0\n",
      "1\n",
      "2\n",
      "3\n",
      "6\n",
      "7\n",
      "8\n",
      "9\n",
      "10\n"
     ]
    }
   ],
   "source": [
    "for i in range(11):\n",
    "    if(i==4 or i==5):\n",
    "        continue\n",
    "    print(i)"
   ]
  },
  {
   "cell_type": "markdown",
   "id": "52f3e812",
   "metadata": {},
   "source": [
    "## While Loop"
   ]
  },
  {
   "cell_type": "markdown",
   "id": "75de8b04",
   "metadata": {},
   "source": [
    "* Counter\n",
    "* Logic\n",
    "**Loop body\n",
    "**Increment / Decrement\n",
    "**agar logic sahi hai hogi tw while loop chalega"
   ]
  },
  {
   "cell_type": "code",
   "execution_count": 46,
   "id": "1e2a5c91",
   "metadata": {},
   "outputs": [
    {
     "name": "stdout",
     "output_type": "stream",
     "text": [
      "0\n",
      "1\n",
      "2\n",
      "3\n",
      "4\n",
      "5\n",
      "6\n",
      "7\n",
      "8\n",
      "9\n",
      "10\n",
      "11\n"
     ]
    }
   ],
   "source": [
    "counter =0\n",
    "while (counter<=11):\n",
    "    print(counter)\n",
    "    counter+=1"
   ]
  },
  {
   "cell_type": "markdown",
   "id": "6c1a4a0e",
   "metadata": {},
   "source": [
    "### Exercise 1: Print First 10 natural numbers using while loop"
   ]
  },
  {
   "cell_type": "code",
   "execution_count": 49,
   "id": "b4859221",
   "metadata": {},
   "outputs": [
    {
     "name": "stdout",
     "output_type": "stream",
     "text": [
      "1\n",
      "2\n",
      "3\n",
      "4\n",
      "5\n",
      "6\n",
      "7\n",
      "8\n",
      "9\n",
      "10\n"
     ]
    }
   ],
   "source": [
    "counter=1\n",
    "while(counter<=10):\n",
    "    print(counter)\n",
    "    counter+=1"
   ]
  },
  {
   "cell_type": "markdown",
   "id": "30ae78df",
   "metadata": {},
   "source": [
    "## Exercise 3: Calculate the sum of all numbers from 1 to a given number"
   ]
  },
  {
   "cell_type": "code",
   "execution_count": 52,
   "id": "b7f23d0a",
   "metadata": {},
   "outputs": [
    {
     "name": "stdout",
     "output_type": "stream",
     "text": [
      "Enter your desired no: 3\n",
      "6\n"
     ]
    }
   ],
   "source": [
    "number = int(input(\"Enter your desired no: \"))\n",
    "x = sum(range(1,number+1))\n",
    "print(x)"
   ]
  },
  {
   "cell_type": "markdown",
   "id": "82626617",
   "metadata": {},
   "source": [
    "## Exercise 4: Write a program to print multiplication table of a given number"
   ]
  },
  {
   "cell_type": "code",
   "execution_count": 58,
   "id": "ae1448fb",
   "metadata": {},
   "outputs": [
    {
     "name": "stdout",
     "output_type": "stream",
     "text": [
      "Enter the no of times you want to print the table:  10\n",
      "Enter the table you want to print:  2\n",
      "2X1=2\n",
      "2X2=4\n",
      "2X3=6\n",
      "2X4=8\n",
      "2X5=10\n",
      "2X6=12\n",
      "2X7=14\n",
      "2X8=16\n",
      "2X9=18\n",
      "2X10=20\n"
     ]
    }
   ],
   "source": [
    "table_amount=int(input(\"Enter the no of times you want to print the table:  \"))\n",
    "table_number=int(input(\"Enter the table you want to print:  \"))\n",
    "for i in range(1,table_amount+1):\n",
    "    print(f'{table_number}X{i}={i*table_number}')"
   ]
  },
  {
   "cell_type": "markdown",
   "id": "16f700d8",
   "metadata": {},
   "source": [
    "## Exercise 5: Display numbers from a list using loop\n",
    "Write a program to display only those numbers from a list that satisfy the following conditions\n",
    "\n",
    "* The number must be divisible by five\n",
    "* If the number is greater than 150, then skip it and move to the next number\n",
    "* If the number is greater than 500, then stop the loop"
   ]
  },
  {
   "cell_type": "code",
   "execution_count": 71,
   "id": "7af3d24f",
   "metadata": {},
   "outputs": [
    {
     "name": "stdout",
     "output_type": "stream",
     "text": [
      "75\n",
      "150\n",
      "145\n"
     ]
    }
   ],
   "source": [
    "numbers = [12, 75, 150, 180, 145, 525, 50]\n",
    "for i in numbers:\n",
    "    if(i%5==0):\n",
    "        if(i>500):\n",
    "            break\n",
    "        if(i>150):\n",
    "            continue\n",
    "        print(i)"
   ]
  },
  {
   "cell_type": "markdown",
   "id": "062baa0f",
   "metadata": {},
   "source": [
    "## Exercise 6: Count the total number of digits in a number"
   ]
  },
  {
   "cell_type": "code",
   "execution_count": 72,
   "id": "6d1d47e3",
   "metadata": {},
   "outputs": [],
   "source": [
    "a=23344\n"
   ]
  },
  {
   "cell_type": "markdown",
   "id": "01ed2add",
   "metadata": {},
   "source": [
    "## Exercise 8: Print list in reverse order using a loop\n"
   ]
  },
  {
   "cell_type": "code",
   "execution_count": 74,
   "id": "48ca1598",
   "metadata": {},
   "outputs": [
    {
     "name": "stdout",
     "output_type": "stream",
     "text": [
      "[50, 40, 30, 20, 10]\n"
     ]
    }
   ],
   "source": [
    "list1 = [10, 20, 30, 40, 50]\n",
    "list1.reverse()\n",
    "print(list1)\n"
   ]
  },
  {
   "cell_type": "markdown",
   "id": "1bddcaa6",
   "metadata": {},
   "source": [
    "## Exercise 9: Display numbers from -10 to -1 using for loop"
   ]
  },
  {
   "cell_type": "code",
   "execution_count": 77,
   "id": "ee7ef2d6",
   "metadata": {},
   "outputs": [
    {
     "name": "stdout",
     "output_type": "stream",
     "text": [
      "-10\n",
      "-9\n",
      "-8\n",
      "-7\n",
      "-6\n",
      "-5\n",
      "-4\n",
      "-3\n",
      "-2\n",
      "-1\n"
     ]
    }
   ],
   "source": [
    "for i in range(-10,0):\n",
    "    print(i)"
   ]
  },
  {
   "cell_type": "markdown",
   "id": "f5b0a6e6",
   "metadata": {},
   "source": [
    "## Exercise 10: Use else block to display a message “Done” after successful execution of for loop"
   ]
  },
  {
   "cell_type": "code",
   "execution_count": 78,
   "id": "8c7a4c06",
   "metadata": {},
   "outputs": [],
   "source": [
    "#Expected Output:\n",
    "# 0\n",
    "# 1\n",
    "# 2\n",
    "# 3\n",
    "# 4\n",
    "# Done!"
   ]
  },
  {
   "cell_type": "code",
   "execution_count": 79,
   "id": "a846bef7",
   "metadata": {},
   "outputs": [
    {
     "name": "stdout",
     "output_type": "stream",
     "text": [
      "0\n",
      "1\n",
      "2\n",
      "3\n",
      "4\n",
      "done\n"
     ]
    }
   ],
   "source": [
    "for i in range(5):\n",
    "    print(i)\n",
    "else:\n",
    "    print(\"done\")"
   ]
  },
  {
   "cell_type": "markdown",
   "id": "4ce0fd4c",
   "metadata": {},
   "source": [
    "## Exercise 11: Write a program to display all prime numbers within a range"
   ]
  },
  {
   "cell_type": "code",
   "execution_count": 80,
   "id": "138d0fef",
   "metadata": {},
   "outputs": [],
   "source": [
    "range_1 = range(50,100)\n"
   ]
  },
  {
   "cell_type": "code",
   "execution_count": 86,
   "id": "cb1d108f",
   "metadata": {},
   "outputs": [],
   "source": [
    "weather={\n",
    "  \"weather\": [\n",
    "    {\n",
    "      \"timestamp\": \"2020-04-21T00:00:00+00:00\",\n",
    "      \"source_id\": 6007,\n",
    "      \"cloud_cover\": 0,\n",
    "      \"dew_point\": -2.5,\n",
    "      \"precipitation\": 0,\n",
    "      \"pressure_msl\": 1015.1,\n",
    "      \"relative_humidity\": 40,\n",
    "      \"sunshine\": 0,\n",
    "      \"temperature\": 10.6,\n",
    "      \"visibility\": 50000,\n",
    "      \"wind_direction\": 70,\n",
    "      \"wind_speed\": 12.6,\n",
    "      \"wind_gust_direction\": 50,\n",
    "      \"wind_gust_speed\": 33.5,\n",
    "      \"condition\": \"dry\",\n",
    "      \"icon\": \"clear-night\"\n",
    "    },\n",
    "   \n",
    "  ],\n",
    "  \"sources\": [\n",
    "    {\n",
    "      \"id\": 6007,\n",
    "      \"dwd_station_id\": \"01766\",\n",
    "      \"wmo_station_id\": \"10315\",\n",
    "      \"station_name\": \"Münster/Osnabrück\",\n",
    "      \"observation_type\": \"historical\",\n",
    "      \"first_record\": \"2020-01-01T00:00:00+00:00\",\n",
    "      \"last_record\": \"2020-08-13T23:00:00+00:00\",\n",
    "      \"lat\": 52.1344,\n",
    "      \"lon\": 7.6969,\n",
    "      \"height\": 47.8,\n",
    "      \"distance\": 16365\n",
    "    }\n",
    "  ]\n",
    "}"
   ]
  },
  {
   "cell_type": "markdown",
   "id": "4d826fe9",
   "metadata": {},
   "source": [
    "## Q1) What is the station id?"
   ]
  },
  {
   "cell_type": "code",
   "execution_count": 90,
   "id": "a038f222",
   "metadata": {},
   "outputs": [
    {
     "data": {
      "text/plain": [
       "'01766'"
      ]
     },
     "execution_count": 90,
     "metadata": {},
     "output_type": "execute_result"
    }
   ],
   "source": [
    "weather[\"sources\"][0][\"dwd_station_id\"]\n"
   ]
  },
  {
   "cell_type": "markdown",
   "id": "439ac56f",
   "metadata": {},
   "source": [
    "## Q2) What is the lat and lon of the location?"
   ]
  },
  {
   "cell_type": "code",
   "execution_count": 94,
   "id": "6e2088b2",
   "metadata": {},
   "outputs": [
    {
     "name": "stdout",
     "output_type": "stream",
     "text": [
      "52.1344\n",
      "7.6969\n"
     ]
    }
   ],
   "source": [
    "print(weather[\"sources\"][0][\"lat\"])\n",
    "print(weather[\"sources\"][0][\"lon\"])"
   ]
  },
  {
   "cell_type": "markdown",
   "id": "1bcb6c30",
   "metadata": {},
   "source": [
    "# Q3) Determine the temperature and windspeed."
   ]
  },
  {
   "cell_type": "code",
   "execution_count": 99,
   "id": "b6bf153a",
   "metadata": {},
   "outputs": [
    {
     "name": "stdout",
     "output_type": "stream",
     "text": [
      "10.6\n",
      "12.6\n"
     ]
    }
   ],
   "source": [
    "print(weather[\"weather\"][0][\"temperature\"])\n",
    "print(weather[\"weather\"][0][\"wind_speed\"])\n"
   ]
  },
  {
   "cell_type": "markdown",
   "id": "3821b04f",
   "metadata": {},
   "source": [
    "## Q4) Create 2 lists and append one of them to another."
   ]
  },
  {
   "cell_type": "code",
   "execution_count": 102,
   "id": "254aba19",
   "metadata": {},
   "outputs": [
    {
     "name": "stdout",
     "output_type": "stream",
     "text": [
      "[1, 3, 56, 7, 7, [5, 9, 34, 7]]\n",
      "[1, 3, 56, 7, 7, [5, 9, 34, 7], 5, 9, 34, 7]\n"
     ]
    }
   ],
   "source": [
    "list1=[1,3,56,7,7]\n",
    "list2=[5,9,34,7]\n",
    "list1.append(list2)\n",
    "print(list1)\n",
    "print(list1+list2)"
   ]
  },
  {
   "cell_type": "code",
   "execution_count": null,
   "id": "f26280c4",
   "metadata": {},
   "outputs": [],
   "source": []
  }
 ],
 "metadata": {
  "kernelspec": {
   "display_name": "Python 3 (ipykernel)",
   "language": "python",
   "name": "python3"
  },
  "language_info": {
   "codemirror_mode": {
    "name": "ipython",
    "version": 3
   },
   "file_extension": ".py",
   "mimetype": "text/x-python",
   "name": "python",
   "nbconvert_exporter": "python",
   "pygments_lexer": "ipython3",
   "version": "3.9.13"
  }
 },
 "nbformat": 4,
 "nbformat_minor": 5
}
