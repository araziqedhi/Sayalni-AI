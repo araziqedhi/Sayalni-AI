{
 "cells": [
  {
   "cell_type": "code",
   "execution_count": 1,
   "id": "3171fa64",
   "metadata": {},
   "outputs": [
    {
     "data": {
      "text/plain": [
       "['__builtins__',\n",
       " '__cached__',\n",
       " '__doc__',\n",
       " '__file__',\n",
       " '__loader__',\n",
       " '__name__',\n",
       " '__package__',\n",
       " '__spec__',\n",
       " 'average',\n",
       " 'power',\n",
       " 'subtraction',\n",
       " 'sum']"
      ]
     },
     "execution_count": 1,
     "metadata": {},
     "output_type": "execute_result"
    }
   ],
   "source": [
    "from my_package import functions\n",
    "dir(functions)"
   ]
  },
  {
   "cell_type": "code",
   "execution_count": 2,
   "id": "435d110a",
   "metadata": {},
   "outputs": [
    {
     "data": {
      "text/plain": [
       "15"
      ]
     },
     "execution_count": 2,
     "metadata": {},
     "output_type": "execute_result"
    }
   ],
   "source": [
    "functions.sum(9,6)"
   ]
  },
  {
   "cell_type": "code",
   "execution_count": 3,
   "id": "23e83a8d",
   "metadata": {},
   "outputs": [
    {
     "data": {
      "text/plain": [
       "16"
      ]
     },
     "execution_count": 3,
     "metadata": {},
     "output_type": "execute_result"
    }
   ],
   "source": [
    "functions.power(4,2)"
   ]
  },
  {
   "cell_type": "code",
   "execution_count": 4,
   "id": "6bc9663d",
   "metadata": {},
   "outputs": [
    {
     "data": {
      "text/plain": [
       "3"
      ]
     },
     "execution_count": 4,
     "metadata": {},
     "output_type": "execute_result"
    }
   ],
   "source": [
    "functions.subtraction(5,2)"
   ]
  },
  {
   "cell_type": "markdown",
   "id": "f4863f47",
   "metadata": {},
   "source": [
    "## Import only one or two functions from Package module"
   ]
  },
  {
   "cell_type": "code",
   "execution_count": 5,
   "id": "2a01e636",
   "metadata": {},
   "outputs": [
    {
     "data": {
      "text/plain": [
       "5"
      ]
     },
     "execution_count": 5,
     "metadata": {},
     "output_type": "execute_result"
    }
   ],
   "source": [
    "from my_package.functions import subtraction\n",
    "subtraction(7,2)"
   ]
  },
  {
   "cell_type": "markdown",
   "id": "53330d80",
   "metadata": {},
   "source": [
    "## Import Package model functions with package,we dont need modules name for importing any custom function"
   ]
  },
  {
   "cell_type": "code",
   "execution_count": 6,
   "id": "ed75ca5b",
   "metadata": {},
   "outputs": [],
   "source": [
    "from my_package import SayHello,subtraction,sum"
   ]
  },
  {
   "cell_type": "code",
   "execution_count": 7,
   "id": "c735a4ef",
   "metadata": {},
   "outputs": [
    {
     "name": "stdout",
     "output_type": "stream",
     "text": [
      "Hello Muhammad Qasim Welcome in Saylani Head Office\n"
     ]
    }
   ],
   "source": [
    "SayHello(\"Muhammad Qasim\")"
   ]
  },
  {
   "cell_type": "markdown",
   "id": "3293de08",
   "metadata": {},
   "source": [
    "## Now Install Package Globally in your computer \n",
    "* Before that it was only available in class 11"
   ]
  },
  {
   "cell_type": "code",
   "execution_count": 8,
   "id": "fc12e979",
   "metadata": {},
   "outputs": [
    {
     "name": "stdout",
     "output_type": "stream",
     "text": [
      "Collecting my_package\n",
      "  Downloading my_package-0.0.0-py3-none-any.whl (2.0 kB)\n",
      "Installing collected packages: my_package\n",
      "Successfully installed my_package-0.0.0\n"
     ]
    }
   ],
   "source": [
    "!pip install my_package"
   ]
  },
  {
   "cell_type": "code",
   "execution_count": 9,
   "id": "52decf80",
   "metadata": {},
   "outputs": [],
   "source": [
    "from my_package import SayHello,subtraction,sum"
   ]
  },
  {
   "cell_type": "code",
   "execution_count": 10,
   "id": "53242e7c",
   "metadata": {},
   "outputs": [
    {
     "name": "stdout",
     "output_type": "stream",
     "text": [
      "Hello Muhammad Welcome in Saylani Head Office\n"
     ]
    }
   ],
   "source": [
    "SayHello(\"Muhammad\")"
   ]
  },
  {
   "cell_type": "code",
   "execution_count": null,
   "id": "da5eaccd",
   "metadata": {},
   "outputs": [],
   "source": []
  }
 ],
 "metadata": {
  "kernelspec": {
   "display_name": "Python 3 (ipykernel)",
   "language": "python",
   "name": "python3"
  },
  "language_info": {
   "codemirror_mode": {
    "name": "ipython",
    "version": 3
   },
   "file_extension": ".py",
   "mimetype": "text/x-python",
   "name": "python",
   "nbconvert_exporter": "python",
   "pygments_lexer": "ipython3",
   "version": "3.9.13"
  }
 },
 "nbformat": 4,
 "nbformat_minor": 5
}
