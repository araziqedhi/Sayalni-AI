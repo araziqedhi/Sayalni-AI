{
 "cells": [
  {
   "cell_type": "code",
   "execution_count": 1,
   "id": "2f010c40",
   "metadata": {},
   "outputs": [
    {
     "name": "stdout",
     "output_type": "stream",
     "text": [
      "razq\n",
      "barkat\n",
      "arazq\n",
      "12345\n",
      "None\n",
      "124\n",
      "1st\n",
      "<__main__.Student object at 0x000002E57BB5AE80>\n",
      "{'name': 'raziq', 'fname': 'barkat', 'roll': '124', 'user': 'arazq', 'password': '12345', 'classname': '1st'}\n"
     ]
    }
   ],
   "source": [
    "class Student():\n",
    "    def __init__(self,name,fname):\n",
    "        self.name=name\n",
    "        self.fname=fname\n",
    "        self.roll=None\n",
    "\n",
    "    def login (self,user,password):\n",
    "        self.user=user\n",
    "        self.password=password\n",
    "s1=Student(\"razq\",\"barkat\")\n",
    "print(s1.name)\n",
    "print(s1.fname)\n",
    "\n",
    "s2= Student (\"raziq\",\"barkat\")\n",
    "s2.login(\"arazq\",\"1234\")\n",
    "print(s2.user)\n",
    "\n",
    "s2.password=\"12345\"\n",
    "print(s2.password)\n",
    "print(s2.roll)\n",
    "s2.roll=\"124\"\n",
    "print(s2.roll)\n",
    "\n",
    "s2.classname=\"1st\"\n",
    "print(s2.classname)\n",
    "\n",
    "print(s2)\n",
    "\n",
    "# print all attributes of s2\n",
    "print(vars(s2))\n"
   ]
  },
  {
   "cell_type": "markdown",
   "id": "b9225801",
   "metadata": {},
   "source": [
    "## 1) Inheritance "
   ]
  },
  {
   "cell_type": "code",
   "execution_count": 2,
   "id": "4d6b73ae",
   "metadata": {},
   "outputs": [],
   "source": [
    "class Parents():\n",
    "    def __init__(self,name,fname):\n",
    "        self.name=name\n",
    "        self.fname=fname\n",
    "    def speak(self,words):\n",
    "        return f\"He speaks{words}\"\n",
    "    def looks(self,word):\n",
    "        return f\"He looks {word}\"\n",
    "    "
   ]
  },
  {
   "cell_type": "code",
   "execution_count": 3,
   "id": "05d4c1c4",
   "metadata": {},
   "outputs": [],
   "source": [
    "class Child(Parents):\n",
    "    pass"
   ]
  },
  {
   "cell_type": "code",
   "execution_count": 4,
   "id": "0df98182",
   "metadata": {},
   "outputs": [
    {
     "name": "stdout",
     "output_type": "stream",
     "text": [
      "<__main__.Parents object at 0x000002E57BB56AC0>\n",
      "<bound method Parents.speak of <__main__.Parents object at 0x000002E57BB56AC0>>\n",
      "He speaksBeautifully\n",
      "{'name': 'barkat', 'fname': 'Younus', 'looks': 'Handsome'}\n"
     ]
    }
   ],
   "source": [
    "p1=Parents(\"barkat\",\"Younus\")\n",
    "p1.speak(\"Beautifully\")\n",
    "p1.looks=\"Handsome\"\n",
    "print(p1)\n",
    "print(p1.speak)\n",
    "print(p1.speak(\"Beautifully\"))\n",
    "print(vars(p1))"
   ]
  },
  {
   "cell_type": "code",
   "execution_count": 5,
   "id": "8c2e5418",
   "metadata": {},
   "outputs": [
    {
     "name": "stdout",
     "output_type": "stream",
     "text": [
      "{'name': 'Raziq', 'fname': 'Barkat'}\n"
     ]
    }
   ],
   "source": [
    "c1=Child(\"Raziq\",\"Barkat\")\n",
    "print(vars(c1))"
   ]
  },
  {
   "cell_type": "code",
   "execution_count": 6,
   "id": "74ac3c20",
   "metadata": {},
   "outputs": [],
   "source": [
    "class Parents():\n",
    "    def __init__(self,name,fname):\n",
    "        self.name=name\n",
    "        self.fname=fname\n",
    "    def speak(self,words):\n",
    "        return f\"He speaks{words}\"\n",
    "    def looks(self,word):\n",
    "        return f\"He looks {word}\"\n",
    "    "
   ]
  },
  {
   "cell_type": "code",
   "execution_count": 7,
   "id": "bdc6fe50",
   "metadata": {},
   "outputs": [],
   "source": [
    "class Child(Parents):\n",
    "    def coding(self,experience):\n",
    "        self.experience=experience\n",
    "    "
   ]
  },
  {
   "cell_type": "code",
   "execution_count": 8,
   "id": "2c507293",
   "metadata": {},
   "outputs": [
    {
     "name": "stdout",
     "output_type": "stream",
     "text": [
      "{'name': 'Barkat', 'fname': 'Younus', 'speak': 'Loudly', 'looks': 'Angry'}\n"
     ]
    }
   ],
   "source": [
    "p1=Parents(\"Barkat\",\"Younus\")\n",
    "p1.speak=\"Loudly\"\n",
    "p1.looks=\"Angry\"\n",
    "\n",
    "print(vars(p1))"
   ]
  },
  {
   "cell_type": "code",
   "execution_count": 9,
   "id": "f19016da",
   "metadata": {},
   "outputs": [
    {
     "name": "stdout",
     "output_type": "stream",
     "text": [
      "{'name': 'Raziq', 'fname': 'Barkat', 'speak': 'Softly', 'looks': 'Beautiful'}\n"
     ]
    }
   ],
   "source": [
    "c1=Child(\"Raziq\",\"Barkat\")\n",
    "c1.speak=\"Softly\"\n",
    "c1.looks=\"Beautiful\"\n",
    "\n",
    "print(vars(c1))"
   ]
  },
  {
   "cell_type": "code",
   "execution_count": 10,
   "id": "bcdd55b2",
   "metadata": {},
   "outputs": [
    {
     "data": {
      "text/plain": [
       "['fname', 'looks', 'name', 'speak']"
      ]
     },
     "execution_count": 10,
     "metadata": {},
     "output_type": "execute_result"
    }
   ],
   "source": [
    "[i for i in dir(p1) if \"_\"not in i]"
   ]
  },
  {
   "cell_type": "code",
   "execution_count": 11,
   "id": "c9f15b22",
   "metadata": {},
   "outputs": [
    {
     "data": {
      "text/plain": [
       "['coding', 'fname', 'looks', 'name', 'speak']"
      ]
     },
     "execution_count": 11,
     "metadata": {},
     "output_type": "execute_result"
    }
   ],
   "source": [
    "[i for i in dir(c1) if \"_\"not in i]"
   ]
  },
  {
   "cell_type": "code",
   "execution_count": 12,
   "id": "b9fba698",
   "metadata": {},
   "outputs": [],
   "source": [
    "class Parents():\n",
    "    def __init__(self,name,fname):\n",
    "        self.name=name\n",
    "        self.fname=fname\n",
    "    def speak(self,words):\n",
    "        return f\"He speaks{words}\"\n",
    "    def looks(self,word):\n",
    "        return f\"He looks {word}\"\n",
    "    "
   ]
  },
  {
   "cell_type": "code",
   "execution_count": 13,
   "id": "fb4c015a",
   "metadata": {},
   "outputs": [],
   "source": [
    "class Childs(Parents):\n",
    "    def __init__(self, name, fname, age):\n",
    "        super().__init__(name, fname)\n",
    "        self.age = age"
   ]
  },
  {
   "cell_type": "code",
   "execution_count": 14,
   "id": "148b4216",
   "metadata": {},
   "outputs": [
    {
     "name": "stdout",
     "output_type": "stream",
     "text": [
      "{'name': 'Barkat', 'fname': 'Younus', 'speak': 'Loudly', 'looks': 'Angry'}\n"
     ]
    }
   ],
   "source": [
    "p1=Parents(\"Barkat\",\"Younus\")\n",
    "p1.speak=\"Loudly\"\n",
    "p1.looks=\"Angry\"\n",
    "\n",
    "print(vars(p1))"
   ]
  },
  {
   "cell_type": "code",
   "execution_count": 15,
   "id": "4e00454f",
   "metadata": {},
   "outputs": [
    {
     "name": "stdout",
     "output_type": "stream",
     "text": [
      "{'name': 'Raziq', 'fname': 'Barkat', 'age': 23, 'speak': 'Softly', 'looks': 'Beautiful'}\n"
     ]
    }
   ],
   "source": [
    "\n",
    "c1=Childs(\"Raziq\",\"Barkat\",23)\n",
    "c1.speak=\"Softly\"\n",
    "c1.looks=\"Beautiful\"\n",
    "\n",
    "print(vars(c1))"
   ]
  },
  {
   "cell_type": "code",
   "execution_count": 16,
   "id": "35710ad2",
   "metadata": {},
   "outputs": [
    {
     "name": "stdout",
     "output_type": "stream",
     "text": [
      "{'name': 'Barkat', 'fname': 'Younus', 'speak': 'Loudly', 'looks': 'Angry'}\n",
      "{'name': 'Raziq', 'fname': 'Barkat', 'age': 23, 'speak': 'Softly', 'looks': 'Beautiful'}\n"
     ]
    }
   ],
   "source": [
    "class Parents():\n",
    "    def __init__(self, name, fname):\n",
    "        self.name = name\n",
    "        self.fname = fname\n",
    "        \n",
    "    def speak(self, words):\n",
    "        return f\"He speaks {words}\"\n",
    "    \n",
    "    def looks(self, word):\n",
    "        return f\"He looks {word}\"\n",
    "\n",
    "class Childs(Parents):\n",
    "    def __init__(self, name, fname, age):\n",
    "        super().__init__(name, fname)\n",
    "        self.age = age\n",
    "        \n",
    "p1 = Parents(\"Barkat\", \"Younus\")\n",
    "p1.speak = \"Loudly\"\n",
    "p1.looks = \"Angry\"\n",
    "print(vars(p1))\n",
    "\n",
    "c1 = Childs(\"Raziq\", \"Barkat\", 23)\n",
    "c1.speak = \"Softly\"\n",
    "c1.looks = \"Beautiful\"\n",
    "print(vars(c1))\n"
   ]
  },
  {
   "cell_type": "code",
   "execution_count": 17,
   "id": "ffa05d0c",
   "metadata": {},
   "outputs": [
    {
     "data": {
      "text/plain": [
       "['fname', 'looks', 'name', 'speak']"
      ]
     },
     "execution_count": 17,
     "metadata": {},
     "output_type": "execute_result"
    }
   ],
   "source": [
    "[i for i in dir(p1) if \"_\"not in i]"
   ]
  },
  {
   "cell_type": "code",
   "execution_count": 18,
   "id": "0753ca57",
   "metadata": {},
   "outputs": [
    {
     "data": {
      "text/plain": [
       "['age', 'fname', 'looks', 'name', 'speak']"
      ]
     },
     "execution_count": 18,
     "metadata": {},
     "output_type": "execute_result"
    }
   ],
   "source": [
    "[i for i in dir(c1) if \"_\"not in i]"
   ]
  },
  {
   "cell_type": "markdown",
   "id": "cde63d99",
   "metadata": {},
   "source": [
    "## 2) Polymorphisim\n",
    "* OverLoading ( same function call with different arguments in a same class)\n",
    "* OverRiding  ( same function call with different argumetns in a child class) "
   ]
  },
  {
   "cell_type": "code",
   "execution_count": 23,
   "id": "8ca78df9",
   "metadata": {},
   "outputs": [
    {
     "name": "stdout",
     "output_type": "stream",
     "text": [
      "5\n",
      "12.4\n"
     ]
    }
   ],
   "source": [
    "# OverLoading \n",
    "\n",
    "class OverLoading():\n",
    "    def __init__(self):\n",
    "        pass\n",
    "    def add_two_no(self,num1,num2):\n",
    "        return num1 + num2\n",
    "    \n",
    "o1=OverLoading()\n",
    "print(o1.add_two_no(2,3))\n",
    "print(o1.add_two_no(4,8.4))"
   ]
  },
  {
   "cell_type": "code",
   "execution_count": 27,
   "id": "fdb531ef",
   "metadata": {},
   "outputs": [
    {
     "data": {
      "text/plain": [
       "'I can speak Pakistna'"
      ]
     },
     "execution_count": 27,
     "metadata": {},
     "output_type": "execute_result"
    }
   ],
   "source": [
    "# OverRiding\n",
    "\n",
    "class OverRiding():\n",
    "    def __init__(self):\n",
    "        pass\n",
    "    def speak(self,words=\"Pakistna\"):\n",
    "        return f\"I can speak {words}\"\n",
    "o2=OverRiding()\n",
    "o2.speak()\n"
   ]
  },
  {
   "cell_type": "code",
   "execution_count": 30,
   "id": "142f3d0d",
   "metadata": {},
   "outputs": [
    {
     "name": "stdout",
     "output_type": "stream",
     "text": [
      "I love india\n"
     ]
    }
   ],
   "source": [
    "class Child(OverRiding):\n",
    "    def speak(self,words=\"india\"):\n",
    "        print(f\"I love {words}\")\n",
    "c1=Child()\n",
    "c1.speak()"
   ]
  },
  {
   "cell_type": "markdown",
   "id": "dbc2a8ec",
   "metadata": {},
   "source": [
    "## 3) Encapsulation"
   ]
  },
  {
   "cell_type": "markdown",
   "id": "1738a534",
   "metadata": {},
   "source": [
    "## 4) Abstraction"
   ]
  },
  {
   "cell_type": "code",
   "execution_count": null,
   "id": "dbe263bd",
   "metadata": {},
   "outputs": [],
   "source": []
  }
 ],
 "metadata": {
  "kernelspec": {
   "display_name": "Python 3 (ipykernel)",
   "language": "python",
   "name": "python3"
  },
  "language_info": {
   "codemirror_mode": {
    "name": "ipython",
    "version": 3
   },
   "file_extension": ".py",
   "mimetype": "text/x-python",
   "name": "python",
   "nbconvert_exporter": "python",
   "pygments_lexer": "ipython3",
   "version": "3.9.13"
  }
 },
 "nbformat": 4,
 "nbformat_minor": 5
}
