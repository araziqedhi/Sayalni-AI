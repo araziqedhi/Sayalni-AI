{
 "cells": [
  {
   "cell_type": "markdown",
   "id": "865be623",
   "metadata": {},
   "source": [
    "## Regular Expression"
   ]
  },
  {
   "cell_type": "code",
   "execution_count": 1,
   "id": "311644ea",
   "metadata": {},
   "outputs": [],
   "source": [
    "import re"
   ]
  },
  {
   "cell_type": "code",
   "execution_count": 8,
   "id": "e4575d7b",
   "metadata": {},
   "outputs": [
    {
     "data": {
      "text/plain": [
       "['P']"
      ]
     },
     "execution_count": 8,
     "metadata": {},
     "output_type": "execute_result"
    }
   ],
   "source": [
    "text = \"\"\"\n",
    "Pakistan Zindabad !\n",
    "\"\"\"\n",
    "\n",
    "re.findall(\"P\",text)"
   ]
  },
  {
   "cell_type": "code",
   "execution_count": 14,
   "id": "acb510cf",
   "metadata": {},
   "outputs": [
    {
     "name": "stdout",
     "output_type": "stream",
     "text": [
      "['ak']\n",
      "['ak', 'ad']\n",
      "['ak', 'ab']\n",
      "['ak']\n",
      "['ak', 'ab', 'ad']\n"
     ]
    }
   ],
   "source": [
    "print(re.findall(\"ak\",text))\n",
    "print(re.findall(\"a[kd]\",text))\n",
    "print(re.findall(\"a[kb]\",text))\n",
    "print(re.findall(\"a[kr]\",text))\n",
    "print(re.findall(\"a[kdb]\",text))"
   ]
  },
  {
   "cell_type": "code",
   "execution_count": 35,
   "id": "2edd473a",
   "metadata": {},
   "outputs": [
    {
     "name": "stdout",
     "output_type": "stream",
     "text": [
      "['aki', 'ani', 'aUi']\n",
      "['ivin', 'inin']\n",
      "['n Z']\n",
      "['akist']\n",
      "['ak', 'an', 'ab', 'ad', 'ar', 'ac', 'ay', 'an', 'as', 'ai', 'aa', 'aa', 'ab', 'a ']\n",
      "['akistan Zindabad !', 'arachi', 'aylani Mass IT Training ', 'aaaaUiHHHHH', 'abcd       a ']\n",
      "['aylan', 'ainin']\n",
      "['an Zin']\n",
      "['akistan']\n",
      "[]\n",
      "['akistan', 'aylan', 'ainin']\n",
      "['akistan']\n",
      "['akistan Zindabad !', 'arachi', 'aylani Mass IT Training ', 'aaaaUiHHHHH', 'abcd       a ']\n"
     ]
    }
   ],
   "source": [
    "text = \"\"\"\n",
    "Pakistan Zindabad !\n",
    "I'm living in Karachi\n",
    "Saylani Mass IT Training \n",
    "hello world aaaaUiHHHHH\n",
    "abcd       a \n",
    "i\n",
    "\"\"\"\n",
    "\n",
    "print(re.findall(\"a.i\",text))       # \".\" will not get \\n \n",
    "print(re.findall(\"i..n\",text))\n",
    "print(re.findall(\"n.Z\",text))\n",
    "print(re.findall(\"a...t\",text))\n",
    "print(re.findall(\"a.\",text))\n",
    "print(re.findall(\"a.+\",text))\n",
    "print(re.findall(\"a.{3}n\",text))\n",
    "print(re.findall(\"a.{4}n\",text))\n",
    "print(re.findall(\"a.{5}n\",text))\n",
    "print(re.findall(\"a.{6}n\",text))\n",
    "print(re.findall(\"a.{1,5}n\",text))\n",
    "print(re.findall(\"a.{4,5}n\",text)) \n",
    "print(re.findall(\"a.*\",text))        # It will perform the same work as of a.+"
   ]
  },
  {
   "cell_type": "code",
   "execution_count": 43,
   "id": "0abddf78",
   "metadata": {},
   "outputs": [
    {
     "name": "stdout",
     "output_type": "stream",
     "text": [
      "['ai1', 'ai1', 'ai4', 'ai2']\n",
      "['ai19284', 'ai19345', 'ai43944', 'ai2']\n",
      "['ai19284', 'ai19345', 'ai43944', 'ai', 'ai2', 'ai']\n",
      "['ai192', 'ai193', 'ai439']\n"
     ]
    }
   ],
   "source": [
    "text = \"\"\"\n",
    "Pakistan Zindabad !\n",
    "ai19284\n",
    "ai19345\n",
    "ai43944\n",
    "aimdd\n",
    "ai2\n",
    "ai\n",
    "\"\"\"\n",
    "\n",
    "print(re.findall(\"ai[0-9]\",text))\n",
    "print(re.findall(\"ai[0-9]+\",text))  # It is one to many \n",
    "print(re.findall(\"ai[0-9]*\",text))  # It is zero to many\n",
    "print(re.findall(\"ai[0-9]{2,3}\",text))"
   ]
  },
  {
   "cell_type": "code",
   "execution_count": 57,
   "id": "dd9847cc",
   "metadata": {},
   "outputs": [
    {
     "name": "stdout",
     "output_type": "stream",
     "text": [
      "['a', 'a', 'aba', 'a', 'ac', 'a', 'a', 'a', 'a', 'aaaa', 'abc', 'a']\n",
      "['aba', 'ac', 'aaaa', 'abc']\n",
      "['a', 'k', 'i', 's', 't', 'a', 'n', 'i', 'n', 'd', 'a', 'b', 'a', 'd', 'm', 'l', 'i', 'v', 'i', 'n', 'g', 'i', 'n', 'a', 'r', 'a', 'c', 'h', 'i', 'a', 'y', 'l', 'a', 'n', 'i', 'a', 's', 's', 'r', 'a', 'i', 'n', 'i', 'n', 'g', 'h', 'e', 'l', 'l', 'o', 'w', 'o', 'r', 'l', 'd', 'a', 'a', 'a', 'a', 'i', 'a', 'b', 'c', 'd', 'a', 'i']\n",
      "['P', 'Z', 'I', 'K', 'S', 'M', 'I', 'T', 'T', 'U', 'H', 'H', 'H', 'H', 'H']\n",
      "['P', 'a', 'k', 'i', 's', 't', 'a', 'n', 'Z', 'i', 'n', 'd', 'a', 'b', 'a', 'd', 'I', 'm', 'l', 'i', 'v', 'i', 'n', 'g', 'i', 'n', 'K', 'a', 'r', 'a', 'c', 'h', 'i', 'S', 'a', 'y', 'l', 'a', 'n', 'i', 'M', 'a', 's', 's', 'I', 'T', 'T', 'r', 'a', 'i', 'n', 'i', 'n', 'g', 'h', 'e', 'l', 'l', 'o', 'w', 'o', 'r', 'l', 'd', 'a', 'a', 'a', 'a', 'U', 'i', 'H', 'H', 'H', 'H', 'H', 'a', 'b', 'c', 'd', 'a', 'i']\n",
      "[]\n"
     ]
    }
   ],
   "source": [
    "text = \"\"\"\n",
    "Pakistan Zindabad !\n",
    "I'm living in Karachi\n",
    "Saylani Mass IT Training \n",
    "hello world aaaaUiHHHHH\n",
    "abcd       a \n",
    "i\n",
    "\"\"\"\n",
    "\n",
    "print(re.findall('[a-c]+',text))\n",
    "print(re.findall('[a-c]{2,5}',text))\n",
    "print(re.findall(\"[a-z]\",text))\n",
    "print(re.findall(\"[A-Z]\",text))\n",
    "print(re.findall(\"[A-z]\",text))\n",
    "print(re.findall('[a-c]-',text))\n",
    "\n"
   ]
  },
  {
   "cell_type": "code",
   "execution_count": 70,
   "id": "e49bb3d8",
   "metadata": {},
   "outputs": [
    {
     "name": "stdout",
     "output_type": "stream",
     "text": [
      "['0315-4538949', '03459443994', '923230203601', '00923230203501', '03230203601']\n"
     ]
    }
   ],
   "source": [
    "text = \"\"\"\n",
    "0315-4538949\n",
    "03459443994\n",
    "+923230203601\n",
    "00923230203501\n",
    "my zong no is 03230203601\n",
    "\"\"\"\n",
    "\n",
    "re.findall(\"^[0-9].+[0-9]$\",text,re.MULTILINE)\n",
    "re.findall('^\\d.+\\d$',text,re.MULTILINE)\n",
    "\n",
    "print(re.findall(r'\\b\\+?\\d{4,7}-?\\d{7}',text))"
   ]
  },
  {
   "cell_type": "code",
   "execution_count": 74,
   "id": "c18332ec",
   "metadata": {},
   "outputs": [
    {
     "data": {
      "text/plain": [
       "['Pakistan']"
      ]
     },
     "execution_count": 74,
     "metadata": {},
     "output_type": "execute_result"
    }
   ],
   "source": [
    "text = \" Pakistan zinda bad. we are pakistani \"\n",
    "re.findall(r\"\\b[Pa][a-z]*n\\b\",text)"
   ]
  },
  {
   "cell_type": "code",
   "execution_count": null,
   "id": "7a0b7ac9",
   "metadata": {},
   "outputs": [],
   "source": []
  },
  {
   "cell_type": "markdown",
   "id": "c39391da",
   "metadata": {},
   "source": [
    "## Apply some real world data"
   ]
  },
  {
   "cell_type": "code",
   "execution_count": 58,
   "id": "ca08b5dc",
   "metadata": {},
   "outputs": [],
   "source": [
    "x = \"\"\"\n",
    "05:40 From Ali Asar To Everyone : PIAIC-187258\n",
    "12:05:41 From Hasnain Munir To Everyone : PIAIC-187272\n",
    "12:05:44 From Shaheer Baig To Everyone : PIAIC-169519\n",
    "12:05:45 From Humera Naz To Everyone : PIAIC-173431\n",
    "12:05:47 From Sadia Anwar To Everyone : PIAIC-180028\n",
    "12:05:47 From Muhammad Mehroz To Everyone : PIAIC-131496\n",
    "12:05:47 From Home To Everyone : PIAIC-172998\n",
    "12:05:47 From Muhammad Sadullah = PIAIC-178950 To Everyone : PIAIC-178950\n",
    "12:05:48 From Muhammad Uzair-177637 To Everyone : PIAIC-177637\n",
    "12:05:48 From Taqwa Khaliq To Everyone : PIAIC-173701 TAQWA KHALIQ\n",
    "12:05:48 From asghar ibraheem CNC-012105 To Everyone : CNC-012105\n",
    "12:05:49 From Faisal Bashir-177802 To Everyone : PIAIC-177802\n",
    "12:05:50 From Talha Munir Rana To Everyone : PIAIC-173761\n",
    "12:05:52 From Abdul Qadar To Everyone : PIAIC-172941\n",
    "12:05:57 From Dr. Bhagwan Das To Everyone : PIAIC-96879\n",
    "12:05:57 From Uzair Ullah (PIAIC169405) To Everyone : PIAIC-169405\n",
    "12:06:00 From Arshad To Everyone : PIAIC168092\n",
    "12:06:01 From PIAIC188523 Subhan Ahmed To Everyone : PIAIC188523\n",
    "12:06:04 From Taqwa Khaliq To Everyone : PIAIC 173701\n",
    "12:06:10 From Ali Asar To Everyone : PIAIC-188720\n",
    "12:06:23 From Mohammad Javed To Everyone : WhatsApp number?\n",
    "12:06:28 From Gulshan Ali To Everyone : PIAIC-176719\n",
    "12:06:29 From M Ali Asif Khan - PIAIC-57947 To Everyone : PIAIC-57947\n",
    "12:06:33 From Usman Noor PIAIC-188401 To Everyone : PIAIC-188401\n",
    "12:06:46 From Zia (piaic121514) To Everyone : thanks\n",
    "12:06:49 From Sohaib Baseer Ahmad To Everyone : PIAIC67260\n",
    "\"\"\"\n",
    "\n"
   ]
  },
  {
   "cell_type": "code",
   "execution_count": 80,
   "id": "5d99d18c",
   "metadata": {},
   "outputs": [
    {
     "name": "stdout",
     "output_type": "stream",
     "text": [
      "[('Ali Asar', 'PIAIC-187258'), ('Hasnain Munir', 'PIAIC-187272'), ('Shaheer Baig', 'PIAIC-169519'), ('Humera Naz', 'PIAIC-173431'), ('Sadia Anwar', 'PIAIC-180028'), ('Muhammad Mehroz', 'PIAIC-131496'), ('Home', 'PIAIC-172998'), ('Muhammad Sadullah = PIAIC-178950', 'PIAIC-178950'), ('Muhammad Uzair-177637', 'PIAIC-177637'), ('Taqwa Khaliq', 'PIAIC-173701'), ('Faisal Bashir-177802', 'PIAIC-177802'), ('Talha Munir Rana', 'PIAIC-173761'), ('Abdul Qadar', 'PIAIC-172941'), ('Dr. Bhagwan Das', 'PIAIC-96879'), ('Uzair Ullah (PIAIC169405)', 'PIAIC-169405'), ('Arshad', 'PIAIC168092'), ('PIAIC188523 Subhan Ahmed', 'PIAIC188523'), ('Ali Asar', 'PIAIC-188720'), ('Gulshan Ali', 'PIAIC-176719'), ('M Ali Asif Khan - PIAIC-57947', 'PIAIC-57947'), ('Usman Noor PIAIC-188401', 'PIAIC-188401'), ('Sohaib Baseer Ahmad', 'PIAIC67260')]\n"
     ]
    }
   ],
   "source": [
    "pattern =r\" From (.+) To Everyone : (PIAIC-?\\d{5,6})\"\n",
    "print(re.findall(pattern,x))\n"
   ]
  },
  {
   "cell_type": "code",
   "execution_count": null,
   "id": "000f3bed",
   "metadata": {},
   "outputs": [],
   "source": []
  }
 ],
 "metadata": {
  "kernelspec": {
   "display_name": "Python 3 (ipykernel)",
   "language": "python",
   "name": "python3"
  },
  "language_info": {
   "codemirror_mode": {
    "name": "ipython",
    "version": 3
   },
   "file_extension": ".py",
   "mimetype": "text/x-python",
   "name": "python",
   "nbconvert_exporter": "python",
   "pygments_lexer": "ipython3",
   "version": "3.9.13"
  }
 },
 "nbformat": 4,
 "nbformat_minor": 5
}
