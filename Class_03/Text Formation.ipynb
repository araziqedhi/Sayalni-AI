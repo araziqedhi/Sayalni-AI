{
 "cells": [
  {
   "cell_type": "markdown",
   "id": "fa1a4d19",
   "metadata": {},
   "source": [
    "## Text Formation/ Formatting / Concatination\n"
   ]
  },
  {
   "cell_type": "markdown",
   "id": "fafccef1",
   "metadata": {},
   "source": [
    "## 1) Concatination"
   ]
  },
  {
   "cell_type": "code",
   "execution_count": 1,
   "id": "ea919b1e",
   "metadata": {},
   "outputs": [
    {
     "name": "stdout",
     "output_type": "stream",
     "text": [
      "Instituition name:NED\n",
      "Student Full Name: Abdul Raziq\n"
     ]
    }
   ],
   "source": [
    "#concatination By using +\n",
    "\n",
    "first_name= \"Abdul\"\n",
    "last_name=\"Raziq\"\n",
    "instituition_name=\"NED\"\n",
    "card = \"Instituition name:\" + instituition_name + \"\\nStudent Full Name: \" + first_name+ \" \" + last_name \n",
    "print(card)"
   ]
  },
  {
   "cell_type": "code",
   "execution_count": 2,
   "id": "850558a9",
   "metadata": {},
   "outputs": [
    {
     "name": "stdout",
     "output_type": "stream",
     "text": [
      "Instituition name:NED\n",
      "Student Full Name: Abdul Raziq\n",
      "Your Age: 30\n"
     ]
    }
   ],
   "source": [
    "#typecasting\n",
    "\n",
    "first_name= \"Abdul\"\n",
    "last_name=\"Raziq\"\n",
    "instituition_name=\"NED\"\n",
    "age =30 \n",
    "age=str(age)\n",
    "card = \"Instituition name:\" + instituition_name + \"\\nStudent Full Name: \" + first_name+ \" \" + last_name + \"\\nYour Age: \" +age\n",
    "print(card)"
   ]
  },
  {
   "cell_type": "code",
   "execution_count": 3,
   "id": "d63851ae",
   "metadata": {},
   "outputs": [
    {
     "name": "stdout",
     "output_type": "stream",
     "text": [
      "Instituion name :NED\n",
      "Student Full name : Abdul Raziq\n",
      "Age: 30 \n",
      "\n"
     ]
    }
   ],
   "source": [
    "# Concatination by Function_name.format(v1,v2,....)\n",
    "\n",
    "first_name= \"Abdul\"\n",
    "last_name=\"Raziq\"\n",
    "instituition_name=\"NED\"\n",
    "age =30 \n",
    "card = '''Instituion name :{}\n",
    "Student Full name : {} {}\n",
    "Age: {} \n",
    "''' .format(instituition_name,first_name,last_name,age)\n",
    "print(card)"
   ]
  },
  {
   "cell_type": "code",
   "execution_count": 4,
   "id": "939739d1",
   "metadata": {},
   "outputs": [
    {
     "name": "stdout",
     "output_type": "stream",
     "text": [
      "Instituion name :NED     \n",
      "Student Full name : Abdul Raziq\n",
      "Age: 30 \n",
      "\n"
     ]
    }
   ],
   "source": [
    "# Concatination by f' Text:{var_name}'\n",
    "\n",
    "first_name= \"Abdul\"\n",
    "last_name=\"Raziq\"\n",
    "instituition_name=\"NED\"\n",
    "age =30 # card structure must have triple inverted commas\n",
    "card = card = f'''Instituion name :{instituition_name}     \n",
    "Student Full name : {first_name} {last_name}\n",
    "Age: {age} \n",
    "'''\n",
    "print(card)"
   ]
  },
  {
   "cell_type": "code",
   "execution_count": 8,
   "id": "b9a387b6",
   "metadata": {},
   "outputs": [
    {
     "data": {
      "text/plain": [
       "['__add__',\n",
       " '__class__',\n",
       " '__contains__',\n",
       " '__delattr__',\n",
       " '__dir__',\n",
       " '__doc__',\n",
       " '__eq__',\n",
       " '__format__',\n",
       " '__ge__',\n",
       " '__getattribute__',\n",
       " '__getitem__',\n",
       " '__getnewargs__',\n",
       " '__gt__',\n",
       " '__hash__',\n",
       " '__init__',\n",
       " '__init_subclass__',\n",
       " '__iter__',\n",
       " '__le__',\n",
       " '__len__',\n",
       " '__lt__',\n",
       " '__mod__',\n",
       " '__mul__',\n",
       " '__ne__',\n",
       " '__new__',\n",
       " '__reduce__',\n",
       " '__reduce_ex__',\n",
       " '__repr__',\n",
       " '__rmod__',\n",
       " '__rmul__',\n",
       " '__setattr__',\n",
       " '__sizeof__',\n",
       " '__str__',\n",
       " '__subclasshook__',\n",
       " 'capitalize',\n",
       " 'casefold',\n",
       " 'center',\n",
       " 'count',\n",
       " 'encode',\n",
       " 'endswith',\n",
       " 'expandtabs',\n",
       " 'find',\n",
       " 'format',\n",
       " 'format_map',\n",
       " 'index',\n",
       " 'isalnum',\n",
       " 'isalpha',\n",
       " 'isascii',\n",
       " 'isdecimal',\n",
       " 'isdigit',\n",
       " 'isidentifier',\n",
       " 'islower',\n",
       " 'isnumeric',\n",
       " 'isprintable',\n",
       " 'isspace',\n",
       " 'istitle',\n",
       " 'isupper',\n",
       " 'join',\n",
       " 'ljust',\n",
       " 'lower',\n",
       " 'lstrip',\n",
       " 'maketrans',\n",
       " 'partition',\n",
       " 'removeprefix',\n",
       " 'removesuffix',\n",
       " 'replace',\n",
       " 'rfind',\n",
       " 'rindex',\n",
       " 'rjust',\n",
       " 'rpartition',\n",
       " 'rsplit',\n",
       " 'rstrip',\n",
       " 'split',\n",
       " 'splitlines',\n",
       " 'startswith',\n",
       " 'strip',\n",
       " 'swapcase',\n",
       " 'title',\n",
       " 'translate',\n",
       " 'upper',\n",
       " 'zfill']"
      ]
     },
     "execution_count": 8,
     "metadata": {},
     "output_type": "execute_result"
    }
   ],
   "source": [
    "dir(card)"
   ]
  },
  {
   "cell_type": "code",
   "execution_count": 13,
   "id": "8744e4df",
   "metadata": {},
   "outputs": [
    {
     "name": "stdout",
     "output_type": "stream",
     "text": [
      "instituion name :ned     \n",
      "student full name : abdul raziq\n",
      "age: 30 \n",
      "\n"
     ]
    }
   ],
   "source": [
    "print(card.casefold()) # inline\n"
   ]
  },
  {
   "cell_type": "code",
   "execution_count": 14,
   "id": "b909acb7",
   "metadata": {},
   "outputs": [
    {
     "name": "stdout",
     "output_type": "stream",
     "text": [
      "Instituion name :NED     \n",
      "Student Full name : Abdul Raziq\n",
      "Age: 30 \n",
      "\n"
     ]
    }
   ],
   "source": [
    "print(card)"
   ]
  },
  {
   "cell_type": "code",
   "execution_count": 18,
   "id": "2a091718",
   "metadata": {},
   "outputs": [
    {
     "data": {
      "text/plain": [
       "1"
      ]
     },
     "execution_count": 18,
     "metadata": {},
     "output_type": "execute_result"
    }
   ],
   "source": [
    "card.count(\"Raziq\")"
   ]
  },
  {
   "cell_type": "code",
   "execution_count": 25,
   "id": "18d212a2",
   "metadata": {},
   "outputs": [
    {
     "name": "stdout",
     "output_type": "stream",
     "text": [
      "Instituion name :NED     \n",
      "Student Full name : Abdul Raziq\n",
      "Age: 30 \n",
      "\n"
     ]
    },
    {
     "data": {
      "text/plain": [
       "1"
      ]
     },
     "execution_count": 25,
     "metadata": {},
     "output_type": "execute_result"
    }
   ],
   "source": [
    "print(card)\n",
    "card.casefold().count('raziq')"
   ]
  },
  {
   "cell_type": "code",
   "execution_count": 30,
   "id": "57a0d975",
   "metadata": {},
   "outputs": [
    {
     "data": {
      "text/plain": [
       "b'Instituion name :NED     \\nStudent Full name : Abdul Raziq\\nAge: 30 \\n'"
      ]
     },
     "execution_count": 30,
     "metadata": {},
     "output_type": "execute_result"
    }
   ],
   "source": [
    "card.encode()"
   ]
  },
  {
   "cell_type": "markdown",
   "id": "e6c93fcd",
   "metadata": {},
   "source": [
    "## Return and Non Return Functions  "
   ]
  },
  {
   "cell_type": "code",
   "execution_count": 5,
   "id": "de604b7d",
   "metadata": {},
   "outputs": [
    {
     "name": "stdout",
     "output_type": "stream",
     "text": [
      "Qasim\n",
      "None\n",
      "None\n"
     ]
    }
   ],
   "source": [
    "a = print (\"Qasim\") # Non Return Function\n",
    "print(a)\n",
    "print(a)"
   ]
  },
  {
   "cell_type": "code",
   "execution_count": 6,
   "id": "c8fa6a80",
   "metadata": {},
   "outputs": [
    {
     "name": "stdout",
     "output_type": "stream",
     "text": [
      "5\n",
      "5\n"
     ]
    }
   ],
   "source": [
    "a =len(\"Qasim\") #Return Function\n",
    "print(a)\n",
    "print(a)"
   ]
  },
  {
   "cell_type": "markdown",
   "id": "7fcdff4d",
   "metadata": {},
   "source": [
    "## Assignment \n"
   ]
  },
  {
   "cell_type": "code",
   "execution_count": 31,
   "id": "0caececa",
   "metadata": {},
   "outputs": [],
   "source": [
    "## apply card variable dir and apply 46 methods on the card "
   ]
  },
  {
   "cell_type": "code",
   "execution_count": 32,
   "id": "f2df05be",
   "metadata": {},
   "outputs": [],
   "source": [
    "## Make dynamic Saylani Card"
   ]
  },
  {
   "cell_type": "code",
   "execution_count": null,
   "id": "801a52d6",
   "metadata": {},
   "outputs": [],
   "source": []
  }
 ],
 "metadata": {
  "kernelspec": {
   "display_name": "Python 3 (ipykernel)",
   "language": "python",
   "name": "python3"
  },
  "language_info": {
   "codemirror_mode": {
    "name": "ipython",
    "version": 3
   },
   "file_extension": ".py",
   "mimetype": "text/x-python",
   "name": "python",
   "nbconvert_exporter": "python",
   "pygments_lexer": "ipython3",
   "version": "3.9.13"
  }
 },
 "nbformat": 4,
 "nbformat_minor": 5
}
