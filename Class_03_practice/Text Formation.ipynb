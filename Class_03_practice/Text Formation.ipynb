{
 "cells": [
  {
   "cell_type": "markdown",
   "id": "7c2b96d2",
   "metadata": {},
   "source": [
    "## Text Formation\n"
   ]
  },
  {
   "cell_type": "code",
   "execution_count": 1,
   "id": "2e00e3c9",
   "metadata": {},
   "outputs": [
    {
     "name": "stdout",
     "output_type": "stream",
     "text": [
      "Your name is: Abdul RaziqBarkat Ali \n",
      "Your age is: 30\n",
      "Your instituition name is: Ned\n"
     ]
    }
   ],
   "source": [
    "first_name = \"Abdul Raziq\"\n",
    "Last_name= \"Barkat Ali \"\n",
    "age=str(30)\n",
    "school=\"Ned\"\n",
    "card = \"Your name is: \"+first_name + Last_name + \"\\nYour age is: \" + age + \"\\nYour instituition name is: \" + school\n",
    "print(card)"
   ]
  },
  {
   "cell_type": "code",
   "execution_count": 2,
   "id": "050f0bf6",
   "metadata": {},
   "outputs": [
    {
     "name": "stdout",
     "output_type": "stream",
     "text": [
      "Your name is Abdul Raziq Barkat Ali \n",
      "Your age is 30\n",
      "Your instituition name is Ned\n"
     ]
    }
   ],
   "source": [
    "first_name = \"Abdul Raziq\"\n",
    "Last_name= \"Barkat Ali \"\n",
    "age=30\n",
    "school=\"Ned\"\n",
    "card = f'Your name is {first_name} {Last_name}\\nYour age is {age}\\nYour instituition name is {school}'\n",
    "print(card)"
   ]
  },
  {
   "cell_type": "code",
   "execution_count": 3,
   "id": "5bafdd7d",
   "metadata": {},
   "outputs": [
    {
     "data": {
      "text/plain": [
       "['__add__',\n",
       " '__class__',\n",
       " '__contains__',\n",
       " '__delattr__',\n",
       " '__dir__',\n",
       " '__doc__',\n",
       " '__eq__',\n",
       " '__format__',\n",
       " '__ge__',\n",
       " '__getattribute__',\n",
       " '__getitem__',\n",
       " '__getnewargs__',\n",
       " '__gt__',\n",
       " '__hash__',\n",
       " '__init__',\n",
       " '__init_subclass__',\n",
       " '__iter__',\n",
       " '__le__',\n",
       " '__len__',\n",
       " '__lt__',\n",
       " '__mod__',\n",
       " '__mul__',\n",
       " '__ne__',\n",
       " '__new__',\n",
       " '__reduce__',\n",
       " '__reduce_ex__',\n",
       " '__repr__',\n",
       " '__rmod__',\n",
       " '__rmul__',\n",
       " '__setattr__',\n",
       " '__sizeof__',\n",
       " '__str__',\n",
       " '__subclasshook__',\n",
       " 'capitalize',\n",
       " 'casefold',\n",
       " 'center',\n",
       " 'count',\n",
       " 'encode',\n",
       " 'endswith',\n",
       " 'expandtabs',\n",
       " 'find',\n",
       " 'format',\n",
       " 'format_map',\n",
       " 'index',\n",
       " 'isalnum',\n",
       " 'isalpha',\n",
       " 'isascii',\n",
       " 'isdecimal',\n",
       " 'isdigit',\n",
       " 'isidentifier',\n",
       " 'islower',\n",
       " 'isnumeric',\n",
       " 'isprintable',\n",
       " 'isspace',\n",
       " 'istitle',\n",
       " 'isupper',\n",
       " 'join',\n",
       " 'ljust',\n",
       " 'lower',\n",
       " 'lstrip',\n",
       " 'maketrans',\n",
       " 'partition',\n",
       " 'removeprefix',\n",
       " 'removesuffix',\n",
       " 'replace',\n",
       " 'rfind',\n",
       " 'rindex',\n",
       " 'rjust',\n",
       " 'rpartition',\n",
       " 'rsplit',\n",
       " 'rstrip',\n",
       " 'split',\n",
       " 'splitlines',\n",
       " 'startswith',\n",
       " 'strip',\n",
       " 'swapcase',\n",
       " 'title',\n",
       " 'translate',\n",
       " 'upper',\n",
       " 'zfill']"
      ]
     },
     "execution_count": 3,
     "metadata": {},
     "output_type": "execute_result"
    }
   ],
   "source": [
    "dir(card)"
   ]
  },
  {
   "cell_type": "code",
   "execution_count": 4,
   "id": "5689fb40",
   "metadata": {},
   "outputs": [
    {
     "name": "stdout",
     "output_type": "stream",
     "text": [
      "0 capitalize\n",
      "1 casefold\n",
      "2 center\n",
      "3 count\n",
      "4 encode\n",
      "5 endswith\n",
      "6 expandtabs\n",
      "7 find\n",
      "8 format\n",
      "9 index\n",
      "10 isalnum\n",
      "11 isalpha\n",
      "12 isascii\n",
      "13 isdecimal\n",
      "14 isdigit\n",
      "15 isidentifier\n",
      "16 islower\n",
      "17 isnumeric\n",
      "18 isprintable\n",
      "19 isspace\n",
      "20 istitle\n",
      "21 isupper\n",
      "22 join\n",
      "23 ljust\n",
      "24 lower\n",
      "25 lstrip\n",
      "26 maketrans\n",
      "27 partition\n",
      "28 removeprefix\n",
      "29 removesuffix\n",
      "30 replace\n",
      "31 rfind\n",
      "32 rindex\n",
      "33 rjust\n",
      "34 rpartition\n",
      "35 rsplit\n",
      "36 rstrip\n",
      "37 split\n",
      "38 splitlines\n",
      "39 startswith\n",
      "40 strip\n",
      "41 swapcase\n",
      "42 title\n",
      "43 translate\n",
      "44 upper\n",
      "45 zfill\n"
     ]
    }
   ],
   "source": [
    "for  idx, i in enumerate([i for i in dir(card) if \"_\" not in i]):\n",
    "    print(idx,i)\n",
    "    "
   ]
  },
  {
   "cell_type": "markdown",
   "id": "e8dcbe5a",
   "metadata": {},
   "source": [
    "## Q1) Make Dynamic Saylani Card"
   ]
  },
  {
   "cell_type": "code",
   "execution_count": 5,
   "id": "14336927",
   "metadata": {},
   "outputs": [
    {
     "name": "stdout",
     "output_type": "stream",
     "text": [
      "Enter Your name: Abdul Raziq\n",
      "Enter Your father name: Barkat ali\n",
      "Enter Your Cnic Number:42101\n",
      "Enter your course name :AI\n",
      "student Name:Abdul Raziq\n",
      "Father Name : Barkat ali\n",
      "CNIC No: 42101\n",
      "Course Name AI\n"
     ]
    }
   ],
   "source": [
    "\n",
    "Student_first_name= input(\"Enter Your name: \") \n",
    "Father_name= input (\"Enter Your father name: \")\n",
    "CNIC_No = int(input(\"Enter Your Cnic Number:\"))\n",
    "Course_name = input(\"Enter your course name :\")\n",
    "card = f'student Name:{Student_first_name}\\nFather Name : {Father_name}\\nCNIC No: {CNIC_No}\\nCourse Name {Course_name}'\n",
    "print(card)"
   ]
  },
  {
   "cell_type": "code",
   "execution_count": 6,
   "id": "8aafd6df",
   "metadata": {},
   "outputs": [
    {
     "name": "stdout",
     "output_type": "stream",
     "text": [
      "Student name:abdul raziq\n",
      "father name : barkat ali\n",
      "cnic no: 42101\n",
      "course name ai\n"
     ]
    }
   ],
   "source": [
    "import copy\n",
    "card2 = copy.copy(card)\n",
    "card2=card2.upper()\n",
    "card2=card2.capitalize()\n",
    "\n",
    "print(card2)"
   ]
  },
  {
   "cell_type": "code",
   "execution_count": null,
   "id": "089e7daf",
   "metadata": {},
   "outputs": [],
   "source": []
  },
  {
   "cell_type": "code",
   "execution_count": null,
   "id": "702acacf",
   "metadata": {},
   "outputs": [],
   "source": []
  }
 ],
 "metadata": {
  "kernelspec": {
   "display_name": "Python 3 (ipykernel)",
   "language": "python",
   "name": "python3"
  },
  "language_info": {
   "codemirror_mode": {
    "name": "ipython",
    "version": 3
   },
   "file_extension": ".py",
   "mimetype": "text/x-python",
   "name": "python",
   "nbconvert_exporter": "python",
   "pygments_lexer": "ipython3",
   "version": "3.9.13"
  }
 },
 "nbformat": 4,
 "nbformat_minor": 5
}
