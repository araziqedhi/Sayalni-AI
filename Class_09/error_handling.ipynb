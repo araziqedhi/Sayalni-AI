{
 "cells": [
  {
   "cell_type": "markdown",
   "id": "d1cc083a",
   "metadata": {},
   "source": [
    "## Error Handling\n",
    "* Logical Error \n",
    "         * Solution Testing \n",
    "         * manual Check line by line \n",
    "* Development Time Error\n",
    "    * Syntax\n",
    "    * Expression Error \n",
    "         * IDE Intellisence \n",
    "* Run Time Error \n",
    "    * When your application running during production \n",
    "    * excertion handling\n",
    "         * except \n",
    "         * try\n",
    "         * else\n",
    "         * finally"
   ]
  },
  {
   "cell_type": "code",
   "execution_count": 1,
   "id": "9d3b9c00",
   "metadata": {},
   "outputs": [
    {
     "name": "stdout",
     "output_type": "stream",
     "text": [
      "line1\n",
      "line2\n",
      "0.6666666666666666\n",
      "line3\n",
      "line4\n"
     ]
    }
   ],
   "source": [
    "print(\"line1\")\n",
    "print(\"line2\")\n",
    "\n",
    "print(2/3)\n",
    "print(\"line3\")\n",
    "print(\"line4\")"
   ]
  },
  {
   "cell_type": "code",
   "execution_count": 2,
   "id": "e1445c7d",
   "metadata": {},
   "outputs": [
    {
     "name": "stdout",
     "output_type": "stream",
     "text": [
      "line1\n",
      "line2\n"
     ]
    },
    {
     "ename": "ZeroDivisionError",
     "evalue": "division by zero",
     "output_type": "error",
     "traceback": [
      "\u001b[1;31m---------------------------------------------------------------------------\u001b[0m",
      "\u001b[1;31mZeroDivisionError\u001b[0m                         Traceback (most recent call last)",
      "\u001b[1;32m~\\AppData\\Local\\Temp\\ipykernel_14448\\1695014036.py\u001b[0m in \u001b[0;36m<module>\u001b[1;34m\u001b[0m\n\u001b[0;32m      2\u001b[0m \u001b[0mprint\u001b[0m\u001b[1;33m(\u001b[0m\u001b[1;34m\"line2\"\u001b[0m\u001b[1;33m)\u001b[0m\u001b[1;33m\u001b[0m\u001b[1;33m\u001b[0m\u001b[0m\n\u001b[0;32m      3\u001b[0m \u001b[1;33m\u001b[0m\u001b[0m\n\u001b[1;32m----> 4\u001b[1;33m \u001b[0mprint\u001b[0m\u001b[1;33m(\u001b[0m\u001b[1;36m2\u001b[0m\u001b[1;33m/\u001b[0m\u001b[1;36m0\u001b[0m\u001b[1;33m)\u001b[0m\u001b[1;33m\u001b[0m\u001b[1;33m\u001b[0m\u001b[0m\n\u001b[0m\u001b[0;32m      5\u001b[0m \u001b[0mprint\u001b[0m\u001b[1;33m(\u001b[0m\u001b[1;34m\"line3\"\u001b[0m\u001b[1;33m)\u001b[0m\u001b[1;33m\u001b[0m\u001b[1;33m\u001b[0m\u001b[0m\n\u001b[0;32m      6\u001b[0m \u001b[0mprint\u001b[0m\u001b[1;33m(\u001b[0m\u001b[1;34m\"line4\"\u001b[0m\u001b[1;33m)\u001b[0m\u001b[1;33m\u001b[0m\u001b[1;33m\u001b[0m\u001b[0m\n",
      "\u001b[1;31mZeroDivisionError\u001b[0m: division by zero"
     ]
    }
   ],
   "source": [
    "print(\"line1\")\n",
    "print(\"line2\")\n",
    "\n",
    "print(2/0)  \n",
    "\n",
    "print(\"line3\")\n",
    "print(\"line4\")"
   ]
  },
  {
   "cell_type": "code",
   "execution_count": 3,
   "id": "ae018bd8",
   "metadata": {},
   "outputs": [
    {
     "name": "stdout",
     "output_type": "stream",
     "text": [
      "line1\n",
      "line2\n"
     ]
    },
    {
     "ename": "IndexError",
     "evalue": "list index out of range",
     "output_type": "error",
     "traceback": [
      "\u001b[1;31m---------------------------------------------------------------------------\u001b[0m",
      "\u001b[1;31mIndexError\u001b[0m                                Traceback (most recent call last)",
      "\u001b[1;32m~\\AppData\\Local\\Temp\\ipykernel_14448\\1751282769.py\u001b[0m in \u001b[0;36m<module>\u001b[1;34m\u001b[0m\n\u001b[0;32m      2\u001b[0m \u001b[0mprint\u001b[0m\u001b[1;33m(\u001b[0m\u001b[1;34m\"line2\"\u001b[0m\u001b[1;33m)\u001b[0m\u001b[1;33m\u001b[0m\u001b[1;33m\u001b[0m\u001b[0m\n\u001b[0;32m      3\u001b[0m \u001b[0ml\u001b[0m\u001b[1;33m=\u001b[0m\u001b[1;33m[\u001b[0m\u001b[1;36m1\u001b[0m\u001b[1;33m,\u001b[0m\u001b[1;36m2\u001b[0m\u001b[1;33m,\u001b[0m\u001b[1;36m3\u001b[0m\u001b[1;33m]\u001b[0m\u001b[1;33m\u001b[0m\u001b[1;33m\u001b[0m\u001b[0m\n\u001b[1;32m----> 4\u001b[1;33m \u001b[0mprint\u001b[0m\u001b[1;33m(\u001b[0m\u001b[0ml\u001b[0m\u001b[1;33m[\u001b[0m\u001b[1;36m7\u001b[0m\u001b[1;33m]\u001b[0m\u001b[1;33m)\u001b[0m\u001b[1;33m\u001b[0m\u001b[1;33m\u001b[0m\u001b[0m\n\u001b[0m\u001b[0;32m      5\u001b[0m \u001b[1;33m\u001b[0m\u001b[0m\n\u001b[0;32m      6\u001b[0m \u001b[0mprint\u001b[0m\u001b[1;33m(\u001b[0m\u001b[1;34m\"line3\"\u001b[0m\u001b[1;33m)\u001b[0m\u001b[1;33m\u001b[0m\u001b[1;33m\u001b[0m\u001b[0m\n",
      "\u001b[1;31mIndexError\u001b[0m: list index out of range"
     ]
    }
   ],
   "source": [
    "print(\"line1\")\n",
    "print(\"line2\")\n",
    "l=[1,2,3]\n",
    "print(l[7])  \n",
    "\n",
    "print(\"line3\")\n",
    "print(\"line4\")"
   ]
  },
  {
   "cell_type": "code",
   "execution_count": 7,
   "id": "5c094d2a",
   "metadata": {},
   "outputs": [
    {
     "name": "stdout",
     "output_type": "stream",
     "text": [
      "line1\n",
      "line2\n"
     ]
    },
    {
     "ename": "NameError",
     "evalue": "name 'educatin' is not defined",
     "output_type": "error",
     "traceback": [
      "\u001b[1;31m---------------------------------------------------------------------------\u001b[0m",
      "\u001b[1;31mNameError\u001b[0m                                 Traceback (most recent call last)",
      "\u001b[1;32m~\\AppData\\Local\\Temp\\ipykernel_14448\\3287419974.py\u001b[0m in \u001b[0;36m<module>\u001b[1;34m\u001b[0m\n\u001b[0;32m      2\u001b[0m \u001b[0mprint\u001b[0m\u001b[1;33m(\u001b[0m\u001b[1;34m\"line2\"\u001b[0m\u001b[1;33m)\u001b[0m\u001b[1;33m\u001b[0m\u001b[1;33m\u001b[0m\u001b[0m\n\u001b[0;32m      3\u001b[0m \u001b[0mdic\u001b[0m \u001b[1;33m=\u001b[0m \u001b[1;33m{\u001b[0m\u001b[1;34m\"id\"\u001b[0m\u001b[1;33m:\u001b[0m\u001b[1;36m1\u001b[0m\u001b[1;33m,\u001b[0m\u001b[1;34m\"name\"\u001b[0m\u001b[1;33m:\u001b[0m\u001b[1;34m\"Qasim\"\u001b[0m\u001b[1;33m}\u001b[0m\u001b[1;33m\u001b[0m\u001b[1;33m\u001b[0m\u001b[0m\n\u001b[1;32m----> 4\u001b[1;33m \u001b[0mprint\u001b[0m\u001b[1;33m(\u001b[0m\u001b[0mdic\u001b[0m\u001b[1;33m[\u001b[0m\u001b[0meducatin\u001b[0m\u001b[1;33m]\u001b[0m\u001b[1;33m)\u001b[0m\u001b[1;33m\u001b[0m\u001b[1;33m\u001b[0m\u001b[0m\n\u001b[0m\u001b[0;32m      5\u001b[0m \u001b[1;33m\u001b[0m\u001b[0m\n\u001b[0;32m      6\u001b[0m \u001b[0mprint\u001b[0m\u001b[1;33m(\u001b[0m\u001b[1;34m\"line3\"\u001b[0m\u001b[1;33m)\u001b[0m\u001b[1;33m\u001b[0m\u001b[1;33m\u001b[0m\u001b[0m\n",
      "\u001b[1;31mNameError\u001b[0m: name 'educatin' is not defined"
     ]
    }
   ],
   "source": [
    "print(\"line1\")\n",
    "print(\"line2\")\n",
    "dic = {\"id\":1,\"name\":\"Qasim\"}\n",
    "print(dic[educatin])  \n",
    "\n",
    "print(\"line3\")\n",
    "print(\"line4\")"
   ]
  },
  {
   "cell_type": "code",
   "execution_count": 9,
   "id": "e9d204c3",
   "metadata": {},
   "outputs": [
    {
     "ename": "IndentationError",
     "evalue": "expected an indented block (1904700559.py, line 5)",
     "output_type": "error",
     "traceback": [
      "\u001b[1;36m  File \u001b[1;32m\"C:\\Users\\Zbook\\AppData\\Local\\Temp\\ipykernel_14448\\1904700559.py\"\u001b[1;36m, line \u001b[1;32m5\u001b[0m\n\u001b[1;33m    print(f.read())\u001b[0m\n\u001b[1;37m    ^\u001b[0m\n\u001b[1;31mIndentationError\u001b[0m\u001b[1;31m:\u001b[0m expected an indented block\n"
     ]
    }
   ],
   "source": [
    "print(\"line1\")\n",
    "print(\"line2\")\n",
    "\n",
    "with open(\"./abc.txt\")\n",
    "print(f.read())  \n",
    "\n",
    "print(\"line3\")\n",
    "print(\"line4\")"
   ]
  },
  {
   "cell_type": "code",
   "execution_count": 10,
   "id": "42f6b1b0",
   "metadata": {},
   "outputs": [
    {
     "name": "stdout",
     "output_type": "stream",
     "text": [
      "line1\n",
      "line2\n"
     ]
    },
    {
     "ename": "TypeError",
     "evalue": "unsupported operand type(s) for +: 'int' and 'str'",
     "output_type": "error",
     "traceback": [
      "\u001b[1;31m---------------------------------------------------------------------------\u001b[0m",
      "\u001b[1;31mTypeError\u001b[0m                                 Traceback (most recent call last)",
      "\u001b[1;32m~\\AppData\\Local\\Temp\\ipykernel_14448\\1437082050.py\u001b[0m in \u001b[0;36m<module>\u001b[1;34m\u001b[0m\n\u001b[0;32m      2\u001b[0m \u001b[0mprint\u001b[0m\u001b[1;33m(\u001b[0m\u001b[1;34m\"line2\"\u001b[0m\u001b[1;33m)\u001b[0m\u001b[1;33m\u001b[0m\u001b[1;33m\u001b[0m\u001b[0m\n\u001b[0;32m      3\u001b[0m \u001b[1;33m\u001b[0m\u001b[0m\n\u001b[1;32m----> 4\u001b[1;33m \u001b[0mprint\u001b[0m\u001b[1;33m(\u001b[0m\u001b[1;36m2\u001b[0m\u001b[1;33m+\u001b[0m\u001b[1;34m\"pakistan\"\u001b[0m\u001b[1;33m)\u001b[0m\u001b[1;33m\u001b[0m\u001b[1;33m\u001b[0m\u001b[0m\n\u001b[0m\u001b[0;32m      5\u001b[0m \u001b[1;33m\u001b[0m\u001b[0m\n\u001b[0;32m      6\u001b[0m \u001b[0mprint\u001b[0m\u001b[1;33m(\u001b[0m\u001b[1;34m\"line3\"\u001b[0m\u001b[1;33m)\u001b[0m\u001b[1;33m\u001b[0m\u001b[1;33m\u001b[0m\u001b[0m\n",
      "\u001b[1;31mTypeError\u001b[0m: unsupported operand type(s) for +: 'int' and 'str'"
     ]
    }
   ],
   "source": [
    "print(\"line1\")\n",
    "print(\"line2\")\n",
    "\n",
    "print(2+\"pakistan\")  \n",
    "\n",
    "print(\"line3\")\n",
    "print(\"line4\")"
   ]
  },
  {
   "cell_type": "code",
   "execution_count": 11,
   "id": "de5df8ba",
   "metadata": {},
   "outputs": [
    {
     "name": "stdout",
     "output_type": "stream",
     "text": [
      "line1\n",
      "line2\n"
     ]
    },
    {
     "ename": "ValueError",
     "evalue": "invalid literal for int() with base 10: '7.2'",
     "output_type": "error",
     "traceback": [
      "\u001b[1;31m---------------------------------------------------------------------------\u001b[0m",
      "\u001b[1;31mValueError\u001b[0m                                Traceback (most recent call last)",
      "\u001b[1;32m~\\AppData\\Local\\Temp\\ipykernel_14448\\4254269168.py\u001b[0m in \u001b[0;36m<module>\u001b[1;34m\u001b[0m\n\u001b[0;32m      2\u001b[0m \u001b[0mprint\u001b[0m\u001b[1;33m(\u001b[0m\u001b[1;34m\"line2\"\u001b[0m\u001b[1;33m)\u001b[0m\u001b[1;33m\u001b[0m\u001b[1;33m\u001b[0m\u001b[0m\n\u001b[0;32m      3\u001b[0m \u001b[0ma\u001b[0m\u001b[1;33m=\u001b[0m\u001b[1;34m\"7.2\"\u001b[0m\u001b[1;33m\u001b[0m\u001b[1;33m\u001b[0m\u001b[0m\n\u001b[1;32m----> 4\u001b[1;33m \u001b[0mprint\u001b[0m\u001b[1;33m(\u001b[0m\u001b[0mint\u001b[0m\u001b[1;33m(\u001b[0m\u001b[0ma\u001b[0m\u001b[1;33m)\u001b[0m\u001b[1;33m)\u001b[0m\u001b[1;33m\u001b[0m\u001b[1;33m\u001b[0m\u001b[0m\n\u001b[0m\u001b[0;32m      5\u001b[0m \u001b[1;33m\u001b[0m\u001b[0m\n\u001b[0;32m      6\u001b[0m \u001b[0mprint\u001b[0m\u001b[1;33m(\u001b[0m\u001b[1;34m\"line3\"\u001b[0m\u001b[1;33m)\u001b[0m\u001b[1;33m\u001b[0m\u001b[1;33m\u001b[0m\u001b[0m\n",
      "\u001b[1;31mValueError\u001b[0m: invalid literal for int() with base 10: '7.2'"
     ]
    }
   ],
   "source": [
    "print(\"line1\")\n",
    "print(\"line2\")\n",
    "a=\"7.2\"\n",
    "print(int(a))  \n",
    "\n",
    "print(\"line3\")\n",
    "print(\"line4\")"
   ]
  },
  {
   "cell_type": "markdown",
   "id": "d01fa2e3",
   "metadata": {},
   "source": [
    "## try except Method\n",
    " * try \n",
    "       * if you think any line where error can be generate you should write try in that block\n",
    " * except \n",
    "       * What action do you want to perform after identifying the error \n",
    "       * you can also define \"error class\" here "
   ]
  },
  {
   "cell_type": "code",
   "execution_count": 12,
   "id": "2fc11d1b",
   "metadata": {},
   "outputs": [
    {
     "name": "stdout",
     "output_type": "stream",
     "text": [
      "line1\n",
      "line2\n",
      "You cant divdie any value with zero \n",
      "line3\n",
      "line4\n"
     ]
    }
   ],
   "source": [
    "print(\"line1\")\n",
    "print(\"line2\")\n",
    "try:\n",
    "    print(2/0)  \n",
    "except(ZeroDivisionError):\n",
    "    print(\"You cant divdie any value with zero \")\n",
    "print(\"line3\")\n",
    "print(\"line4\")"
   ]
  },
  {
   "cell_type": "code",
   "execution_count": 13,
   "id": "959e9a59",
   "metadata": {},
   "outputs": [
    {
     "name": "stdout",
     "output_type": "stream",
     "text": [
      "line1\n",
      "line2\n",
      "0.4\n",
      "line3\n",
      "line4\n"
     ]
    }
   ],
   "source": [
    "print(\"line1\")\n",
    "print(\"line2\")\n",
    "try:\n",
    "    print(2/5)  \n",
    "except(ZeroDivisionError):\n",
    "    print(\"You cant divdie any value with zero \")\n",
    "print(\"line3\")\n",
    "print(\"line4\")"
   ]
  },
  {
   "cell_type": "code",
   "execution_count": 16,
   "id": "048d2976",
   "metadata": {},
   "outputs": [
    {
     "name": "stdout",
     "output_type": "stream",
     "text": [
      "line1\n",
      "line2\n",
      "Index is out of range\n",
      "line3\n",
      "line4\n"
     ]
    }
   ],
   "source": [
    "print(\"line1\")\n",
    "print(\"line2\")\n",
    "l=[1,2,3]\n",
    "try:\n",
    "    print(l[7])\n",
    "except(IndexError):\n",
    "    print(\"Index is out of range\")\n",
    "\n",
    "print(\"line3\")\n",
    "print(\"line4\")"
   ]
  },
  {
   "cell_type": "code",
   "execution_count": 21,
   "id": "d0d4dd4b",
   "metadata": {},
   "outputs": [
    {
     "name": "stdout",
     "output_type": "stream",
     "text": [
      "line1\n",
      "line2\n",
      "something is wrong\n",
      "line3\n",
      "line4\n"
     ]
    }
   ],
   "source": [
    "print(\"line1\")\n",
    "print(\"line2\")\n",
    "l=[1,2,3]\n",
    "try:\n",
    "    print(2/0)\n",
    "    print(l[7])\n",
    "    open(\"abc.txt\")\n",
    "except(ZeroDivisionError,IndexError,FileNotFoundError):\n",
    "    print(\"something is wrong\")\n",
    "\n",
    "print(\"line3\")\n",
    "print(\"line4\")"
   ]
  },
  {
   "cell_type": "code",
   "execution_count": 22,
   "id": "5404b6d9",
   "metadata": {},
   "outputs": [
    {
     "name": "stdout",
     "output_type": "stream",
     "text": [
      "line1\n",
      "line2\n",
      "0.5\n",
      "2\n",
      "something is wrong\n",
      "line3\n",
      "line4\n"
     ]
    }
   ],
   "source": [
    "print(\"line1\")\n",
    "print(\"line2\")\n",
    "l=[1,2,3]\n",
    "try:\n",
    "    print(2/4)\n",
    "    print(l[1])\n",
    "    open(\"abc.txt\")\n",
    "except(ZeroDivisionError,IndexError,FileNotFoundError):\n",
    "    print(\"something is wrong\")\n",
    "\n",
    "print(\"line3\")\n",
    "print(\"line4\")"
   ]
  },
  {
   "cell_type": "code",
   "execution_count": 23,
   "id": "e05556e6",
   "metadata": {},
   "outputs": [
    {
     "name": "stdout",
     "output_type": "stream",
     "text": [
      "line1\n",
      "line2\n",
      "something is wrong\n",
      "line3\n",
      "line4\n"
     ]
    }
   ],
   "source": [
    "print(\"line1\")\n",
    "print(\"line2\")\n",
    "l=[1,2,3]\n",
    "try:\n",
    "    print(2/0)\n",
    "    print(l[1])\n",
    "    open(\"abc.txt\")\n",
    "except(ZeroDivisionError,IndexError,FileNotFoundError):\n",
    "    print(\"something is wrong\")\n",
    "\n",
    "print(\"line3\")\n",
    "print(\"line4\")"
   ]
  },
  {
   "cell_type": "code",
   "execution_count": 24,
   "id": "6d1ee6bf",
   "metadata": {},
   "outputs": [
    {
     "name": "stdout",
     "output_type": "stream",
     "text": [
      "line1\n",
      "line2\n",
      "No cant divide by zero\n",
      "2\n",
      "File not found\n",
      "line3\n",
      "line4\n"
     ]
    }
   ],
   "source": [
    "print(\"line1\")\n",
    "print(\"line2\")\n",
    "l=[1,2,3]\n",
    "try:\n",
    "    print(2/0)\n",
    "except(ZeroDivisionError):\n",
    "    print(\"No cant divide by zero\")\n",
    "try :\n",
    "     print(l[1])\n",
    "except(IndexError):\n",
    "    print(\"Index is out\")\n",
    "try:\n",
    "    open(\"abc.txt\")\n",
    "except(FileNotFoundError):\n",
    "    print(\"File not found\")\n",
    "print(\"line3\")\n",
    "print(\"line4\")"
   ]
  },
  {
   "cell_type": "code",
   "execution_count": 25,
   "id": "aab518f5",
   "metadata": {},
   "outputs": [
    {
     "name": "stdout",
     "output_type": "stream",
     "text": [
      "line1\n",
      "line2\n",
      "No cant divide by zero\n",
      "Index is out\n",
      "File not found\n",
      "line3\n",
      "line4\n"
     ]
    }
   ],
   "source": [
    "print(\"line1\")\n",
    "print(\"line2\")\n",
    "l=[1,2,3]\n",
    "try:\n",
    "    print(2/0)\n",
    "except(ZeroDivisionError):\n",
    "    print(\"No cant divide by zero\")\n",
    "try :\n",
    "     print(l[8])\n",
    "except(IndexError):\n",
    "    print(\"Index is out\")\n",
    "try:\n",
    "    open(\"abc.txt\")\n",
    "except(FileNotFoundError):\n",
    "    print(\"File not found\")\n",
    "print(\"line3\")\n",
    "print(\"line4\")"
   ]
  },
  {
   "cell_type": "markdown",
   "id": "f918c5c9",
   "metadata": {},
   "source": [
    "## Dynamic Handling\n"
   ]
  },
  {
   "cell_type": "code",
   "execution_count": 28,
   "id": "acbf8cbb",
   "metadata": {},
   "outputs": [
    {
     "name": "stdout",
     "output_type": "stream",
     "text": [
      "line1\n",
      "line2\n",
      "1.0\n",
      "2\n",
      "something is wrong [Errno 2] No such file or directory: 'abc.txt'\n",
      "line3\n",
      "line4\n"
     ]
    }
   ],
   "source": [
    "print(\"line1\")\n",
    "print(\"line2\")\n",
    "l=[1,2,3]\n",
    "try:\n",
    "    print(2/2)\n",
    "    print(l[1])\n",
    "    open(\"abc.txt\")\n",
    "except Exception as e:\n",
    "    print(\"something is wrong\",e)\n",
    "\n",
    "print(\"line3\")\n",
    "print(\"line4\")"
   ]
  },
  {
   "cell_type": "code",
   "execution_count": 32,
   "id": "75377a83",
   "metadata": {},
   "outputs": [
    {
     "name": "stdout",
     "output_type": "stream",
     "text": [
      "\n",
      "a=7\n",
      "b=3\n",
      "print(a+b)\n",
      "\n"
     ]
    }
   ],
   "source": [
    "code = '''\n",
    "a=7\n",
    "b=3\n",
    "print(a+b)\n",
    "'''\n",
    "print(code)"
   ]
  },
  {
   "cell_type": "code",
   "execution_count": 35,
   "id": "fafc7c02",
   "metadata": {},
   "outputs": [
    {
     "name": "stdout",
     "output_type": "stream",
     "text": [
      "10\n"
     ]
    },
    {
     "data": {
      "text/plain": [
       "3"
      ]
     },
     "execution_count": 35,
     "metadata": {},
     "output_type": "execute_result"
    }
   ],
   "source": [
    "code = '''\n",
    "a=7\n",
    "b=3\n",
    "print(a+b)\n",
    "'''\n",
    "\n",
    "exec(code)\n",
    "a\n",
    "b"
   ]
  },
  {
   "cell_type": "code",
   "execution_count": 41,
   "id": "7097e45f",
   "metadata": {},
   "outputs": [
    {
     "name": "stdout",
     "output_type": "stream",
     "text": [
      "12\n",
      "division by zero\n",
      "Pakistan Zindabad\n"
     ]
    }
   ],
   "source": [
    "code = '''\n",
    "a=7\n",
    "b=5\n",
    "print(a+b)\n",
    "try:\n",
    "    print(2/0)\n",
    "except Exception as e:\n",
    "    print(e)\n",
    "'''\n",
    "try:\n",
    "    exec(code)\n",
    "except Exception as e:\n",
    "    print(e)\n",
    "    \n",
    "    \n",
    "print(\"Pakistan Zindabad\")"
   ]
  },
  {
   "cell_type": "markdown",
   "id": "c81713c1",
   "metadata": {},
   "source": [
    "# Else with Try Except"
   ]
  },
  {
   "cell_type": "code",
   "execution_count": 46,
   "id": "3ba4de97",
   "metadata": {},
   "outputs": [
    {
     "name": "stdout",
     "output_type": "stream",
     "text": [
      "line 1\n",
      "line 2\n",
      "division by zero\n",
      "line 3\n"
     ]
    }
   ],
   "source": [
    "print(\"line 1\")\n",
    "print(\"line 2\")\n",
    "try:\n",
    "    print(2/0)\n",
    "except Exception as e:\n",
    "    print(e)\n",
    "else:\n",
    "    print(\"Wow you are a gud programmer\")\n",
    "    \n",
    "    \n",
    "    \n",
    "    \n",
    "print(\"line 3\")"
   ]
  },
  {
   "cell_type": "code",
   "execution_count": 47,
   "id": "bf5469e4",
   "metadata": {},
   "outputs": [
    {
     "name": "stdout",
     "output_type": "stream",
     "text": [
      "line 1\n",
      "line 2\n",
      "0.4\n",
      "Wow you are a gud programmer\n",
      "line 3\n"
     ]
    }
   ],
   "source": [
    "print(\"line 1\")\n",
    "print(\"line 2\")\n",
    "try:\n",
    "    print(2/5)\n",
    "except Exception as e:\n",
    "    print(e)\n",
    "else:\n",
    "    print(\"Wow you are a gud programmer\")\n",
    "    \n",
    "    \n",
    "    \n",
    "    \n",
    "print(\"line 3\")"
   ]
  },
  {
   "cell_type": "markdown",
   "id": "64eb5cb7",
   "metadata": {},
   "source": [
    "## Finally Block with Try Except Method"
   ]
  },
  {
   "cell_type": "code",
   "execution_count": 48,
   "id": "aac6bd8a",
   "metadata": {},
   "outputs": [
    {
     "name": "stdout",
     "output_type": "stream",
     "text": [
      "line 1\n",
      "line 2\n",
      "division by zero\n",
      "hr haaal me chalega\n",
      "line 3\n"
     ]
    }
   ],
   "source": [
    "print(\"line 1\")\n",
    "print(\"line 2\")\n",
    "try:\n",
    "    print(2/0)\n",
    "except Exception as e:\n",
    "    print(e)\n",
    "else:\n",
    "    print(\"Wow you are a gud programmer\")\n",
    "finally: \n",
    "    print(\"hr haaal me chalega\")\n",
    "    \n",
    "    \n",
    "    \n",
    "print(\"line 3\")"
   ]
  },
  {
   "cell_type": "markdown",
   "id": "30e71ef2",
   "metadata": {},
   "source": [
    "print(\"line 1\")\n",
    "print(\"line 2\")\n",
    "try:\n",
    "    print(2/9)\n",
    "except Exception as e:\n",
    "    print(e)\n",
    "else:\n",
    "    print(\"Wow you are a gud programmer\")\n",
    "finally: \n",
    "    print(\"hr haaal me chalega\")\n",
    "    \n",
    "    \n",
    "    \n",
    "print(\"line 3\")"
   ]
  },
  {
   "cell_type": "markdown",
   "id": "2ceb813e",
   "metadata": {},
   "source": [
    "## Create our Own Exception"
   ]
  },
  {
   "cell_type": "code",
   "execution_count": 51,
   "id": "c89df7af",
   "metadata": {},
   "outputs": [
    {
     "ename": "SyntaxError",
     "evalue": "invalid syntax (792577852.py, line 2)",
     "output_type": "error",
     "traceback": [
      "\u001b[1;36m  File \u001b[1;32m\"C:\\Users\\Zbook\\AppData\\Local\\Temp\\ipykernel_14448\\792577852.py\"\u001b[1;36m, line \u001b[1;32m2\u001b[0m\n\u001b[1;33m    def_init_(self,sid,name,age):\u001b[0m\n\u001b[1;37m                                 ^\u001b[0m\n\u001b[1;31mSyntaxError\u001b[0m\u001b[1;31m:\u001b[0m invalid syntax\n"
     ]
    }
   ],
   "source": [
    "class student():\n",
    "    def_init_(self,sid,name,age):\n",
    "        if age>60 and age<18:\n",
    "            raise Exception(\"student age must be bw 18 and 60\")\n",
    "        self.studentid = sid  #attribute\n",
    "        self.name = name\n",
    "        self.age = age\n",
    "        \n",
    "s1=student(1,\"Qasim\",45)"
   ]
  },
  {
   "cell_type": "code",
   "execution_count": 52,
   "id": "099c8504",
   "metadata": {},
   "outputs": [],
   "source": [
    "class StudentAgeError(Exception):\n",
    "    pass"
   ]
  },
  {
   "cell_type": "markdown",
   "id": "f879a8bc",
   "metadata": {},
   "source": [
    "##  Complete Code"
   ]
  },
  {
   "cell_type": "code",
   "execution_count": null,
   "id": "75531b24",
   "metadata": {},
   "outputs": [],
   "source": []
  }
 ],
 "metadata": {
  "kernelspec": {
   "display_name": "Python 3 (ipykernel)",
   "language": "python",
   "name": "python3"
  },
  "language_info": {
   "codemirror_mode": {
    "name": "ipython",
    "version": 3
   },
   "file_extension": ".py",
   "mimetype": "text/x-python",
   "name": "python",
   "nbconvert_exporter": "python",
   "pygments_lexer": "ipython3",
   "version": "3.9.13"
  }
 },
 "nbformat": 4,
 "nbformat_minor": 5
}
