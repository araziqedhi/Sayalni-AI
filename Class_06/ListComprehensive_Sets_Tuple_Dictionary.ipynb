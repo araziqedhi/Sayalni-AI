{
 "cells": [
  {
   "cell_type": "markdown",
   "id": "cbae1d97",
   "metadata": {},
   "source": [
    "### \n",
    "* List Comprehensive\n",
    "* Tuple\n",
    "* Sets \n",
    "* Dictionary"
   ]
  },
  {
   "cell_type": "code",
   "execution_count": 3,
   "id": "836eaee1",
   "metadata": {},
   "outputs": [
    {
     "data": {
      "text/plain": [
       "range(0, 11)"
      ]
     },
     "execution_count": 3,
     "metadata": {},
     "output_type": "execute_result"
    }
   ],
   "source": [
    "range(11) # generator Function"
   ]
  },
  {
   "cell_type": "code",
   "execution_count": 7,
   "id": "d39dd7ea",
   "metadata": {},
   "outputs": [
    {
     "name": "stdout",
     "output_type": "stream",
     "text": [
      "0\n",
      "1\n",
      "2\n",
      "3\n",
      "4\n",
      "5\n",
      "6\n",
      "7\n",
      "8\n",
      "9\n",
      "10\n"
     ]
    }
   ],
   "source": [
    "for i in range(11):\n",
    "    print(i)"
   ]
  },
  {
   "cell_type": "code",
   "execution_count": 8,
   "id": "a59d65e4",
   "metadata": {},
   "outputs": [
    {
     "name": "stdout",
     "output_type": "stream",
     "text": [
      "Iteration no 1\n",
      "Iteration no 2\n",
      "Iteration no 3\n",
      "Iteration no 4\n",
      "Iteration no 5\n",
      "Iteration no 6\n",
      "Iteration no 7\n",
      "Iteration no 8\n",
      "Iteration no 9\n",
      "Iteration no 10\n"
     ]
    }
   ],
   "source": [
    "for i in range (1,11):\n",
    "    print(\"Iteration no\",i)"
   ]
  },
  {
   "cell_type": "code",
   "execution_count": 16,
   "id": "432e6c38",
   "metadata": {},
   "outputs": [
    {
     "name": "stdout",
     "output_type": "stream",
     "text": [
      "Enter number for table generation 143\n",
      "143\n",
      "286\n",
      "429\n",
      "572\n",
      "715\n",
      "858\n",
      "1001\n",
      "1144\n",
      "1287\n",
      "1430\n"
     ]
    }
   ],
   "source": [
    "table= int(input(\"Enter number for table generation \"))\n",
    "for i in range(1,11):\n",
    "    print(i*table)"
   ]
  },
  {
   "cell_type": "code",
   "execution_count": 12,
   "id": "e1b9a649",
   "metadata": {},
   "outputs": [
    {
     "name": "stdout",
     "output_type": "stream",
     "text": [
      "Table of 3 is 3\n",
      "Table of 3 is 6\n",
      "Table of 3 is 9\n",
      "Table of 3 is 12\n",
      "Table of 3 is 15\n",
      "Table of 3 is 18\n",
      "Table of 3 is 21\n",
      "Table of 3 is 24\n",
      "Table of 3 is 27\n",
      "Table of 3 is 30\n"
     ]
    }
   ],
   "source": [
    "for i in range(1,11):\n",
    "    print(f'Table of 3 is {i*3}')"
   ]
  },
  {
   "cell_type": "markdown",
   "id": "5ea792fa",
   "metadata": {},
   "source": [
    "## List Comprehension"
   ]
  },
  {
   "cell_type": "code",
   "execution_count": 19,
   "id": "8cf41758",
   "metadata": {},
   "outputs": [
    {
     "name": "stdout",
     "output_type": "stream",
     "text": [
      "iteration no 1\n",
      "iteration no 2\n",
      "iteration no 3\n",
      "iteration no 4\n",
      "iteration no 5\n",
      "iteration no 6\n",
      "iteration no 7\n",
      "iteration no 8\n",
      "iteration no 9\n",
      "iteration no 10\n"
     ]
    },
    {
     "data": {
      "text/plain": [
       "[None, None, None, None, None, None, None, None, None, None]"
      ]
     },
     "execution_count": 19,
     "metadata": {},
     "output_type": "execute_result"
    }
   ],
   "source": [
    "[print(\"iteration no\",i) for i in range(1,11)]\n"
   ]
  },
  {
   "cell_type": "code",
   "execution_count": 20,
   "id": "cbd7ebbd",
   "metadata": {},
   "outputs": [
    {
     "data": {
      "text/plain": [
       "['iteration no 1',\n",
       " 'iteration no 2',\n",
       " 'iteration no 3',\n",
       " 'iteration no 4',\n",
       " 'iteration no 5',\n",
       " 'iteration no 6',\n",
       " 'iteration no 7',\n",
       " 'iteration no 8',\n",
       " 'iteration no 9',\n",
       " 'iteration no 10']"
      ]
     },
     "execution_count": 20,
     "metadata": {},
     "output_type": "execute_result"
    }
   ],
   "source": [
    "[f'iteration no {i}' for i in range(1,11)]"
   ]
  },
  {
   "cell_type": "code",
   "execution_count": 21,
   "id": "0c46e846",
   "metadata": {},
   "outputs": [
    {
     "data": {
      "text/plain": [
       "[1, 2, 3, 4, 5, 6, 7, 8, 9, 10]"
      ]
     },
     "execution_count": 21,
     "metadata": {},
     "output_type": "execute_result"
    }
   ],
   "source": [
    "[i for i in range(1,11)]"
   ]
  },
  {
   "cell_type": "code",
   "execution_count": 36,
   "id": "0e95a8cc",
   "metadata": {},
   "outputs": [
    {
     "data": {
      "text/plain": [
       "[3, 4, 5, 6, 7, 8, 9, 10, 11, 12]"
      ]
     },
     "execution_count": 36,
     "metadata": {},
     "output_type": "execute_result"
    }
   ],
   "source": [
    "[i+5//2 for i in range(1,11)]  # // is floor division"
   ]
  },
  {
   "cell_type": "code",
   "execution_count": 35,
   "id": "ae5eb5fe",
   "metadata": {},
   "outputs": [
    {
     "name": "stdout",
     "output_type": "stream",
     "text": [
      "(1, 1) \n",
      "(2, 1) (2, 2) \n",
      "(3, 1) (3, 2) (3, 3) \n",
      "(4, 1) (4, 2) (4, 3) (4, 4) \n",
      "(5, 1) (5, 2) (5, 3) (5, 4) (5, 5) \n",
      "(6, 1) (6, 2) (6, 3) (6, 4) (6, 5) (6, 6) \n",
      "(7, 1) (7, 2) (7, 3) (7, 4) (7, 5) (7, 6) (7, 7) \n",
      "(8, 1) (8, 2) (8, 3) (8, 4) (8, 5) (8, 6) (8, 7) (8, 8) \n",
      "(9, 1) (9, 2) (9, 3) (9, 4) (9, 5) (9, 6) (9, 7) (9, 8) (9, 9) \n",
      "(10, 1) (10, 2) (10, 3) (10, 4) (10, 5) (10, 6) (10, 7) (10, 8) (10, 9) (10, 10) \n"
     ]
    }
   ],
   "source": [
    "# In normal style\n",
    "for i in range(1,11):\n",
    "    for j in range(1,i+1):\n",
    "        print((i,j),end=' ')\n",
    "    print()"
   ]
  },
  {
   "cell_type": "code",
   "execution_count": null,
   "id": "60af38ee",
   "metadata": {},
   "outputs": [],
   "source": []
  },
  {
   "cell_type": "code",
   "execution_count": 34,
   "id": "8fbcb3eb",
   "metadata": {},
   "outputs": [
    {
     "name": "stdout",
     "output_type": "stream",
     "text": [
      "1 \n",
      "2 4 \n",
      "3 6 9 \n",
      "4 8 12 16 \n",
      "5 10 15 20 25 \n",
      "6 12 18 24 30 36 \n",
      "7 14 21 28 35 42 49 \n",
      "8 16 24 32 40 48 56 64 \n",
      "9 18 27 36 45 54 63 72 81 \n",
      "10 20 30 40 50 60 70 80 90 100 \n"
     ]
    }
   ],
   "source": [
    "# In normal style\n",
    "for i in range(1,11):\n",
    "    for j in range(1,i+1):\n",
    "        print((i*j),end=' ')\n",
    "    print()"
   ]
  },
  {
   "cell_type": "code",
   "execution_count": 30,
   "id": "cdb74c57",
   "metadata": {},
   "outputs": [
    {
     "name": "stdout",
     "output_type": "stream",
     "text": [
      "[1, 2, 3] 0\n",
      "[4, 5, 6] 1\n",
      "[7, 8, 9] 2\n"
     ]
    }
   ],
   "source": [
    "data = [[1,2,3],\n",
    "       [4,5,6],\n",
    "       [7,8,9]]\n",
    "for row in range(len(data)):\n",
    "    print(data[row],row)"
   ]
  },
  {
   "cell_type": "code",
   "execution_count": 33,
   "id": "38b0bbe8",
   "metadata": {},
   "outputs": [
    {
     "name": "stdout",
     "output_type": "stream",
     "text": [
      "1 2 3 \n",
      "4 5 6 \n",
      "7 8 9 \n"
     ]
    }
   ],
   "source": [
    "data = [[1,2,3],\n",
    "       [4,5,6],\n",
    "       [7,8,9]]\n",
    "for row in range(len(data)):\n",
    "    for col in range(len(data[row])):\n",
    "         print(data[row][col],end=' ') # ye print child me chal rha hai\n",
    "    print() # ye waala print parent me chal rha hai "
   ]
  },
  {
   "cell_type": "code",
   "execution_count": 26,
   "id": "9a692d92",
   "metadata": {},
   "outputs": [
    {
     "data": {
      "text/plain": [
       "[1,\n",
       " 2,\n",
       " 4,\n",
       " 3,\n",
       " 6,\n",
       " 9,\n",
       " 4,\n",
       " 8,\n",
       " 12,\n",
       " 16,\n",
       " 5,\n",
       " 10,\n",
       " 15,\n",
       " 20,\n",
       " 25,\n",
       " 6,\n",
       " 12,\n",
       " 18,\n",
       " 24,\n",
       " 30,\n",
       " 36,\n",
       " 7,\n",
       " 14,\n",
       " 21,\n",
       " 28,\n",
       " 35,\n",
       " 42,\n",
       " 49,\n",
       " 8,\n",
       " 16,\n",
       " 24,\n",
       " 32,\n",
       " 40,\n",
       " 48,\n",
       " 56,\n",
       " 64,\n",
       " 9,\n",
       " 18,\n",
       " 27,\n",
       " 36,\n",
       " 45,\n",
       " 54,\n",
       " 63,\n",
       " 72,\n",
       " 81,\n",
       " 10,\n",
       " 20,\n",
       " 30,\n",
       " 40,\n",
       " 50,\n",
       " 60,\n",
       " 70,\n",
       " 80,\n",
       " 90,\n",
       " 100]"
      ]
     },
     "execution_count": 26,
     "metadata": {},
     "output_type": "execute_result"
    }
   ],
   "source": [
    "[(i*j) for i in range(1,11) for j in range(1,i+1)]"
   ]
  },
  {
   "cell_type": "code",
   "execution_count": 37,
   "id": "aa9cf65a",
   "metadata": {},
   "outputs": [
    {
     "data": {
      "text/plain": [
       "[1, 2, 3, 4, 5, 6, 7, 8, 9]"
      ]
     },
     "execution_count": 37,
     "metadata": {},
     "output_type": "execute_result"
    }
   ],
   "source": [
    "data = [[1,2,3],\n",
    "       [4,5,6],\n",
    "       [7,8,9]]\n",
    "[data[row][col] for row in range(len(data)) for col in range(len(data[row]))]"
   ]
  },
  {
   "cell_type": "markdown",
   "id": "c65f9859",
   "metadata": {},
   "source": [
    "## Task : Print 10 tables by using Nested Loops and List Comprehension"
   ]
  },
  {
   "cell_type": "markdown",
   "id": "67d79b87",
   "metadata": {},
   "source": [
    "## Tuple "
   ]
  },
  {
   "cell_type": "markdown",
   "id": "b296d8e5",
   "metadata": {},
   "source": [
    "#### Tuple is not mutable means it cant be changed but list in mutable means it can be changed"
   ]
  },
  {
   "cell_type": "code",
   "execution_count": 40,
   "id": "5c14fd3f",
   "metadata": {},
   "outputs": [
    {
     "name": "stdout",
     "output_type": "stream",
     "text": [
      "<class 'tuple'>\n",
      "('a', 'b', 'c', 1, 2, 3)\n"
     ]
    }
   ],
   "source": [
    "data = ('a','b','c',1,2,3)\n",
    "print(type(data))\n",
    "print(data)"
   ]
  },
  {
   "cell_type": "code",
   "execution_count": 45,
   "id": "f02bf201",
   "metadata": {},
   "outputs": [
    {
     "name": "stdout",
     "output_type": "stream",
     "text": [
      "<class 'tuple'>\n",
      "('a', 'b', 'c', 1, 2, 3)\n",
      "('a', 'b', 'c')\n",
      "('a', 'c', 2)\n"
     ]
    }
   ],
   "source": [
    "data = 'a','b','c',1,2,3 # Tuple can also be write without round brackets\n",
    "print(type(data))\n",
    "print(data)\n",
    "print(data[0:3:1])\n",
    "print(data[0:6:2])"
   ]
  },
  {
   "cell_type": "markdown",
   "id": "eef15029",
   "metadata": {},
   "source": [
    "## Tuple is not fully immutable"
   ]
  },
  {
   "cell_type": "code",
   "execution_count": 66,
   "id": "a0ee9993",
   "metadata": {},
   "outputs": [
    {
     "name": "stdout",
     "output_type": "stream",
     "text": [
      "('a', 'b', 'c', [100, 3, 8])\n"
     ]
    }
   ],
   "source": [
    "a= (\"a\",\"b\",\"c\",[2,3])\n",
    "a[3].append(8)\n",
    "a[3][0]=100\n",
    "print(a)"
   ]
  },
  {
   "cell_type": "code",
   "execution_count": 48,
   "id": "4f6a2b77",
   "metadata": {},
   "outputs": [
    {
     "data": {
      "text/plain": [
       "['__add__',\n",
       " '__class__',\n",
       " '__class_getitem__',\n",
       " '__contains__',\n",
       " '__delattr__',\n",
       " '__dir__',\n",
       " '__doc__',\n",
       " '__eq__',\n",
       " '__format__',\n",
       " '__ge__',\n",
       " '__getattribute__',\n",
       " '__getitem__',\n",
       " '__getnewargs__',\n",
       " '__gt__',\n",
       " '__hash__',\n",
       " '__init__',\n",
       " '__init_subclass__',\n",
       " '__iter__',\n",
       " '__le__',\n",
       " '__len__',\n",
       " '__lt__',\n",
       " '__mul__',\n",
       " '__ne__',\n",
       " '__new__',\n",
       " '__reduce__',\n",
       " '__reduce_ex__',\n",
       " '__repr__',\n",
       " '__rmul__',\n",
       " '__setattr__',\n",
       " '__sizeof__',\n",
       " '__str__',\n",
       " '__subclasshook__',\n",
       " 'count',\n",
       " 'index']"
      ]
     },
     "execution_count": 48,
     "metadata": {},
     "output_type": "execute_result"
    }
   ],
   "source": [
    "dir(data)"
   ]
  },
  {
   "cell_type": "code",
   "execution_count": 51,
   "id": "548c1541",
   "metadata": {},
   "outputs": [
    {
     "data": {
      "text/plain": [
       "(1, 3, 4, 'a', 'b', 'c')"
      ]
     },
     "execution_count": 51,
     "metadata": {},
     "output_type": "execute_result"
    }
   ],
   "source": [
    "(1,3,4)+(\"a\",\"b\",\"c\")"
   ]
  },
  {
   "cell_type": "code",
   "execution_count": 52,
   "id": "42db33e7",
   "metadata": {},
   "outputs": [
    {
     "data": {
      "text/plain": [
       "(1, 3, 4, 5, 6, 1, 3, 4, 5, 6)"
      ]
     },
     "execution_count": 52,
     "metadata": {},
     "output_type": "execute_result"
    }
   ],
   "source": [
    "(1,3,4,5,6)*2"
   ]
  },
  {
   "cell_type": "markdown",
   "id": "998293d8",
   "metadata": {},
   "source": [
    "## Dictionary\n",
    "* start`{`and`}\n",
    "* item \n",
    "    * `key`:`value`\n",
    "           * key = hashable type ie int and string and tuple \n",
    "           * value = any data type\n",
    "           * separator = : \n",
    "           * separator bw item = , \n",
    "           "
   ]
  },
  {
   "cell_type": "code",
   "execution_count": 58,
   "id": "524b2ad1",
   "metadata": {},
   "outputs": [
    {
     "name": "stdout",
     "output_type": "stream",
     "text": [
      "{'name': 'Muhammad', 'father name': 'Qasim', 'NIC NO': '4210191632597', 'Roll': 11, 'Signature': 'abn'}\n"
     ]
    },
    {
     "data": {
      "text/plain": [
       "11"
      ]
     },
     "execution_count": 58,
     "metadata": {},
     "output_type": "execute_result"
    }
   ],
   "source": [
    "data={\n",
    "    \"name\":\"Muhammad\",\n",
    "    \"father name\": \"Qasim\",\n",
    "    \"NIC NO\":\"4210191632597\",\n",
    "    \"Roll\":11,\n",
    "    \"Signature\":\"abn\"\n",
    "}\n",
    "print(data)\n",
    "data\n",
    "data[\"name\"]\n",
    "data[\"Roll\"]"
   ]
  },
  {
   "cell_type": "code",
   "execution_count": 59,
   "id": "f4489f9b",
   "metadata": {},
   "outputs": [
    {
     "data": {
      "text/plain": [
       "['__class__',\n",
       " '__class_getitem__',\n",
       " '__contains__',\n",
       " '__delattr__',\n",
       " '__delitem__',\n",
       " '__dir__',\n",
       " '__doc__',\n",
       " '__eq__',\n",
       " '__format__',\n",
       " '__ge__',\n",
       " '__getattribute__',\n",
       " '__getitem__',\n",
       " '__gt__',\n",
       " '__hash__',\n",
       " '__init__',\n",
       " '__init_subclass__',\n",
       " '__ior__',\n",
       " '__iter__',\n",
       " '__le__',\n",
       " '__len__',\n",
       " '__lt__',\n",
       " '__ne__',\n",
       " '__new__',\n",
       " '__or__',\n",
       " '__reduce__',\n",
       " '__reduce_ex__',\n",
       " '__repr__',\n",
       " '__reversed__',\n",
       " '__ror__',\n",
       " '__setattr__',\n",
       " '__setitem__',\n",
       " '__sizeof__',\n",
       " '__str__',\n",
       " '__subclasshook__',\n",
       " 'clear',\n",
       " 'copy',\n",
       " 'fromkeys',\n",
       " 'get',\n",
       " 'items',\n",
       " 'keys',\n",
       " 'pop',\n",
       " 'popitem',\n",
       " 'setdefault',\n",
       " 'update',\n",
       " 'values']"
      ]
     },
     "execution_count": 59,
     "metadata": {},
     "output_type": "execute_result"
    }
   ],
   "source": [
    "dir(dict)"
   ]
  },
  {
   "cell_type": "code",
   "execution_count": 63,
   "id": "f773f62a",
   "metadata": {},
   "outputs": [
    {
     "name": "stdout",
     "output_type": "stream",
     "text": [
      "{'name': 'Muhammad', 'father name': 'Qasim', 'NIC NO': '4210191632597', 'Roll': 11, 'Signature': 'abn', 'skills': ['python', 'R', 'Java', 'Matlab']}\n"
     ]
    },
    {
     "data": {
      "text/plain": [
       "{'name': 'Muhammad',\n",
       " 'father name': 'Qasim',\n",
       " 'NIC NO': '4210191632597',\n",
       " 'Roll': 11,\n",
       " 'Signature': 'abn',\n",
       " 'skills': ['python', 'R', 'Java', 'Matlab']}"
      ]
     },
     "execution_count": 63,
     "metadata": {},
     "output_type": "execute_result"
    }
   ],
   "source": [
    "data={\n",
    "    \"name\":\"Muhammad\",\n",
    "    \"father name\": \"Qasim\",\n",
    "    \"NIC NO\":\"4210191632597\",\n",
    "    \"Roll\":11,\n",
    "    \"Signature\":\"abn\",\n",
    "    \"skills\":[\"python\",\"R\",\"Java\",\"Matlab\"]\n",
    "}\n",
    "print(data)\n",
    "data"
   ]
  },
  {
   "cell_type": "markdown",
   "id": "f5e6face",
   "metadata": {},
   "source": [
    "## New Method For Creating Dictionary"
   ]
  },
  {
   "cell_type": "code",
   "execution_count": 69,
   "id": "0fbb4a72",
   "metadata": {},
   "outputs": [
    {
     "name": "stdout",
     "output_type": "stream",
     "text": [
      "{'name': 'Raziq'} <class 'dict'>\n"
     ]
    }
   ],
   "source": [
    "data={}\n",
    "data[\"name\"]=\"Muhammad qasim \"\n",
    "data[\"name\"]=\"Raziq\"\n",
    "print(data,type(data))"
   ]
  },
  {
   "cell_type": "code",
   "execution_count": 71,
   "id": "f30ca8bf",
   "metadata": {},
   "outputs": [
    {
     "data": {
      "text/plain": [
       "{'name': 'Muhammad qasim ', 'father name': 'Ilyas'}"
      ]
     },
     "execution_count": 71,
     "metadata": {},
     "output_type": "execute_result"
    }
   ],
   "source": [
    "data={}\n",
    "data[\"name\"]=\"Muhammad qasim \"\n",
    "data[\"father name\"]=\"Ilyas\"\n",
    "data"
   ]
  },
  {
   "cell_type": "code",
   "execution_count": 74,
   "id": "78bf59a2",
   "metadata": {},
   "outputs": [
    {
     "name": "stdout",
     "output_type": "stream",
     "text": [
      "{'name': 'Raziq'} <class 'dict'>\n",
      "Raziq\n",
      "None\n",
      "not Available\n"
     ]
    }
   ],
   "source": [
    "data={}\n",
    "data[\"name\"]=\"Muhammad qasim \"\n",
    "data[\"name\"]=\"Raziq\"\n",
    "print(data,type(data))\n",
    "\n",
    "\n",
    "print(data.get(\"name\",\"not Available\"))\n",
    "print(data.get(\"roll_no\"))\n",
    "print(data.get(\"roll_no\",\"not Available\"))"
   ]
  },
  {
   "cell_type": "code",
   "execution_count": 75,
   "id": "94c9bb57",
   "metadata": {},
   "outputs": [
    {
     "data": {
      "text/plain": [
       "{'name': None, 'id': None, 'father': None}"
      ]
     },
     "execution_count": 75,
     "metadata": {},
     "output_type": "execute_result"
    }
   ],
   "source": [
    "data.fromkeys([\"name\",\"id\",\"father\"])"
   ]
  },
  {
   "cell_type": "code",
   "execution_count": 76,
   "id": "2fa8e588",
   "metadata": {},
   "outputs": [
    {
     "data": {
      "text/plain": [
       "{'name': 'Raziq'}"
      ]
     },
     "execution_count": 76,
     "metadata": {},
     "output_type": "execute_result"
    }
   ],
   "source": [
    "data"
   ]
  },
  {
   "cell_type": "code",
   "execution_count": 80,
   "id": "c43be9ad",
   "metadata": {},
   "outputs": [
    {
     "name": "stdout",
     "output_type": "stream",
     "text": [
      "dict_keys(['name', 'father name', 'NIC NO', 'Roll', 'Signature', 'skills'])\n",
      "dict_values(['Muhammad', 'Qasim', '4210191632597', 11, 'abn', ['python', 'R', 'Java', 'Matlab']])\n",
      "dict_items([('name', 'Muhammad'), ('father name', 'Qasim'), ('NIC NO', '4210191632597'), ('Roll', 11), ('Signature', 'abn'), ('skills', ['python', 'R', 'Java', 'Matlab'])])\n"
     ]
    }
   ],
   "source": [
    "data={\n",
    "    \"name\":\"Muhammad\",\n",
    "    \"father name\": \"Qasim\",\n",
    "    \"NIC NO\":\"4210191632597\",\n",
    "    \"Roll\":11,\n",
    "    \"Signature\":\"abn\",\n",
    "    \"skills\":[\"python\",\"R\",\"Java\",\"Matlab\"]\n",
    "}\n",
    "\n",
    "print(data.keys())\n",
    "print(data.values())\n",
    "print(data.items())"
   ]
  },
  {
   "cell_type": "code",
   "execution_count": 82,
   "id": "398e9c1f",
   "metadata": {},
   "outputs": [
    {
     "name": "stdout",
     "output_type": "stream",
     "text": [
      "aa\n",
      "bb\n"
     ]
    }
   ],
   "source": [
    "a,b = (\"aa\",\"bb\") # unpack/unzip \n",
    "\n",
    "print(a)\n",
    "print(b)"
   ]
  },
  {
   "cell_type": "code",
   "execution_count": 86,
   "id": "c1dadf3d",
   "metadata": {},
   "outputs": [
    {
     "name": "stdout",
     "output_type": "stream",
     "text": [
      "name ----> Muhammad\n",
      "father name ----> Qasim\n",
      "NIC NO ----> 4210191632597\n",
      "Roll ----> 11\n",
      "Signature ----> abn\n",
      "skills ----> ['python', 'R', 'Java', 'Matlab']\n"
     ]
    }
   ],
   "source": [
    "for k in data.keys():\n",
    "    print(k,\"---->\",data[k])"
   ]
  },
  {
   "cell_type": "code",
   "execution_count": 88,
   "id": "1526f7f8",
   "metadata": {},
   "outputs": [
    {
     "name": "stdout",
     "output_type": "stream",
     "text": [
      "name ---> Muhammad\n",
      "father name ---> Qasim\n",
      "NIC NO ---> 4210191632597\n",
      "Roll ---> 11\n",
      "Signature ---> abn\n",
      "skills ---> ['python', 'R', 'Java', 'Matlab']\n"
     ]
    }
   ],
   "source": [
    "for k,v in data.items():\n",
    "    print(k,\"--->\",v)"
   ]
  },
  {
   "cell_type": "code",
   "execution_count": 90,
   "id": "59a9317a",
   "metadata": {},
   "outputs": [
    {
     "name": "stdout",
     "output_type": "stream",
     "text": [
      "a\n",
      "b\n",
      "c\n"
     ]
    }
   ],
   "source": [
    "data = {\n",
    "    \"a\":3,\n",
    "    \"b\":2,\n",
    "    \"c\":1\n",
    "}\n",
    "for d in data:\n",
    "    print(d)\n"
   ]
  },
  {
   "cell_type": "code",
   "execution_count": null,
   "id": "c143b1b1",
   "metadata": {},
   "outputs": [],
   "source": [
    "# Task : Sort it like that c comes first then b and then a \n"
   ]
  }
 ],
 "metadata": {
  "kernelspec": {
   "display_name": "Python 3 (ipykernel)",
   "language": "python",
   "name": "python3"
  },
  "language_info": {
   "codemirror_mode": {
    "name": "ipython",
    "version": 3
   },
   "file_extension": ".py",
   "mimetype": "text/x-python",
   "name": "python",
   "nbconvert_exporter": "python",
   "pygments_lexer": "ipython3",
   "version": "3.9.13"
  }
 },
 "nbformat": 4,
 "nbformat_minor": 5
}
