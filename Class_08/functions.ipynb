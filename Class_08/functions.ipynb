{
 "cells": [
  {
   "cell_type": "markdown",
   "id": "6bc6f0b8",
   "metadata": {},
   "source": [
    "## Functions\n",
    " * set of statements and expressions are called functions . It decreases the repition of code\n",
    " * pre define functions / User Define functions \n",
    " * Return Function\n",
    " * Non return function\n",
    " * default function \n",
    " * required argument fucntions\n",
    " * required / optional argument functions\n",
    " * lambda function\n",
    " * Recursive function\n",
    " * generator function\n",
    "* function Component \n",
    "    * function decleration / function signature\n",
    "          * ` def function_name(arg1_variable,arg2_variable,....)\n",
    "    * function body\n",
    "    * function call\n",
    "          * ` function_name(arg1_value,arg2_value,...)\n",
    "          *   function name"
   ]
  },
  {
   "cell_type": "markdown",
   "id": "c579be51",
   "metadata": {},
   "source": [
    "## 1) Default function \n",
    " * not req any argument/parameter when it will call \n",
    "    "
   ]
  },
  {
   "cell_type": "code",
   "execution_count": 1,
   "id": "43670a14",
   "metadata": {},
   "outputs": [],
   "source": [
    "def country_message(): # function decleartion\n",
    "    # function body starts \n",
    "    print(\"we love country \")  #statement 1\n",
    "    print(\"Pakistan zindabad\") #statemnet 2 \n",
    "    print(\"pakistan is love\")  #statement 3\n",
    "    # function body end"
   ]
  },
  {
   "cell_type": "code",
   "execution_count": 2,
   "id": "aa5d6a38",
   "metadata": {},
   "outputs": [
    {
     "name": "stdout",
     "output_type": "stream",
     "text": [
      "we love country \n",
      "Pakistan zindabad\n",
      "pakistan is love\n"
     ]
    }
   ],
   "source": [
    "country_message() #function calling "
   ]
  },
  {
   "cell_type": "markdown",
   "id": "5e0dcfbb",
   "metadata": {},
   "source": [
    "# 2) Required parameter Functions\n",
    "  * req arguments/parameter when it will call"
   ]
  },
  {
   "cell_type": "code",
   "execution_count": 3,
   "id": "af5bfbba",
   "metadata": {},
   "outputs": [],
   "source": [
    "def any_country(country_name):\n",
    "    print(f\"we love {country_name}  \")  #statement 1\n",
    "    print(f\"{country_name} zindabad \") #statemnet 2 \n",
    "    print(f\"{country_name} is love \")  #statement 3"
   ]
  },
  {
   "cell_type": "code",
   "execution_count": 4,
   "id": "a721596b",
   "metadata": {},
   "outputs": [
    {
     "name": "stdout",
     "output_type": "stream",
     "text": [
      "we love India  \n",
      "India zindabad \n",
      "India is love \n"
     ]
    }
   ],
   "source": [
    "any_country(\"India\")"
   ]
  },
  {
   "cell_type": "markdown",
   "id": "80ea6954",
   "metadata": {},
   "source": [
    "## 3) Return and Non return Functions"
   ]
  },
  {
   "cell_type": "markdown",
   "id": "f070ef3a",
   "metadata": {},
   "source": [
    "### Non Return Function"
   ]
  },
  {
   "cell_type": "code",
   "execution_count": 5,
   "id": "bd509ddc",
   "metadata": {},
   "outputs": [
    {
     "name": "stdout",
     "output_type": "stream",
     "text": [
      "we love India  \n",
      "India zindabad \n",
      "India is love \n",
      "None\n"
     ]
    }
   ],
   "source": [
    "def any_country(country_name):\n",
    "    print(f\"we love {country_name}  \")  #statement 1\n",
    "    print(f\"{country_name} zindabad \") #statemnet 2 \n",
    "    print(f\"{country_name} is love \")  #statement 3\n",
    "    \n",
    "a=any_country(\"India\")  # Non return Functions\n",
    "print(a)"
   ]
  },
  {
   "cell_type": "markdown",
   "id": "61eb0561",
   "metadata": {},
   "source": [
    "###  Return Function"
   ]
  },
  {
   "cell_type": "code",
   "execution_count": 6,
   "id": "8c9a972a",
   "metadata": {},
   "outputs": [
    {
     "name": "stdout",
     "output_type": "stream",
     "text": [
      "\n",
      "    We love our country\n",
      "    My name counrty name is USA\n",
      "    USA Zindabad\n",
      "    \n",
      "\n",
      "    We love our country\n",
      "    My name counrty name is China\n",
      "    China Zindabad\n",
      "    \n"
     ]
    }
   ],
   "source": [
    "def any_country(country_name):\n",
    "    result = f'''\n",
    "    We love our country\n",
    "    My name counrty name is {country_name}\n",
    "    {country_name} Zindabad\n",
    "    '''\n",
    "    return result \n",
    "a = any_country(\"USA\")\n",
    "print(a)\n",
    "b=any_country(\"China\")\n",
    "print(b)"
   ]
  },
  {
   "cell_type": "code",
   "execution_count": 7,
   "id": "e8942b5b",
   "metadata": {},
   "outputs": [
    {
     "name": "stdout",
     "output_type": "stream",
     "text": [
      "78\n",
      "<class 'str'>\n"
     ]
    }
   ],
   "source": [
    "print(len(a))\n",
    "print(type(a))"
   ]
  },
  {
   "cell_type": "markdown",
   "id": "abac11b2",
   "metadata": {},
   "source": [
    "## Saylani Card By Using Functions"
   ]
  },
  {
   "cell_type": "code",
   "execution_count": 8,
   "id": "695c4152",
   "metadata": {},
   "outputs": [
    {
     "name": "stdout",
     "output_type": "stream",
     "text": [
      "Saylani Student Card\n",
      "Student ID:\t\t 234\n",
      "Student Name:\t raziq \n",
      "Class timing :\t 4 to 6\n",
      "Batch:2023\n",
      "    \n"
     ]
    }
   ],
   "source": [
    "def student_card(roll_no,name,timing,batch):\n",
    "    card= f'''Saylani Student Card\n",
    "Student ID:\\t\\t {roll_no}\n",
    "Student Name:\\t {name} \n",
    "Class timing :\\t {timing}\n",
    "Batch:{batch}\n",
    "    '''\n",
    "    return card\n",
    "\n",
    "a = student_card(234,\"raziq\",\"4 to 6\",\"2023\")\n",
    "print(a)"
   ]
  },
  {
   "cell_type": "code",
   "execution_count": 9,
   "id": "5490188c",
   "metadata": {},
   "outputs": [
    {
     "name": "stdout",
     "output_type": "stream",
     "text": [
      "[1, 'raziq', '4to6', '2023']\n",
      "Saylani Student Card\n",
      "Student ID:\t\t 1\n",
      "Student Name:\t raziq \n",
      "Class timing :\t 4to6\n",
      "Batch:2023\n",
      "    \n",
      "[2, 'raziq', '4to6', '2023']\n",
      "Saylani Student Card\n",
      "Student ID:\t\t 2\n",
      "Student Name:\t raziq \n",
      "Class timing :\t 4to6\n",
      "Batch:2023\n",
      "    \n",
      "[3, 'raziq', '4to6', '2023']\n",
      "Saylani Student Card\n",
      "Student ID:\t\t 3\n",
      "Student Name:\t raziq \n",
      "Class timing :\t 4to6\n",
      "Batch:2023\n",
      "    \n",
      "[4, 'raziq', '4to6', '2023']\n",
      "Saylani Student Card\n",
      "Student ID:\t\t 4\n",
      "Student Name:\t raziq \n",
      "Class timing :\t 4to6\n",
      "Batch:2023\n",
      "    \n"
     ]
    }
   ],
   "source": [
    "data = [[1,\"raziq\",\"4to6\",\"2023\"],\n",
    "        [2,\"raziq\",\"4to6\",\"2023\"],\n",
    "        [3,\"raziq\",\"4to6\",\"2023\"],\n",
    "        [4,\"raziq\",\"4to6\",\"2023\"],\n",
    "       ]\n",
    "\n",
    "for row in data:\n",
    "    print(row)\n",
    "    print(student_card(row[0],row[1],row[2],row[3]))"
   ]
  },
  {
   "cell_type": "code",
   "execution_count": 10,
   "id": "0d3eaf28",
   "metadata": {},
   "outputs": [
    {
     "name": "stdout",
     "output_type": "stream",
     "text": [
      "Saylani Student Card\n",
      "Student ID:\t\t 1\n",
      "Student Name:\t raziq \n",
      "Class timing :\t 4to6\n",
      "Batch:2023\n",
      "    \n",
      "Saylani Student Card\n",
      "Student ID:\t\t 2\n",
      "Student Name:\t raziq \n",
      "Class timing :\t 4to6\n",
      "Batch:2023\n",
      "    \n",
      "Saylani Student Card\n",
      "Student ID:\t\t 3\n",
      "Student Name:\t raziq \n",
      "Class timing :\t 4to6\n",
      "Batch:2023\n",
      "    \n",
      "Saylani Student Card\n",
      "Student ID:\t\t 4\n",
      "Student Name:\t raziq \n",
      "Class timing :\t 4to6\n",
      "Batch:2023\n",
      "    \n"
     ]
    }
   ],
   "source": [
    "for row in data:\n",
    "    print(student_card(*row))"
   ]
  },
  {
   "cell_type": "markdown",
   "id": "fead6197",
   "metadata": {},
   "source": [
    "## 4) Optional Parameter Functions/default parameter value functions\n",
    "  * def argument value in fucntion delaceration time\n",
    "  * def add_two_numbers(num1=0,num2=0):"
   ]
  },
  {
   "cell_type": "code",
   "execution_count": 11,
   "id": "513738b3",
   "metadata": {},
   "outputs": [],
   "source": [
    "def add_two_numbers(num1=0,num2=0):\n",
    "    return num1 + num2\n"
   ]
  },
  {
   "cell_type": "code",
   "execution_count": 12,
   "id": "ab16edf5",
   "metadata": {},
   "outputs": [
    {
     "name": "stdout",
     "output_type": "stream",
     "text": [
      "0\n"
     ]
    }
   ],
   "source": [
    "print(add_two_numbers())"
   ]
  },
  {
   "cell_type": "code",
   "execution_count": 13,
   "id": "88b4bef9",
   "metadata": {},
   "outputs": [
    {
     "name": "stdout",
     "output_type": "stream",
     "text": [
      "6\n"
     ]
    }
   ],
   "source": [
    "print(add_two_numbers(6))"
   ]
  },
  {
   "cell_type": "code",
   "execution_count": 14,
   "id": "63085130",
   "metadata": {},
   "outputs": [
    {
     "name": "stdout",
     "output_type": "stream",
     "text": [
      "5\n"
     ]
    }
   ],
   "source": [
    "print(add_two_numbers(1,4))"
   ]
  },
  {
   "cell_type": "markdown",
   "id": "b9483be6",
   "metadata": {},
   "source": [
    "### pass positional parameters/arguments during calling "
   ]
  },
  {
   "cell_type": "code",
   "execution_count": 15,
   "id": "e9433916",
   "metadata": {},
   "outputs": [
    {
     "name": "stdout",
     "output_type": "stream",
     "text": [
      "5\n"
     ]
    }
   ],
   "source": [
    "def add_two_numbers(num1=0,num2=0):\n",
    "    return num1 + num2\n",
    "print(add_two_numbers(1,4))  # Passing value with positional argument"
   ]
  },
  {
   "cell_type": "markdown",
   "id": "b98680a2",
   "metadata": {},
   "source": [
    "### Keyword parametrs /argument calling "
   ]
  },
  {
   "cell_type": "code",
   "execution_count": 16,
   "id": "b24b8018",
   "metadata": {},
   "outputs": [
    {
     "name": "stdout",
     "output_type": "stream",
     "text": [
      "8\n",
      "19\n"
     ]
    }
   ],
   "source": [
    "def add_two_numbers(num1=0,num2=0):\n",
    "    return num1 + num2\n",
    "\n",
    "print(add_two_numbers(num2=3,num1=5)) # Passing value with Key/word argument \n",
    "print(add_two_numbers(num2=19))"
   ]
  },
  {
   "cell_type": "markdown",
   "id": "ae223c4c",
   "metadata": {},
   "source": [
    "## Create Unlimited Positional Argumnets for Calling\n",
    "  * add * before any parametre"
   ]
  },
  {
   "cell_type": "code",
   "execution_count": 1,
   "id": "a344b96a",
   "metadata": {},
   "outputs": [
    {
     "name": "stdout",
     "output_type": "stream",
     "text": [
      "2 (4,)\n",
      "<class 'int'> <class 'tuple'>\n",
      "6\n"
     ]
    }
   ],
   "source": [
    "def my_sum(num1,*value):\n",
    "    print(num1,value)\n",
    "    print(type(num1),type(value))     \n",
    "    result=num1\n",
    "    for n in value:\n",
    "        result +=n\n",
    "    print(result)\n",
    "        \n",
    "my_sum(2,4)"
   ]
  },
  {
   "cell_type": "markdown",
   "id": "7ceb2d38",
   "metadata": {},
   "source": [
    "## Create Unlimited Key/word Argumnets for Calling\n",
    "add ** before any parametre"
   ]
  },
  {
   "cell_type": "code",
   "execution_count": 18,
   "id": "4cb3bb99",
   "metadata": {},
   "outputs": [
    {
     "name": "stdout",
     "output_type": "stream",
     "text": [
      "{'num1': 4, 'num2': 45}\n",
      "<class 'dict'>\n"
     ]
    }
   ],
   "source": [
    "def abc(**values):\n",
    "    print(values)\n",
    "    print(type(values))\n",
    "    \n",
    "abc(num1=4,num2=45)"
   ]
  },
  {
   "cell_type": "markdown",
   "id": "d8ea438e",
   "metadata": {},
   "source": [
    "## Create function with Rer Argument , Optional , Unlimited positional and key/word Argument "
   ]
  },
  {
   "cell_type": "code",
   "execution_count": 19,
   "id": "e995dbfe",
   "metadata": {},
   "outputs": [],
   "source": [
    "def my_custom_function(num1,num2=7,*value1,**dict1):\n",
    "    print(\"Req positional argument num1=\",num1,type(num1))\n",
    "    print(\"Optional positional argument num2=\",num2,type(num2))\n",
    "    print(\"positional Unlimited argument num1=\",value1,type(value1))\n",
    "    print(\"Keyword Unlimited argument dict1=\",dict1,type(dict1))"
   ]
  },
  {
   "cell_type": "code",
   "execution_count": 20,
   "id": "8fcf2065",
   "metadata": {},
   "outputs": [
    {
     "name": "stdout",
     "output_type": "stream",
     "text": [
      "Req positional argument num1= 200 <class 'int'>\n",
      "Optional positional argument num2= 100 <class 'int'>\n",
      "positional Unlimited argument num1= ('a', 'b', 'c') <class 'tuple'>\n",
      "Keyword Unlimited argument dict1= {'tea': 7, 'milk': 10} <class 'dict'>\n"
     ]
    }
   ],
   "source": [
    "my_custom_function(200,100,'a','b','c',tea=7,milk=10)"
   ]
  },
  {
   "cell_type": "code",
   "execution_count": 21,
   "id": "880c54f1",
   "metadata": {},
   "outputs": [
    {
     "name": "stdout",
     "output_type": "stream",
     "text": [
      "Student Roll no: 1\n",
      "student name: razin\n",
      "skills: ('tenis',)\n",
      "\t tenis\n"
     ]
    }
   ],
   "source": [
    "def std_card(roll_no,name,*skills):\n",
    "    print(\"Student Roll no:\", roll_no)\n",
    "    print(\"student name:\",name)\n",
    "    print(\"skills:\",skills)\n",
    "    for s in skills:\n",
    "        print(\"\\t\",s)\n",
    "        \n",
    "std_card(1,'razin',\"tenis\")"
   ]
  },
  {
   "cell_type": "code",
   "execution_count": 22,
   "id": "a6817add",
   "metadata": {},
   "outputs": [
    {
     "data": {
      "text/plain": [
       "11"
      ]
     },
     "execution_count": 22,
     "metadata": {},
     "output_type": "execute_result"
    }
   ],
   "source": [
    "def add_two_no(num1:int,num2:int):\n",
    "    return num1 + num2\n",
    "\n",
    "add_two_no(7,4)"
   ]
  },
  {
   "cell_type": "markdown",
   "id": "e9c15759",
   "metadata": {},
   "source": [
    "## 5) Lambda functions\n",
    "  * there are three properties of it\n",
    "  * i) Without name function\n",
    "  * ii) Single Line Function \n",
    "  * iii) na isse pehle use hua na iske baad use hoga "
   ]
  },
  {
   "cell_type": "code",
   "execution_count": 23,
   "id": "cd8e0361",
   "metadata": {},
   "outputs": [],
   "source": [
    "def add_two_num(num1,num2):\n",
    "    return num1 + num2          # normal function"
   ]
  },
  {
   "cell_type": "code",
   "execution_count": 24,
   "id": "c62f6810",
   "metadata": {},
   "outputs": [
    {
     "data": {
      "text/plain": [
       "16"
      ]
     },
     "execution_count": 24,
     "metadata": {},
     "output_type": "execute_result"
    }
   ],
   "source": [
    "lambda num1,num2: num1+num2     # Lambda function \n",
    "a=lambda num1,num2: num1+num2\n",
    "a(7,9)"
   ]
  },
  {
   "cell_type": "code",
   "execution_count": 25,
   "id": "48cd6b70",
   "metadata": {},
   "outputs": [],
   "source": [
    "l=[1,2,3,4,5,6,20]\n"
   ]
  },
  {
   "cell_type": "code",
   "execution_count": 26,
   "id": "54e2054f",
   "metadata": {},
   "outputs": [
    {
     "data": {
      "text/plain": [
       "[[1, 'a', 'z'], [2, 'b', 'y'], [3, 'e', 'f']]"
      ]
     },
     "execution_count": 26,
     "metadata": {},
     "output_type": "execute_result"
    }
   ],
   "source": [
    "l=[[1,'a','z'],\n",
    "  [2,\"b\",\"y\"],\n",
    "  [3,\"e\",\"f\"]\n",
    "  ]\n",
    "l"
   ]
  },
  {
   "cell_type": "code",
   "execution_count": 27,
   "id": "663e1a56",
   "metadata": {},
   "outputs": [
    {
     "data": {
      "text/plain": [
       "[[3, 'e', 'f'], [2, 'b', 'y'], [1, 'a', 'z']]"
      ]
     },
     "execution_count": 27,
     "metadata": {},
     "output_type": "execute_result"
    }
   ],
   "source": [
    "sorted(l, key=lambda x:x[2])"
   ]
  },
  {
   "cell_type": "markdown",
   "id": "31483355",
   "metadata": {},
   "source": [
    "## Generator Function \n",
    "  * it uses yield instead of return"
   ]
  },
  {
   "cell_type": "code",
   "execution_count": 28,
   "id": "40b0628c",
   "metadata": {},
   "outputs": [],
   "source": [
    "def my_range(start,end):\n",
    "    for i in range(start,end+1):\n",
    "        yield i\n",
    "    \n",
    "    \n",
    "a=my_range(1,10)"
   ]
  },
  {
   "cell_type": "code",
   "execution_count": 29,
   "id": "d91760d7",
   "metadata": {},
   "outputs": [
    {
     "name": "stdout",
     "output_type": "stream",
     "text": [
      "<generator object my_range at 0x000002A3492927B0>\n"
     ]
    }
   ],
   "source": [
    "print(a)"
   ]
  },
  {
   "cell_type": "code",
   "execution_count": 30,
   "id": "4e507f03",
   "metadata": {},
   "outputs": [
    {
     "name": "stdout",
     "output_type": "stream",
     "text": [
      "1\n"
     ]
    }
   ],
   "source": [
    "print(next(a))"
   ]
  },
  {
   "cell_type": "code",
   "execution_count": 31,
   "id": "d6c66907",
   "metadata": {},
   "outputs": [
    {
     "name": "stdout",
     "output_type": "stream",
     "text": [
      "2\n"
     ]
    },
    {
     "data": {
      "text/plain": [
       "[3, 4, 5, 6, 7, 8, 9, 10]"
      ]
     },
     "execution_count": 31,
     "metadata": {},
     "output_type": "execute_result"
    }
   ],
   "source": [
    "print(next(a))\n",
    "list(a)"
   ]
  },
  {
   "cell_type": "code",
   "execution_count": 32,
   "id": "5eae1ae0",
   "metadata": {},
   "outputs": [
    {
     "ename": "StopIteration",
     "evalue": "",
     "output_type": "error",
     "traceback": [
      "\u001b[1;31m---------------------------------------------------------------------------\u001b[0m",
      "\u001b[1;31mStopIteration\u001b[0m                             Traceback (most recent call last)",
      "\u001b[1;32m~\\AppData\\Local\\Temp\\ipykernel_8484\\2427226561.py\u001b[0m in \u001b[0;36m<module>\u001b[1;34m\u001b[0m\n\u001b[1;32m----> 1\u001b[1;33m \u001b[0mprint\u001b[0m\u001b[1;33m(\u001b[0m\u001b[0mnext\u001b[0m\u001b[1;33m(\u001b[0m\u001b[0ma\u001b[0m\u001b[1;33m)\u001b[0m\u001b[1;33m)\u001b[0m\u001b[1;33m\u001b[0m\u001b[1;33m\u001b[0m\u001b[0m\n\u001b[0m\u001b[0;32m      2\u001b[0m \u001b[0mprint\u001b[0m\u001b[1;33m(\u001b[0m\u001b[0mnext\u001b[0m\u001b[1;33m(\u001b[0m\u001b[0ma\u001b[0m\u001b[1;33m)\u001b[0m\u001b[1;33m)\u001b[0m\u001b[1;33m\u001b[0m\u001b[1;33m\u001b[0m\u001b[0m\n\u001b[0;32m      3\u001b[0m \u001b[0mprint\u001b[0m\u001b[1;33m(\u001b[0m\u001b[0mnext\u001b[0m\u001b[1;33m(\u001b[0m\u001b[0ma\u001b[0m\u001b[1;33m)\u001b[0m\u001b[1;33m)\u001b[0m\u001b[1;33m\u001b[0m\u001b[1;33m\u001b[0m\u001b[0m\n",
      "\u001b[1;31mStopIteration\u001b[0m: "
     ]
    }
   ],
   "source": [
    "print(next(a))\n",
    "print(next(a))\n",
    "print(next(a))\n"
   ]
  },
  {
   "cell_type": "code",
   "execution_count": null,
   "id": "d5707692",
   "metadata": {},
   "outputs": [],
   "source": [
    "list(a)"
   ]
  },
  {
   "cell_type": "markdown",
   "id": "de3a6389",
   "metadata": {},
   "source": [
    "## Recursive Function\n",
    "  * function apne andar apne aap ko infinite time call krta rahega \n",
    "  * ye kaam while loop se bh ho skta hai "
   ]
  },
  {
   "cell_type": "code",
   "execution_count": 5,
   "id": "48afcf49",
   "metadata": {},
   "outputs": [
    {
     "name": "stdout",
     "output_type": "stream",
     "text": [
      "5\n",
      "4\n",
      "3\n",
      "2\n",
      "1\n",
      "0\n"
     ]
    }
   ],
   "source": [
    "def count_down(x):       # factorial bh recursive se bn skta hai \n",
    "    print(x)\n",
    "    if x==1:\n",
    "        return 0       # return ke bad ko bh command act nh karegi same block ki\n",
    "    return count_down(x-1)    \n",
    "   \n",
    "print(count_down(5))"
   ]
  },
  {
   "cell_type": "markdown",
   "id": "83514ed0",
   "metadata": {},
   "source": [
    "## Make factorial by using Recursive function"
   ]
  },
  {
   "cell_type": "markdown",
   "id": "69987fae",
   "metadata": {},
   "source": [
    "## Map Function"
   ]
  },
  {
   "cell_type": "code",
   "execution_count": 6,
   "id": "9908eb7d",
   "metadata": {},
   "outputs": [
    {
     "data": {
      "text/plain": [
       "<map at 0x29fb992a670>"
      ]
     },
     "execution_count": 6,
     "metadata": {},
     "output_type": "execute_result"
    }
   ],
   "source": [
    "l=[1,2,3,4,5]\n",
    "def abc(x):\n",
    "    return x+2*3\n",
    "map(abc,l)\n",
    "\n"
   ]
  },
  {
   "cell_type": "code",
   "execution_count": 8,
   "id": "ae3481f9",
   "metadata": {},
   "outputs": [
    {
     "data": {
      "text/plain": [
       "[9, 12, 15, 18, 21]"
      ]
     },
     "execution_count": 8,
     "metadata": {},
     "output_type": "execute_result"
    }
   ],
   "source": [
    "l=[1,2,3,4,5]\n",
    "def abc(x):\n",
    "    return (x+2)*3\n",
    "list(map(abc,l))"
   ]
  },
  {
   "cell_type": "code",
   "execution_count": 9,
   "id": "a7adc5d1",
   "metadata": {},
   "outputs": [
    {
     "data": {
      "text/plain": [
       "[9, 12, 15, 18, 21]"
      ]
     },
     "execution_count": 9,
     "metadata": {},
     "output_type": "execute_result"
    }
   ],
   "source": [
    "l=[1,2,3,4,5]\n",
    "list(map(lambda x:(x+2)*3,l))"
   ]
  },
  {
   "cell_type": "markdown",
   "id": "69d6a8ad",
   "metadata": {},
   "source": [
    "## Filter Function"
   ]
  },
  {
   "cell_type": "code",
   "execution_count": 11,
   "id": "25a7531e",
   "metadata": {},
   "outputs": [
    {
     "data": {
      "text/plain": [
       "[2, 4]"
      ]
     },
     "execution_count": 11,
     "metadata": {},
     "output_type": "execute_result"
    }
   ],
   "source": [
    "l=[1,2,3,4,5]\n",
    "list(filter(lambda x:x%2==0,l))"
   ]
  },
  {
   "cell_type": "code",
   "execution_count": null,
   "id": "f998e157",
   "metadata": {},
   "outputs": [],
   "source": []
  }
 ],
 "metadata": {
  "kernelspec": {
   "display_name": "Python 3 (ipykernel)",
   "language": "python",
   "name": "python3"
  },
  "language_info": {
   "codemirror_mode": {
    "name": "ipython",
    "version": 3
   },
   "file_extension": ".py",
   "mimetype": "text/x-python",
   "name": "python",
   "nbconvert_exporter": "python",
   "pygments_lexer": "ipython3",
   "version": "3.9.13"
  }
 },
 "nbformat": 4,
 "nbformat_minor": 5
}
