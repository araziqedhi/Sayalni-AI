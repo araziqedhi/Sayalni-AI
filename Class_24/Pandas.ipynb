{
 "cells": [
  {
   "cell_type": "code",
   "execution_count": 2,
   "id": "01a8eae4",
   "metadata": {},
   "outputs": [],
   "source": [
    "import pandas as pd\n",
    "import numpy as np \n",
    "import matplotlib.pyplot as plt"
   ]
  },
  {
   "cell_type": "code",
   "execution_count": 4,
   "id": "5c62ef8e",
   "metadata": {},
   "outputs": [
    {
     "data": {
      "text/plain": [
       "list"
      ]
     },
     "metadata": {},
     "output_type": "display_data"
    },
    {
     "data": {
      "text/plain": [
       "['a', 'b', 'c']"
      ]
     },
     "metadata": {},
     "output_type": "display_data"
    }
   ],
   "source": [
    "l = [\"a\",\"b\",\"c\"]\n",
    "display(type(l))\n",
    "display(l)"
   ]
  },
  {
   "cell_type": "code",
   "execution_count": 5,
   "id": "bf69f83e",
   "metadata": {},
   "outputs": [
    {
     "data": {
      "text/plain": [
       "numpy.ndarray"
      ]
     },
     "metadata": {},
     "output_type": "display_data"
    },
    {
     "data": {
      "text/plain": [
       "array(['a', 'b', 'c'], dtype='<U1')"
      ]
     },
     "metadata": {},
     "output_type": "display_data"
    }
   ],
   "source": [
    "l = np.array([\"a\",\"b\",\"c\"])\n",
    "display(type(l))\n",
    "display(l)"
   ]
  },
  {
   "cell_type": "markdown",
   "id": "a654b64e",
   "metadata": {},
   "source": [
    "## Series Data Type in Pandas"
   ]
  },
  {
   "cell_type": "code",
   "execution_count": 6,
   "id": "14379a7d",
   "metadata": {},
   "outputs": [
    {
     "data": {
      "text/plain": [
       "pandas.core.series.Series"
      ]
     },
     "metadata": {},
     "output_type": "display_data"
    },
    {
     "data": {
      "text/plain": [
       "0    a\n",
       "1    b\n",
       "2    c\n",
       "dtype: object"
      ]
     },
     "metadata": {},
     "output_type": "display_data"
    }
   ],
   "source": [
    "l = pd.Series([\"a\",\"b\",\"c\"])\n",
    "display(type(l))\n",
    "display(l)"
   ]
  },
  {
   "cell_type": "code",
   "execution_count": 8,
   "id": "e16be083",
   "metadata": {},
   "outputs": [
    {
     "data": {
      "text/plain": [
       "list"
      ]
     },
     "metadata": {},
     "output_type": "display_data"
    },
    {
     "data": {
      "text/plain": [
       "[[1, 2, 3], [4, 5, 6], [7, 8, 9]]"
      ]
     },
     "metadata": {},
     "output_type": "display_data"
    }
   ],
   "source": [
    "l=[[1,2,3],\n",
    "  [4,5,6],\n",
    "  [7,8,9]]\n",
    "display(type(l))\n",
    "display(l)"
   ]
  },
  {
   "cell_type": "code",
   "execution_count": 9,
   "id": "77dd4fd9",
   "metadata": {},
   "outputs": [
    {
     "data": {
      "text/plain": [
       "numpy.ndarray"
      ]
     },
     "metadata": {},
     "output_type": "display_data"
    },
    {
     "data": {
      "text/plain": [
       "array([[1, 2, 3],\n",
       "       [4, 5, 6],\n",
       "       [7, 8, 9]])"
      ]
     },
     "metadata": {},
     "output_type": "display_data"
    }
   ],
   "source": [
    "l=np.array([[1,2,3],\n",
    "  [4,5,6],\n",
    "  [7,8,9]])\n",
    "display(type(l))\n",
    "display(l)"
   ]
  },
  {
   "cell_type": "markdown",
   "id": "4bfecb61",
   "metadata": {},
   "source": [
    "## Pandas Data Frame"
   ]
  },
  {
   "cell_type": "code",
   "execution_count": 12,
   "id": "088e1b3d",
   "metadata": {},
   "outputs": [
    {
     "data": {
      "text/plain": [
       "pandas.core.frame.DataFrame"
      ]
     },
     "metadata": {},
     "output_type": "display_data"
    },
    {
     "data": {
      "text/html": [
       "<div>\n",
       "<style scoped>\n",
       "    .dataframe tbody tr th:only-of-type {\n",
       "        vertical-align: middle;\n",
       "    }\n",
       "\n",
       "    .dataframe tbody tr th {\n",
       "        vertical-align: top;\n",
       "    }\n",
       "\n",
       "    .dataframe thead th {\n",
       "        text-align: right;\n",
       "    }\n",
       "</style>\n",
       "<table border=\"1\" class=\"dataframe\">\n",
       "  <thead>\n",
       "    <tr style=\"text-align: right;\">\n",
       "      <th></th>\n",
       "      <th>0</th>\n",
       "      <th>1</th>\n",
       "      <th>2</th>\n",
       "    </tr>\n",
       "  </thead>\n",
       "  <tbody>\n",
       "    <tr>\n",
       "      <th>0</th>\n",
       "      <td>1</td>\n",
       "      <td>2</td>\n",
       "      <td>3</td>\n",
       "    </tr>\n",
       "    <tr>\n",
       "      <th>1</th>\n",
       "      <td>4</td>\n",
       "      <td>5</td>\n",
       "      <td>6</td>\n",
       "    </tr>\n",
       "    <tr>\n",
       "      <th>2</th>\n",
       "      <td>7</td>\n",
       "      <td>8</td>\n",
       "      <td>9</td>\n",
       "    </tr>\n",
       "  </tbody>\n",
       "</table>\n",
       "</div>"
      ],
      "text/plain": [
       "   0  1  2\n",
       "0  1  2  3\n",
       "1  4  5  6\n",
       "2  7  8  9"
      ]
     },
     "metadata": {},
     "output_type": "display_data"
    }
   ],
   "source": [
    "l=pd.DataFrame([[1,2,3],\n",
    "  [4,5,6],\n",
    "  [7,8,9]])\n",
    "display(type(l))\n",
    "display(l)"
   ]
  },
  {
   "cell_type": "markdown",
   "id": "2769559a",
   "metadata": {},
   "source": [
    "## How we can create Series in pandas ??\n",
    "* list \n",
    "* tuple\n",
    "* list for index and list for values\n",
    "* dictionary"
   ]
  },
  {
   "cell_type": "code",
   "execution_count": 16,
   "id": "1c8f20d0",
   "metadata": {},
   "outputs": [
    {
     "data": {
      "text/plain": [
       "list"
      ]
     },
     "metadata": {},
     "output_type": "display_data"
    },
    {
     "data": {
      "text/plain": [
       "['A',\n",
       " 'B',\n",
       " 'D',\n",
       " 'J',\n",
       " 'D',\n",
       " 'F',\n",
       " 'H',\n",
       " 'F',\n",
       " 'F',\n",
       " 'H',\n",
       " 'K',\n",
       " 'F',\n",
       " 'H',\n",
       " 'A',\n",
       " 'U',\n",
       " 'F',\n",
       " 'H',\n",
       " 'F',\n",
       " 'U',\n",
       " 'U',\n",
       " 'R',\n",
       " 'R',\n",
       " 'U']"
      ]
     },
     "metadata": {},
     "output_type": "display_data"
    },
    {
     "data": {
      "text/plain": [
       "pandas.core.series.Series"
      ]
     },
     "metadata": {},
     "output_type": "display_data"
    },
    {
     "data": {
      "text/plain": [
       "0     A\n",
       "1     B\n",
       "2     D\n",
       "3     J\n",
       "4     D\n",
       "5     F\n",
       "6     H\n",
       "7     F\n",
       "8     F\n",
       "9     H\n",
       "10    K\n",
       "11    F\n",
       "12    H\n",
       "13    A\n",
       "14    U\n",
       "15    F\n",
       "16    H\n",
       "17    F\n",
       "18    U\n",
       "19    U\n",
       "20    R\n",
       "21    R\n",
       "22    U\n",
       "dtype: object"
      ]
     },
     "metadata": {},
     "output_type": "display_data"
    }
   ],
   "source": [
    "l=list(\"ABDJDFHFFHKFHAUFHFUURRU\")\n",
    "display(type(l))\n",
    "display(l)\n",
    "\n",
    "l=pd.Series(l)\n",
    "display(type(l))\n",
    "display(l)"
   ]
  },
  {
   "cell_type": "code",
   "execution_count": 17,
   "id": "afc0ee8f",
   "metadata": {},
   "outputs": [
    {
     "data": {
      "text/plain": [
       "tuple"
      ]
     },
     "metadata": {},
     "output_type": "display_data"
    },
    {
     "data": {
      "text/plain": [
       "('A',\n",
       " 'B',\n",
       " 'D',\n",
       " 'J',\n",
       " 'D',\n",
       " 'F',\n",
       " 'H',\n",
       " 'F',\n",
       " 'F',\n",
       " 'H',\n",
       " 'K',\n",
       " 'F',\n",
       " 'H',\n",
       " 'A',\n",
       " 'U',\n",
       " 'F',\n",
       " 'H',\n",
       " 'F',\n",
       " 'U',\n",
       " 'U',\n",
       " 'R',\n",
       " 'R',\n",
       " 'U')"
      ]
     },
     "metadata": {},
     "output_type": "display_data"
    },
    {
     "data": {
      "text/plain": [
       "pandas.core.series.Series"
      ]
     },
     "metadata": {},
     "output_type": "display_data"
    },
    {
     "data": {
      "text/plain": [
       "0     A\n",
       "1     B\n",
       "2     D\n",
       "3     J\n",
       "4     D\n",
       "5     F\n",
       "6     H\n",
       "7     F\n",
       "8     F\n",
       "9     H\n",
       "10    K\n",
       "11    F\n",
       "12    H\n",
       "13    A\n",
       "14    U\n",
       "15    F\n",
       "16    H\n",
       "17    F\n",
       "18    U\n",
       "19    U\n",
       "20    R\n",
       "21    R\n",
       "22    U\n",
       "dtype: object"
      ]
     },
     "metadata": {},
     "output_type": "display_data"
    }
   ],
   "source": [
    "l=tuple(\"ABDJDFHFFHKFHAUFHFUURRU\")\n",
    "display(type(l))\n",
    "display(l)\n",
    "\n",
    "l=pd.Series(l)\n",
    "display(type(l))\n",
    "display(l)"
   ]
  },
  {
   "cell_type": "code",
   "execution_count": 18,
   "id": "2e61f38d",
   "metadata": {},
   "outputs": [
    {
     "data": {
      "text/plain": [
       "dict"
      ]
     },
     "metadata": {},
     "output_type": "display_data"
    },
    {
     "data": {
      "text/plain": [
       "{'a': 'Pakistan', 'b': 'China', 'c': 'India'}"
      ]
     },
     "metadata": {},
     "output_type": "display_data"
    },
    {
     "data": {
      "text/plain": [
       "pandas.core.series.Series"
      ]
     },
     "metadata": {},
     "output_type": "display_data"
    },
    {
     "data": {
      "text/plain": [
       "a    Pakistan\n",
       "b       China\n",
       "c       India\n",
       "dtype: object"
      ]
     },
     "metadata": {},
     "output_type": "display_data"
    }
   ],
   "source": [
    "l = {\n",
    "    \"a\":\"Pakistan\",\n",
    "    \"b\":\"China\",\n",
    "    \"c\":\"India\"\n",
    "}\n",
    "display(type(l))\n",
    "display(l)\n",
    "\n",
    "l=pd.Series(l)\n",
    "display(type(l))\n",
    "display(l)"
   ]
  },
  {
   "cell_type": "code",
   "execution_count": 21,
   "id": "21b9022d",
   "metadata": {},
   "outputs": [
    {
     "data": {
      "text/plain": [
       "A    100\n",
       "B    200\n",
       "C    300\n",
       "dtype: int64"
      ]
     },
     "metadata": {},
     "output_type": "display_data"
    }
   ],
   "source": [
    "i = [\"A\",\"B\",\"C\"]\n",
    "v = [100,200,300]\n",
    "\n",
    "l= pd.Series(v,i)\n",
    "l=pd.Series(data=v,index=i)\n",
    "display(l)"
   ]
  },
  {
   "cell_type": "code",
   "execution_count": 26,
   "id": "747c1225",
   "metadata": {},
   "outputs": [
    {
     "data": {
      "text/plain": [
       "array([ 6, 77, 65, 75, 77, 10, 30, 67, 14, 48])"
      ]
     },
     "metadata": {},
     "output_type": "display_data"
    },
    {
     "data": {
      "text/plain": [
       "0     6\n",
       "1    77\n",
       "2    65\n",
       "3    75\n",
       "4    77\n",
       "5    10\n",
       "6    30\n",
       "7    67\n",
       "8    14\n",
       "9    48\n",
       "Name: abcd, dtype: int64"
      ]
     },
     "execution_count": 26,
     "metadata": {},
     "output_type": "execute_result"
    }
   ],
   "source": [
    "n = np.random.randint(1,100,10)\n",
    "display(n)\n",
    "pd.Series(n,name=\"abcd\",dtype=np.int64)"
   ]
  },
  {
   "cell_type": "markdown",
   "id": "ee706fa1",
   "metadata": {},
   "source": [
    "## How can we create DataFrame in Pandas ??\n",
    "* Matrics \n",
    "* list of list \n",
    "* tuple of tuple \n",
    "* dictionary \n",
    "* 2-D Array \n",
    "* DataFrame Attributes \n",
    "     * dtype \n",
    "     * shape"
   ]
  },
  {
   "cell_type": "code",
   "execution_count": 28,
   "id": "9355831a",
   "metadata": {},
   "outputs": [
    {
     "data": {
      "text/html": [
       "<div>\n",
       "<style scoped>\n",
       "    .dataframe tbody tr th:only-of-type {\n",
       "        vertical-align: middle;\n",
       "    }\n",
       "\n",
       "    .dataframe tbody tr th {\n",
       "        vertical-align: top;\n",
       "    }\n",
       "\n",
       "    .dataframe thead th {\n",
       "        text-align: right;\n",
       "    }\n",
       "</style>\n",
       "<table border=\"1\" class=\"dataframe\">\n",
       "  <thead>\n",
       "    <tr style=\"text-align: right;\">\n",
       "      <th></th>\n",
       "      <th>0</th>\n",
       "      <th>1</th>\n",
       "      <th>2</th>\n",
       "    </tr>\n",
       "  </thead>\n",
       "  <tbody>\n",
       "    <tr>\n",
       "      <th>0</th>\n",
       "      <td>1</td>\n",
       "      <td>2</td>\n",
       "      <td>3</td>\n",
       "    </tr>\n",
       "    <tr>\n",
       "      <th>1</th>\n",
       "      <td>4</td>\n",
       "      <td>5</td>\n",
       "      <td>6</td>\n",
       "    </tr>\n",
       "    <tr>\n",
       "      <th>2</th>\n",
       "      <td>7</td>\n",
       "      <td>8</td>\n",
       "      <td>9</td>\n",
       "    </tr>\n",
       "  </tbody>\n",
       "</table>\n",
       "</div>"
      ],
      "text/plain": [
       "   0  1  2\n",
       "0  1  2  3\n",
       "1  4  5  6\n",
       "2  7  8  9"
      ]
     },
     "metadata": {},
     "output_type": "display_data"
    }
   ],
   "source": [
    "l=[[1,2,3],\n",
    "  [4,5,6],\n",
    "  [7,8,9]]\n",
    "df = pd.DataFrame(l)\n",
    "display(df)"
   ]
  },
  {
   "cell_type": "code",
   "execution_count": 29,
   "id": "e0b03674",
   "metadata": {},
   "outputs": [
    {
     "data": {
      "text/html": [
       "<div>\n",
       "<style scoped>\n",
       "    .dataframe tbody tr th:only-of-type {\n",
       "        vertical-align: middle;\n",
       "    }\n",
       "\n",
       "    .dataframe tbody tr th {\n",
       "        vertical-align: top;\n",
       "    }\n",
       "\n",
       "    .dataframe thead th {\n",
       "        text-align: right;\n",
       "    }\n",
       "</style>\n",
       "<table border=\"1\" class=\"dataframe\">\n",
       "  <thead>\n",
       "    <tr style=\"text-align: right;\">\n",
       "      <th></th>\n",
       "      <th>0</th>\n",
       "      <th>1</th>\n",
       "      <th>2</th>\n",
       "    </tr>\n",
       "  </thead>\n",
       "  <tbody>\n",
       "    <tr>\n",
       "      <th>0</th>\n",
       "      <td>1</td>\n",
       "      <td>2</td>\n",
       "      <td>3</td>\n",
       "    </tr>\n",
       "    <tr>\n",
       "      <th>1</th>\n",
       "      <td>4</td>\n",
       "      <td>5</td>\n",
       "      <td>6</td>\n",
       "    </tr>\n",
       "    <tr>\n",
       "      <th>2</th>\n",
       "      <td>7</td>\n",
       "      <td>8</td>\n",
       "      <td>9</td>\n",
       "    </tr>\n",
       "  </tbody>\n",
       "</table>\n",
       "</div>"
      ],
      "text/plain": [
       "   0  1  2\n",
       "0  1  2  3\n",
       "1  4  5  6\n",
       "2  7  8  9"
      ]
     },
     "metadata": {},
     "output_type": "display_data"
    }
   ],
   "source": [
    "l=((1,2,3),\n",
    "  (4,5,6),\n",
    "  (7,8,9))\n",
    "df = pd.DataFrame(l)\n",
    "display(df)"
   ]
  },
  {
   "cell_type": "code",
   "execution_count": 30,
   "id": "ed620bb5",
   "metadata": {},
   "outputs": [
    {
     "data": {
      "text/html": [
       "<div>\n",
       "<style scoped>\n",
       "    .dataframe tbody tr th:only-of-type {\n",
       "        vertical-align: middle;\n",
       "    }\n",
       "\n",
       "    .dataframe tbody tr th {\n",
       "        vertical-align: top;\n",
       "    }\n",
       "\n",
       "    .dataframe thead th {\n",
       "        text-align: right;\n",
       "    }\n",
       "</style>\n",
       "<table border=\"1\" class=\"dataframe\">\n",
       "  <thead>\n",
       "    <tr style=\"text-align: right;\">\n",
       "      <th></th>\n",
       "      <th>0</th>\n",
       "      <th>1</th>\n",
       "      <th>2</th>\n",
       "    </tr>\n",
       "  </thead>\n",
       "  <tbody>\n",
       "    <tr>\n",
       "      <th>0</th>\n",
       "      <td>1</td>\n",
       "      <td>2</td>\n",
       "      <td>3</td>\n",
       "    </tr>\n",
       "    <tr>\n",
       "      <th>1</th>\n",
       "      <td>4</td>\n",
       "      <td>5</td>\n",
       "      <td>6</td>\n",
       "    </tr>\n",
       "    <tr>\n",
       "      <th>2</th>\n",
       "      <td>7</td>\n",
       "      <td>8</td>\n",
       "      <td>9</td>\n",
       "    </tr>\n",
       "  </tbody>\n",
       "</table>\n",
       "</div>"
      ],
      "text/plain": [
       "   0  1  2\n",
       "0  1  2  3\n",
       "1  4  5  6\n",
       "2  7  8  9"
      ]
     },
     "execution_count": 30,
     "metadata": {},
     "output_type": "execute_result"
    }
   ],
   "source": [
    "l=[[1,2,3],\n",
    "  [4,5,6],\n",
    "  [7,8,9]]\n",
    "\n",
    "n = np.array(l)\n",
    "df=pd.DataFrame(n)\n",
    "df"
   ]
  },
  {
   "cell_type": "code",
   "execution_count": 33,
   "id": "7cb6b82e",
   "metadata": {},
   "outputs": [
    {
     "data": {
      "text/html": [
       "<div>\n",
       "<style scoped>\n",
       "    .dataframe tbody tr th:only-of-type {\n",
       "        vertical-align: middle;\n",
       "    }\n",
       "\n",
       "    .dataframe tbody tr th {\n",
       "        vertical-align: top;\n",
       "    }\n",
       "\n",
       "    .dataframe thead th {\n",
       "        text-align: right;\n",
       "    }\n",
       "</style>\n",
       "<table border=\"1\" class=\"dataframe\">\n",
       "  <thead>\n",
       "    <tr style=\"text-align: right;\">\n",
       "      <th></th>\n",
       "      <th>id</th>\n",
       "      <th>name</th>\n",
       "      <th>cnic</th>\n",
       "    </tr>\n",
       "  </thead>\n",
       "  <tbody>\n",
       "    <tr>\n",
       "      <th>a</th>\n",
       "      <td>1</td>\n",
       "      <td>2</td>\n",
       "      <td>3</td>\n",
       "    </tr>\n",
       "    <tr>\n",
       "      <th>b</th>\n",
       "      <td>4</td>\n",
       "      <td>5</td>\n",
       "      <td>6</td>\n",
       "    </tr>\n",
       "    <tr>\n",
       "      <th>c</th>\n",
       "      <td>7</td>\n",
       "      <td>8</td>\n",
       "      <td>9</td>\n",
       "    </tr>\n",
       "  </tbody>\n",
       "</table>\n",
       "</div>"
      ],
      "text/plain": [
       "   id  name  cnic\n",
       "a   1     2     3\n",
       "b   4     5     6\n",
       "c   7     8     9"
      ]
     },
     "execution_count": 33,
     "metadata": {},
     "output_type": "execute_result"
    }
   ],
   "source": [
    "l=[[1,2,3],\n",
    "  [4,5,6],\n",
    "  [7,8,9]]\n",
    "\n",
    "n = np.array(l)\n",
    "df=pd.DataFrame(n,columns=[\"id\",\"name\",\"cnic\"],\n",
    "                  index = [\"a\",\"b\",\"c\"])\n",
    "df"
   ]
  },
  {
   "cell_type": "markdown",
   "id": "68ed9d98",
   "metadata": {},
   "source": [
    "## Data Frame Components \n",
    "* column index\n",
    "* row index\n",
    "* values"
   ]
  },
  {
   "cell_type": "code",
   "execution_count": 39,
   "id": "2633f604",
   "metadata": {},
   "outputs": [
    {
     "data": {
      "text/plain": [
       "Index(['id', 'name', 'cnic'], dtype='object')"
      ]
     },
     "metadata": {},
     "output_type": "display_data"
    },
    {
     "data": {
      "text/plain": [
       "Index(['a', 'b', 'c'], dtype='object')"
      ]
     },
     "metadata": {},
     "output_type": "display_data"
    },
    {
     "data": {
      "text/plain": [
       "array([[1, 2, 3],\n",
       "       [4, 5, 6],\n",
       "       [7, 8, 9]])"
      ]
     },
     "metadata": {},
     "output_type": "display_data"
    }
   ],
   "source": [
    "l=[[1,2,3],\n",
    "  [4,5,6],\n",
    "  [7,8,9]]\n",
    "\n",
    "n = np.array(l)\n",
    "df=pd.DataFrame(n,columns=[\"id\",\"name\",\"cnic\"],\n",
    "                  index = [\"a\",\"b\",\"c\"])\n",
    "display(df.columns)\n",
    "display(df.index)\n",
    "display(df.values)"
   ]
  },
  {
   "cell_type": "code",
   "execution_count": null,
   "id": "46091010",
   "metadata": {},
   "outputs": [],
   "source": []
  }
 ],
 "metadata": {
  "kernelspec": {
   "display_name": "Python 3 (ipykernel)",
   "language": "python",
   "name": "python3"
  },
  "language_info": {
   "codemirror_mode": {
    "name": "ipython",
    "version": 3
   },
   "file_extension": ".py",
   "mimetype": "text/x-python",
   "name": "python",
   "nbconvert_exporter": "python",
   "pygments_lexer": "ipython3",
   "version": "3.9.13"
  }
 },
 "nbformat": 4,
 "nbformat_minor": 5
}
