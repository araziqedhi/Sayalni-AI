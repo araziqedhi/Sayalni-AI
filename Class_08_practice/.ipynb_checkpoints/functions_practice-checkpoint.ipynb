{
 "cells": [
  {
   "cell_type": "markdown",
   "id": "b8088332",
   "metadata": {},
   "source": [
    "## Functions \n",
    " * 1) Return Function \n",
    " * 2) Non Return Function\n",
    " * 3) Default Function \n",
    " * 4) required Argument Function \n",
    " * 5) Optional Argument Function \n",
    " * 6) Positional Arguments Function\n",
    " * 7) key/word Argument Function \n",
    " * 8) lambda Function \n",
    " * 9) Recursive Function \n",
    " * 10)Generator Function \n",
    " "
   ]
  },
  {
   "cell_type": "markdown",
   "id": "6e7f9263",
   "metadata": {},
   "source": [
    "## 1) Default Function "
   ]
  },
  {
   "cell_type": "code",
   "execution_count": 1,
   "id": "0b844b60",
   "metadata": {},
   "outputs": [
    {
     "name": "stdout",
     "output_type": "stream",
     "text": [
      "\n",
      "my country name is Pakistan \n",
      "I love my coutry \n",
      "    \n"
     ]
    }
   ],
   "source": [
    "# Default and Return Function \n",
    "def my_message():\n",
    "    message = '''\n",
    "my country name is Pakistan \n",
    "I love my coutry \n",
    "    '''\n",
    "    return message \n",
    "print(my_message())"
   ]
  },
  {
   "cell_type": "code",
   "execution_count": 2,
   "id": "6c8e97c3",
   "metadata": {},
   "outputs": [
    {
     "name": "stdout",
     "output_type": "stream",
     "text": [
      "\n",
      "I love my country \n",
      "My country name is Pakistan\n",
      "My coutry is love\n",
      "    \n",
      "\n",
      "I love my country \n",
      "My country name is Pakistan\n",
      "My coutry is love\n",
      "    \n"
     ]
    }
   ],
   "source": [
    "# Default and Return Function \n",
    "def my_message2():\n",
    "    message2='''\n",
    "I love my country \n",
    "My country name is Pakistan\n",
    "My coutry is love\n",
    "    '''\n",
    "    return message2\n",
    "\n",
    "a=my_message2()\n",
    "print(a)\n",
    "print(a)"
   ]
  },
  {
   "cell_type": "code",
   "execution_count": 3,
   "id": "3457311d",
   "metadata": {},
   "outputs": [
    {
     "name": "stdout",
     "output_type": "stream",
     "text": [
      "we love country \n",
      "Pakistan zindabad\n",
      "pakistan is love\n",
      "None\n"
     ]
    }
   ],
   "source": [
    "# Default and Non Return Function \n",
    "def country_message(): # function decleartion\n",
    "    # function body starts \n",
    "    print(\"we love country \")  #statement 1\n",
    "    print(\"Pakistan zindabad\") #statemnet 2 \n",
    "    print(\"pakistan is love\")  #statement 3\n",
    "    # function body end\n",
    "a=country_message()\n",
    "print(a)"
   ]
  },
  {
   "cell_type": "markdown",
   "id": "f276eae6",
   "metadata": {},
   "source": [
    "## 2) Required Argument Function "
   ]
  },
  {
   "cell_type": "code",
   "execution_count": 4,
   "id": "5b0d3c10",
   "metadata": {},
   "outputs": [
    {
     "name": "stdout",
     "output_type": "stream",
     "text": [
      "\n",
      "I love Pakistan \n",
      "I like Pakistan \n",
      "I hate Pakistan \n",
      "    \n"
     ]
    }
   ],
   "source": [
    "def important_message(argument1):\n",
    "    message = '''\n",
    "I love Pakistan \n",
    "I like Pakistan \n",
    "I hate Pakistan \n",
    "    '''\n",
    "    return message \n",
    "a = important_message(\"USA\")\n",
    "print(a)"
   ]
  },
  {
   "cell_type": "code",
   "execution_count": 5,
   "id": "c3bcaf5d",
   "metadata": {},
   "outputs": [
    {
     "name": "stdout",
     "output_type": "stream",
     "text": [
      "\n",
      "I love USA\n",
      "I like USA \n",
      "I hate USA\n",
      "    \n"
     ]
    }
   ],
   "source": [
    "def important_message(argument1):\n",
    "    message = f'''\n",
    "I love {argument1}\n",
    "I like {argument1} \n",
    "I hate {argument1}\n",
    "    '''\n",
    "    return message \n",
    "a = important_message(\"USA\")\n",
    "print(a)"
   ]
  },
  {
   "cell_type": "markdown",
   "id": "2f3ca7bb",
   "metadata": {},
   "source": [
    "## Making Saylani Card with argument Function "
   ]
  },
  {
   "cell_type": "code",
   "execution_count": 6,
   "id": "3c6d6c7f",
   "metadata": {},
   "outputs": [
    {
     "name": "stdout",
     "output_type": "stream",
     "text": [
      "\n",
      "    Saylni Student Card \n",
      "    \n",
      "Student Name : Abdul Raziq\n",
      "Roll No  :     234\n",
      "Course   :     AI\n",
      "Batch    :     2019\n",
      "    \n"
     ]
    }
   ],
   "source": [
    "def student_card(name,roll,course,batch):\n",
    "    card = f'''\n",
    "    Saylni Student Card \n",
    "    \n",
    "Student Name : {name}\n",
    "Roll No  :     {roll}\n",
    "Course   :     {course}\n",
    "Batch    :     {batch}\n",
    "    '''\n",
    "    return card\n",
    "print(student_card(\"Abdul Raziq\",\"234\",\"AI\",2019))"
   ]
  },
  {
   "cell_type": "code",
   "execution_count": 12,
   "id": "5a857be6",
   "metadata": {},
   "outputs": [
    {
     "name": "stdout",
     "output_type": "stream",
     "text": [
      "{'Name': 'Raziq', 'Roll': '234', 'Course': 'AI', 'Batch': 'AI'}\n",
      "\n",
      "    Saylni Student Card \n",
      "    \n",
      "Student Name : Raziq\n",
      "Roll No  :     234\n",
      "Course   :     AI\n",
      "Batch    :     AI\n",
      "    \n",
      "{'Name': 'aziq', 'Roll': '34', 'Course': 'AI', 'Batch': 'AI'}\n",
      "\n",
      "    Saylni Student Card \n",
      "    \n",
      "Student Name : aziq\n",
      "Roll No  :     34\n",
      "Course   :     AI\n",
      "Batch    :     AI\n",
      "    \n",
      "{'Name': 'ziq', 'Roll': '4', 'Course': 'AI', 'Batch': 'AI'}\n",
      "\n",
      "    Saylni Student Card \n",
      "    \n",
      "Student Name : ziq\n",
      "Roll No  :     4\n",
      "Course   :     AI\n",
      "Batch    :     AI\n",
      "    \n"
     ]
    }
   ],
   "source": [
    "data = [\n",
    "    {\"Name\":\"Raziq\",\"Roll\":\"234\",\"Course\":\"AI\",\"Batch\":\"AI\"},\n",
    "    {\"Name\":\"aziq\",\"Roll\":\"34\",\"Course\":\"AI\",\"Batch\":\"AI\"},\n",
    "    {\"Name\":\"ziq\",\"Roll\":\"4\",\"Course\":\"AI\",\"Batch\":\"AI\"}\n",
    "]\n",
    "for row in data:\n",
    "    print(row)\n",
    "    print(student_card(row[\"Name\"],row[\"Roll\"],row[\"Course\"],row[\"Batch\"]))"
   ]
  },
  {
   "cell_type": "markdown",
   "id": "3e4f5613",
   "metadata": {},
   "source": [
    "## 3) Optional Argument Function "
   ]
  },
  {
   "cell_type": "code",
   "execution_count": 17,
   "id": "c573f981",
   "metadata": {},
   "outputs": [
    {
     "name": "stdout",
     "output_type": "stream",
     "text": [
      "14\n",
      "0\n"
     ]
    }
   ],
   "source": [
    "def my_optional_function(a=0,b=0):\n",
    "    calculation = a + b\n",
    "    return calculation\n",
    "\n",
    "print(my_optional_function(5,9))\n",
    "print(my_optional_function())"
   ]
  },
  {
   "cell_type": "markdown",
   "id": "c3b73253",
   "metadata": {},
   "source": [
    "## 4) Positional Arguments Functions"
   ]
  },
  {
   "cell_type": "code",
   "execution_count": 25,
   "id": "834cb2a7",
   "metadata": {},
   "outputs": [
    {
     "name": "stdout",
     "output_type": "stream",
     "text": [
      "9\n",
      "12\n",
      "31\n",
      "0\n"
     ]
    }
   ],
   "source": [
    "def add_numbers (num1=0,num2=0):\n",
    "    numbers = num1+ num2\n",
    "    return numbers\n",
    "print(add_numbers(9))\n",
    "print(add_numbers(9,3))\n",
    "print(add_numbers(2,29))\n",
    "print(add_numbers())"
   ]
  },
  {
   "cell_type": "markdown",
   "id": "6b7a5da6",
   "metadata": {},
   "source": [
    "## 5) Key/Words Arguments Functions"
   ]
  },
  {
   "cell_type": "code",
   "execution_count": 30,
   "id": "7bc68165",
   "metadata": {},
   "outputs": [
    {
     "name": "stdout",
     "output_type": "stream",
     "text": [
      "9\n",
      "11\n",
      "13\n",
      "12\n"
     ]
    }
   ],
   "source": [
    "def add_two_numbers (num1=5,num2=7):\n",
    "    number = num1 + num2 \n",
    "    return number\n",
    "print(add_two_numbers(num2=4))\n",
    "print(add_two_numbers(num1=4))\n",
    "print(add_two_numbers(num2=4,num1=9))\n",
    "print(add_two_numbers())"
   ]
  },
  {
   "cell_type": "markdown",
   "id": "787c975f",
   "metadata": {},
   "source": [
    "## 6) Unlimited Positional Arguments Functions"
   ]
  },
  {
   "cell_type": "code",
   "execution_count": 34,
   "id": "2f4b645d",
   "metadata": {},
   "outputs": [
    {
     "name": "stdout",
     "output_type": "stream",
     "text": [
      "(4, (5,))\n",
      "<class 'tuple'>\n"
     ]
    }
   ],
   "source": [
    "def unlimited_positional_function(num1,*value):\n",
    "    num = (num1,value)\n",
    "    \n",
    "    return num\n",
    "print(unlimited_positional_function(4,5))\n",
    "print(type(unlimited_positional_function(4,5)))\n"
   ]
  },
  {
   "cell_type": "markdown",
   "id": "551d3ad2",
   "metadata": {},
   "source": [
    "## Sum function for adding Unlimited Arguments "
   ]
  },
  {
   "cell_type": "code",
   "execution_count": 38,
   "id": "139e9c2a",
   "metadata": {},
   "outputs": [
    {
     "name": "stdout",
     "output_type": "stream",
     "text": [
      "<class 'int'> <class 'tuple'>\n",
      "3 (45, 5)\n",
      "53\n"
     ]
    }
   ],
   "source": [
    "def sum_unlimited(num1,*value):\n",
    "    print(type(num1),type(value))\n",
    "    print(num1,value)\n",
    "    result = num1\n",
    "    for i in value:\n",
    "        result +=i\n",
    "    print(result)\n",
    "sum_unlimited(3,45,5)"
   ]
  },
  {
   "cell_type": "markdown",
   "id": "7c0a1311",
   "metadata": {},
   "source": [
    "## Multiplying For Unlimited Arguments"
   ]
  },
  {
   "cell_type": "code",
   "execution_count": 41,
   "id": "f2d72657",
   "metadata": {},
   "outputs": [
    {
     "name": "stdout",
     "output_type": "stream",
     "text": [
      "<class 'int'> <class 'tuple'>\n",
      "3 (6, 3)\n",
      "54\n"
     ]
    }
   ],
   "source": [
    "def mul_unlimited (num1,*value):\n",
    "    print(type(num1),type(value))\n",
    "    print(num1,value)\n",
    "    result = num1\n",
    "    for i in value:\n",
    "        result *=i\n",
    "    print(result)\n",
    "    \n",
    "mul_unlimited(3,6,3)"
   ]
  },
  {
   "cell_type": "markdown",
   "id": "4d78555c",
   "metadata": {},
   "source": [
    "## 7) Unlimited Key/Word Arguments Functions"
   ]
  },
  {
   "cell_type": "code",
   "execution_count": 52,
   "id": "5e1783ea",
   "metadata": {},
   "outputs": [
    {
     "name": "stdout",
     "output_type": "stream",
     "text": [
      "<class 'dict'>\n",
      "{'name': 'raziq', 'class_end': '4th year'}\n"
     ]
    }
   ],
   "source": [
    "def unlimited_key(**value):\n",
    "    print(type(value))\n",
    "    print(value)\n",
    "\n",
    "unlimited_key(name='raziq', class_end=\"4th year\")"
   ]
  },
  {
   "cell_type": "code",
   "execution_count": 55,
   "id": "c451370a",
   "metadata": {},
   "outputs": [
    {
     "name": "stdout",
     "output_type": "stream",
     "text": [
      "<class 'dict'>\n"
     ]
    },
    {
     "data": {
      "text/plain": [
       "{'class_end': 6, 'rah': 8}"
      ]
     },
     "execution_count": 55,
     "metadata": {},
     "output_type": "execute_result"
    }
   ],
   "source": [
    "def unlimited_key2(**values):\n",
    "    print(type(values))\n",
    "    sum = values\n",
    "    return sum \n",
    "unlimited_key2(class_end=6,rah=8)"
   ]
  },
  {
   "cell_type": "markdown",
   "id": "92d0a9af",
   "metadata": {},
   "source": [
    "## Create function with Req Argument , Optional , Unlimited positional and key/word Argument"
   ]
  },
  {
   "cell_type": "code",
   "execution_count": 56,
   "id": "41fe9eb1",
   "metadata": {},
   "outputs": [
    {
     "ename": "SyntaxError",
     "evalue": "invalid syntax (4226531669.py, line 2)",
     "output_type": "error",
     "traceback": [
      "\u001b[1;36m  File \u001b[1;32m\"C:\\Users\\Zbook\\AppData\\Local\\Temp\\ipykernel_996\\4226531669.py\"\u001b[1;36m, line \u001b[1;32m2\u001b[0m\n\u001b[1;33m    card = f '''\u001b[0m\n\u001b[1;37m             ^\u001b[0m\n\u001b[1;31mSyntaxError\u001b[0m\u001b[1;31m:\u001b[0m invalid syntax\n"
     ]
    }
   ],
   "source": [
    "def student_data_functions(name,roll,batch=0,*grades,**skills):\n",
    "    card = f '''\n",
    "Student Profile Card \n",
    "    Student Name : {name}\n",
    "    Student's Roll : {roll}\n",
    "    Students batch :{batch}\n",
    "    Student's grades : {grades}\n",
    "    skills           : {skills}\n",
    "    \n",
    "    '''\n",
    "    return card\n"
   ]
  },
  {
   "cell_type": "code",
   "execution_count": null,
   "id": "58923989",
   "metadata": {},
   "outputs": [],
   "source": []
  }
 ],
 "metadata": {
  "kernelspec": {
   "display_name": "Python 3 (ipykernel)",
   "language": "python",
   "name": "python3"
  },
  "language_info": {
   "codemirror_mode": {
    "name": "ipython",
    "version": 3
   },
   "file_extension": ".py",
   "mimetype": "text/x-python",
   "name": "python",
   "nbconvert_exporter": "python",
   "pygments_lexer": "ipython3",
   "version": "3.9.13"
  }
 },
 "nbformat": 4,
 "nbformat_minor": 5
}
