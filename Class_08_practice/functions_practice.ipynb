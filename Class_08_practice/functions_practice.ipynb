{
 "cells": [
  {
   "cell_type": "markdown",
   "id": "b84326a2",
   "metadata": {},
   "source": [
    "## Functions \n",
    " * 1) Return Function \n",
    " * 2) Non Return Function\n",
    " * 3) Default Function \n",
    " * 4) required Argument Function \n",
    " * 5) Optional Argument Function \n",
    " * 6) Positional Arguments Function\n",
    " * 7) key/word Argument Function \n",
    " * 8) lambda Function \n",
    " * 9) Recursive Function \n",
    " * 10)Generator Function \n",
    " "
   ]
  },
  {
   "cell_type": "markdown",
   "id": "7c8547bc",
   "metadata": {},
   "source": [
    "## 1) Default Function "
   ]
  },
  {
   "cell_type": "code",
   "execution_count": 1,
   "id": "bf63336a",
   "metadata": {},
   "outputs": [
    {
     "name": "stdout",
     "output_type": "stream",
     "text": [
      "\n",
      "my country name is Pakistan \n",
      "I love my coutry \n",
      "    \n"
     ]
    }
   ],
   "source": [
    "# Default and Return Function \n",
    "def my_message():\n",
    "    message = '''\n",
    "my country name is Pakistan \n",
    "I love my coutry \n",
    "    '''\n",
    "    return message \n",
    "print(my_message())"
   ]
  },
  {
   "cell_type": "code",
   "execution_count": 2,
   "id": "72efc0e5",
   "metadata": {},
   "outputs": [
    {
     "name": "stdout",
     "output_type": "stream",
     "text": [
      "\n",
      "I love my country \n",
      "My country name is Pakistan\n",
      "My coutry is love\n",
      "    \n",
      "\n",
      "I love my country \n",
      "My country name is Pakistan\n",
      "My coutry is love\n",
      "    \n"
     ]
    }
   ],
   "source": [
    "# Default and Return Function \n",
    "def my_message2():\n",
    "    message2='''\n",
    "I love my country \n",
    "My country name is Pakistan\n",
    "My coutry is love\n",
    "    '''\n",
    "    return message2\n",
    "\n",
    "a=my_message2()\n",
    "print(a)\n",
    "print(a)"
   ]
  },
  {
   "cell_type": "code",
   "execution_count": 3,
   "id": "bb88abeb",
   "metadata": {},
   "outputs": [
    {
     "name": "stdout",
     "output_type": "stream",
     "text": [
      "we love country \n",
      "Pakistan zindabad\n",
      "pakistan is love\n",
      "None\n"
     ]
    }
   ],
   "source": [
    "# Default and Non Return Function \n",
    "def country_message(): # function decleartion\n",
    "    # function body starts \n",
    "    print(\"we love country \")  #statement 1\n",
    "    print(\"Pakistan zindabad\") #statemnet 2 \n",
    "    print(\"pakistan is love\")  #statement 3\n",
    "    # function body end\n",
    "a=country_message()\n",
    "print(a)"
   ]
  },
  {
   "cell_type": "markdown",
   "id": "030e8dc5",
   "metadata": {},
   "source": [
    "## 2) Required Argument Function "
   ]
  },
  {
   "cell_type": "code",
   "execution_count": 4,
   "id": "ecc14933",
   "metadata": {},
   "outputs": [
    {
     "name": "stdout",
     "output_type": "stream",
     "text": [
      "\n",
      "I love Pakistan \n",
      "I like Pakistan \n",
      "I hate Pakistan \n",
      "    \n"
     ]
    }
   ],
   "source": [
    "def important_message(argument1):\n",
    "    message = '''\n",
    "I love Pakistan \n",
    "I like Pakistan \n",
    "I hate Pakistan \n",
    "    '''\n",
    "    return message \n",
    "a = important_message(\"USA\")\n",
    "print(a)"
   ]
  },
  {
   "cell_type": "code",
   "execution_count": 5,
   "id": "809e6ba9",
   "metadata": {},
   "outputs": [
    {
     "name": "stdout",
     "output_type": "stream",
     "text": [
      "\n",
      "I love USA\n",
      "I like USA \n",
      "I hate USA\n",
      "    \n"
     ]
    }
   ],
   "source": [
    "def important_message(argument1):\n",
    "    message = f'''\n",
    "I love {argument1}\n",
    "I like {argument1} \n",
    "I hate {argument1}\n",
    "    '''\n",
    "    return message \n",
    "a = important_message(\"USA\")\n",
    "print(a)"
   ]
  },
  {
   "cell_type": "markdown",
   "id": "aaf4d7eb",
   "metadata": {},
   "source": [
    "## Making Saylani Card with argument Function "
   ]
  },
  {
   "cell_type": "code",
   "execution_count": 6,
   "id": "a1c323eb",
   "metadata": {},
   "outputs": [
    {
     "name": "stdout",
     "output_type": "stream",
     "text": [
      "\n",
      "    Saylni Student Card \n",
      "    \n",
      "Student Name : Abdul Raziq\n",
      "Roll No  :     234\n",
      "Course   :     AI\n",
      "Batch    :     2019\n",
      "    \n"
     ]
    }
   ],
   "source": [
    "def student_card(name,roll,course,batch):\n",
    "    card = f'''\n",
    "    Saylni Student Card \n",
    "    \n",
    "Student Name : {name}\n",
    "Roll No  :     {roll}\n",
    "Course   :     {course}\n",
    "Batch    :     {batch}\n",
    "    '''\n",
    "    return card\n",
    "print(student_card(\"Abdul Raziq\",\"234\",\"AI\",2019))"
   ]
  },
  {
   "cell_type": "code",
   "execution_count": 7,
   "id": "50af71b7",
   "metadata": {},
   "outputs": [
    {
     "name": "stdout",
     "output_type": "stream",
     "text": [
      "{'Name': 'Raziq', 'Roll': '234', 'Course': 'AI', 'Batch': 'AI'}\n",
      "\n",
      "    Saylni Student Card \n",
      "    \n",
      "Student Name : Raziq\n",
      "Roll No  :     234\n",
      "Course   :     AI\n",
      "Batch    :     AI\n",
      "    \n",
      "{'Name': 'aziq', 'Roll': '34', 'Course': 'AI', 'Batch': 'AI'}\n",
      "\n",
      "    Saylni Student Card \n",
      "    \n",
      "Student Name : aziq\n",
      "Roll No  :     34\n",
      "Course   :     AI\n",
      "Batch    :     AI\n",
      "    \n",
      "{'Name': 'ziq', 'Roll': '4', 'Course': 'AI', 'Batch': 'AI'}\n",
      "\n",
      "    Saylni Student Card \n",
      "    \n",
      "Student Name : ziq\n",
      "Roll No  :     4\n",
      "Course   :     AI\n",
      "Batch    :     AI\n",
      "    \n"
     ]
    }
   ],
   "source": [
    "data = [\n",
    "    {\"Name\":\"Raziq\",\"Roll\":\"234\",\"Course\":\"AI\",\"Batch\":\"AI\"},\n",
    "    {\"Name\":\"aziq\",\"Roll\":\"34\",\"Course\":\"AI\",\"Batch\":\"AI\"},\n",
    "    {\"Name\":\"ziq\",\"Roll\":\"4\",\"Course\":\"AI\",\"Batch\":\"AI\"}\n",
    "]\n",
    "for row in data:\n",
    "    print(row)\n",
    "    print(student_card(row[\"Name\"],row[\"Roll\"],row[\"Course\"],row[\"Batch\"]))"
   ]
  },
  {
   "cell_type": "markdown",
   "id": "c7e3ed16",
   "metadata": {},
   "source": [
    "## 3) Optional Argument Function "
   ]
  },
  {
   "cell_type": "code",
   "execution_count": 8,
   "id": "6f60ac9e",
   "metadata": {},
   "outputs": [
    {
     "name": "stdout",
     "output_type": "stream",
     "text": [
      "14\n",
      "0\n"
     ]
    }
   ],
   "source": [
    "def my_optional_function(a=0,b=0):\n",
    "    calculation = a + b\n",
    "    return calculation\n",
    "\n",
    "print(my_optional_function(5,9))\n",
    "print(my_optional_function())"
   ]
  },
  {
   "cell_type": "markdown",
   "id": "a85a2820",
   "metadata": {},
   "source": [
    "## 4) Positional Arguments Functions"
   ]
  },
  {
   "cell_type": "code",
   "execution_count": 9,
   "id": "8bbef785",
   "metadata": {},
   "outputs": [
    {
     "name": "stdout",
     "output_type": "stream",
     "text": [
      "9\n",
      "12\n",
      "31\n",
      "0\n"
     ]
    }
   ],
   "source": [
    "def add_numbers (num1=0,num2=0):\n",
    "    numbers = num1+ num2\n",
    "    return numbers\n",
    "print(add_numbers(9))\n",
    "print(add_numbers(9,3))\n",
    "print(add_numbers(2,29))\n",
    "print(add_numbers())"
   ]
  },
  {
   "cell_type": "markdown",
   "id": "e9c5c775",
   "metadata": {},
   "source": [
    "## 5) Key/Words Arguments Functions"
   ]
  },
  {
   "cell_type": "code",
   "execution_count": 10,
   "id": "a524e3ad",
   "metadata": {},
   "outputs": [
    {
     "name": "stdout",
     "output_type": "stream",
     "text": [
      "9\n",
      "11\n",
      "13\n",
      "12\n"
     ]
    }
   ],
   "source": [
    "def add_two_numbers (num1=5,num2=7):\n",
    "    number = num1 + num2 \n",
    "    return number\n",
    "print(add_two_numbers(num2=4))\n",
    "print(add_two_numbers(num1=4))\n",
    "print(add_two_numbers(num2=4,num1=9))\n",
    "print(add_two_numbers())"
   ]
  },
  {
   "cell_type": "markdown",
   "id": "1272ce8c",
   "metadata": {},
   "source": [
    "## 6) Unlimited Positional Arguments Functions"
   ]
  },
  {
   "cell_type": "code",
   "execution_count": 11,
   "id": "48f2c986",
   "metadata": {},
   "outputs": [
    {
     "name": "stdout",
     "output_type": "stream",
     "text": [
      "(4, (5,))\n",
      "<class 'tuple'>\n"
     ]
    }
   ],
   "source": [
    "def unlimited_positional_function(num1,*value):\n",
    "    num = (num1,value)\n",
    "    \n",
    "    return num\n",
    "print(unlimited_positional_function(4,5))\n",
    "print(type(unlimited_positional_function(4,5)))\n"
   ]
  },
  {
   "cell_type": "markdown",
   "id": "d8bd0363",
   "metadata": {},
   "source": [
    "## Sum function for adding Unlimited Arguments "
   ]
  },
  {
   "cell_type": "code",
   "execution_count": 12,
   "id": "ef3737dd",
   "metadata": {},
   "outputs": [
    {
     "name": "stdout",
     "output_type": "stream",
     "text": [
      "<class 'int'> <class 'tuple'>\n",
      "3 (45, 5)\n",
      "53\n"
     ]
    }
   ],
   "source": [
    "def sum_unlimited(num1,*value):\n",
    "    print(type(num1),type(value))\n",
    "    print(num1,value)\n",
    "    result = num1\n",
    "    for i in value:\n",
    "        result +=i\n",
    "    print(result)\n",
    "sum_unlimited(3,45,5)"
   ]
  },
  {
   "cell_type": "markdown",
   "id": "f072895e",
   "metadata": {},
   "source": [
    "## Multiplying For Unlimited Arguments"
   ]
  },
  {
   "cell_type": "code",
   "execution_count": 13,
   "id": "49e9891c",
   "metadata": {},
   "outputs": [
    {
     "name": "stdout",
     "output_type": "stream",
     "text": [
      "<class 'int'> <class 'tuple'>\n",
      "3 (6, 3)\n",
      "54\n"
     ]
    }
   ],
   "source": [
    "def mul_unlimited (num1,*value):\n",
    "    print(type(num1),type(value))\n",
    "    print(num1,value)\n",
    "    result = num1\n",
    "    for i in value:\n",
    "        result *=i\n",
    "    print(result)\n",
    "    \n",
    "mul_unlimited(3,6,3)"
   ]
  },
  {
   "cell_type": "markdown",
   "id": "295608b8",
   "metadata": {},
   "source": [
    "## 7) Unlimited Key/Word Arguments Functions"
   ]
  },
  {
   "cell_type": "code",
   "execution_count": 14,
   "id": "4e9c23ec",
   "metadata": {},
   "outputs": [
    {
     "name": "stdout",
     "output_type": "stream",
     "text": [
      "<class 'dict'>\n",
      "{'name': 'raziq', 'class_end': '4th year'}\n"
     ]
    }
   ],
   "source": [
    "def unlimited_key(**value):\n",
    "    print(type(value))\n",
    "    print(value)\n",
    "\n",
    "unlimited_key(name='raziq', class_end=\"4th year\")"
   ]
  },
  {
   "cell_type": "code",
   "execution_count": 15,
   "id": "2fd595cd",
   "metadata": {},
   "outputs": [
    {
     "name": "stdout",
     "output_type": "stream",
     "text": [
      "<class 'dict'>\n"
     ]
    },
    {
     "data": {
      "text/plain": [
       "{'class_end': 6, 'rah': 8}"
      ]
     },
     "execution_count": 15,
     "metadata": {},
     "output_type": "execute_result"
    }
   ],
   "source": [
    "def unlimited_key2(**values):\n",
    "    print(type(values))\n",
    "    sum = values\n",
    "    return sum \n",
    "unlimited_key2(class_end=6,rah=8)"
   ]
  },
  {
   "cell_type": "markdown",
   "id": "d7b6b95e",
   "metadata": {},
   "source": [
    "## Create function with Req Argument , Optional , Unlimited positional and key/word Argument"
   ]
  },
  {
   "cell_type": "code",
   "execution_count": 16,
   "id": "6cad7eb4",
   "metadata": {},
   "outputs": [
    {
     "name": "stdout",
     "output_type": "stream",
     "text": [
      "\n",
      "Student Profile Card \n",
      "    Student Name : AbdulRaziq\n",
      "    Student's Roll : 234\n",
      "    Students batch :2019\n",
      "    Student's grades : (5.8, 1.3, 'criket')\n",
      "    skills           : {'football': 'bad'}\n",
      "    \n",
      "    \n"
     ]
    }
   ],
   "source": [
    "def student_data_functions(name,roll,batch=0,*grades,**skills):\n",
    "    card = f'''\n",
    "Student Profile Card \n",
    "    Student Name : {name}\n",
    "    Student's Roll : {roll}\n",
    "    Students batch :{batch}\n",
    "    Student's grades : {grades}\n",
    "    skills           : {skills}\n",
    "    \n",
    "    '''\n",
    "    return card\n",
    "print(student_data_functions(\"AbdulRaziq\",234,2019,5.8,1.3,'criket',football='bad'))\n"
   ]
  },
  {
   "cell_type": "code",
   "execution_count": 25,
   "id": "47f28981",
   "metadata": {},
   "outputs": [
    {
     "name": "stdout",
     "output_type": "stream",
     "text": [
      "Student Roll no: 1\n",
      "Student Name: Muhammad Qasim\n",
      "Skills:\n",
      "\t python\n",
      "\t java\n",
      "\t typescript\n",
      "\t solidity\n",
      "None\n"
     ]
    }
   ],
   "source": [
    "def std_card(roll_no, name, *skills):\n",
    "    print(\"Student Roll no:\", roll_no)\n",
    "    print(\"Student Name:\", name)\n",
    "    print(\"Skills:\")\n",
    "    for s in skills:\n",
    "        print(\"\\t\",s)\n",
    "\n",
    "print(std_card(1,\"Muhammad Qasim\", \"python\",'java','typescript','solidity'))"
   ]
  },
  {
   "cell_type": "code",
   "execution_count": 26,
   "id": "f1389e23",
   "metadata": {},
   "outputs": [
    {
     "name": "stdout",
     "output_type": "stream",
     "text": [
      "Student Roll no: 1\n",
      "Student Name: raziq\n",
      "Skills:\n",
      "\t gand\n",
      "None\n"
     ]
    }
   ],
   "source": [
    "a=std_card(1,\"raziq\",'gand')\n",
    "print(a)"
   ]
  },
  {
   "cell_type": "code",
   "execution_count": 29,
   "id": "5b88f956",
   "metadata": {},
   "outputs": [
    {
     "name": "stdout",
     "output_type": "stream",
     "text": [
      "Student Roll no: 1\n",
      "Student Name: Muhammad Qasim\n",
      "Skills:\n",
      "\t- python\n",
      "\t- java\n",
      "\t- typescript\n",
      "\t- solidity\n"
     ]
    }
   ],
   "source": [
    "def std_card_3(roll_no, name, *skills):\n",
    "    skills_list = \"\\n\".join([f\"\\t- {skill}\" for skill in skills])\n",
    "    card = f'''Student Roll no: {roll_no}\n",
    "Student Name: {name}\n",
    "Skills:\n",
    "{skills_list}'''\n",
    "    return card\n",
    "print(std_card_3(1,\"Muhammad Qasim\", \"python\",'java','typescript','solidity'))"
   ]
  },
  {
   "cell_type": "markdown",
   "id": "a7a29753",
   "metadata": {},
   "source": [
    "## 8) Lambda Function"
   ]
  },
  {
   "cell_type": "code",
   "execution_count": 32,
   "id": "605cf95a",
   "metadata": {},
   "outputs": [
    {
     "data": {
      "text/plain": [
       "16"
      ]
     },
     "execution_count": 32,
     "metadata": {},
     "output_type": "execute_result"
    }
   ],
   "source": [
    "lambda num1,num2:num1+num2\n",
    "a=lambda num1,num2:num1+num2\n",
    "a(7,9)"
   ]
  },
  {
   "cell_type": "code",
   "execution_count": 33,
   "id": "a0354e55",
   "metadata": {},
   "outputs": [
    {
     "data": {
      "text/plain": [
       "[[1, 'a', 'Z'], [2, 'b', 'Y'], [3, 'c', 'X']]"
      ]
     },
     "execution_count": 33,
     "metadata": {},
     "output_type": "execute_result"
    }
   ],
   "source": [
    "l = [[1,'a','Z'],\n",
    "    [2,'b','Y'],\n",
    "    [3,'c',\"X\"]]\n",
    "l"
   ]
  },
  {
   "cell_type": "code",
   "execution_count": 37,
   "id": "a48c9858",
   "metadata": {},
   "outputs": [
    {
     "name": "stdout",
     "output_type": "stream",
     "text": [
      "[[3, 'c', 'X'], [2, 'b', 'Y'], [1, 'a', 'Z']]\n"
     ]
    }
   ],
   "source": [
    "b=sorted(l,key=lambda l:l[2])\n",
    "print(b)"
   ]
  },
  {
   "cell_type": "markdown",
   "id": "3d395cf5",
   "metadata": {},
   "source": [
    "## 9) Generator Function"
   ]
  },
  {
   "cell_type": "code",
   "execution_count": 41,
   "id": "18656801",
   "metadata": {},
   "outputs": [
    {
     "name": "stdout",
     "output_type": "stream",
     "text": [
      "<generator object generator_function at 0x0000022BD23FB7B0>\n",
      "1\n",
      "2\n"
     ]
    }
   ],
   "source": [
    "def generator_function(start,end):\n",
    "    for i in range(start,end+1):\n",
    "        yield i\n",
    "\n",
    "a=generator_function(1,4)\n",
    "print(a)\n",
    "print(next(a))\n",
    "print(next(a))"
   ]
  },
  {
   "cell_type": "code",
   "execution_count": null,
   "id": "562b8d4c",
   "metadata": {},
   "outputs": [],
   "source": []
  }
 ],
 "metadata": {
  "kernelspec": {
   "display_name": "Python 3 (ipykernel)",
   "language": "python",
   "name": "python3"
  },
  "language_info": {
   "codemirror_mode": {
    "name": "ipython",
    "version": 3
   },
   "file_extension": ".py",
   "mimetype": "text/x-python",
   "name": "python",
   "nbconvert_exporter": "python",
   "pygments_lexer": "ipython3",
   "version": "3.9.13"
  }
 },
 "nbformat": 4,
 "nbformat_minor": 5
}
