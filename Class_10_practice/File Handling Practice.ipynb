{
 "cells": [
  {
   "cell_type": "markdown",
   "id": "ca28cb1b",
   "metadata": {},
   "source": [
    "## There are two types of paths that we have given to files \n",
    "* 1) Absolute Path\n",
    "* 2) Relative Path"
   ]
  },
  {
   "cell_type": "markdown",
   "id": "a222f2ee",
   "metadata": {},
   "source": [
    "##  1) Absolute Path"
   ]
  },
  {
   "cell_type": "markdown",
   "id": "51eb8b84",
   "metadata": {},
   "source": [
    "C:\\Users\\Zbook\\OneDrive\\Desktop\\Saylani\\Class_10_practice"
   ]
  },
  {
   "cell_type": "markdown",
   "id": "5c7015fd",
   "metadata": {},
   "source": [
    "## 2) Relative Path\n",
    "* It is preferable to use this path most of the times"
   ]
  },
  {
   "cell_type": "code",
   "execution_count": 1,
   "id": "8a588c4d",
   "metadata": {},
   "outputs": [
    {
     "data": {
      "text/plain": [
       "<_io.TextIOWrapper name='./text1.txt' mode='r' encoding='cp1252'>"
      ]
     },
     "execution_count": 1,
     "metadata": {},
     "output_type": "execute_result"
    }
   ],
   "source": [
    "open (\"./text1.txt\")"
   ]
  },
  {
   "cell_type": "markdown",
   "id": "3993ba8e",
   "metadata": {},
   "source": [
    "## Some Examples of Relative Path"
   ]
  },
  {
   "cell_type": "code",
   "execution_count": 2,
   "id": "c1e119e4",
   "metadata": {},
   "outputs": [
    {
     "name": "stdout",
     "output_type": "stream",
     "text": [
      "<class '_io.TextIOWrapper'>\n",
      "<_io.TextIOWrapper name='./text1.txt' mode='r' encoding='cp1252'>\n",
      "['_CHUNK_SIZE', '__class__', '__del__', '__delattr__', '__dict__', '__dir__', '__doc__', '__enter__', '__eq__', '__exit__', '__format__', '__ge__', '__getattribute__', '__gt__', '__hash__', '__init__', '__init_subclass__', '__iter__', '__le__', '__lt__', '__ne__', '__new__', '__next__', '__reduce__', '__reduce_ex__', '__repr__', '__setattr__', '__sizeof__', '__str__', '__subclasshook__', '_checkClosed', '_checkReadable', '_checkSeekable', '_checkWritable', '_finalizing', 'buffer', 'close', 'closed', 'detach', 'encoding', 'errors', 'fileno', 'flush', 'isatty', 'line_buffering', 'mode', 'name', 'newlines', 'read', 'readable', 'readline', 'readlines', 'reconfigure', 'seek', 'seekable', 'tell', 'truncate', 'writable', 'write', 'write_through', 'writelines']\n"
     ]
    }
   ],
   "source": [
    "f=open (\"./text1.txt\")\n",
    "print(type(f))\n",
    "print(f)\n",
    "print(dir(f))"
   ]
  },
  {
   "cell_type": "markdown",
   "id": "6a79a0c2",
   "metadata": {},
   "source": [
    "## Example Using the Read the function "
   ]
  },
  {
   "cell_type": "code",
   "execution_count": 3,
   "id": "ba6bcb65",
   "metadata": {},
   "outputs": [],
   "source": [
    "f=open(\"./text1.txt\")\n",
    "f.read()              # Read complete file \n",
    "f.close()             # It is necessary to close the file when its work has been done to remain safe from errors"
   ]
  },
  {
   "cell_type": "markdown",
   "id": "9c85b898",
   "metadata": {},
   "source": [
    "## Example Using the Readline Function"
   ]
  },
  {
   "cell_type": "code",
   "execution_count": 4,
   "id": "f7f1cb67",
   "metadata": {},
   "outputs": [
    {
     "name": "stdout",
     "output_type": "stream",
     "text": [
      "Hello world\n",
      "\n"
     ]
    }
   ],
   "source": [
    "f=open(\"./text1.txt\")\n",
    "print(f.readline())  # To read the first of file only \n",
    "f.close()"
   ]
  },
  {
   "cell_type": "code",
   "execution_count": 5,
   "id": "61a19c8f",
   "metadata": {},
   "outputs": [
    {
     "name": "stdout",
     "output_type": "stream",
     "text": [
      "Hello w\n"
     ]
    }
   ],
   "source": [
    "f=open(\"./text1.txt\")\n",
    "print(f.readline(7)) # use to read the first line only this specific index number \n",
    "f.close()"
   ]
  },
  {
   "cell_type": "markdown",
   "id": "d8289d28",
   "metadata": {},
   "source": [
    "## Example Using the Readlines Function"
   ]
  },
  {
   "cell_type": "code",
   "execution_count": 6,
   "id": "dc2a1eba",
   "metadata": {},
   "outputs": [
    {
     "name": "stdout",
     "output_type": "stream",
     "text": [
      "['Hello world\\n', 'Pakistaan Zindabad\\n', 'India Zindabad\\n', 'USA Zindabad\\n', 'Bangladesh ZindabadHello HussainabadHello Hussainabad\\n', 'Hello Hussainabad\\tHello Hussainabad']\n"
     ]
    }
   ],
   "source": [
    "f=open(\"./text1.txt\")\n",
    "print(f.readlines())  # It uses to run entire File\n",
    "f.close()"
   ]
  },
  {
   "cell_type": "code",
   "execution_count": 7,
   "id": "02dfb748",
   "metadata": {},
   "outputs": [
    {
     "name": "stdout",
     "output_type": "stream",
     "text": [
      "['Hello world\\n', 'Pakistaan Zindabad\\n']\n"
     ]
    }
   ],
   "source": [
    "f=open(\"./text1.txt\")\n",
    "print(f.readlines(12))  # It works on indexing as soon 12 is applied thats why entire second line also prints otherwise if we print 11 only 1st line will print \n",
    "f.close()"
   ]
  },
  {
   "cell_type": "code",
   "execution_count": 8,
   "id": "580603c4",
   "metadata": {},
   "outputs": [
    {
     "name": "stdout",
     "output_type": "stream",
     "text": [
      "['Hello world\\n', 'Pakistaan Zindabad\\n', 'India Zindabad\\n']\n"
     ]
    }
   ],
   "source": [
    "f=open(\"./text1.txt\")\n",
    "print(f.readlines()[:3])  # Here we apply indexing to print specific lines \n",
    "f.close()"
   ]
  },
  {
   "cell_type": "markdown",
   "id": "4ed87cbf",
   "metadata": {},
   "source": [
    "## Read File From Child Directory"
   ]
  },
  {
   "cell_type": "code",
   "execution_count": 9,
   "id": "181bfbd9",
   "metadata": {},
   "outputs": [
    {
     "name": "stdout",
     "output_type": "stream",
     "text": [
      "['Javascript \\n', 'Java\\n']\n"
     ]
    }
   ],
   "source": [
    "f=open(\"./child_directory_folder_1/child_directory_folder_2/child_directory_document1.txt\")\n",
    "print(f.readlines()[1:3])\n",
    "f.close()"
   ]
  },
  {
   "cell_type": "code",
   "execution_count": 10,
   "id": "e67e6543",
   "metadata": {},
   "outputs": [
    {
     "name": "stdout",
     "output_type": "stream",
     "text": [
      "['Css\\n', 'Vanila Js \\n', 'React Js\\n', 'Node Js\\n']\n"
     ]
    }
   ],
   "source": [
    "f=open(\"./child_directory_folder_1/child_directory_text_document2.txt\")\n",
    "print(f.readlines()[1:5])\n",
    "f.close()"
   ]
  },
  {
   "cell_type": "markdown",
   "id": "6412c72b",
   "metadata": {},
   "source": [
    "## Read File from Parent Directory"
   ]
  },
  {
   "cell_type": "code",
   "execution_count": 11,
   "id": "c997cfa1",
   "metadata": {},
   "outputs": [
    {
     "name": "stdout",
     "output_type": "stream",
     "text": [
      "['4 stroke \\n', '2 stroke \\n', '4 Cylinder ']\n"
     ]
    }
   ],
   "source": [
    "f=open(\"../Class_10_file_testing_folder/parent_directory_textfile.txt\")\n",
    "print(f.readlines()[1:4])\n",
    "f.close()"
   ]
  },
  {
   "cell_type": "markdown",
   "id": "e7c73e68",
   "metadata": {},
   "source": [
    "## Read Files from Absolute Path\n",
    "* We some time encounter with errors while loading files with absolute Path . To sort it out we have 2 methods .\n",
    "* 1) Using r before \" \"\n",
    "* 2) Replace \\ with /"
   ]
  },
  {
   "cell_type": "code",
   "execution_count": 12,
   "id": "c613a163",
   "metadata": {},
   "outputs": [
    {
     "name": "stdout",
     "output_type": "stream",
     "text": [
      "['Pakistaan Zindabad\\n', 'India Zindabad\\n', 'USA Zindabad\\n', 'Bangladesh ZindabadHello HussainabadHello Hussainabad\\n']\n"
     ]
    }
   ],
   "source": [
    "f = open(r\"C:\\Users\\Zbook\\OneDrive\\Desktop\\Saylani\\Class_10_practice\\text1.txt\")\n",
    "print(f.readlines()[1:5])\n",
    "f.close()"
   ]
  },
  {
   "cell_type": "markdown",
   "id": "f3585f3c",
   "metadata": {},
   "source": [
    "## Now Open File with Blocks"
   ]
  },
  {
   "cell_type": "markdown",
   "id": "eef159bc",
   "metadata": {},
   "source": [
    "## Reasons for using Block Method\n",
    "* Python supports two methods for opening files: using a with statement and without using it. The with statement is a better       approach and recommended over the simpler method of opening files.\n",
    "\n",
    "* Here are some reasons why using the with statement is a better approach:\n",
    "\n",
    "* Automatic cleanup: When you open a file using the with statement, Python takes care of closing the file for you when you are done with it, even if there is an exception or error that occurs. This is because the with statement uses a context manager that automatically closes the file object once the block is executed.\n",
    "\n",
    "* Readability and simplicity: Using the with statement makes the code more readable and simpler to understand. It clearly indicates where the block of code for working with the file begins and ends, and makes it easy to see that the file will be closed at the end of the block.\n",
    "\n",
    "* Avoidance of bugs and errors: If you forget to close the file after opening it, or you accidentally close it before you are finished with it, it can lead to bugs and errors in your code. Using the with statement helps to prevent these kinds of issues.\n",
    "\n",
    "* Overall, using the with statement to open files in Python is a safer, simpler, and more efficient approach than the simpler method of opening files without it."
   ]
  },
  {
   "cell_type": "code",
   "execution_count": 13,
   "id": "3429805c",
   "metadata": {},
   "outputs": [
    {
     "name": "stdout",
     "output_type": "stream",
     "text": [
      "Hello world\n",
      "Pakistaan Zindabad\n",
      "India Zindabad\n",
      "USA Zindabad\n",
      "Bangladesh ZindabadHello HussainabadHello Hussainabad\n",
      "Hello Hussainabad\tHello Hussainabad\n"
     ]
    }
   ],
   "source": [
    "with open(\"./text1.txt\") as f:\n",
    "    print(f.read())"
   ]
  },
  {
   "cell_type": "code",
   "execution_count": 14,
   "id": "f2e20bb8",
   "metadata": {},
   "outputs": [
    {
     "name": "stdout",
     "output_type": "stream",
     "text": [
      "['Pakistaan Zindabad\\n', 'India Zindabad\\n', 'USA Zindabad\\n']\n"
     ]
    }
   ],
   "source": [
    "with open(\"./text1.txt\") as f:\n",
    "    print(f.readlines()[1:4])"
   ]
  },
  {
   "cell_type": "code",
   "execution_count": 15,
   "id": "938d27fc",
   "metadata": {},
   "outputs": [
    {
     "name": "stdout",
     "output_type": "stream",
     "text": [
      "d\n",
      "Pakistaan Zindabad\n",
      "India Zindabad\n",
      "USA Zindabad\n",
      "Bangladesh ZindabadHello HussainabadHello Hussainabad\n",
      "Hello Hussainabad\tHello Hussainabad\n"
     ]
    }
   ],
   "source": [
    "with open(\"./text1.txt\") as f:\n",
    "    f.seek(10)        # seek removes indices from 1st line then moves to 2nd line but other lines whose indices are not mention remains as same\n",
    "    print(f.read())"
   ]
  },
  {
   "cell_type": "markdown",
   "id": "1e33bd0f",
   "metadata": {},
   "source": [
    "## Now using Modes\n",
    "* Some of the blocks are :\n",
    "\t\n",
    "* 1) r\n",
    "\n",
    "* Opens a file for reading only. The file pointer is placed at the beginning of the file. This is the default mode.\n",
    "\n",
    "\t\n",
    "* 2) rb\n",
    "\n",
    "* Opens a file for reading only in binary format. The file pointer is placed at the beginning of the file. This is the default     mode.\n",
    "\n",
    "\t\n",
    "* 3) r+\n",
    "\n",
    "*  Opens a file for both reading and writing. The file pointer placed at the beginning of the file.\n",
    "\n",
    "\t\n",
    "* 4) rb+\n",
    "\n",
    "* Opens a file for both reading and writing in binary format. The file pointer placed at the beginning of the file.\n",
    "\n",
    "\t\n",
    "* 5) w\n",
    "\n",
    "* Opens a file for writing only. Overwrites the file if the file exists. If the file does not exist, creates a new file for       writing.\n",
    "\n",
    "\t\n",
    "* 6) wb\n",
    "\n",
    "* Opens a file for writing only in binary format. Overwrites the file if the file exists. If the file does not exist, creates a   new file for writing.\n",
    "\t\n",
    "* 7) w+\n",
    "\n",
    "* Opens a file for both writing and reading. Overwrites the existing file if the file exists. If the file does not exist,         creates a new file for reading and writing.\n",
    "\n",
    "\t\n",
    "* 8) wb+\n",
    "\n",
    "* Opens a file for both writing and reading in binary format. Overwrites the existing file if the file exists. If the file does   not exist, creates a new file for reading and writing.\n",
    "\n",
    "\t\n",
    "* 9) a\n",
    "\n",
    "* Opens a file for appending. The file pointer is at the end of the file if the file exists. That is, the file is in the append   mode. If the file does not exist, it creates a new file for writing.\n",
    "\n",
    "\t\n",
    "* 10) ab\n",
    "\n",
    "* Opens a file for appending in binary format. The file pointer is at the end of the file if the file exists. That is, the file   is in the append mode. If the file does not exist, it creates a new file for writing.\n",
    "\n",
    "\t\n",
    "* 11) a+\n",
    "\n",
    "* Opens a file for both appending and reading. The file pointer is at the end of the file if the file exists. The file opens in   the append mode. If the file does not exist, it creates a new file for reading and writing.\n",
    "\n",
    "\t\n",
    "* 12) ab+\n",
    "\n",
    "* Opens a file for both appending and reading in binary format. The file pointer is at the end of the file if the file exists.     The file opens in the append mode. If the file does not exist, it creates a new file for reading and writing."
   ]
  },
  {
   "cell_type": "code",
   "execution_count": 16,
   "id": "435760db",
   "metadata": {},
   "outputs": [
    {
     "name": "stdout",
     "output_type": "stream",
     "text": [
      "Hello world\n",
      "Pakistaan Zindabad\n",
      "India Zindabad\n",
      "USA Zindabad\n",
      "Bangladesh ZindabadHello HussainabadHello Hussainabad\n",
      "Hello Hussainabad\tHello Hussainabad\n"
     ]
    }
   ],
   "source": [
    "with open(\"./text1.txt\", mode=\"r\") as f: \n",
    "    print(f.read())"
   ]
  },
  {
   "cell_type": "code",
   "execution_count": 17,
   "id": "18e79867",
   "metadata": {},
   "outputs": [
    {
     "name": "stdout",
     "output_type": "stream",
     "text": [
      "b'Hello world\\nPakistaan Zindabad\\nIndia Zindabad\\nUSA Zindabad\\nBangladesh ZindabadHello HussainabadHello Hussainabad\\r\\nHello Hussainabad\\tHello Hussainabad'\n"
     ]
    }
   ],
   "source": [
    "with open(\"./text1.txt\",mode=\"rb\") as f:\n",
    "    print(f.read())"
   ]
  },
  {
   "cell_type": "code",
   "execution_count": 20,
   "id": "3e524b98",
   "metadata": {},
   "outputs": [
    {
     "name": "stdout",
     "output_type": "stream",
     "text": [
      "Hello world\n",
      "Pakistaan Zindabad\n",
      "India Zindabad\n",
      "USA Zindabad\n",
      "Bangladesh ZindabadHello HussainabadHello Hussainabad\n",
      "Hello Hussainabad\tHello Hussainabad\tHello Hussainabad\t Hello Hussainabad\n"
     ]
    }
   ],
   "source": [
    "with open(\"./text1.txt\",mode=\"r+\") as f:\n",
    "    print(f.read())\n",
    "    f.write(\"\\n Hello Hussainabad\")"
   ]
  },
  {
   "cell_type": "code",
   "execution_count": 27,
   "id": "373c4acc",
   "metadata": {},
   "outputs": [
    {
     "name": "stdout",
     "output_type": "stream",
     "text": [
      "abdullah\n"
     ]
    }
   ],
   "source": [
    "with open(\"./std1.txt\",mode=\"w+\") as f:  \n",
    "    f.write(\"abdullah\")\n",
    "    f.seek(0)\n",
    "    print(f.read())"
   ]
  },
  {
   "cell_type": "code",
   "execution_count": null,
   "id": "30d7ba89",
   "metadata": {},
   "outputs": [],
   "source": []
  }
 ],
 "metadata": {
  "kernelspec": {
   "display_name": "Python 3 (ipykernel)",
   "language": "python",
   "name": "python3"
  },
  "language_info": {
   "codemirror_mode": {
    "name": "ipython",
    "version": 3
   },
   "file_extension": ".py",
   "mimetype": "text/x-python",
   "name": "python",
   "nbconvert_exporter": "python",
   "pygments_lexer": "ipython3",
   "version": "3.9.13"
  }
 },
 "nbformat": 4,
 "nbformat_minor": 5
}
