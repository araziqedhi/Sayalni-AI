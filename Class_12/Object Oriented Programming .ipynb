{
 "cells": [
  {
   "cell_type": "markdown",
   "id": "f7efd75b",
   "metadata": {},
   "source": [
    "## OOP"
   ]
  },
  {
   "cell_type": "markdown",
   "id": "28cb0eb5",
   "metadata": {},
   "source": [
    "### Class"
   ]
  },
  {
   "cell_type": "markdown",
   "id": "89174b59",
   "metadata": {},
   "source": [
    "#### Structural Programming\n",
    "* see problems "
   ]
  },
  {
   "cell_type": "code",
   "execution_count": 1,
   "id": "3d877cb8",
   "metadata": {},
   "outputs": [],
   "source": [
    "s1_name=\"Qasim\"\n",
    "s2_name=\"Raziq\"\n",
    "s3_name=\"Millad\"\n",
    "\n",
    "def s1_login():\n",
    "    pass\n",
    "def s2_login():\n",
    "    pass\n",
    "def s3_login():\n",
    "    pass\n"
   ]
  },
  {
   "cell_type": "markdown",
   "id": "3e409144",
   "metadata": {},
   "source": [
    "#### OOPs"
   ]
  },
  {
   "cell_type": "code",
   "execution_count": 5,
   "id": "0f535c9d",
   "metadata": {},
   "outputs": [],
   "source": [
    "class Student():\n",
    "    def __init__(self,sname):   ## self argument is an extra argument which will not be used ## __init__ is a constructor\n",
    "        #self.attribute= value\n",
    "        self.name=sname   # attribute\n",
    "        self.father_name=None\n",
    "        \n",
    "    def login(self,user,password):\n",
    "        pass\n",
    "\n",
    "s1= Student(\"Qasim\")\n",
    "s2=Student(\"Raziq\")\n",
    "s3=Student(\"Maaz\")"
   ]
  },
  {
   "cell_type": "code",
   "execution_count": 6,
   "id": "3570f28b",
   "metadata": {},
   "outputs": [
    {
     "name": "stdout",
     "output_type": "stream",
     "text": [
      "Qasim\n",
      "Raziq\n",
      "Maaz\n"
     ]
    }
   ],
   "source": [
    "print(s1.name)\n",
    "print(s2.name)\n",
    "print(s3.name)"
   ]
  },
  {
   "cell_type": "code",
   "execution_count": 8,
   "id": "2a14153d",
   "metadata": {},
   "outputs": [],
   "source": [
    "s1.login(\"a\",\"b\")"
   ]
  },
  {
   "cell_type": "markdown",
   "id": "efafbdef",
   "metadata": {},
   "source": [
    "#### Class Attribute/ Class Variable  "
   ]
  },
  {
   "cell_type": "code",
   "execution_count": 9,
   "id": "2bcb3746",
   "metadata": {},
   "outputs": [],
   "source": [
    "class Student():\n",
    "    counter=0\n",
    "    def __init__(self,sname):   ## self argument is an extra argument which will not be used ## __init__ is a constructor\n",
    "        #self.attribute= value\n",
    "        self.name=sname   # attribute\n",
    "        self.father_name=None\n",
    "        \n",
    "    def login(self,user,password):\n",
    "        pass\n",
    "\n",
    "s1= Student(\"Qasim\")\n",
    "s2=Student(\"Raziq\")\n",
    "s3=Student(\"Maaz\")"
   ]
  },
  {
   "cell_type": "code",
   "execution_count": 12,
   "id": "fef87d54",
   "metadata": {},
   "outputs": [
    {
     "data": {
      "text/plain": [
       "0"
      ]
     },
     "execution_count": 12,
     "metadata": {},
     "output_type": "execute_result"
    }
   ],
   "source": [
    "Student.counter"
   ]
  },
  {
   "cell_type": "code",
   "execution_count": 13,
   "id": "3c1a5805",
   "metadata": {},
   "outputs": [
    {
     "data": {
      "text/plain": [
       "0"
      ]
     },
     "execution_count": 13,
     "metadata": {},
     "output_type": "execute_result"
    }
   ],
   "source": [
    "s1.counter"
   ]
  },
  {
   "cell_type": "code",
   "execution_count": 20,
   "id": "049dfd6a",
   "metadata": {},
   "outputs": [
    {
     "name": "stdout",
     "output_type": "stream",
     "text": [
      "1\n",
      "2\n",
      "3\n"
     ]
    }
   ],
   "source": [
    "class Student():\n",
    "    counter=0\n",
    "    def __init__(self,sname):   ## self argument is an extra argument which will not be used ## __init__ is a constructor\n",
    "        #self.attribute= value\n",
    "        self.name=sname   # attribute\n",
    "        self.father_name=None\n",
    "        Student.counter+=1\n",
    "        \n",
    "    def login(self,user,password):\n",
    "        pass\n",
    "\n",
    "s1= Student(\"Qasim\")\n",
    "print(s1.counter)\n",
    "s2=Student(\"Raziq\")\n",
    "print(s2.counter)\n",
    "s3=Student(\"Maaz\")\n",
    "print(s3.counter)"
   ]
  },
  {
   "cell_type": "code",
   "execution_count": 15,
   "id": "65f34b4b",
   "metadata": {},
   "outputs": [
    {
     "data": {
      "text/plain": [
       "3"
      ]
     },
     "execution_count": 15,
     "metadata": {},
     "output_type": "execute_result"
    }
   ],
   "source": [
    "s1.counter"
   ]
  },
  {
   "cell_type": "code",
   "execution_count": 16,
   "id": "91ec4811",
   "metadata": {},
   "outputs": [
    {
     "data": {
      "text/plain": [
       "3"
      ]
     },
     "execution_count": 16,
     "metadata": {},
     "output_type": "execute_result"
    }
   ],
   "source": [
    "s2.counter"
   ]
  },
  {
   "cell_type": "code",
   "execution_count": 17,
   "id": "084e9d87",
   "metadata": {},
   "outputs": [
    {
     "data": {
      "text/plain": [
       "3"
      ]
     },
     "execution_count": 17,
     "metadata": {},
     "output_type": "execute_result"
    }
   ],
   "source": [
    "s3.counter"
   ]
  },
  {
   "cell_type": "code",
   "execution_count": 18,
   "id": "04383f95",
   "metadata": {},
   "outputs": [
    {
     "data": {
      "text/plain": [
       "3"
      ]
     },
     "execution_count": 18,
     "metadata": {},
     "output_type": "execute_result"
    }
   ],
   "source": [
    "Student.counter"
   ]
  },
  {
   "cell_type": "code",
   "execution_count": null,
   "id": "46b35a2d",
   "metadata": {},
   "outputs": [],
   "source": []
  }
 ],
 "metadata": {
  "kernelspec": {
   "display_name": "Python 3 (ipykernel)",
   "language": "python",
   "name": "python3"
  },
  "language_info": {
   "codemirror_mode": {
    "name": "ipython",
    "version": 3
   },
   "file_extension": ".py",
   "mimetype": "text/x-python",
   "name": "python",
   "nbconvert_exporter": "python",
   "pygments_lexer": "ipython3",
   "version": "3.9.13"
  }
 },
 "nbformat": 4,
 "nbformat_minor": 5
}
