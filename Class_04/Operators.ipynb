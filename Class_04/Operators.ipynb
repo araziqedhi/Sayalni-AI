{
 "cells": [
  {
   "cell_type": "markdown",
   "id": "4985973d",
   "metadata": {},
   "source": [
    "## Operators"
   ]
  },
  {
   "cell_type": "code",
   "execution_count": 1,
   "id": "93f1cb58",
   "metadata": {},
   "outputs": [
    {
     "name": "stdout",
     "output_type": "stream",
     "text": [
      "['1', '2', '3'] ['6', '5', '4']\n",
      "['1', '2', '3', '6', '5', '4']\n"
     ]
    }
   ],
   "source": [
    "#Combining Lists \n",
    "\n",
    "l1=['1','2','3']\n",
    "l2=['6','5','4']\n",
    "print(l1,l2)\n",
    "print(l1+l2)"
   ]
  },
  {
   "cell_type": "markdown",
   "id": "daafb575",
   "metadata": {},
   "source": [
    "Python divides the operators in the following groups:\n",
    "\n",
    "Arithmetic operators\n",
    "\n",
    "Assignment operators\n",
    "\n",
    "Comparison operators\n",
    "\n",
    "Logical operators\n",
    "\n",
    "Identity operators\n",
    "\n",
    "Membership operators\n",
    "\n",
    "Bitwise operators"
   ]
  },
  {
   "cell_type": "markdown",
   "id": "cecde407",
   "metadata": {},
   "source": [
    "## 1) Arithmetic Operators "
   ]
  },
  {
   "cell_type": "markdown",
   "id": "42375f96",
   "metadata": {},
   "source": [
    "Python Arithmetic Operators\n",
    "Arithmetic operators are used with numeric values to perform common mathematical operations:\n",
    "\n",
    "Operator\tName\tExample\tTry it\n",
    "+\tAddition\tx + y\t\n",
    "-\tSubtraction\tx - y\t\n",
    "*\tMultiplication\tx * y\t\n",
    "/\tDivision\tx / y\t\n",
    "%\tModulus\tx % y\t\n",
    "**\tExponentiation\tx ** y\t\n",
    "//\tFloor division\tx // y"
   ]
  },
  {
   "cell_type": "code",
   "execution_count": 2,
   "id": "0d9ed6e9",
   "metadata": {},
   "outputs": [
    {
     "name": "stdout",
     "output_type": "stream",
     "text": [
      "2\n",
      "9\n",
      "6\n"
     ]
    }
   ],
   "source": [
    "x=6\n",
    "y=8\n",
    "print(8%6)\n",
    "print(3**2)\n",
    "print(13//2) # It will move towards floor value "
   ]
  },
  {
   "cell_type": "markdown",
   "id": "7e4746b2",
   "metadata": {},
   "source": [
    "## 2) Assignment Operators "
   ]
  },
  {
   "cell_type": "markdown",
   "id": "58491bfe",
   "metadata": {},
   "source": [
    "## https://www.w3schools.com/python/python_operators.asp \n",
    "see from this page of W3 Schools"
   ]
  },
  {
   "cell_type": "code",
   "execution_count": 3,
   "id": "71c57059",
   "metadata": {},
   "outputs": [
    {
     "name": "stdout",
     "output_type": "stream",
     "text": [
      "7\n",
      "63\n",
      "15\n"
     ]
    }
   ],
   "source": [
    "g=4\n",
    "g+=3\n",
    "print(g)\n",
    "g*=9\n",
    "print(g)\n",
    "g//=4\n",
    "print(g)"
   ]
  },
  {
   "cell_type": "code",
   "execution_count": 4,
   "id": "01ab62cd",
   "metadata": {},
   "outputs": [
    {
     "name": "stdout",
     "output_type": "stream",
     "text": [
      "64\n"
     ]
    }
   ],
   "source": [
    "x=65\n",
    "x &= 64\n",
    "print(x)"
   ]
  },
  {
   "cell_type": "markdown",
   "id": "f326d228",
   "metadata": {},
   "source": [
    "## 3) Comparision Operators "
   ]
  },
  {
   "cell_type": "markdown",
   "id": "b4616055",
   "metadata": {},
   "source": [
    "Use above link for W3 School website reference "
   ]
  },
  {
   "cell_type": "code",
   "execution_count": 5,
   "id": "9166b60e",
   "metadata": {},
   "outputs": [
    {
     "data": {
      "text/plain": [
       "True"
      ]
     },
     "execution_count": 5,
     "metadata": {},
     "output_type": "execute_result"
    }
   ],
   "source": [
    "3==3"
   ]
  },
  {
   "cell_type": "code",
   "execution_count": 6,
   "id": "179051c6",
   "metadata": {},
   "outputs": [
    {
     "data": {
      "text/plain": [
       "True"
      ]
     },
     "execution_count": 6,
     "metadata": {},
     "output_type": "execute_result"
    }
   ],
   "source": [
    "5>=5"
   ]
  },
  {
   "cell_type": "code",
   "execution_count": 7,
   "id": "e6ea17e3",
   "metadata": {},
   "outputs": [
    {
     "data": {
      "text/plain": [
       "True"
      ]
     },
     "execution_count": 7,
     "metadata": {},
     "output_type": "execute_result"
    }
   ],
   "source": [
    "5<=5"
   ]
  },
  {
   "cell_type": "code",
   "execution_count": 8,
   "id": "5fc89bec",
   "metadata": {},
   "outputs": [
    {
     "data": {
      "text/plain": [
       "True"
      ]
     },
     "execution_count": 8,
     "metadata": {},
     "output_type": "execute_result"
    }
   ],
   "source": [
    "6>=5"
   ]
  },
  {
   "cell_type": "code",
   "execution_count": 9,
   "id": "d60a3702",
   "metadata": {},
   "outputs": [
    {
     "data": {
      "text/plain": [
       "False"
      ]
     },
     "execution_count": 9,
     "metadata": {},
     "output_type": "execute_result"
    }
   ],
   "source": [
    "a=5\n",
    "b=5\n",
    "a !=b"
   ]
  },
  {
   "cell_type": "code",
   "execution_count": 10,
   "id": "a680f80a",
   "metadata": {},
   "outputs": [
    {
     "data": {
      "text/plain": [
       "103"
      ]
     },
     "execution_count": 10,
     "metadata": {},
     "output_type": "execute_result"
    }
   ],
   "source": [
    "ord('g')"
   ]
  },
  {
   "cell_type": "code",
   "execution_count": 11,
   "id": "b37ac822",
   "metadata": {},
   "outputs": [
    {
     "data": {
      "text/plain": [
       "120"
      ]
     },
     "execution_count": 11,
     "metadata": {},
     "output_type": "execute_result"
    }
   ],
   "source": [
    "ord('x')"
   ]
  },
  {
   "cell_type": "code",
   "execution_count": 12,
   "id": "5206fa25",
   "metadata": {},
   "outputs": [
    {
     "data": {
      "text/plain": [
       "51"
      ]
     },
     "execution_count": 12,
     "metadata": {},
     "output_type": "execute_result"
    }
   ],
   "source": [
    "ord('3')"
   ]
  },
  {
   "cell_type": "markdown",
   "id": "d4b3d3a6",
   "metadata": {},
   "source": [
    "## 4) Logical Operators"
   ]
  },
  {
   "cell_type": "code",
   "execution_count": 13,
   "id": "0a0957da",
   "metadata": {},
   "outputs": [
    {
     "name": "stdout",
     "output_type": "stream",
     "text": [
      "True\n"
     ]
    }
   ],
   "source": [
    "password= \"paksiaa\"\n",
    "print(password !=\"abdc\")"
   ]
  },
  {
   "cell_type": "markdown",
   "id": "32eac4c9",
   "metadata": {},
   "source": [
    "## 5)Python Identity Operators"
   ]
  },
  {
   "cell_type": "markdown",
   "id": "4501ddfa",
   "metadata": {},
   "source": [
    "## Shallow Copy "
   ]
  },
  {
   "cell_type": "code",
   "execution_count": 14,
   "id": "77372240",
   "metadata": {},
   "outputs": [
    {
     "name": "stdout",
     "output_type": "stream",
     "text": [
      "1412695746992 1412695746992 1412695746992\n",
      "5\n",
      "5\n",
      "5\n"
     ]
    }
   ],
   "source": [
    "a=5\n",
    "b=5\n",
    "c=5\n",
    "print(id(a),id(b),id(c))\n",
    "print(a)\n",
    "print(b)\n",
    "print(c)"
   ]
  },
  {
   "cell_type": "code",
   "execution_count": 15,
   "id": "076f005b",
   "metadata": {},
   "outputs": [
    {
     "data": {
      "text/plain": [
       "True"
      ]
     },
     "execution_count": 15,
     "metadata": {},
     "output_type": "execute_result"
    }
   ],
   "source": [
    "a is b"
   ]
  },
  {
   "cell_type": "markdown",
   "id": "dde9f6a9",
   "metadata": {},
   "source": [
    "## Deep Copy"
   ]
  },
  {
   "cell_type": "code",
   "execution_count": 16,
   "id": "786186ee",
   "metadata": {},
   "outputs": [
    {
     "name": "stdout",
     "output_type": "stream",
     "text": [
      "1412695746992 1412703754224\n"
     ]
    }
   ],
   "source": [
    "a=5\n",
    "b=\"5\"\n",
    "print(id(a),id(b))\n"
   ]
  },
  {
   "cell_type": "code",
   "execution_count": 17,
   "id": "90c8308b",
   "metadata": {},
   "outputs": [
    {
     "data": {
      "text/plain": [
       "False"
      ]
     },
     "execution_count": 17,
     "metadata": {},
     "output_type": "execute_result"
    }
   ],
   "source": [
    "a is b"
   ]
  },
  {
   "cell_type": "code",
   "execution_count": 20,
   "id": "8cecbdf3",
   "metadata": {},
   "outputs": [
    {
     "name": "stdout",
     "output_type": "stream",
     "text": [
      "1412797324672 1412797321344\n",
      "False\n",
      "True\n"
     ]
    }
   ],
   "source": [
    "saylani = ['Qasim']\n",
    "student=saylani.copy()\n",
    "print(id(saylani),id(student))\n",
    "print(saylani is student)\n",
    "print(saylani == student)"
   ]
  },
  {
   "cell_type": "code",
   "execution_count": 21,
   "id": "2d74c95a",
   "metadata": {},
   "outputs": [
    {
     "name": "stdout",
     "output_type": "stream",
     "text": [
      "1412798003776 1412780966400\n",
      "True\n",
      "True\n"
     ]
    }
   ],
   "source": [
    "saylani = ['Qasim']\n",
    "student=saylani.copy()\n",
    "print(id(saylani),id(student))\n",
    "print(saylani is not student)\n",
    "print(saylani == student)"
   ]
  },
  {
   "cell_type": "markdown",
   "id": "0515e050",
   "metadata": {},
   "source": [
    "## 6) Python Membership Operators"
   ]
  },
  {
   "cell_type": "code",
   "execution_count": 24,
   "id": "d7a288c7",
   "metadata": {},
   "outputs": [
    {
     "name": "stdout",
     "output_type": "stream",
     "text": [
      "True\n",
      "False\n",
      "False\n"
     ]
    }
   ],
   "source": [
    "message = \"Pakistan Zindabad we \"\n",
    "print(\"Pakistan\" in message)\n",
    "print(\"paksitna\" in message)\n",
    "print(\"Pakistan\" not in message)"
   ]
  },
  {
   "cell_type": "code",
   "execution_count": 30,
   "id": "e5302267",
   "metadata": {},
   "outputs": [
    {
     "name": "stdout",
     "output_type": "stream",
     "text": [
      "True\n",
      "False\n",
      "True\n"
     ]
    }
   ],
   "source": [
    "names = [\"Hamza\",\"Junaid\",\"Asif\"]\n",
    "print(\"Hamza\" in names)\n",
    "print(\"raziq\" in names)\n",
    "print(\"raziq\" not in names)"
   ]
  },
  {
   "cell_type": "code",
   "execution_count": null,
   "id": "1096c276",
   "metadata": {},
   "outputs": [],
   "source": []
  }
 ],
 "metadata": {
  "kernelspec": {
   "display_name": "Python 3 (ipykernel)",
   "language": "python",
   "name": "python3"
  },
  "language_info": {
   "codemirror_mode": {
    "name": "ipython",
    "version": 3
   },
   "file_extension": ".py",
   "mimetype": "text/x-python",
   "name": "python",
   "nbconvert_exporter": "python",
   "pygments_lexer": "ipython3",
   "version": "3.9.13"
  }
 },
 "nbformat": 4,
 "nbformat_minor": 5
}
