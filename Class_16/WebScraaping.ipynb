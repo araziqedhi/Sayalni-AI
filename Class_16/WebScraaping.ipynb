{
 "cells": [
  {
   "cell_type": "code",
   "execution_count": 1,
   "id": "57c95d08",
   "metadata": {},
   "outputs": [],
   "source": [
    "import urllib"
   ]
  },
  {
   "cell_type": "code",
   "execution_count": 2,
   "id": "b230dbc4",
   "metadata": {},
   "outputs": [],
   "source": [
    " # dir(urllib.request)"
   ]
  },
  {
   "cell_type": "code",
   "execution_count": 3,
   "id": "36f9e077",
   "metadata": {},
   "outputs": [
    {
     "name": "stdout",
     "output_type": "stream",
     "text": [
      "b'\\n<!DOCTYPE html>\\n<html lang=\"en-US\">\\n<head>\\n<title>HTML Basic</title>\\n<meta charset=\"utf-8\">\\n<meta name=\"viewport\" content=\"width=device-width, initial-scale=1\">\\n<meta name=\"Keywords\" content=\"HTML, Python, CSS, SQL, JavaScript, How to, PHP, Java, C, C++, C#, jQuery, Bootstrap, Colors, W3.CSS, XML, MySQL, Icons, NodeJS, React, Graphics, Angular, R, AI, Git, Data Science, Code Game, Tutorials, Programming, Web Development, Training, Learning, Quiz, Exercises, Courses, Lessons, References, Examples, Learn to code, Source code, Demos, Tips, Website\">\\n<meta name=\"Description\" content=\"Well organized and easy to understand Web building tutorials with lots of examples of how to use HTML, CSS, JavaScript, SQL, Python, PHP, Bootstrap, Java, XML and more.\">\\n<meta property=\"og:image\" content=\"https://www.w3schools.com/images/w3schools_logo_436_2.png\">\\n<meta property=\"og:image:type\" content=\"image/png\">\\n<meta property=\"og:image:width\" content=\"436\">\\n<meta property=\"og:image:height\" content=\"228\">\\n<meta property=\"og:description\" content=\"W3Schools offers free online tutorials, references and exercises in all the major languages of the web. Covering popular subjects like HTML, CSS, JavaScript, Python, SQL, Java, and many, many more.\">\\n<link rel=\"icon\" href=\"/favicon.ico\" type=\"image/x-icon\">\\n<link rel=\"preload\" href=\"/lib/fonts/fontawesome.woff2?14663396\" as=\"font\" type=\"font/woff2\" crossorigin> \\n<link rel=\"preload\" href=\"/lib/fonts/source-code-pro-v14-latin-regular.woff2\" as=\"font\" type=\"font/woff2\" crossorigin> \\n<link rel=\"preload\" href=\"/lib/fonts/roboto-mono-v13-latin-500.woff2\" as=\"font\" type=\"font/woff2\" crossorigin> \\n<link rel=\"preload\" href=\"/lib/fonts/source-sans-pro-v14-latin-700.woff2\" as=\"font\" type=\"font/woff2\" crossorigin> \\n<link rel=\"preload\" href=\"/lib/fonts/source-sans-pro-v14-latin-600.woff2\" as=\"font\" type=\"font/woff2\" crossorigin> \\n<link rel=\"preload\" href=\"/lib/fonts/freckle-face-v9-latin-regular.woff2\" as=\"font\" type=\"font/woff2\" crossorigin> \\n<link rel=\"stylesheet\" href=\"/lib/w3schools31.css\">\\n\\n<!-- Google Tag Manager -->\\n<script>\\n(function(w,d,s,l,i){w[l]=w[l]||[];w[l].push({\\'gtm.start\\':\\nnew Date().getTime(),event:\\'gtm.js\\'});var f=d.getElementsByTagName(s)[0],\\nj=d.createElement(s),dl=l!=\\'dataLayer\\'?\\'&l=\\'+l:\\'\\';j.async=true;j.src=\\n\\'https://www.googletagmanager.com/gtm.js?id=\\'+i+dl;f.parentNode.insertBefore(j,f);\\n})(window,document,\\'script\\',\\'dataLayer\\',\\'GTM-KTCFC3S\\');\\n\\nvar subjectFolder = location.pathname;\\nsubjectFolder = subjectFolder.replace(\"/\", \"\");\\nif (subjectFolder.startsWith(\"python/\") == true ) {\\n  if (subjectFolder.includes(\"/numpy/\") == true ) {\\n    subjectFolder = \"numpy/\"\\n  } else if (subjectFolder.includes(\"/pandas/\") == true ) {\\n      subjectFolder = \"pandas/\"\\n  } else if (subjectFolder.includes(\"/scipy/\") == true ) {\\n      subjectFolder = \"scipy/\"\\n  }\\n}\\nsubjectFolder = subjectFolder.substr(0, subjectFolder.indexOf(\"/\"));\\n</script>\\n<!-- End Google Tag Manager -->\\n\\n<script src=\"/lib/uic.js?v=1.0.5\"></script>\\n<script data-cfasync=\"false\" type=\"text/javascript\">\\nvar k42 = false;\\n\\nk42 = true;\\n\\n</script>\\n<script data-cfasync=\"false\" type=\"text/javascript\">\\n    window.snigelPubConf = {\\n    \"adengine\": {\\n\\n      \"activeAdUnits\": [\"main_leaderboard\", \"sidebar_top\", \"bottom_left\", \"bottom_right\"]\\n\\n  }\\n}\\nuic_r_a()\\n</script>\\n<script async data-cfasync=\"false\" src=\"https://cdn.snigelweb.com/adengine/w3schools.com/loader.js\" type=\"text/javascript\"></script>\\n<script src=\"/lib/common-deps.js?v=1.0.1\"></script>\\n<script src=\"/lib/user-session.js?v=1.0.28\"></script>\\n<script src=\"/lib/my-learning.js?v=1.0.19\"></script>\\n<script type=\\'text/javascript\\'>\\nvar stickyadstatus = \"\";\\nfunction fix_stickyad() {\\n  document.getElementById(\"stickypos\").style.position = \"sticky\";\\n  var elem = document.getElementById(\"stickyadcontainer\");\\n  if (!elem) {return false;}\\n  if (document.getElementById(\"skyscraper\")) {\\n    var skyWidth = Number(w3_getStyleValue(document.getElementById(\"skyscraper\"), \"width\").replace(\"px\", \"\"));  \\n    }\\n  else {\\n    var skyWidth = Number(w3_getStyleValue(document.getElementById(\"right\"), \"width\").replace(\"px\", \"\"));  \\n  }\\n  elem.style.width = skyWidth + \"px\";\\n  if (window.innerWidth <= 992) {\\n    elem.style.position = \"\";\\n    elem.style.top = stickypos + \"px\";\\n    return false;\\n  }\\n  var stickypos = document.getElementById(\"stickypos\").offsetTop;\\n  var docTop = window.pageYOffset || document.documentElement.scrollTop || document.body.scrollTop;\\n  var adHeight = Number(w3_getStyleValue(elem, \"height\").replace(\"px\", \"\"));\\n  if (stickyadstatus == \"\") {\\n    if ((stickypos - docTop) < 60) {\\n      elem.style.position = \"fixed\";\\n      elem.style.top = \"60px\";\\n      stickyadstatus = \"sticky\";\\n      document.getElementById(\"stickypos\").style.position = \"sticky\";\\n\\n    }\\n  } else {\\n    if ((docTop + 60) - stickypos < 0) {  \\n      elem.style.position = \"\";\\n      elem.style.top = stickypos + \"px\";\\n      stickyadstatus = \"\";\\n      document.getElementById(\"stickypos\").style.position = \"static\";\\n    }\\n  }\\n  if (stickyadstatus == \"sticky\") {\\n    if ((docTop + adHeight + 60) > document.getElementById(\"footer\").offsetTop) {\\n      elem.style.position = \"absolute\";\\n      elem.style.top = (document.getElementById(\"footer\").offsetTop - adHeight) + \"px\";\\n      document.getElementById(\"stickypos\").style.position = \"static\";\\n    } else {\\n        elem.style.position = \"fixed\";\\n        elem.style.top = \"60px\";\\n        stickyadstatus = \"sticky\";\\n        document.getElementById(\"stickypos\").style.position = \"sticky\";\\n    }\\n  }\\n}\\nfunction w3_getStyleValue(elmnt,style) {\\n  if (window.getComputedStyle) {\\n    return window.getComputedStyle(elmnt,null).getPropertyValue(style);\\n  } else {\\n    return elmnt.currentStyle[style];\\n  }\\n}\\n</script>\\n\\n</head>\\n<body>\\n<!-- Google Tag Manager (noscript) -->\\n<noscript><iframe src=\"https://www.googletagmanager.com/ns.html?id=GTM-KTCFC3S\"\\nheight=\"0\" width=\"0\" style=\"display:none;visibility:hidden\"></iframe></noscript>\\n<!-- End Google Tag Manager (noscript) -->\\n<style>\\n#darkmodemenu {\\n  position:absolute;\\n  top:-40px;\\n  right:16px;\\n  padding:5px 20px 10px 18px;\\n  border-bottom-left-radius:5px;\\n  border-bottom-right-radius:5px;\\n  z-index:-1;\\n  transition: top 0.2s;\\n  user-select: none;\\n}\\n#darkmodemenu input,#darkmodemenu label {\\n  cursor:pointer;\\n}\\n</style>\\n<script>\\n(\\nfunction setThemeMode() {\\n  var x = localStorage.getItem(\"preferredmode\");\\n  var y = localStorage.getItem(\"preferredpagemode\");  \\n  if (x == \"dark\") {\\n    document.body.className += \" darktheme\";\\n  }\\n  if (y == \"dark\") {\\n    document.body.className += \" darkpagetheme\";\\n  }\\n})();\\n</script>\\n<div id=\"pagetop\" class=\"w3-bar w3-card-2 notranslate\">\\n  <a href=\"https://www.w3schools.com\" class=\"w3-bar-item w3-button w3-hover-none w3-left w3-padding-16 ga-top\" title=\"Home\" style=\"width:77px\">\\n    <i class=\"fa fa-logo ws-text-green ws-hover-text-green\" style=\"position:relative;font-size:42px!important;\"></i>\\n  </a>\\n\\n<style>\\n.topnavmain_pro {\\n  background-color:#9763f6;\\n  color:#fff;\\n}\\n.topnavmain_pro:hover {\\n  background-color:#7d53cc!important;\\n  color:#fff!important;\\n}\\n\\n@media screen and (max-width: 1160px) {\\n  .ws-hide-1160 {\\n    display: none !important;\\n  }\\n}\\n@media screen and (max-width: 1300px) {\\n  .ws-hide-1300 {\\n    display: none !important;\\n  }\\n}\\n@media screen and (max-width: 1350px) {\\n  .ws-hide-1350 {\\n    display: none !important;\\n  }\\n}\\n@media screen and (max-width: 700px) {\\n  .ws-hide-700 {\\n    display: none !important;\\n  }\\n}\\n@media screen and (max-width:380px) {\\n  #w3loginbtn {\\n    width:90px!important;\\n    padding-left:2px!important;\\n    padding-right:2px;\\n  }\\n  #signupbtn_topnav,#spacesbtn_topnav {\\n    display:none!important;\\n  }\\n}\\n\\n</style>\\n\\n  <a class=\"w3-bar-item w3-button w3-hide-small barex bar-item-hover w3-padding-24 ga-top\" href=\"javascript:void(0)\" onclick=\"w3_open_nav(\\'tutorials\\')\" id=\"navbtn_tutorials\" title=\"Tutorials\" style=\"width:116px\">Tutorials <i class=\\'fa fa-caret-down\\' style=\"font-size:20px;\"></i><i class=\\'fa fa-caret-up\\' style=\"display:none\"></i></a>\\n  <a class=\"w3-bar-item w3-button w3-hide-small barex bar-item-hover w3-padding-24 ga-top\" href=\"javascript:void(0)\" onclick=\"w3_open_nav(\\'references\\')\" id=\"navbtn_references\" title=\"References\" style=\"width:132px\">References <i class=\\'fa fa-caret-down\\' style=\"font-size:20px;\"></i><i class=\\'fa fa-caret-up\\' style=\"display:none\"></i></a>\\n  <a class=\"w3-bar-item w3-button w3-hide-small barex bar-item-hover w3-padding-24  ga-top ws-hide-800\" href=\"javascript:void(0)\" onclick=\"w3_open_nav(\\'exercises\\')\" id=\"navbtn_exercises\" title=\"Exercises\" style=\"width:118px\">Exercises <i class=\\'fa fa-caret-down\\' style=\"font-size:20px;\"></i><i class=\\'fa fa-caret-up\\' style=\"display:none\"></i></a>\\n\\n  <a class=\"w3-bar-item w3-button bar-item-hover w3-padding-24 barex ws-hide-1300 ga-top\" href=\"/bootcamp/index.php\" title=\"Web Development Bootcamp\">Bootcamps</a>\\n  <a class=\"w3-bar-item w3-button bar-item-hover w3-padding-24 barex ws-hide-1350 ga-top\" href=\"/videos/index.php\" title=\"Video Tutorials\">Videos</a>\\n\\n  <a class=\"w3-bar-item w3-button bar-item-hover w3-padding-24 ga-top\" href=\"javascript:void(0)\" onclick=\"w3_open()\" id=\"navbtn_menu\" title=\"Menu\" style=\"width:93px\">Menu <i class=\\'fa fa-caret-down\\'></i><i class=\\'fa fa-caret-up\\' style=\"display:none\"></i></a>\\n\\n  <div id=\"loginactioncontainer\" class=\"w3-right w3-padding-16\" style=\"margin-left:1px;width:55px\">\\n    <div id=\"mypagediv\"></div>\\n      <a id=\"w3loginbtn\" title=\"Login to your account\" class=\"w3-bar-item w3-btn bar-item-hover w3-right ws-light-green ga-top\" style=\"display:none;width:112px;background-color:white;color:black;padding-left:39px;position:relative;z-index:4;border-radius:25px;\" href=\"https://profile.w3schools.com/log-in?redirect_url=https%3A%2F%2Fmy-learning.w3schools.com\" target=\"_self\">Log in</a>\\n  </div>\\n\\n  <div class=\"w3-right w3-padding-16\">\\n    <a id=\"spacesbtn_topnav\" style=\"display:none;width: 93px;border-radius: 25px; margin-right: 20px;\" class=\"w3-bar-item w3-button w3-right w3x-hide-small barex ws-green ws-hover-green ga-top\" href=\"https://spaces.w3schools.com\" title=\"Go to Your Space\">Spaces</a>  \\n    <a id=\"signupbtn_topnav\" class=\"w3-bar-item w3-button w3-right barex ws-green ws-hover-green ga-top\" style=\"width: 93px;border-radius: 25px; margin-right: 20px;position:relative;z-index:5;\" href=\"/signup/index.html\" title=\"Sign Up to Improve Your Learning Experience\">Sign Up</a>\\n    <a class=\"w3-bar-item w3-button w3-right ws-hide-1066 w3-hide-small barex ws-yellow ws-hover-yellow ga-top\" style=\"width: 150px;border-radius: 25px; margin-right: 15px;\" href=\"/spaces/index.html\" title=\"Get Your Own Website With W3Schools Spaces\">Create Website</a>\\n    <a class=\"w3-bar-item w3-button w3-right ws-hide-900 w3-hide-small barex ws-pink ws-hover-pink ga-top\" style=\"border-radius: 25px; margin-right: 15px;\" href=\"https://shop.w3schools.com/collections/course-catalog\" target=\"_blank\" id=\"cert_navbtn\" title=\"Courses\">Get Certified</a>\\n    <a class=\"w3-bar-item w3-button w3-right w3-hide-small ws-hide-1160 barex topnavmain_pro ga-top\" style=\"border-radius: 25px; margin-right: 15px;\" href=\"/pro/index.php\" title=\"Upgrade And Unlock Powerful Features\"><svg style=\"position:relative;top:2px;margin-right:2px;\" width=\"12\" height=\"16\" viewBox=\"0 0 12 16\" fill=\"none\" xmlns=\"http://www.w3.org/2000/svg\"><path d=\"M6.65723 6.24707C6.76704 5.91764 7.233 5.91765 7.34281 6.24707L7.98828 8.1835C8.276 9.04666 8.95332 9.72399 9.81648 10.0117L11.7529 10.6572C12.0824 10.767 12.0824 11.233 11.7529 11.3428L9.81649 11.9883C8.95332 12.276 8.27599 12.9533 7.98828 13.8165L7.34281 15.7529C7.233 16.0823 6.76704 16.0823 6.65723 15.7529L6.01173 13.8165C5.72401 12.9533 5.04669 12.276 4.18353 11.9883L2.24707 11.3428C1.91764 11.233 1.91764 10.767 2.24707 10.6572L4.18353 10.0117C5.04669 9.72399 5.72401 9.04667 6.01173 8.18352L6.65723 6.24707Z\" fill=\"white\"></path><path d=\"M2.79434 1.14824C2.86023 0.950586 3.1398 0.950587 3.20569 1.14824L3.59297 2.3101C3.7656 2.828 4.172 3.2344 4.6899 3.40703L5.85177 3.79432C6.04942 3.86021 6.04942 4.13978 5.85177 4.20567L4.6899 4.59296C4.172 4.76559 3.7656 5.17199 3.59297 5.68989L3.20569 6.85176C3.13981 7.04941 2.86023 7.04942 2.79434 6.85176L2.40704 5.68988C2.23441 5.17198 1.82801 4.76559 1.31012 4.59296L0.148241 4.20567C-0.0494137 4.13978 -0.0494138 3.86021 0.148241 3.79432L1.31012 3.40703C1.82802 3.2344 2.23441 2.82801 2.40704 2.31011L2.79434 1.14824Z\" fill=\"white\"></path><path d=\"M9.8629 0.0988265C9.90682 -0.032943 10.0932 -0.0329419 10.1371 0.098828L10.3953 0.873401C10.5104 1.21867 10.7813 1.4896 11.1266 1.60469L11.9012 1.86288C12.0329 1.9068 12.0329 2.09319 11.9012 2.13711L11.1266 2.39531C10.7813 2.51039 10.5104 2.78133 10.3953 3.12659L10.1371 3.90117C10.0932 4.03294 9.90682 4.03294 9.8629 3.90117L9.6047 3.12659C9.48961 2.78132 9.21868 2.5104 8.87342 2.39531L8.09883 2.13711C7.96706 2.09319 7.96706 1.9068 8.09883 1.86288L8.87342 1.60469C9.21868 1.4896 9.48961 1.21867 9.6047 0.873408L9.8629 0.0988265Z\" fill=\"white\"></path></svg> Upgrade</a>    \\n  </div>  \\n</div>\\n\\n<div style=\\'display:none;position:absolute;z-index:4;right:52px;height:44px;background-color:#282A35;letter-spacing:normal;\\' id=\\'googleSearch\\'>\\n  <div class=\\'gcse-search\\'></div>\\n</div>\\n<div style=\\'display:none;position:absolute;z-index:3;right:111px;height:44px;background-color:#282A35;text-align:right;padding-top:9px;\\' id=\\'google_translate_element\\'></div>\\n\\n<div class=\\'w3-card-2 topnav notranslate\\' id=\\'topnav\\'>\\n  <div style=\"overflow:auto;\">\\n    <div class=\"w3-bar w3-left\" style=\"width:100%;overflow:hidden;height:44px\">\\n      <a href=\\'javascript:void(0);\\' class=\\'topnav-icons fa fa-menu w3-hide-large w3-left w3-bar-item w3-button ga-nav\\' onclick=\\'open_menu()\\' title=\\'Menu\\'></a>\\n      <a href=\\'/default.asp\\' class=\\'topnav-icons fa fa-home w3-left w3-bar-item w3-button ga-nav\\' title=\\'Home\\'></a>\\n      <a class=\"w3-bar-item w3-button ga-nav\" href=\\'/html/default.asp\\' title=\\'HTML Tutorial\\' style=\"padding-left:18px!important;padding-right:18px!important;\">HTML</a>\\n      <a class=\"w3-bar-item w3-button ga-nav\" href=\\'/css/default.asp\\' title=\\'CSS Tutorial\\'>CSS</a>\\n      <a class=\"w3-bar-item w3-button ga-nav\" href=\\'/js/default.asp\\' title=\\'JavaScript Tutorial\\'>JAVASCRIPT</a>\\n      <a class=\"w3-bar-item w3-button ga-nav\" href=\\'/sql/default.asp\\' title=\\'SQL Tutorial\\'>SQL</a>\\n      <a class=\"w3-bar-item w3-button ga-nav\" href=\\'/python/default.asp\\' title=\\'Python Tutorial\\'>PYTHON</a>\\n      <a class=\"w3-bar-item w3-button ga-nav\" href=\\'/java/default.asp\\' title=\\'Java Tutorial\\'>JAVA</a>\\n      <a class=\"w3-bar-item w3-button ga-nav\" href=\\'/php/default.asp\\' title=\\'PHP Tutorial\\'>PHP</a>\\n      <a class=\"w3-bar-item w3-button ga-nav\" href=\\'/bootstrap/bootstrap_ver.asp\\' title=\\'Bootstrap Tutorial\\'>BOOTSTRAP</a>\\n      <a class=\"w3-bar-item w3-button ga-nav\" href=\\'/howto/default.asp\\' title=\\'How To\\'>HOW TO</a>\\n      <a class=\"w3-bar-item w3-button ga-nav\" href=\\'/w3css/default.asp\\' title=\\'W3.CSS Tutorial\\'>W3.CSS</a>\\n      <a class=\"w3-bar-item w3-button ga-nav\" href=\\'/c/index.php\\' title=\\'C Tutorial\\'>C</a>\\n      <a class=\"w3-bar-item w3-button ga-nav\" href=\\'/cpp/default.asp\\' title=\\'C++ Tutorial\\'>C++</a>\\n      <a class=\"w3-bar-item w3-button ga-nav\" href=\\'/cs/index.php\\' title=\\'C# Tutorial\\'>C#</a>\\n      <a class=\"w3-bar-item w3-button ga-nav\" href=\\'/react/default.asp\\' title=\\'React Tutorial\\'>REACT</a>\\n      <a class=\"w3-bar-item w3-button ga-nav\" href=\\'/r/default.asp\\' title=\\'R Tutorial\\'>R</a>\\n      <a class=\"w3-bar-item w3-button ga-nav\" href=\\'/jquery/default.asp\\' title=\\'jQuery Tutorial\\'>JQUERY</a>\\n      <a class=\"w3-bar-item w3-button ga-nav\" href=\\'/django/index.php\\' title=\\'Django Tutorial\\'>DJANGO</a>\\n      <a class=\"w3-bar-item w3-button ga-nav\" href=\\'/typescript/index.php\\' title=\\'Typescript Tutorial\\'>TYPESCRIPT</a>      \\n      <a class=\"w3-bar-item w3-button ga-nav\" href=\\'/nodejs/default.asp\\' title=\\'NodeJS Tutorial\\'>NODEJS</a>      \\n      <a class=\"w3-bar-item w3-button ga-nav\" href=\\'/mysql/default.asp\\' title=\\'MySQL Tutorial\\'>MYSQL</a>                  \\n      <a href=\\'javascript:void(0);\\' class=\\'topnav-icons fa w3-right w3-bar-item w3-button ga-nav\\' onclick=\\'gSearch(this)\\' title=\\'Search W3Schools\\'>&#xe802;</a>\\n      <a href=\\'javascript:void(0);\\' class=\\'topnav-icons fa w3-right w3-bar-item w3-button ga-nav\\' onclick=\\'gTra(this)\\' title=\\'Translate W3Schools\\'>&#xe801;</a>\\n      <a href=\\'javascript:void(0);\\' class=\\'topnav-icons fa w3-right w3-bar-item w3-button ga-nav\\' onmouseover=\"mouseoverdarkicon()\" onmouseout=\"mouseoutofdarkicon()\" onclick=\\'changepagetheme(2)\\'>&#xe80b;</a>\\n    </div>\\n    \\n<div id=\"darkmodemenu\" class=\"ws-black\" onmouseover=\"mouseoverdarkicon()\" onmouseout=\"mouseoutofdarkicon()\">\\n<input id=\"radio_darkpage\" type=\"checkbox\" name=\"radio_theme_mode\" onclick=\"click_darkpage()\"><label for=\"radio_darkpage\"> Dark mode</label>\\n<br>\\n<input id=\"radio_darkcode\" type=\"checkbox\" name=\"radio_theme_mode\" onclick=\"click_darkcode()\"><label for=\"radio_darkcode\"> Dark code</label>\\n</div>\\n\\n<nav id=\"nav_tutorials\" class=\"w3-hide-small\" style=\"position:absolute;padding-bottom:60px;\">\\n <div class=\"w3-content\" style=\"max-width:1100px;font-size:18px\">\\n <span onclick=\"w3_close_nav(\\'tutorials\\')\" class=\"w3-button w3-xxxlarge w3-display-topright w3-hover-white sectionxsclosenavspan\" style=\"padding-right:30px;padding-left:30px;\">&times;</span><br>\\n <div class=\"w3-row-padding w3-bar-block\">\\n  <div class=\"w3-container\" style=\"padding-left:13px\">\\n   <h2 style=\"color:#FFF4A3;\"><b>Tutorials</b></h2>\\n  </div>\\n  <div class=\"w3-col l3 m6\">\\n   <h3 class=\"w3-margin-top\">HTML and CSS</h3>\\n   <a class=\"w3-bar-item w3-button ga-top-drop\" href=\"/html/default.asp\">Learn HTML</a>\\n   <a class=\"w3-bar-item w3-button ga-top-drop\" href=\"/css/default.asp\">Learn CSS</a>\\n   <a class=\"w3-bar-item w3-button ga-top-drop\" href=\"/css/css_rwd_intro.asp\" title=\"Responsive Web Design\">Learn RWD</a>\\n   <a class=\"w3-bar-item w3-button ga-top-drop\" href=\"/bootstrap/bootstrap_ver.asp\">Learn Bootstrap</a>\\n   <a class=\"w3-bar-item w3-button ga-top-drop\" href=\"/w3css/default.asp\">Learn W3.CSS</a>\\n   <a class=\"w3-bar-item w3-button ga-top-drop\" href=\"/colors/default.asp\">Learn Colors</a>\\n   <a class=\"w3-bar-item w3-button ga-top-drop\" href=\"/icons/default.asp\">Learn Icons</a>\\n   <a class=\"w3-bar-item w3-button ga-top-drop\" href=\"/graphics/default.asp\">Learn Graphics</a>\\n   <a class=\"w3-bar-item w3-button ga-top-drop\" href=\\'/graphics/svg_intro.asp\\'>Learn SVG</a>\\n   <a class=\"w3-bar-item w3-button ga-top-drop\" href=\\'/graphics/canvas_intro.asp\\'>Learn Canvas</a>\\n   <a class=\"w3-bar-item w3-button ga-top-drop\" href=\"/howto/default.asp\">Learn How To</a>\\n   <a class=\"w3-bar-item w3-button ga-top-drop\" href=\"/sass/default.php\">Learn Sass</a>   \\n   <div style=\"padding:4px 12px;border:2px solid #777;border-radius:5px;margin-top:20px;width:225px;\">\\n     <h6 style=\"font-size:18px;margin:8px 0 0 0;font-family: \\'Source Sans Pro\\', sans-serif!important;\">Next Bootcamp:</h6>\\n     <h6 style=\"font-size:17px;font-family: \\'Source Sans Pro\\', sans-serif!important;\">June 19th</h6>\\n     <a class=\"w3-bar-item ws-btn w3-margin-bottom w3-round w3-center ga-top-drop\" href=\"/bootcamp/index.php\">Learn More</a>\\n   </div>\\n\\n   <div class=\"w3-hide-large w3-hide-small\">\\n   <h3 class=\"w3-margin-top\">Data Analytics</h3>\\n   <a class=\"w3-bar-item w3-button ga-top-drop\" href=\"/ai/default.asp\">Learn AI</a>\\n   <a class=\"w3-bar-item w3-button ga-top-drop\" href=\"/python/python_ml_getting_started.asp\">Learn Machine Learning</a>\\n   <a class=\"w3-bar-item w3-button ga-top-drop\" href=\"/datascience/default.asp\">Learn Data Science</a> \\n   <a class=\"w3-bar-item w3-button ga-top-drop\" href=\"/python/numpy/default.asp\">Learn NumPy</a>       \\n   <a class=\"w3-bar-item w3-button ga-top-drop\" href=\"/python/pandas/default.asp\">Learn Pandas</a>    \\n   <a class=\"w3-bar-item w3-button ga-top-drop\" href=\"/python/scipy/index.php\">Learn SciPy</a>    \\n   <a class=\"w3-bar-item w3-button ga-top-drop\" href=\"/python/matplotlib_intro.asp\">Learn Matplotlib</a>    \\n   <a class=\"w3-bar-item w3-button ga-top-drop\" href=\"/statistics/index.php\">Learn Statistics</a>\\n   <a class=\"w3-bar-item w3-button ga-top-drop\" href=\"/excel/index.php\">Learn Excel</a>\\n\\n   <h3 class=\"w3-margin-top\">XML Tutorials</h3>\\n   <a class=\"w3-bar-item w3-button ga-top-drop\" href=\"/xml/default.asp\">Learn XML</a>\\n   <a class=\"w3-bar-item w3-button ga-top-drop\" href=\\'/xml/ajax_intro.asp\\'>Learn XML AJAX</a>\\n   <a class=\"w3-bar-item w3-button ga-top-drop\" href=\"/xml/dom_intro.asp\">Learn XML DOM</a>\\n   <a class=\"w3-bar-item w3-button ga-top-drop\" href=\\'/xml/xml_dtd_intro.asp\\'>Learn XML DTD</a>\\n   <a class=\"w3-bar-item w3-button ga-top-drop\" href=\\'/xml/schema_intro.asp\\'>Learn XML Schema</a>\\n   <a class=\"w3-bar-item w3-button ga-top-drop\" href=\"/xml/xsl_intro.asp\">Learn XSLT</a>\\n   <a class=\"w3-bar-item w3-button ga-top-drop\" href=\\'/xml/xpath_intro.asp\\'>Learn XPath</a>\\n   <a class=\"w3-bar-item w3-button ga-top-drop\" href=\\'/xml/xquery_intro.asp\\'>Learn XQuery</a>\\n  </div>\\n  </div>\\n  <div class=\"w3-col l3 m6\">\\n   <h3 class=\"w3-margin-top\">JavaScript</h3>\\n   <a class=\"w3-bar-item w3-button ga-top-drop\" href=\"/js/default.asp\">Learn JavaScript</a>\\n   <a class=\"w3-bar-item w3-button ga-top-drop\" href=\"/jquery/default.asp\">Learn jQuery</a>\\n   <a class=\"w3-bar-item w3-button ga-top-drop\" href=\"/react/default.asp\">Learn React</a>\\n   <a class=\"w3-bar-item w3-button ga-top-drop\" href=\"/vue/index.php\">Learn Vue.js</a>   \\n   <a class=\"w3-bar-item w3-button ga-top-drop\" href=\"/angular/default.asp\">Learn AngularJS</a>\\n   <a class=\"w3-bar-item w3-button ga-top-drop\" href=\"/js/js_json_intro.asp\">Learn JSON</a>\\n   <a class=\"w3-bar-item w3-button ga-top-drop\" href=\"/js/js_ajax_intro.asp\">Learn AJAX</a>\\n   <a class=\"w3-bar-item w3-button ga-top-drop\" href=\"/appml/default.asp\">Learn AppML</a>\\n   <a class=\"w3-bar-item w3-button ga-top-drop\" href=\"/w3js/default.asp\">Learn W3.JS</a>\\n\\n   <h3 class=\"w3-margin-top\">Programming</h3>\\n   <a class=\"w3-bar-item w3-button ga-top-drop\" href=\"/python/default.asp\">Learn Python</a>\\n   <a class=\"w3-bar-item w3-button ga-top-drop\" href=\"/java/default.asp\">Learn Java</a>\\n   <a class=\"w3-bar-item w3-button ga-top-drop\" href=\"/c/index.php\">Learn C</a>\\n   <a class=\"w3-bar-item w3-button ga-top-drop\" href=\"/cpp/default.asp\">Learn C++</a>\\n   <a class=\"w3-bar-item w3-button ga-top-drop\" href=\"/cs/index.php\">Learn C#</a>\\n   <a class=\"w3-bar-item w3-button ga-top-drop\" href=\"/r/default.asp\">Learn R</a>\\n   <a class=\"w3-bar-item w3-button ga-top-drop\" href=\"/kotlin/index.php\">Learn Kotlin</a>\\n   <a class=\"w3-bar-item w3-button ga-top-drop\" href=\"/go/index.php\">Learn Go</a>\\n   <a class=\"w3-bar-item w3-button ga-top-drop\" href=\"/django/index.php\">Learn Django</a>\\n   <a class=\"w3-bar-item w3-button ga-top-drop\" href=\"/typescript/index.php\">Learn TypeScript</a>\\n  </div> \\n <div class=\"w3-col l3 m6\">\\n   <h3 class=\"w3-margin-top\">Server Side</h3>\\n   <a class=\"w3-bar-item w3-button ga-top-drop\" href=\"/sql/default.asp\">Learn SQL</a>\\n   <a class=\"w3-bar-item w3-button ga-top-drop\" href=\"/mysql/default.asp\">Learn MySQL</a>\\n   <a class=\"w3-bar-item w3-button ga-top-drop\" href=\"/php/default.asp\">Learn PHP</a>\\n   <a class=\"w3-bar-item w3-button ga-top-drop\" href=\\'/asp/default.asp\\'>Learn ASP</a>\\n   <a class=\"w3-bar-item w3-button ga-top-drop\" href=\\'/nodejs/default.asp\\'>Learn Node.js</a>\\n   <a class=\"w3-bar-item w3-button ga-top-drop\" href=\\'/nodejs/nodejs_raspberrypi.asp\\'>Learn Raspberry Pi</a>\\n   <a class=\"w3-bar-item w3-button ga-top-drop\" href=\\'/git/default.asp\\'>Learn Git</a>\\n   <a class=\"w3-bar-item w3-button ga-top-drop\" href=\\'/mongodb/index.php\\'>Learn MongoDB</a>\\n   <a class=\"w3-bar-item w3-button ga-top-drop\" href=\\'/aws/index.php\\'>Learn AWS Cloud</a>\\n\\n   <h3 class=\"w3-margin-top\">Web Building</h3>\\n   <a class=\"w3-bar-item w3-button ga-top-drop\" href=\"/spaces/index.html\" title=\"Get Your Own Website With W3shools Spaces\">Create a Website <span class=\"ribbon-topnav ws-yellow\">NEW</span></a>\\n   <a class=\"w3-bar-item w3-button ga-top-drop\" href=\"/where_to_start.asp\">Where To Start</a>\\n   <a class=\"w3-bar-item w3-button ga-top-drop\" href=\"/w3css/w3css_templates.asp\">Web Templates</a>\\n   <a class=\"w3-bar-item w3-button ga-top-drop\" href=\"/browsers/default.asp\">Web Statistics</a>\\n   <a class=\"w3-bar-item w3-button ga-top-drop\" href=\"https://campus.w3schools.com\" target=\"_blank\">Web Certificates</a>\\n   <a class=\"w3-bar-item w3-button ga-top-drop\" href=\"/whatis/default.asp\">Web Development</a>\\n   <a class=\"w3-bar-item w3-button ga-top-drop\" href=\\'/tryit/default.asp\\'>Code Editor</a>\\n   <a class=\"w3-bar-item w3-button ga-top-drop\" href=\"/typingspeed/default.asp\">Test Your Typing Speed</a>\\n   <a class=\"w3-bar-item w3-button ga-top-drop\" href=\"/codegame/index.html\" target=\"_blank\">Play a Code Game</a>\\n   <a class=\"w3-bar-item w3-button ga-top-drop\" href=\"/cybersecurity/index.php\">Cyber Security</a>\\n   <a class=\"w3-bar-item w3-button ga-top-drop\" href=\"/accessibility/index.php\">Accessibility</a>\\n   <a class=\"w3-bar-item w3-button ga-top-drop\" href=\"https://campus.w3schools.com/pages/newsletter\" target=\"_blank\">Join our Newsletter</a>\\n  </div>\\n  <div class=\"w3-col l3 m6 w3-hide-medium\">\\n   <h3 class=\"w3-margin-top\">Data Analytics</h3>\\n   <a class=\"w3-bar-item w3-button ga-top-drop\" href=\"/ai/default.asp\">Learn AI</a>\\n   <a class=\"w3-bar-item w3-button ga-top-drop\" href=\"/python/python_ml_getting_started.asp\">Learn Machine Learning</a>\\n   <a class=\"w3-bar-item w3-button ga-top-drop\" href=\"/datascience/default.asp\">Learn Data Science</a> \\n   <a class=\"w3-bar-item w3-button ga-top-drop\" href=\"/python/numpy/default.asp\">Learn NumPy</a>    \\n   <a class=\"w3-bar-item w3-button ga-top-drop\" href=\"/python/pandas/default.asp\">Learn Pandas</a>    \\n   <a class=\"w3-bar-item w3-button ga-top-drop\" href=\"/python/scipy/index.php\">Learn SciPy</a>    \\n   <a class=\"w3-bar-item w3-button ga-top-drop\" href=\"/python/matplotlib_intro.asp\">Learn Matplotlib</a>    \\n   <a class=\"w3-bar-item w3-button ga-top-drop\" href=\"/statistics/index.php\">Learn Statistics</a>\\n   <a class=\"w3-bar-item w3-button ga-top-drop\" href=\"/excel/index.php\">Learn Excel</a>\\n   <a class=\"w3-bar-item w3-button ga-top-drop\" href=\"/googlesheets/index.php\">Learn Google Sheets</a>\\n\\n   <h3 class=\"w3-margin-top\">XML Tutorials</h3>\\n   <a class=\"w3-bar-item w3-button ga-top-drop\" href=\"/xml/default.asp\">Learn XML</a>\\n   <a class=\"w3-bar-item w3-button ga-top-drop\" href=\\'/xml/ajax_intro.asp\\'>Learn XML AJAX</a>\\n   <a class=\"w3-bar-item w3-button ga-top-drop\" href=\"/xml/dom_intro.asp\">Learn XML DOM</a>\\n   <a class=\"w3-bar-item w3-button ga-top-drop\" href=\\'/xml/xml_dtd_intro.asp\\'>Learn XML DTD</a>\\n   <a class=\"w3-bar-item w3-button ga-top-drop\" href=\\'/xml/schema_intro.asp\\'>Learn XML Schema</a>\\n   <a class=\"w3-bar-item w3-button ga-top-drop\" href=\"/xml/xsl_intro.asp\">Learn XSLT</a>\\n   <a class=\"w3-bar-item w3-button ga-top-drop\" href=\\'/xml/xpath_intro.asp\\'>Learn XPath</a>\\n   <a class=\"w3-bar-item w3-button ga-top-drop\" href=\\'/xml/xquery_intro.asp\\'>Learn XQuery</a>\\n  </div>\\n </div>\\n </div>\\n <br class=\"hidesm\">\\n</nav>\\n\\n<nav id=\"nav_references\" class=\"w3-hide-small\" style=\"position:absolute;padding-bottom:60px;\">\\n <div class=\"w3-content\" style=\"max-width:1100px;font-size:18px\">\\n <span onclick=\"w3_close_nav(\\'references\\')\" class=\"w3-button w3-xxxlarge w3-display-topright w3-hover-white sectionxsclosenavspan\" style=\"padding-right:30px;padding-left:30px;\">&times;</span><br>\\n <div class=\"w3-row-padding w3-bar-block\">\\n <div class=\"w3-container\" style=\"padding-left:13px\">\\n   <h2 style=\"color:#FFF4A3;\"><b>References</b></h2>\\n  </div>\\n  <div class=\"w3-col l3 m6\">\\n   <h3 class=\"w3-margin-top\">HTML</h3>\\n   <a class=\"w3-bar-item w3-button ga-top-drop\" href=\\'/tags/default.asp\\'>HTML Tag Reference</a>\\n   <a class=\"w3-bar-item w3-button ga-top-drop\" href=\\'/tags/ref_html_browsersupport.asp\\'>HTML Browser Support</a>   \\n   <a class=\"w3-bar-item w3-button ga-top-drop\" href=\\'/tags/ref_eventattributes.asp\\'>HTML Event Reference</a>\\n   <a class=\"w3-bar-item w3-button ga-top-drop\" href=\\'/colors/default.asp\\'>HTML Color Reference</a>\\n   <a class=\"w3-bar-item w3-button ga-top-drop\" href=\\'/tags/ref_attributes.asp\\'>HTML Attribute Reference</a>\\n   <a class=\"w3-bar-item w3-button ga-top-drop\" href=\\'/tags/ref_canvas.asp\\'>HTML Canvas Reference</a>\\n   <a class=\"w3-bar-item w3-button ga-top-drop\" href=\\'/graphics/svg_reference.asp\\'>HTML SVG Reference</a>\\n   <a class=\"w3-bar-item w3-button ga-top-drop\" href=\\'/graphics/google_maps_reference.asp\\'>Google Maps Reference</a>\\n   <h3 class=\"w3-margin-top\">CSS</h3>\\n   <a class=\"w3-bar-item w3-button ga-top-drop\" href=\\'/cssref/index.php\\'>CSS Reference</a>\\n   <a class=\"w3-bar-item w3-button ga-top-drop\" href=\\'/cssref/css3_browsersupport.asp\\'>CSS Browser Support</a>\\n   <a class=\"w3-bar-item w3-button ga-top-drop\" href=\\'/cssref/css_selectors.asp\\'>CSS Selector Reference</a>\\n   <a class=\"w3-bar-item w3-button ga-top-drop\" href=\\'/bootstrap/bootstrap_ref_all_classes.asp\\'>Bootstrap 3 Reference</a>\\n   <a class=\"w3-bar-item w3-button ga-top-drop\" href=\\'/bootstrap4/bootstrap_ref_all_classes.asp\\'>Bootstrap 4 Reference</a>\\n   <a class=\"w3-bar-item w3-button ga-top-drop\" href=\\'/w3css/w3css_references.asp\\'>W3.CSS Reference</a>\\n   <a class=\"w3-bar-item w3-button ga-top-drop\" href=\\'/icons/icons_reference.asp\\'>Icon Reference</a>\\n   <a class=\"w3-bar-item w3-button ga-top-drop\" href=\\'/sass/sass_functions_string.php\\'>Sass Reference</a>\\n  </div>\\n  <div class=\"w3-col l3 m6\">\\n   <h3 class=\"w3-margin-top\">JavaScript</h3>\\n   <a class=\"w3-bar-item w3-button ga-top-drop\" href=\\'/jsref/default.asp\\'>JavaScript Reference</a>\\n   <a class=\"w3-bar-item w3-button ga-top-drop\" href=\\'/jsref/default.asp\\'>HTML DOM Reference</a>\\n   <a class=\"w3-bar-item w3-button ga-top-drop\" href=\\'/jquery/jquery_ref_overview.asp\\'>jQuery Reference</a>\\n   <a class=\"w3-bar-item w3-button ga-top-drop\" href=\\'/angular/angular_ref_directives.asp\\'>AngularJS Reference</a>\\n   <a class=\"w3-bar-item w3-button ga-top-drop\" href=\"/appml/appml_reference.asp\">AppML Reference</a>\\n   <a class=\"w3-bar-item w3-button ga-top-drop\" href=\"/w3js/w3js_references.asp\">W3.JS Reference</a>\\n\\n   <h3 class=\"w3-margin-top\">Programming</h3>\\n   <a class=\"w3-bar-item w3-button ga-top-drop\" href=\\'/python/python_reference.asp\\'>Python Reference</a>\\n   <a class=\"w3-bar-item w3-button ga-top-drop\" href=\\'/java/java_ref_keywords.asp\\'>Java Reference</a>\\n  </div>\\n  <div class=\"w3-col l3 m6\">\\n   <h3 class=\"w3-margin-top\">Server Side</h3>\\n   <a class=\"w3-bar-item w3-button ga-top-drop\" href=\\'/sql/sql_ref_keywords.asp\\'>SQL Reference</a>\\n   <a class=\"w3-bar-item w3-button ga-top-drop\" href=\\'/mysql/mysql_ref_functions.asp\\'>MySQL Reference</a>\\n   <a class=\"w3-bar-item w3-button ga-top-drop\" href=\\'/php/php_ref_overview.asp\\'>PHP Reference</a>\\n   <a class=\"w3-bar-item w3-button ga-top-drop\" href=\\'/asp/asp_ref_response.asp\\'>ASP Reference</a>\\n   <h3 class=\"w3-margin-top\">XML</h3>\\n   <a class=\"w3-bar-item w3-button ga-top-drop\" href=\\'/xml/dom_nodetype.asp\\'>XML DOM Reference</a>\\n   <a class=\"w3-bar-item w3-button ga-top-drop\" href=\\'/xml/dom_http.asp\\'>XML Http Reference</a>\\n   <a class=\"w3-bar-item w3-button ga-top-drop\" href=\\'/xml/xsl_elementref.asp\\'>XSLT Reference</a>\\n   <a class=\"w3-bar-item w3-button ga-top-drop\" href=\\'/xml/schema_elements_ref.asp\\'>XML Schema Reference</a>\\n  </div>\\n  <div class=\"w3-col l3 m6\">\\n   <h3 class=\"w3-margin-top\">Character Sets</h3>\\n   <a class=\"w3-bar-item w3-button ga-top-drop\" href=\\'/charsets/default.asp\\'>HTML Character Sets</a>\\n   <a class=\"w3-bar-item w3-button ga-top-drop\" href=\\'/charsets/ref_html_ascii.asp\\'>HTML ASCII</a>\\n   <a class=\"w3-bar-item w3-button ga-top-drop\" href=\\'/charsets/ref_html_ansi.asp\\'>HTML ANSI</a>\\n   <a class=\"w3-bar-item w3-button ga-top-drop\" href=\\'/charsets/ref_html_ansi.asp\\'>HTML Windows-1252</a>\\n   <a class=\"w3-bar-item w3-button ga-top-drop\" href=\\'/charsets/ref_html_8859.asp\\'>HTML ISO-8859-1</a>\\n   <a class=\"w3-bar-item w3-button ga-top-drop\" href=\\'/charsets/ref_html_symbols.asp\\'>HTML Symbols</a>\\n   <a class=\"w3-bar-item w3-button ga-top-drop\" href=\\'/charsets/ref_html_utf8.asp\\'>HTML UTF-8</a>\\n  </div>\\n </div>\\n <br class=\"hidesm\">\\n </div>\\n</nav>\\n\\n<nav id=\"nav_exercises\" class=\"w3-hide-small\" style=\"position:absolute;padding-bottom:60px;\">\\n <div class=\"w3-content\" style=\"max-width:1100px;font-size:18px\">\\n <span onclick=\"w3_close_nav(\\'exercises\\')\" class=\"w3-button w3-xxxlarge w3-display-topright w3-hover-white sectionxsclosenavspan\" style=\"padding-right:30px;padding-left:30px;\">&times;</span><br>\\n <div class=\"w3-row-padding w3-bar-block\">\\n <div class=\"w3-container\" style=\"padding-left:13px\">\\n   <h2 style=\"color:#FFF4A3;\"><b>Exercises and Quizzes</b></h2>\\n  </div>\\n  <div class=\"w3-col l3 m6\">\\n   <h3 class=\"w3-margin-top\"><a class=\"ws-btn ws-yellow w3-hover-text-white\" style=\"width:155px;font-size:21px\" href=\"/exercises/index.php\">Exercises</a></h3>\\n   <a class=\"w3-bar-item w3-button ga-top-drop\" href=\"/html/html_exercises.asp\">HTML Exercises</a>\\n   <a class=\"w3-bar-item w3-button ga-top-drop\" href=\"/css/css_exercises.asp\">CSS Exercises</a>\\n   <a class=\"w3-bar-item w3-button ga-top-drop\" href=\"/js/js_exercises.asp\">JavaScript Exercises</a>\\n   <a class=\"w3-bar-item w3-button ga-top-drop\" href=\"/python/python_exercises.asp\">Python Exercises</a>\\n   <a class=\"w3-bar-item w3-button ga-top-drop\" href=\"/sql/sql_exercises.asp\">SQL Exercises</a>\\n   <a class=\"w3-bar-item w3-button ga-top-drop\" href=\"/php/php_exercises.asp\">PHP Exercises</a>\\n   <a class=\"w3-bar-item w3-button ga-top-drop\" href=\"/java/java_exercises.asp\">Java Exercises</a>\\n   <a class=\"w3-bar-item w3-button ga-top-drop\" href=\"/c/c_exercises.php\">C Exercises</a>\\n   <a class=\"w3-bar-item w3-button ga-top-drop\" href=\"/cpp/cpp_exercises.asp\">C++ Exercises</a>\\n   <a class=\"w3-bar-item w3-button ga-top-drop\" href=\"/cs/cs_exercises.asp\">C# Exercises</a>\\n   <a class=\"w3-bar-item w3-button ga-top-drop\" href=\"/jquery/jquery_exercises.asp\">jQuery Exercises</a>\\n   <a class=\"w3-bar-item w3-button ga-top-drop\" href=\"/react/react_exercises.asp\">React.js Exercises</a>      \\n   <a class=\"w3-bar-item w3-button ga-top-drop\" href=\"/vue/vue_exercises.php\">Vue.js Exercises</a>         \\n   <a class=\"w3-bar-item w3-button ga-top-drop\" href=\"/mysql/mysql_exercises.asp\">MySQL Exercises</a>\\n   <a class=\"w3-bar-item w3-button ga-top-drop\" href=\"/bootstrap5/bootstrap_exercises.php\">Bootstrap 5 Exercises</a>\\n   <a class=\"w3-bar-item w3-button ga-top-drop\" href=\"/bootstrap4/bootstrap_exercises.asp\">Bootstrap 4 Exercises</a>\\n   <a class=\"w3-bar-item w3-button ga-top-drop\" href=\"/bootstrap/bootstrap_exercises.asp\">Bootstrap 3 Exercises</a>\\n   <a class=\"w3-bar-item w3-button ga-top-drop\" href=\"/python/numpy/numpy_exercises.asp\">NumPy Exercises</a>\\n   <a class=\"w3-bar-item w3-button ga-top-drop\" href=\"/python/pandas/pandas_exercises.asp\">Pandas Exercises</a>\\n   <a class=\"w3-bar-item w3-button ga-top-drop\" href=\"/python/scipy/scipy_exercises.php\">SciPy Exercises</a>\\n   <a class=\"w3-bar-item w3-button ga-top-drop\" href=\"/typescript/typescript_exercises.php\">TypeScript Exercises</a>\\n   <a class=\"w3-bar-item w3-button ga-top-drop\" href=\"/excel/excel_exercises.php\">Excel Exercises</a>\\n   <a class=\"w3-bar-item w3-button ga-top-drop\" href=\"/r/r_exercises.asp\">R Exercises</a>\\n   <a class=\"w3-bar-item w3-button ga-top-drop\" href=\"/git/git_exercises.asp\">Git Exercises</a>\\n   <a class=\"w3-bar-item w3-button ga-top-drop\" href=\"/kotlin/kotlin_exercises.php\">Kotlin Exercises</a>\\n   <a class=\"w3-bar-item w3-button ga-top-drop\" href=\"/go/go_exercises.php\">Go Exercises</a>\\n   <a class=\"w3-bar-item w3-button ga-top-drop\" href=\"/mongodb/mongodb_exercises.php\">MongoDB Exercises</a>      \\n  </div>\\n  <div class=\"w3-col l3 m6\">\\n   <h3 class=\"w3-margin-top\"><a class=\"ws-btn ws-yellow w3-hover-text-white\" style=\"width:135px;font-size:21px\" href=\"/quiztest/default.asp\">Quizzes</a></h3>\\n   <a class=\"w3-bar-item w3-button ga-top-drop\" href=\"/html/html_quiz.asp\" target=\"_top\">HTML Quiz</a>\\n   <a class=\"w3-bar-item w3-button ga-top-drop\" href=\"/css/css_quiz.asp\" target=\"_top\">CSS Quiz</a>\\n   <a class=\"w3-bar-item w3-button ga-top-drop\" href=\"/js/js_quiz.asp\" target=\"_top\">JavaScript Quiz</a>\\n   <a class=\"w3-bar-item w3-button ga-top-drop\" href=\"/python/python_quiz.asp\" target=\"_top\">Python Quiz</a>\\n   <a class=\"w3-bar-item w3-button ga-top-drop\" href=\"/sql/sql_quiz.asp\" target=\"_top\">SQL Quiz</a>\\n   <a class=\"w3-bar-item w3-button ga-top-drop\" href=\"/php/php_quiz.asp\" target=\"_top\">PHP Quiz</a>\\n   <a class=\"w3-bar-item w3-button ga-top-drop\" href=\"/java/java_quiz.asp\" target=\"_top\">Java Quiz</a>\\n   <a class=\"w3-bar-item w3-button ga-top-drop\" href=\"/c/c_quiz.php\">C Quiz</a>\\n   <a class=\"w3-bar-item w3-button ga-top-drop\" href=\"/cpp/cpp_quiz.asp\" target=\"_top\">C++ Quiz</a>\\n   <a class=\"w3-bar-item w3-button ga-top-drop\" href=\"/cs/cs_quiz.asp\" target=\"_top\">C# Quiz</a>\\n   <a class=\"w3-bar-item w3-button ga-top-drop\" href=\"/jquery/jquery_quiz.asp\" target=\"_top\">jQuery Quiz</a>\\n   <a class=\"w3-bar-item w3-button ga-top-drop\" href=\"/react/react_quiz.asp\">React.js Quiz</a>   \\n   <a class=\"w3-bar-item w3-button ga-top-drop\" href=\"/vue/vue_quiz.php\">Vue.js Quiz</a>      \\n   <a class=\"w3-bar-item w3-button ga-top-drop\" href=\"/mysql/mysql_quiz.asp\" target=\"_top\">MySQL Quiz</a>\\n   <a class=\"w3-bar-item w3-button ga-top-drop\" href=\"/bootstrap5/bootstrap_quiz.php\" target=\"_top\">Bootstrap 5 Quiz</a>\\n   <a class=\"w3-bar-item w3-button ga-top-drop\" href=\"/bootstrap4/bootstrap_quiz.asp\" target=\"_top\">Bootstrap 4 Quiz</a>\\n   <a class=\"w3-bar-item w3-button ga-top-drop\" href=\"/bootstrap/bootstrap_quiz.asp\" target=\"_top\">Bootstrap 3 Quiz</a>\\n   <a class=\"w3-bar-item w3-button ga-top-drop\" href=\"/python/numpy/numpy_quiz.asp\" target=\"_top\">NumPy Quiz</a>\\n   <a class=\"w3-bar-item w3-button ga-top-drop\" href=\"/python/pandas/pandas_quiz.asp\" target=\"_top\">Pandas Quiz</a>\\n   <a class=\"w3-bar-item w3-button ga-top-drop\" href=\"/python/scipy/scipy_quiz.php\" target=\"_top\">SciPy Quiz</a>\\n   <a class=\"w3-bar-item w3-button ga-top-drop\" href=\"/typescript/typescript_quiz.php\">TypeScript Quiz</a>   \\n   <a class=\"w3-bar-item w3-button ga-top-drop\" href=\"/xml/xml_quiz.asp\" target=\"_top\">XML Quiz</a>\\n   <a class=\"w3-bar-item w3-button ga-top-drop\" href=\"/r/r_quiz.asp\" target=\"_top\">R Quiz</a>\\n   <a class=\"w3-bar-item w3-button ga-top-drop\" href=\"/git/git_quiz.asp\">Git Quiz</a>   \\n   <a class=\"w3-bar-item w3-button ga-top-drop\" href=\"/kotlin/kotlin_quiz.php\" target=\"_top\">Kotlin Quiz</a>\\n   <a class=\"w3-bar-item w3-button ga-top-drop\" href=\"/cybersecurity/cybersecurity_quiz.php\">Cyber Security Quiz</a>\\n   <a class=\"w3-bar-item w3-button ga-top-drop\" href=\"/accessibility/accessibility_quiz.php\">Accessibility Quiz</a>\\n  </div>\\n  <div class=\"w3-col l3 m6\">\\n   <h3 class=\"w3-margin-top\"><a class=\"ws-btn ws-yellow w3-hover-text-white\" style=\"width:135px;font-size:21px\" href=\"https://campus.w3schools.com/collections/course-catalog\" target=\"_blank\">Courses</a></h3>\\n   <a class=\"w3-bar-item w3-button ga-top-drop\" href=\"https://campus.w3schools.com/collections/course-catalog/products/html-course\" target=\"_blank\">HTML Course</a>\\n   <a class=\"w3-bar-item w3-button ga-top-drop\" href=\"https://campus.w3schools.com/collections/course-catalog/products/css-course\" target=\"_blank\">CSS Course</a>\\n   <a class=\"w3-bar-item w3-button ga-top-drop\" href=\"https://campus.w3schools.com/collections/course-catalog/products/javascript-course\" target=\"_blank\">JavaScript Course</a>\\n   <a class=\"w3-bar-item w3-button ga-top-drop\" href=\"https://campus.w3schools.com/collections/course-catalog/products/front-end-course\" target=\"_blank\">Front End Course</a>\\n   <a class=\"w3-bar-item w3-button ga-top-drop\" href=\"https://campus.w3schools.com/collections/course-catalog/products/python-course\" target=\"_blank\">Python Course</a>\\n   <a class=\"w3-bar-item w3-button ga-top-drop\" href=\"https://campus.w3schools.com/collections/course-catalog/products/sql-course\" target=\"_blank\">SQL Course</a>\\n   <a class=\"w3-bar-item w3-button ga-top-drop\" href=\"https://campus.w3schools.com/collections/course-catalog/products/php-course\" target=\"_blank\">PHP Course</a>\\n   <a class=\"w3-bar-item w3-button ga-top-drop\" href=\"https://campus.w3schools.com/collections/course-catalog/products/java-course\" target=\"_blank\">Java Course</a>\\n   <a class=\"w3-bar-item w3-button ga-top-drop\" href=\"https://campus.w3schools.com/collections/course-catalog/products/c-course-1\" target=\"_blank\">C++ Course</a>\\n   <a class=\"w3-bar-item w3-button ga-top-drop\" href=\"https://campus.w3schools.com/collections/course-catalog/products/c-course\" target=\"_blank\">C# Course</a>\\n   <a class=\"w3-bar-item w3-button ga-top-drop\" href=\"https://campus.w3schools.com/collections/course-catalog/products/jquery-course\" target=\"_blank\">jQuery Course</a>   \\n   <a class=\"w3-bar-item w3-button ga-top-drop\" href=\"https://campus.w3schools.com/collections/course-catalog/products/react-js-course\" target=\"_blank\">React.js Course</a>\\n   <a class=\"w3-bar-item w3-button ga-top-drop\" href=\"https://campus.w3schools.com/collections/course-catalog/products/bootstrap-4-course\" target=\"_blank\">Bootstrap 4 Course</a> \\n   <a class=\"w3-bar-item w3-button ga-top-drop\" href=\"https://campus.w3schools.com/collections/course-catalog/products/bootstrap-course\" target=\"_blank\">Bootstrap 3 Course</a>\\n   <a class=\"w3-bar-item w3-button ga-top-drop\" href=\"https://campus.w3schools.com/collections/course-catalog/products/numpy-course\" target=\"_blank\">NumPy Course</a>\\n   <a class=\"w3-bar-item w3-button ga-top-drop\" href=\"https://campus.w3schools.com/collections/course-catalog/products/pandas-course\" target=\"_blank\">Pandas Course</a>\\n   <a class=\"w3-bar-item w3-button ga-top-drop\" href=\"https://campus.w3schools.com/collections/course-catalog/products/learn-typescript\" target=\"_blank\">TypeScript Course</a>\\n   <a class=\"w3-bar-item w3-button ga-top-drop\" href=\"https://campus.w3schools.com/collections/course-catalog/products/xml-course\" target=\"_blank\">XML Course</a>\\n   <a class=\"w3-bar-item w3-button ga-top-drop\" href=\"https://campus.w3schools.com/collections/course-catalog/products/r-course\" target=\"_blank\">R Course</a>\\n   <a class=\"w3-bar-item w3-button ga-top-drop\" href=\"https://campus.w3schools.com/collections/course-catalog/products/data-analytics-program\" target=\"_blank\">Data Analytics Course</a>\\n   <a class=\"w3-bar-item w3-button ga-top-drop\" href=\"https://campus.w3schools.com/collections/course-catalog/products/cyber-security-course\" target=\"_blank\">Cyber Security Course</a>\\n   <a class=\"w3-bar-item w3-button ga-top-drop\" href=\"https://campus.w3schools.com/collections/course-catalog/products/accessibility-course\" target=\"_blank\">Accessibility Course</a>\\n  </div>\\n  <div class=\"w3-col l3 m6\">\\n   <h3 class=\"w3-margin-top\"><a class=\"ws-btn ws-yellow w3-hover-text-white\" style=\"width:150px;font-size:21px\" href=\"https://campus.w3schools.com/collections/certifications\" target=\"_blank\">Certificates</a></h3>\\n   <a class=\"w3-bar-item w3-button ga-top-drop\" href=\"https://campus.w3schools.com/collections/certifications/products/html-certificate\" target=\"_blank\">HTML Certificate</a>\\n   <a class=\"w3-bar-item w3-button ga-top-drop\" href=\"https://campus.w3schools.com/collections/certifications/products/css-certificate\" target=\"_blank\">CSS Certificate</a>\\n   <a class=\"w3-bar-item w3-button ga-top-drop\" href=\"https://campus.w3schools.com/collections/certifications/products/javascript-certificate\" target=\"_blank\">JavaScript Certificate</a>\\n   <a class=\"w3-bar-item w3-button ga-top-drop\" href=\"https://campus.w3schools.com/collections/certifications/products/front-end-certificate\" target=\"_blank\">Front End Certificate</a>\\n   <a class=\"w3-bar-item w3-button ga-top-drop\" href=\"https://campus.w3schools.com/collections/certifications/products/python-certificate\" target=\"_blank\">Python Certificate</a>\\n   <a class=\"w3-bar-item w3-button ga-top-drop\" href=\"https://campus.w3schools.com/collections/certifications/products/sql-certificate\" target=\"_blank\">SQL Certificate</a>\\n   <a class=\"w3-bar-item w3-button ga-top-drop\" href=\"https://campus.w3schools.com/collections/certifications/products/php-certificate\" target=\"_blank\">PHP Certificate</a>\\n   <a class=\"w3-bar-item w3-button ga-top-drop\" href=\"https://campus.w3schools.com/collections/certifications/products/java-certificate\" target=\"_blank\">Java Certificate</a>\\n   <a class=\"w3-bar-item w3-button ga-top-drop\" href=\"https://campus.w3schools.com/collections/certifications/products/c-certificate\" target=\"_blank\">C++ Certificate</a>\\n   <a class=\"w3-bar-item w3-button ga-top-drop\" href=\"https://campus.w3schools.com/collections/certifications/products/c-certificate-1\" target=\"_blank\">C# Certificate</a>   \\n   <a class=\"w3-bar-item w3-button ga-top-drop\" href=\"https://campus.w3schools.com/collections/certifications/products/jquery-certificate\" target=\"_blank\">jQuery Certificate</a>\\n   <a class=\"w3-bar-item w3-button ga-top-drop\" href=\"https://campus.w3schools.com/collections/certifications/products/react-js-certificate\" target=\"_blank\">React.js Certificate</a>\\n   <a class=\"w3-bar-item w3-button ga-top-drop\" href=\"https://campus.w3schools.com/collections/certifications/products/mysql-certificate\" target=\"_blank\">MySQL Certificate</a>\\n   <a class=\"w3-bar-item w3-button ga-top-drop\" href=\"https://campus.w3schools.com/collections/certifications/products/bootstrap-5-certificate\" target=\"_blank\">Bootstrap 5 Certificate</a>   \\n   <a class=\"w3-bar-item w3-button ga-top-drop\" href=\"https://campus.w3schools.com/collections/certifications/products/bootstrap-4-certificate\" target=\"_blank\">Bootstrap 4 Certificate</a>\\n   <a class=\"w3-bar-item w3-button ga-top-drop\" href=\"https://campus.w3schools.com/collections/certifications/products/bootstrap-3-certificate\" target=\"_blank\">Bootstrap 3 Certificate</a>\\n   <a class=\"w3-bar-item w3-button ga-top-drop\" href=\"https://campus.w3schools.com/collections/certifications/products/typescript-certificate\" target=\"_blank\">TypeScript Certificate</a>   \\n   <a class=\"w3-bar-item w3-button ga-top-drop\" href=\"https://campus.w3schools.com/collections/certifications/products/xml-certificate\" target=\"_blank\">XML Certificate</a>\\n   <a class=\"w3-bar-item w3-button ga-top-drop\" href=\"https://campus.w3schools.com/collections/certifications/products/excel-certificate\" target=\"_blank\">Excel Certificate</a>   \\n   <a class=\"w3-bar-item w3-button ga-top-drop\" href=\"https://campus.w3schools.com/collections/certifications/products/data-science-certificate\" target=\"_blank\">Data Science Certificate</a>\\n   <a class=\"w3-bar-item w3-button ga-top-drop\" href=\"https://campus.w3schools.com/collections/certifications/products/cyber-security-certificate\" target=\"_blank\">Cyber Security Certificate</a>\\n   <a class=\"w3-bar-item w3-button ga-top-drop\" href=\"https://campus.w3schools.com/collections/certifications/products/accessibility-certificate\" target=\"_blank\">Accessibility Certificate</a>\\n  </div>\\n </div>\\n <br class=\"hidesm\">\\n </div>\\n</nav>\\n\\n  </div>\\n</div>\\n\\n<div id=\\'myAccordion\\' class=\"w3-card-2 w3-center w3-hide-large w3-hide-medium ws-grey\" style=\"width:100%;position:absolute;display:none;\">\\n  <a href=\"javascript:void(0)\" onclick=\"w3_close()\" class=\"w3-button w3-xxlarge w3-right\">&times;</a><br>\\n  <div class=\"w3-container w3-padding-32\">\\n    <a class=\"w3-button w3-block ga-top\" style=\"font-size:22px;\" onclick=\"open_xs_menu(\\'tutorials\\');\" href=\"javascript:void(0);\">Tutorials <i class=\\'fa fa-caret-down\\'></i></a>\\n    <div id=\"sectionxs_tutorials\" class=\"w3-left-align w3-show\" style=\"background-color:#282A35;color:white;\"></div>\\n    <a class=\"w3-button w3-block ga-top\" style=\"font-size:22px;\" onclick=\"open_xs_menu(\\'references\\')\" href=\"javascript:void(0);\">References <i class=\\'fa fa-caret-down\\'></i></a>\\n    <div id=\"sectionxs_references\" class=\"w3-left-align w3-show\" style=\"background-color:#282A35;color:white;\"></div>\\n    <a class=\"w3-button w3-block ga-top\" style=\"font-size:22px;\" onclick=\"open_xs_menu(\\'exercises\\')\" href=\"javascript:void(0);\">Exercises <i class=\\'fa fa-caret-down\\'></i></a>\\n    <div id=\"sectionxs_exercises\" class=\"w3-left-align w3-show\" style=\"background-color:#282A35;color:white;\"></div>\\n    <a class=\"w3-button w3-block ga-top\" style=\"font-size:22px;\" href=\"https://campus.w3schools.com/collections/course-catalog\" target=\"_blank\">Get Certified</a>\\n    <a class=\"w3-button w3-block ga-top\" style=\"font-size:22px;\" href=\"/signup/index.html\">Sign Up</a>\\n    <a class=\"w3-button w3-block ga-top\" style=\"font-size:22px;\" href=\"/pro/index.php\" title=\"Upgrade to Improve Your Learning Experiences\">Upgrade</a>\\n    <a class=\"w3-button w3-block ga-top\" style=\"font-size:22px;\" href=\"/spaces/index.html\" title=\"Get Your Own Website With W3schools Spaces\">Spaces</a>\\n    <a class=\"w3-button w3-block ga-top\" style=\"font-size:22px;\" href=\"/bootcamp/index.php\">Bootcamps</a>\\n    <a class=\"w3-button w3-block ga-top\" style=\"font-size:22px;\" href=\"/videos/index.php\" title=\"Video Tutorials\">Videos</a>    \\n    <a class=\"w3-button w3-block ga-top\" style=\"font-size:22px;\" href=\"https://campus.w3schools.com\" target=\"_blank\">Shop</a>\\n  </div>\\n</div>\\n\\n<script>\\n(\\nfunction setThemeCheckboxes() {\\n  var x = localStorage.getItem(\"preferredmode\");\\n  var y = localStorage.getItem(\"preferredpagemode\");  \\n  if (x == \"dark\") {\\n    document.getElementById(\"radio_darkcode\").checked = true;\\n    \\n  }\\n  if (y == \"dark\") {\\n    document.getElementById(\"radio_darkpage\").checked = true;\\n  }\\n})();\\n\\nfunction mouseoverdarkicon() {\\n  if(window.matchMedia(\"(pointer: coarse)\").matches) {\\n    return false;\\n  }\\n  var a = document.getElementById(\"darkmodemenu\");\\n  a.style.top = \"44px\";\\n}\\nfunction mouseoutofdarkicon() {\\n  var a = document.getElementById(\"darkmodemenu\");\\n  a.style.top = \"-40px\";\\n}\\nfunction changepagetheme(n) {\\n  var a = document.getElementById(\"radio_darkcode\");\\n  var b = document.getElementById(\"radio_darkpage\");\\n  document.body.className = document.body.className.replace(\"darktheme\", \"\");\\n  document.body.className = document.body.className.replace(\"darkpagetheme\", \"\");    \\n  document.body.className = document.body.className.replace(\"  \", \" \");\\n  if (a.checked && b.checked) {\\n    localStorage.setItem(\"preferredmode\", \"light\");\\n    localStorage.setItem(\"preferredpagemode\", \"light\");\\n    a.checked = false;\\n    b.checked = false;    \\n  } else {\\n    document.body.className += \" darktheme\";\\n    document.body.className += \" darkpagetheme\";  \\n    localStorage.setItem(\"preferredmode\", \"dark\");\\n    localStorage.setItem(\"preferredpagemode\", \"dark\");\\n    a.checked = true;\\n    b.checked = true;    \\n  }\\n}\\n\\n\\nfunction click_darkpage() {\\n  var b = document.getElementById(\"radio_darkpage\");\\n  if (b.checked) {\\n    document.body.className += \" darkpagetheme\";\\n    document.body.className = document.body.className.replace(\"  \", \" \");    \\n    localStorage.setItem(\"preferredpagemode\", \"dark\");\\n  } else {\\n    document.body.className = document.body.className.replace(\"darkpagetheme\", \"\");\\n    document.body.className = document.body.className.replace(\"  \", \" \");    \\n    localStorage.setItem(\"preferredpagemode\", \"light\");\\n  }\\n}\\n\\nfunction click_darkcode() {\\n  var a = document.getElementById(\"radio_darkcode\");\\n  if (a.checked) {\\n    document.body.className += \" darktheme\";\\n    document.body.className = document.body.className.replace(\"  \", \" \");    \\n    localStorage.setItem(\"preferredmode\", \"dark\");\\n  } else {\\n    document.body.className = document.body.className.replace(\"darktheme\", \"\");\\n    document.body.className = document.body.className.replace(\"  \", \" \");\\n    localStorage.setItem(\"preferredmode\", \"light\");\\n  }\\n}\\n</script>\\n\\n<div class=\\'w3-sidebar w3-collapse\\' id=\\'sidenav\\'>\\n  <div id=\\'leftmenuinner\\'>\\n    <div id=\\'leftmenuinnerinner\\'>\\n<!--  <a href=\\'javascript:void(0)\\' onclick=\\'close_menu()\\' class=\\'w3-button w3-hide-large w3-large w3-display-topright\\' style=\\'right:16px;padding:3px 12px;font-weight:bold;\\'>&times;</a>-->\\n<h2 class=\"left\"><span class=\"left_h2\">HTML</span> Tutorial</h2>\\n<a target=\"_top\" href=\"default.asp\">HTML HOME</a>\\n<a target=\"_top\" href=\"html_intro.asp\">HTML Introduction</a>\\n<a target=\"_top\" href=\"html_editors.asp\">HTML Editors</a>\\n<a target=\"_top\" href=\"html_basic.asp\">HTML Basic</a>\\n<a target=\"_top\" href=\"html_elements.asp\">HTML Elements</a>\\n<a target=\"_top\" href=\"html_attributes.asp\">HTML Attributes</a>\\n<a target=\"_top\" href=\"html_headings.asp\">HTML Headings</a>\\n<a target=\"_top\" href=\"html_paragraphs.asp\">HTML Paragraphs</a>\\n<a target=\"_top\" href=\"html_styles.asp\">HTML Styles</a>\\n<a target=\"_top\" href=\"html_formatting.asp\">HTML Formatting</a>\\n<a target=\"_top\" href=\"html_quotation_elements.asp\">HTML Quotations</a>\\n<a target=\"_top\" href=\"html_comments.asp\">HTML Comments</a>\\n<a target=\"_top\" href=\"html_colors.asp\">HTML Colors</a>\\n<div class=\"tut_overview\">\\n  <a target=\"_top\" href=\"html_colors.asp\">Colors</a>\\n  <a target=\"_top\" href=\"html_colors_rgb.asp\">RGB</a>\\n  <a target=\"_top\" href=\"html_colors_hex.asp\">HEX</a>\\n  <a target=\"_top\" href=\"html_colors_hsl.asp\">HSL</a>\\n</div>\\n<a target=\"_top\" href=\"html_css.asp\">HTML CSS</a>\\n<a target=\"_top\" href=\"html_links.asp\">HTML Links</a>\\n<div class=\"tut_overview\">\\n  <a target=\"_top\" href=\"html_links.asp\">Links</a>\\n  <a target=\"_top\" href=\"html_links_colors.asp\">Link Colors</a>\\n  <a target=\"_top\" href=\"html_links_bookmarks.asp\">Link Bookmarks</a>\\n</div>\\n<a target=\"_top\" href=\"html_images.asp\">HTML Images</a>\\n<div class=\"tut_overview\">\\n  <a target=\"_top\" href=\"html_images.asp\">Images</a>\\n  <a target=\"_top\" href=\"html_images_imagemap.asp\">Image Map</a>\\n  <a target=\"_top\" href=\"html_images_background.asp\">Background Images</a>\\n  <a target=\"_top\" href=\"html_images_picture.asp\">The Picture Element</a>\\n</div>\\n<a target=\"_top\" href=\"html_favicon.asp\">HTML Favicon</a>\\n<a target=\"_top\" href=\"html_page_title.asp\">HTML Page Title</a>\\n<a target=\"_top\" href=\"html_tables.asp\">HTML Tables</a>\\n<div class=\"tut_overview\">\\n  <a target=\"_top\" href=\"html_tables.asp\">HTML Tables</a>\\n  <a target=\"_top\" href=\"html_table_borders.asp\">Table Borders</a>\\n  <a target=\"_top\" href=\"html_table_sizes.asp\">Table Sizes</a>\\n  <a target=\"_top\" href=\"html_table_headers.asp\">Table Headers</a>\\n  <a target=\"_top\" href=\"html_table_padding_spacing.asp\">Padding &amp; Spacing</a>\\n  <a target=\"_top\" href=\"html_table_colspan_rowspan.asp\">Colspan &amp; Rowspan</a>\\n  <a target=\"_top\" href=\"html_table_styling.asp\">Table Styling</a>\\n  <a target=\"_top\" href=\"html_table_colgroup.asp\">Table Colgroup</a>\\n</div>\\n\\n\\n\\n<a target=\"_top\" href=\"html_lists.asp\">HTML Lists</a>\\n<div class=\"tut_overview\">\\n<a target=\"_top\" href=\"html_lists.asp\">Lists</a>\\n<a target=\"_top\" href=\"html_lists_unordered.asp\">Unordered Lists</a>\\n<a target=\"_top\" href=\"html_lists_ordered.asp\">Ordered Lists</a>\\n<a target=\"_top\" href=\"html_lists_other.asp\">Other Lists</a>\\n</div>\\n<a target=\"_top\" href=\"html_blocks.asp\">HTML Block &amp; Inline</a>\\n<a target=\"_top\" href=\"html_classes.asp\">HTML Classes</a>\\n<a target=\"_top\" href=\"html_id.asp\">HTML Id</a>\\n<a target=\"_top\" href=\"html_iframe.asp\">HTML Iframes</a>\\n<a target=\"_top\" href=\"html_scripts.asp\">HTML JavaScript</a>\\n<a target=\"_top\" href=\"html_filepaths.asp\">HTML File Paths</a>\\n<a target=\"_top\" href=\"html_head.asp\">HTML Head</a>\\n<a target=\"_top\" href=\"html_layout.asp\">HTML Layout</a>\\n<a target=\"_top\" href=\"html_responsive.asp\">HTML Responsive</a>\\n<a target=\"_top\" href=\"html_computercode_elements.asp\">HTML Computercode</a>\\n<a target=\"_top\" href=\"html5_semantic_elements.asp\">HTML Semantics</a>\\n<a target=\"_top\" href=\"html5_syntax.asp\">HTML Style Guide</a>\\n<a target=\"_top\" href=\"html_entities.asp\">HTML Entities</a>\\n<a target=\"_top\" href=\"html_symbols.asp\">HTML Symbols</a>\\n<a target=\"_top\" href=\"html_emojis.asp\">HTML Emojis</a>\\n<a target=\"_top\" href=\"html_charset.asp\">HTML Charset</a>\\n<a target=\"_top\" href=\"html_urlencode.asp\">HTML URL Encode</a>\\n<a target=\"_top\" href=\"html_xhtml.asp\">HTML vs. XHTML</a>\\n<br>\\n<h2 class=\"left\"><span class=\"left_h2\">HTML</span> Forms</h2>\\n<a target=\"_top\" href=\"html_forms.asp\">HTML Forms</a>\\n<a target=\"_top\" href=\"html_forms_attributes.asp\">HTML Form Attributes</a>\\n<a target=\"_top\" href=\"html_form_elements.asp\">HTML Form Elements</a>\\n<a target=\"_top\" href=\"html_form_input_types.asp\">HTML Input Types</a>\\n<a target=\"_top\" href=\"html_form_attributes.asp\">HTML Input Attributes</a>\\n<a target=\"_top\" href=\"html_form_attributes_form.asp\">HTML Input Form Attributes</a>\\n<br>\\n<h2 class=\"left\"><span class=\"left_h2\">HTML</span> Graphics</h2>\\n<a target=\"_top\" href=\"html5_canvas.asp\">HTML Canvas</a>\\n<a target=\"_top\" href=\"html5_svg.asp\">HTML SVG</a>\\n<br>\\n<h2 class=\"left\"><span class=\"left_h2\">HTML</span> Media</h2>\\n<a target=\"_top\" href=\"html_media.asp\">HTML Media</a>\\n<a target=\"_top\" href=\"html5_video.asp\">HTML Video</a>\\n<a target=\"_top\" href=\"html5_audio.asp\">HTML Audio</a>\\n<a target=\"_top\" href=\"html_object.asp\">HTML Plug-ins</a>\\n<a target=\"_top\" href=\"html_youtube.asp\">HTML YouTube</a>\\n<br>\\n<h2 class=\"left\"><span class=\"left_h2\">HTML</span> APIs</h2>\\n<a target=\"_top\" href=\"html5_geolocation.asp\">HTML Geolocation</a>\\n<a target=\"_top\" href=\"html5_draganddrop.asp\">HTML Drag/Drop</a>\\n<a target=\"_top\" href=\"html5_webstorage.asp\">HTML Web Storage</a>\\n<a target=\"_top\" href=\"html5_webworkers.asp\">HTML Web Workers</a>\\n<a target=\"_top\" href=\"html5_serversentevents.asp\">HTML SSE</a>\\n<br>\\n<h2 class=\"left\"><span class=\"left_h2\">HTML</span> Examples</h2>\\n<a target=\"_top\" href=\"html_examples.asp\">HTML Examples</a>\\n<a target=\"_top\" href=\"html_editor.asp\">HTML Editor</a>\\n<a target=\"_top\" href=\"html_quiz.asp\">HTML Quiz</a>\\n<a target=\"_top\" href=\"html_exercises.asp\">HTML Exercises</a>\\n<a target=\"_top\" href=\"html_bootcamp.asp\">HTML Bootcamp</a>\\n<a target=\"_top\" href=\"html_exam.asp\">HTML Certificate</a>\\n<a target=\"_top\" href=\"html_summary.asp\">HTML Summary</a>\\n<a target=\"_top\" href=\"html_accessibility.asp\">HTML Accessibility</a>\\n<br>\\n<h2 class=\"left\"><span class=\"left_h2\">HTML</span> References</h2>\\n<a target=\"_top\" href=\"/tags/default.asp\">HTML Tag List</a>\\n<a target=\"_top\" href=\"/tags/ref_attributes.asp\">HTML Attributes</a>\\n<a target=\"_top\" href=\"/tags/ref_standardattributes.asp\">HTML Global Attributes</a>\\n<a target=\"_top\" href=\"/tags/ref_html_browsersupport.asp\">HTML Browser Support</a>\\n<a target=\"_top\" href=\"/tags/ref_eventattributes.asp\">HTML Events</a>\\n<a target=\"_top\" href=\"/tags/ref_colornames.asp\">HTML Colors</a>\\n<a target=\"_top\" href=\"/tags/ref_canvas.asp\">HTML Canvas</a>\\n<a target=\"_top\" href=\"/tags/ref_av_dom.asp\">HTML Audio/Video</a>\\n<a target=\"_top\" href=\"/tags/ref_html_dtd.asp\">HTML Doctypes</a>\\n<a target=\"_top\" href=\"/tags/ref_charactersets.asp\">HTML Character Sets</a>\\n<a target=\"_top\" href=\"/tags/ref_urlencode.asp\">HTML URL Encode</a>\\n<a target=\"_top\" href=\"/tags/ref_language_codes.asp\">HTML Lang Codes</a>\\n<a target=\"_top\" href=\"/tags/ref_httpmessages.asp\">HTTP Messages</a>\\n<a target=\"_top\" href=\"/tags/ref_httpmethods.asp\">HTTP Methods</a>\\n<a target=\"_top\" href=\"/tags/ref_pxtoemconversion.asp\">PX to EM Converter</a>\\n<a target=\"_top\" href=\"/tags/ref_keyboardshortcuts.asp\">Keyboard Shortcuts</a>\\n      <br><br>\\n    </div>\\n  </div>\\n</div>\\n<div class=\\'w3-main w3-light-grey\\' id=\\'belowtopnav\\' style=\\'margin-left:220px;\\'>\\n  <div class=\\'w3-row w3-white\\'>\\n    <div class=\\'w3-col l10 m12\\' id=\\'main\\'>\\n      <div id=\\'mainLeaderboard\\' style=\\'overflow:hidden;\\'>\\n        <!-- MainLeaderboard-->\\n\\n        <!--<pre>main_leaderboard, all: [728,90][970,90][320,50][468,60]</pre>-->\\n        <div id=\"adngin-main_leaderboard-0\"></div>\\n        <!-- adspace leaderboard -->\\n\\n      </div>\\n<h1>HTML<span class=\"color_h1\"> Basic Examples</span></h1>\\n<div class=\"w3-clear nextprev\">\\n<a class=\"w3-left w3-btn\" href=\"html_editors.asp\">&#10094; Previous</a>\\n<a class=\"w3-right w3-btn\" href=\"html_elements.asp\">Next &#10095;</a>\\n</div>\\n<hr>\\n<p class=\"intro\">In this chapter we will show some basic HTML examples.</p>\\n<p class=\"intro\">Don\\'t worry if we use tags you have not learned about yet.</p>\\n<hr>\\n\\n<h2>HTML Documents</h2>\\n<p>All HTML documents must start with a document type declaration: <code class=\"w3-codespan\">&lt;!DOCTYPE html&gt;</code>.</p>\\n<p>The HTML document itself begins with <code class=\"w3-codespan\">&lt;html&gt;</code> and ends with <code class=\"w3-codespan\">&lt;/html&gt;</code>.</p>\\n<p>The visible part of the HTML document is between <code class=\"w3-codespan\">&lt;body&gt;</code> and <code class=\"w3-codespan\">&lt;/body&gt;</code>. </p>\\n<div class=\"w3-example\">\\n<h3>Example</h3>\\n<div class=\"w3-code notranslate htmlHigh\">\\n&lt;!DOCTYPE html&gt;<br>&lt;html&gt;<br>&lt;body&gt;<br><br>&lt;h1&gt;My First Heading&lt;/h1&gt;<br>&lt;p&gt;My first paragraph.&lt;/p&gt;<br><br>&lt;/body&gt;<br>&lt;/html&gt;</div>\\n<a class=\"w3-btn w3-margin-bottom\" href=\"tryit.asp?filename=tryhtml_basic_document\" target=\"_blank\">Try it Yourself &raquo;</a>\\n</div>\\n<hr>\\n\\n<h2>The &lt;!DOCTYPE&gt; Declaration</h2>\\n<p>The <code class=\"w3-codespan\">&lt;!DOCTYPE&gt;</code> declaration represents the document type, and helps browsers to display web pages correctly.</p>\\n<p>It must only appear once, at the top of the page (before any HTML tags). </p>\\n<p>The <code class=\"w3-codespan\">&lt;!DOCTYPE&gt;</code> declaration is not case sensitive.</p>\\n<p>The <code class=\"w3-codespan\">&lt;!DOCTYPE&gt;</code> declaration for HTML5 is:</p>\\n<div class=\"w3-example\">\\n <div class=\"w3-code notranslate htmlHigh\">\\n&lt;!DOCTYPE html&gt;</div>\\n</div>\\n<hr>\\n\\n<h2>HTML Headings</h2>\\n<p>HTML headings are defined with the <code class=\"w3-codespan\">&lt;h1&gt;</code> to <code class=\"w3-codespan\">&lt;h6&gt;</code> tags.</p>\\n<p><code class=\"w3-codespan\">&lt;h1&gt;</code> defines the most important heading. <code class=\"w3-codespan\">&lt;h6&gt;</code> defines the least important \\nheading:&nbsp;</p>\\n<div class=\"w3-example\">\\n<h3>Example</h3>\\n<div class=\"w3-code notranslate htmlHigh\">\\n&lt;h1&gt;This is heading 1&lt;/h1&gt;<br>\\n&lt;h2&gt;This is heading 2&lt;/h2&gt;<br>\\n&lt;h3&gt;This is heading 3&lt;/h3&gt;\\n</div>\\n<a target=\"_blank\" href=\"tryit.asp?filename=tryhtml_basic_headings\" class=\"w3-btn w3-margin-bottom\">Try it Yourself &raquo;</a>\\n</div>\\n\\n<hr>\\n<div id=\"midcontentadcontainer\" style=\"overflow:auto;text-align:center\">\\n<!-- MidContent -->\\n<!-- <p class=\"adtext\">Advertisement</p> -->\\n\\n  <div id=\"adngin-mid_content-0\"></div>\\n  \\n</div>\\n<hr>\\n\\n<h2>HTML Paragraphs</h2>\\n<p>HTML paragraphs are defined with the <code class=\"w3-codespan\">&lt;p&gt;</code> tag:</p>\\n<div class=\"w3-example\">\\n<h3>Example</h3>\\n<div class=\"w3-code notranslate htmlHigh\">\\n&lt;p&gt;This is a paragraph.&lt;/p&gt;<br>\\n&lt;p&gt;This is another paragraph.&lt;/p&gt;\\n</div>\\n<a target=\"_blank\" href=\"tryit.asp?filename=tryhtml_basic_paragraphs\" class=\"w3-btn w3-margin-bottom\">Try it Yourself &raquo;</a>\\n</div>\\n<hr>\\n\\n<h2>HTML Links</h2>\\n<p>HTML links are defined with the <code class=\"w3-codespan\">&lt;a&gt;</code> tag:</p>\\n<div class=\"w3-example\">\\n<h3>Example</h3>\\n<div class=\"w3-code notranslate htmlHigh\">\\n&lt;a href=&quot;https://www.w3schools.com&quot;&gt;This is a link&lt;/a&gt;\\n</div>\\n<a target=\"_blank\" href=\"tryit.asp?filename=tryhtml_basic_link\" class=\"w3-btn w3-margin-bottom\">Try it Yourself &raquo;</a>\\n</div>\\n<p>The link\\'s destination is specified in the <code class=\"w3-codespan\">href</code> attribute.&nbsp;</p>\\n<p>Attributes are used to provide additional information about HTML elements.</p>\\n<p>You will learn more about attributes in a later chapter.</p>\\n<hr>\\n\\n<h2>HTML Images</h2>\\n<p>HTML images are defined with the <code class=\"w3-codespan\">&lt;img&gt;</code> tag.</p>\\n<p>The source file (<code class=\"w3-codespan\">src</code>), alternative text (<code class=\"w3-codespan\">alt</code>), \\n<code class=\"w3-codespan\">width</code>, and <code class=\"w3-codespan\">height</code> are provided as attributes:</p>\\n<div class=\"w3-example\">\\n<h3>Example</h3>\\n<div class=\"w3-code notranslate htmlHigh\">\\n&lt;img src=&quot;w3schools.jpg&quot; alt=&quot;W3Schools.com&quot; width=&quot;104&quot; height=&quot;142&quot;&gt;\\n</div>\\n<a target=\"_blank\" href=\"tryit.asp?filename=tryhtml_basic_img\" class=\"w3-btn w3-margin-bottom\">Try it Yourself &raquo;</a>\\n</div>\\n<hr>\\n\\n<h2>How to View HTML Source</h2>\\n<p>Have you ever seen a Web page and wondered &quot;Hey! How did they do that?&quot;</p>\\n<h3>View HTML Source Code:</h3>\\n<p>Right-click in an HTML page and select &quot;View Page Source&quot; (in \\nChrome) or &quot;View Source&quot; (in Edge), or similar in other browsers. This will open a window \\ncontaining the HTML source code of the page.</p>\\n<h3>Inspect an HTML Element:</h3>\\n<p>Right-click on an element (or a blank area), and choose &quot;Inspect&quot; or \\n&quot;Inspect Element&quot; to see what elements are made up of (you will see both \\nthe HTML and the CSS). You can also edit the HTML or CSS on-the-fly in the \\nElements or Styles panel that opens.</p>\\n\\n<br>\\n<div class=\"w3-clear nextprev\">\\n<a class=\"w3-left w3-btn\" href=\"html_editors.asp\">&#10094; Previous</a>\\n<a class=\"w3-right w3-btn\" href=\"html_elements.asp\">Next &#10095;</a>\\n</div>\\n<div id=\"mypagediv2\" style=\"position:relative;text-align:center;\"></div>\\n<br>\\n\\n</div>\\n<div class=\"w3-col l2 m12\" id=\"right\">\\n\\n<div class=\"sidesection\">\\n  <div id=\"skyscraper\">\\n  \\n    <div id=\"adngin-sidebar_top-0\"></div>\\n  \\n  </div>\\n</div>\\n  \\n<style>\\n.ribbon-vid {\\n  font-size:12px;\\n  font-weight:bold;\\n  padding: 6px 20px;\\n  left:-20px;\\n  top:-10px;\\n  text-align: center;\\n  color:black;\\n  border-radius:25px;\\n}\\n</style>\\n\\n<div class=\"sidesection\" style=\"margin-top:20px;margin-bottom:20px;\">\\n<a id=\"upperfeatureshowcaselink\" class=\"ga-right\" href=\"https://campus.w3schools.com/collections/course-catalog/products/w3schools-full-access-course\" target=\"_blank\">\\n<picture id=\"upperfeatureshowcase\">\\n  <source id=\"upperfeatureshowcase3001\" srcset=\"/images/img_fullaccess_up_purple_300.png\" media=\"(max-width: 990px)\" style=\"border-radius: 5px;\">\\n  <source id=\"upperfeatureshowcase120\" srcset=\"/images/img_fullaccess_up_purple_120.png\" media=\"(max-width: 1260px)\" style=\"border-radius: 5px;\">\\n  <source id=\"upperfeatureshowcase160\" srcset=\"/images/img_fullaccess_up_purple_160.png\" media=\"(max-width: 1700px)\" style=\"border-radius: 5px;\">\\n  <img id=\"upperfeatureshowcase300\" src=\"/images/img_fullaccess_up_purple_300.png\" alt=\"Unlock Full Access\" style=\"width:auto;border-radius: 5px;\">\\n</picture>\\n</a>\\n</div>\\n\\n<div class=\"sidesection\">\\n<h4><a href=\"/colors/colors_picker.asp\">COLOR PICKER</a></h4>\\n<a href=\"/colors/colors_picker.asp\" class=\"ga-right\">\\n<img src=\"/images/colorpicker2000.png\" alt=\"colorpicker\" loading=\"lazy\">\\n</a>\\n</div>\\n\\n<div class=\"sidesection\">\\n  <div class=\"sharethis\">\\n    <a href=\"https://www.facebook.com/w3schoolscom/\" target=\"_blank\" title=\"Facebook\"><span class=\"fa fa-facebook-square fa-2x ga-right\"></span></a>\\n    <a href=\"https://www.instagram.com/w3schools.com_official/\" target=\"_blank\" title=\"Instagram\"><span class=\"fa fa-instagram fa-2x ga-right\"></span></a>\\n    <a href=\"https://www.linkedin.com/company/w3schools.com/\" target=\"_blank\" title=\"LinkedIn\"><span class=\"fa fa-linkedin-square fa-2x ga-right\"></span></a>\\n    <a href=\"https://discord.gg/6Z7UaRbUQM\" target=\"_blank\" title=\\'Join the W3schools community on Discord\\'><span class=\"fa fa-discord fa-2x ga-right\"></span></a> \\n  </div>\\n</div>\\n\\n<div class=\"sidesection\" style=\"margin-top:20px;margin-bottom:20px;\">\\n<a id=\"lowerfeatureshowcaselink\" class=\"ga-right\" href=\"https://www.w3schools.com/bootcamp/bootcamp_htmlcss.php\" target=\"_blank\">\\n<picture id=\"lowerfeatureshowcase\">\\n  <source id=\"lowerfeatureshowcase3001\" srcset=\"/images/img_bootcamp_green_300.png\" media=\"(max-width: 990px)\" style=\"border-radius: 5px;\">\\n  <source id=\"lowerfeatureshowcase120\" srcset=\"/images/img_bootcamp_green_120.png\" media=\"(max-width: 1260px)\" style=\"border-radius: 5px;\">\\n  <source id=\"lowerfeatureshowcase160\" srcset=\"/images/img_bootcamp_green_160.png\" media=\"(max-width: 1700px)\" style=\"border-radius: 5px;\">\\n  <img id=\"lowerfeatureshowcase300\" src=\"/images/img_bootcamp_green_300.png\" alt=\"Join our Bootcamp!\" style=\"width:auto;border-radius: 5px;\">\\n</picture>\\n</a>\\n</div>\\n\\n<script>\\nvar internalFeatureRnd = Math.floor(Math.random() * (4 - 1)) + 1;\\nfunction addTryitSpaces(subject) {\\n  let spacesButt = document.createElement(\"a\");\\n  let ribb = document.createElement(\"span\");\\n  spacesButt.innerHTML=\"Get your own \" + subject + \" Server\"\\n  spacesButt.classList.add(\"ws-black\", \"ws-hover-black\", \"spaces-tryit\", \"ga-featured\");\\n  spacesButt.href=\"https://www.w3schools.com/spaces/\";\\n  spacesButt.setAttribute(\"title\", \"W3Schools Spaces\");\\n  spacesButt.setAttribute(\"target\", \"_blank\");\\n\\n  var tryits = document.getElementsByClassName(\"w3-example\");\\n  for (var i = 0; i < tryits.length; i++) {\\n    if (tryits[i].firstElementChild.nodeName == \"H3\") {\\n      tryits[i].firstElementChild.appendChild(spacesButt.cloneNode(true));\\n      break;\\n    }\\n  }\\n}\\n\\nvar uplink1 = \"https://campus.w3schools.com/collections/course-catalog/products/w3schools-full-access-course\"\\nvar upimgstart1 = \"/images/img_fullaccess_up_purple_\"\\nvar upimgend1 = \".png\"\\nvar uplink2 = \"https://campus.w3schools.com/collections/course-catalog/products/w3schools-full-access-course\"\\nvar upimgstart2 = \"/images/img_fullaccess_up_purple_\"\\nvar upimgend2 = \".png\"\\nvar uplink3 = \"https://campus.w3schools.com/collections/course-catalog/products/w3schools-full-access-course\"\\nvar upimgstart3 = \"/images/img_fullaccess_up_purple_\"\\nvar upimgend3 = \".png\"\\n\\nvar loimgsubject = \"\"\\nvar lolink1 = \"https://www.w3schools.com/bootcamp/index.php\"\\nvar loimgstart1 = \"/images/img_bootcamp_green_\"\\nvar loimgend1 = \".png\"\\nvar lolink2 = \"https://www.w3schools.com/bootcamp/index.php\"\\nvar loimgstart2 = \"/images/img_bootcamp_gold_\"\\nvar loimgend2 = \".png\"\\nvar lolink3 = \"https://campus.w3schools.com/collections/course-catalog/products/w3schools-full-access-course\"\\nvar loimgstart3 = \"/images/img_fullaccess_purple_\"\\nvar loimgend3 = \".png\"\\n\\nvar upshowcase120 = document.getElementById(\"upperfeatureshowcase120\");\\nvar upshowcase160 = document.getElementById(\"upperfeatureshowcase160\");\\nvar upshowcase300 = document.getElementById(\"upperfeatureshowcase300\");\\nvar upshowcase3001 = document.getElementById(\"upperfeatureshowcase3001\");\\nvar upshowcaselink = document.getElementById(\"upperfeatureshowcaselink\");\\nvar lowshowcase120 = document.getElementById(\"lowerfeatureshowcase120\");\\nvar lowshowcase160 = document.getElementById(\"lowerfeatureshowcase160\");\\nvar lowshowcase300 = document.getElementById(\"lowerfeatureshowcase300\");\\nvar lowshowcase3001 = document.getElementById(\"lowerfeatureshowcase3001\");\\nvar lowshowcaselink = document.getElementById(\"lowerfeatureshowcaselink\");\\n\\nswitch (subjectFolder) {\\n  case \"java\":\\n    addTryitSpaces(\"Java\");\\n    break;\\n  case \"html\":\\n    loimgsubject = \"html_\";\\n    lolink1 = \"https://www.w3schools.com/bootcamp/bootcamp_htmlcss.php\";\\n    lolink2 = \"https://www.w3schools.com/bootcamp/bootcamp_htmlcss.php\";      \\n    break;\\n  case \"tags\":\\n    loimgsubject = \"html_\";\\n    lolink1 = \"https://www.w3schools.com/bootcamp/bootcamp_htmlcss.php\";\\n    lolink2 = \"https://www.w3schools.com/bootcamp/bootcamp_htmlcss.php\";      \\n    break;\\n  case \"css\":\\n    loimgsubject = \"html_\";\\n    lolink1 = \"https://www.w3schools.com/bootcamp/bootcamp_htmlcss.php\";\\n    lolink2 = \"https://www.w3schools.com/bootcamp/bootcamp_htmlcss.php\";      \\n    break;\\n  case \"cssref\":\\n    loimgsubject = \"html_\";\\n    lolink1 = \"https://www.w3schools.com/bootcamp/bootcamp_htmlcss.php\";\\n    lolink2 = \"https://www.w3schools.com/bootcamp/bootcamp_htmlcss.php\";      \\n    break;\\n  case \"js\":\\n    loimgsubject = \"js_\";\\n    lolink1 = \"https://www.w3schools.com/bootcamp/bootcamp_js.php\";\\n    lolink2 = \"https://www.w3schools.com/bootcamp/bootcamp_js.php\";      \\n    break;\\n  case \"jsref\":\\n    loimgsubject = \"js_\";\\n    lolink1 = \"https://www.w3schools.com/bootcamp/bootcamp_js.php\";\\n    lolink2 = \"https://www.w3schools.com/bootcamp/bootcamp_js.php\";      \\n    break;\\n  case \"react\":\\n    loimgsubject = \"react_\";\\n    lolink1 = \"https://www.w3schools.com/bootcamp/bootcamp_frontend.php\";\\n    lolink2 = \"https://www.w3schools.com/bootcamp/bootcamp_frontend.php\";      \\n    addTryitSpaces(\"React.js\");\\n    break;\\n  case \"sql\":\\n    loimgsubject = \"sql_\";\\n    lolink1 = \"https://www.w3schools.com/bootcamp/bootcamp_sql.php\";\\n    lolink2 = \"https://www.w3schools.com/bootcamp/bootcamp_sql.php\";      \\n    addTryitSpaces(\"SQL\");    \\n    break;\\n  case \"mysql\":\\n    loimgsubject = \"sql_\";\\n    lolink1 = \"https://www.w3schools.com/bootcamp/bootcamp_sql.php\";\\n    lolink2 = \"https://www.w3schools.com/bootcamp/bootcamp_sql.php\";      \\n    addTryitSpaces(\"SQL\");\\n    break; \\n  case \"php\":\\n    addTryitSpaces(\"PHP\");\\n    break;\\n  case \"numpy\":\\n    loimgsubject = \"python_\";\\n    lolink1 = \"https://www.w3schools.com/bootcamp/bootcamp_python.php\";\\n    lolink2 = \"https://www.w3schools.com/bootcamp/bootcamp_python.php\";      \\n    addTryitSpaces(\"Python\");\\n    break;\\n  case \"django\":\\n    loimgsubject = \"python_\";\\n    lolink1 = \"https://www.w3schools.com/bootcamp/bootcamp_python.php\";\\n    lolink2 = \"https://www.w3schools.com/bootcamp/bootcamp_python.php\";      \\n    addTryitSpaces(\"Django\");\\n    break; \\n  case \"typescript\":\\n    addTryitSpaces(\"TypeScript\");\\n    break; \\n  case \"nodejs\":\\n    loimgsubject = \"node_\";\\n    lolink1 = \"https://www.w3schools.com/bootcamp/bootcamp_backend.php\";\\n    lolink2 = \"https://www.w3schools.com/bootcamp/bootcamp_backend.php\";      \\n    addTryitSpaces(\"Node.js\");\\n    break; \\n  case \"pandas\":\\n    loimgsubject = \"python_\";\\n    lolink1 = \"https://www.w3schools.com/bootcamp/bootcamp_python.php\";\\n    lolink2 = \"https://www.w3schools.com/bootcamp/bootcamp_python.php\";      \\n    addTryitSpaces(\"Python\");\\n    break;\\n  case \"python\":\\n    loimgsubject = \"python_\";\\n    lolink1 = \"https://www.w3schools.com/bootcamp/bootcamp_python.php\";\\n    lolink2 = \"https://www.w3schools.com/bootcamp/bootcamp_python.php\";      \\n    addTryitSpaces(\"Python\");\\n    break;\\n  case \"cs\":\\n    addTryitSpaces(\"C#\");\\n    break;\\n  case \"vue\":\\n    addTryitSpaces(\"Vue\");\\n    break;    \\n  default:\\n    loimgsubject = \"\";\\n}\\n\\nif (internalFeatureRnd == 1) {\\n  upshowcase120.srcset = upimgstart1 + \"120\" + upimgend1;\\n  upshowcase160.srcset = upimgstart1 + \"160\" + upimgend1;\\n  upshowcase300.srcset = upimgstart1 + \"300\" + upimgend1;\\n  upshowcase3001.srcset = upimgstart1 + \"300\" + upimgend1;\\n  upshowcaselink.href = uplink1;\\n  lowshowcase120.srcset = loimgstart1 + loimgsubject + \"120\" + upimgend1;\\n  lowshowcase160.srcset = loimgstart1 + loimgsubject + \"160\" + upimgend1;\\n  lowshowcase300.srcset = loimgstart1 + loimgsubject + \"300\" + upimgend1;\\n  lowshowcase3001.srcset = loimgstart1 + loimgsubject + \"300\" + upimgend1;\\n  lowshowcaselink.href = lolink2;\\n} else if (internalFeatureRnd == 2) {\\n  upshowcase120.srcset = upimgstart2 + \"120\" + upimgend2;\\n  upshowcase160.srcset = upimgstart2 + \"160\" + upimgend2;\\n  upshowcase300.srcset = upimgstart2 + \"300\" + upimgend2;\\n  upshowcase3001.srcset = upimgstart2 + \"300\" + upimgend2;\\n  upshowcaselink.href = uplink2;\\n  lowshowcase120.srcset = loimgstart2 + loimgsubject + \"120\" + upimgend2;\\n  lowshowcase160.srcset = loimgstart2 + loimgsubject + \"160\" + upimgend2;\\n  lowshowcase300.srcset = loimgstart2 + loimgsubject + \"300\" + upimgend2;\\n  lowshowcase3001.srcset = loimgstart2 + loimgsubject + \"300\" + upimgend2;\\n  lowshowcaselink.href = lolink2;\\n} else if (internalFeatureRnd == 3) {\\n  upshowcase120.srcset = upimgstart3 + \"120\" + upimgend3;\\n  upshowcase160.srcset = upimgstart3 + \"160\" + upimgend3;\\n  upshowcase300.srcset = upimgstart3 + \"300\" + upimgend3;\\n  upshowcase3001.srcset = upimgstart3 + \"300\" + upimgend3;\\n  upshowcaselink.href = uplink3;\\n  lowshowcase120.srcset = loimgstart3 + \"120\" + upimgend3;\\n  lowshowcase160.srcset = loimgstart3 + \"160\" + upimgend3;\\n  lowshowcase300.srcset = loimgstart3 + \"300\" + upimgend3;\\n  lowshowcase3001.srcset = loimgstart3 + \"300\" + upimgend3;\\n  lowshowcaselink.href = lolink3;\\n}\\n</script>\\n\\n\\n<div id=\"stickypos\" class=\"sidesection\" style=\"text-align:center;position:sticky;top:50px;\">\\n  <div id=\"stickyadcontainer\">\\n    <div style=\"position:relative;margin:auto;\">\\n      \\n      <div id=\"adngin-sidebar_sticky-0\"></div>\\n        <script>\\n        function secondSnigel() {\\n          if(window.adngin && window.adngin.adnginLoaderReady) {\\n            if (Number(w3_getStyleValue(document.getElementById(\"main\"), \"height\").replace(\"px\", \"\")) > 2200) {         \\n              if (document.getElementById(\"adngin-mid_content-0\")) {\\n                adngin.queue.push(function(){  adngin.cmd.startAuction([\"sidebar_sticky\", \"mid_content\" ]); });\\n              } else {\\n                adngin.queue.push(function(){  adngin.cmd.startAuction([\"sidebar_sticky\"]); });\\n              }\\n            } else {\\n              if (document.getElementById(\"adngin-mid_content-0\")) {\\n                adngin.queue.push(function(){  adngin.cmd.startAuction([\"mid_content\"]); });\\n              }\\n            }\\n          } else {\\n            window.addEventListener(\\'adnginLoaderReady\\', function() {\\n              if (Number(w3_getStyleValue(document.getElementById(\"main\"), \"height\").replace(\"px\", \"\")) > 2200) {\\n                if (document.getElementById(\"adngin-mid_content-0\")) {\\n                  adngin.queue.push(function(){  adngin.cmd.startAuction([\"sidebar_sticky\", \"mid_content\" ]); });\\n                } else {\\n                  adngin.queue.push(function(){  adngin.cmd.startAuction([\"sidebar_sticky\"]); });\\n                }\\n              } else {\\n                if (document.getElementById(\"adngin-mid_content-0\")) {\\n                  adngin.queue.push(function(){  adngin.cmd.startAuction([\"mid_content\"]); });\\n                }\\n              }\\n            });\\n          }\\n        }\\n      </script>\\n      \\n    </div>\\n  </div>\\n</div>\\n\\n<script>\\nuic_r_c()\\n</script>\\n\\n</div>\\n</div>\\n<div id=\"footer\" class=\"footer w3-container w3-white\">\\n\\n<hr>\\n\\n<div style=\"overflow:auto\">\\n  <div class=\"bottomad\">\\n    <!-- BottomMediumRectangle -->\\n    <!--<pre>bottom_medium_rectangle, all: [970,250][300,250][336,280]</pre>-->\\n    <div id=\"adngin-bottom_left-0\" style=\"padding:0 10px 10px 0;float:left;width:auto;\"></div>\\n    <!-- adspace bmr -->\\n    <!-- RightBottomMediumRectangle -->\\n    <!--<pre>right_bottom_medium_rectangle, desktop: [300,250][336,280]</pre>-->\\n    <div id=\"adngin-bottom_right-0\" style=\"padding:0 10px 10px 0;float:left;width:auto;\"></div>\\n  </div>\\n</div>\\n\\n<hr>\\n<div class=\"w3-row-padding w3-center w3-small\" style=\"margin:auto\">\\n\\n  <div class=\"w3-col m12 w3-hide-medium w3-hide-small\" style=\"width:20%\">\\n    <a class=\"w3-btn ws-black w3-block w3-round ga-bottom\" href=\"/spaces/index.html\" style=\"text-decoration:none;margin-top:1px;margin-bottom:1px;font-size:17px;font-family:Source Sans Pro, sans-serif;\">Spaces</a>\\n  </div>\\n  <div class=\"w3-col m12 w3-hide-large\">\\n    <a class=\"w3-btn ws-black w3-block w3-round ga-bottom\" href=\"/spaces/index.html\" style=\"text-decoration:none;margin-top:1px;margin-bottom:1px;font-size:17px;font-family:Source Sans Pro, sans-serif;\">Spaces</a>\\n  </div>\\n\\n\\n  <div class=\"w3-col m12 w3-hide-medium w3-hide-small\" style=\"width:20%\">\\n    <a class=\"w3-btn ws-black w3-block w3-round ga-bottom\" href=\"/pro/index.php\" style=\"text-decoration:none;margin-top:1px;margin-bottom:1px;font-size:17px;font-family:Source Sans Pro, sans-serif;\" title=\"Upgrade to Improve Your Learning Experiences\">Upgrade</a>\\n  </div>\\n  <div class=\"w3-col m12 w3-hide-large\">\\n    <a class=\"w3-btn ws-black w3-block w3-round ga-bottom\" href=\"/pro/index.php\" style=\"text-decoration:none;margin-top:1px;margin-bottom:1px;font-size:17px;font-family:Source Sans Pro, sans-serif;\" title=\"Upgrade to Improve Your Learning Experiences\">Upgrade</a>\\n  </div>\\n\\n  <div class=\"w3-col m12 w3-hide-medium w3-hide-small\" style=\"width:20%\">\\n    <a class=\"w3-btn ws-black w3-block w3-round ga-bottom\" href=\"https://campus.w3schools.com/pages/newsletter\" target=\"_blank\" style=\"white-space:nowrap;text-decoration:none;margin-top:1px;margin-bottom:1px;font-size:17px;font-family:Source Sans Pro, sans-serif;\">Newsletter</a>\\n  </div>\\n  <div class=\"w3-col m12 w3-hide-large\">\\n    <a class=\"w3-btn ws-black w3-block w3-round ga-bottom\" href=\"https://campus.w3schools.com/pages/newsletter\" target=\"_blank\" style=\"white-space:nowrap;text-decoration:none;margin-top:1px;margin-bottom:1px;font-size:17px;font-family:Source Sans Pro, sans-serif;\">Newsletter</a>\\n  </div>\\n\\n\\n  <div class=\"w3-col m12 w3-hide-medium w3-hide-small\" style=\"width:20%\">\\n    <a class=\"w3-btn ws-black w3-block w3-round ga-bottom\" href=\"https://campus.w3schools.com/collections/certifications\" target=\"_blank\" style=\"text-decoration:none;margin-top:1px;margin-bottom:1px;font-size:17px;font-family:Source Sans Pro, sans-serif;\">Get Certified</a>\\n  </div>\\n\\n  <div class=\"w3-col m12 w3-hide-large\">\\n    <a class=\"w3-btn ws-black w3-block w3-round ga-bottom\" href=\"https://campus.w3schools.com/collections/certifications\" target=\"_blank\" style=\"text-decoration:none;margin-top:1px;margin-bottom:1px;font-size:17px;font-family:Source Sans Pro, sans-serif;\">Get Certified</a>\\n  </div>\\n  \\n  <div class=\"w3-col m12 w3-hide-medium w3-hide-small\" style=\"width:20%\">\\n    <a class=\"w3-btn ws-black w3-block w3-round ga-bottom\" href=\"javascript:void(0);\" onclick=\"displayError();return false\" style=\"white-space:nowrap;text-decoration:none;margin-top:1px;margin-bottom:1px;font-size:17px;font-family:Source Sans Pro, sans-serif;\">Report Error</a>\\n  </div>\\n  <div class=\"w3-col m12 w3-hide-large\">\\n    <a class=\"w3-btn ws-black w3-block w3-round ga-bottom\" href=\"javascript:void(0);\" onclick=\"displayError();return false\" style=\"white-space:nowrap;text-decoration:none;margin-top:1px;margin-bottom:1px;font-size:17px;font-family:Source Sans Pro, sans-serif;\">Report Error</a>\\n  </div>\\n\\n</div>\\n<hr>\\n<div class=\"ws-grey w3-padding w3-margin-bottom\" id=\"err_form\" style=\"display:none;position:relative\">\\n<span onclick=\"this.parentElement.style.display=\\'none\\'\" class=\"w3-button w3-display-topright w3-large\">&times;</span>\\n\\n<h2>Report Error</h2>\\n\\n<p>If you want to report an error, or if you want to make a suggestion, do not hesitate to send us an e-mail:</p>\\n<p>help@w3schools.com</p>\\n<br>\\n\\n</div>\\n<div class=\"w3-container ws-grey w3-padding\" id=\"err_sent\" style=\"display:none;position:relative\">\\n<span onclick=\"this.parentElement.style.display=\\'none\\'\" class=\"w3-button w3-display-topright\">&times;</span>     \\n<h2>Thank You For Helping Us!</h2>\\n<p>Your message has been sent to W3Schools.</p>\\n</div>\\n\\n<div class=\"w3-row w3-center w3-small\">\\n<div class=\"w3-col l3 m6 s12\">\\n<div class=\"top10\">\\n<h5 style=\"font-family: \\'Source Sans Pro\\', sans-serif;\">Top Tutorials</h5>\\n<a href=\"/html/default.asp\" class=\"ga-bottom\">HTML Tutorial</a><br>\\n<a href=\"/css/default.asp\" class=\"ga-bottom\">CSS Tutorial</a><br>\\n<a href=\"/js/default.asp\" class=\"ga-bottom\">JavaScript Tutorial</a><br>\\n<a href=\"/howto/default.asp\" class=\"ga-bottom\">How To Tutorial</a><br>\\n<a href=\"/sql/default.asp\" class=\"ga-bottom\">SQL Tutorial</a><br>\\n<a href=\"/python/default.asp\" class=\"ga-bottom\">Python Tutorial</a><br>\\n<a href=\"/w3css/default.asp\" class=\"ga-bottom\">W3.CSS Tutorial</a><br>\\n<a href=\"/bootstrap/bootstrap_ver.asp\" class=\"ga-bottom\">Bootstrap Tutorial</a><br>\\n<a href=\"/php/default.asp\" class=\"ga-bottom\">PHP Tutorial</a><br>\\n<a href=\"/java/default.asp\" class=\"ga-bottom\">Java Tutorial</a><br>\\n<a href=\"/cpp/default.asp\" class=\"ga-bottom\">C++ Tutorial</a><br>\\n<a href=\"/jquery/default.asp\" class=\"ga-bottom\">jQuery Tutorial</a><br>\\n</div>\\n</div>\\n<div class=\"w3-col l3 m6 s12\">\\n<div class=\"top10\">\\n<h5 style=\"font-family: \\'Source Sans Pro\\', sans-serif;\">Top References</h5>\\n<a href=\"/tags/default.asp\" class=\"ga-bottom\">HTML Reference</a><br>\\n<a href=\"/cssref/index.php\" class=\"ga-bottom\">CSS Reference</a><br>\\n<a href=\"/jsref/default.asp\" class=\"ga-bottom\">JavaScript Reference</a><br>\\n<a href=\"/sql/sql_ref_keywords.asp\" class=\"ga-bottom\">SQL Reference</a><br>\\n<a href=\"/python/python_reference.asp\" class=\"ga-bottom\">Python Reference</a><br>\\n<a href=\"/w3css/w3css_references.asp\" class=\"ga-bottom\">W3.CSS Reference</a><br>\\n<a href=\"/bootstrap/bootstrap_ref_all_classes.asp\" class=\"ga-bottom\">Bootstrap Reference</a><br>\\n<a href=\"/php/php_ref_overview.asp\" class=\"ga-bottom\">PHP Reference</a><br>\\n<a href=\"/colors/colors_names.asp\" class=\"ga-bottom\">HTML Colors</a><br>\\n<a href=\"/java/java_ref_keywords.asp\" class=\"ga-bottom\">Java Reference</a><br>\\n<a href=\"/angular/angular_ref_directives.asp\" class=\"ga-bottom\">Angular Reference</a><br>\\n<a href=\"/jquery/jquery_ref_overview.asp\" class=\"ga-bottom\">jQuery Reference</a><br>\\n</div>\\n</div>\\n<div class=\"w3-col l3 m6 s12\">\\n<div class=\"top10\">\\n<h5 style=\"font-family: \\'Source Sans Pro\\', sans-serif;\">Top Examples</h5>\\n<a href=\"/html/html_examples.asp\" class=\"ga-bottom\">HTML Examples</a><br>\\n<a href=\"/css/css_examples.asp\" class=\"ga-bottom\">CSS Examples</a><br>\\n<a href=\"/js/js_examples.asp\" class=\"ga-bottom\">JavaScript Examples</a><br>\\n<a href=\"/howto/default.asp\" class=\"ga-bottom\">How To Examples</a><br>\\n<a href=\"/sql/sql_examples.asp\" class=\"ga-bottom\">SQL Examples</a><br>\\n<a href=\"/python/python_examples.asp\" class=\"ga-bottom\">Python Examples</a><br>\\n<a href=\"/w3css/w3css_examples.asp\" class=\"ga-bottom\">W3.CSS Examples</a><br>\\n<a href=\"/bootstrap/bootstrap_examples.asp\" class=\"ga-bottom\">Bootstrap Examples</a><br>\\n<a href=\"/php/php_examples.asp\" class=\"ga-bottom\">PHP Examples</a><br>\\n<a href=\"/java/java_examples.asp\" class=\"ga-bottom\">Java Examples</a><br>\\n<a href=\"/xml/xml_examples.asp\" class=\"ga-bottom\">XML Examples</a><br>\\n<a href=\"/jquery/jquery_examples.asp\" class=\"ga-bottom\">jQuery Examples</a><br>\\n</div>\\n</div>\\n<div class=\"w3-col l3 m6 s12\">\\n<div class=\"top10\">\\n\\n<a href=\"https://campus.w3schools.com/collections/course-catalog\" target=\"_blank\" class=\"ga-bottom\"><h5 style=\"font-family: \\'Source Sans Pro\\', sans-serif;\">Get Certified</h5></a>\\n<a href=\"https://campus.w3schools.com/collections/certifications/products/html-certificate\" target=\"_blank\" class=\"ga-bottom\">HTML Certificate</a><br>\\n<a href=\"https://campus.w3schools.com/collections/certifications/products/css-certificate\" target=\"_blank\" class=\"ga-bottom\">CSS Certificate</a><br>\\n<a href=\"https://campus.w3schools.com/collections/certifications/products/javascript-certificate\" target=\"_blank\" class=\"ga-bottom\">JavaScript Certificate</a><br>\\n<a href=\"https://campus.w3schools.com/collections/certifications/products/front-end-certificate\" target=\"_blank\" class=\"ga-bottom\">Front End Certificate</a><br>\\n<a href=\"https://campus.w3schools.com/collections/certifications/products/sql-certificate\" target=\"_blank\" class=\"ga-bottom\">SQL Certificate</a><br>\\n<a href=\"https://campus.w3schools.com/collections/certifications/products/python-certificate\" target=\"_blank\" class=\"ga-bottom\">Python Certificate</a><br>\\n<a href=\"https://campus.w3schools.com/collections/certifications/products/php-certificate\" target=\"_blank\" class=\"ga-bottom\">PHP Certificate</a><br>\\n<a href=\"https://campus.w3schools.com/collections/certifications/products/jquery-certificate\" target=\"_blank\" class=\"ga-bottom\">jQuery Certificate</a><br>\\n<a href=\"https://campus.w3schools.com/collections/certifications/products/java-certificate\" target=\"_blank\" class=\"ga-bottom\">Java Certificate</a><br>\\n<a href=\"https://campus.w3schools.com/collections/certifications/products/c-certificate\" target=\"_blank\" class=\"ga-bottom\">C++ Certificate</a><br>\\n<a href=\"https://campus.w3schools.com/collections/certifications/products/c-certificate-1\" target=\"_blank\" class=\"ga-bottom\">C# Certificate</a><br>\\n<a href=\"https://campus.w3schools.com/collections/certifications/products/xml-certificate\" target=\"_blank\" class=\"ga-bottom\">XML Certificate</a><br>\\n\\n\\n</div>\\n</div>        \\n</div>        \\n\\n<hr>\\n<div class=\"w3-opacity\" style=\"font-size:12px;text-align:right;margin-bottom:16px;margin-right:8px;\">\\n    <a href=\"/forum/default.asp\" target=\"_blank\" class=\"xw3-text-grey xw3-hover-text-black ga-bottom\" style=\"text-decoration:none\" title=\"Forum\">FORUM</a> |\\n    <a href=\"/about/default.asp\" target=\"_top\" class=\"xw3-text-grey xw3-hover-text-black ga-bottom\" style=\"text-decoration:none\" title=\"About W3Schools\">ABOUT</a>\\n</div>\\n\\n<div class=\"w3-center w3-small w3-opacity\">\\nW3Schools is optimized for learning and training. Examples might be simplified to improve reading and learning.\\nTutorials, references, and examples are constantly reviewed to avoid errors, but we cannot warrant full correctness of all content.\\nWhile using W3Schools, you agree to have read and accepted our <a href=\"/about/about_copyright.asp\" class=\"ga-bottom\">terms of use</a>, \\n<a href=\"/about/about_privacy.asp\" class=\"ga-bottom\">cookie and privacy policy</a>.<br><br>\\n<a href=\"/about/about_copyright.asp\" class=\"ga-bottom\">Copyright 1999-2023</a> by Refsnes Data. All Rights Reserved.<br>\\n<a href=\"//www.w3schools.com/w3css/default.asp\" class=\"ga-bottom\">W3Schools is Powered by W3.CSS</a>.<br><br>\\n</div>\\n<div class=\"w3-center w3-small\">\\n<a href=\"//www.w3schools.com\" class=\"ga-bottom\">\\n    <i class=\"fa fa-logo ws-text-green ws-hover-text-green\" style=\"position:relative;font-size:42px!important;\"></i>\\n</div>\\n<br><br>\\n</div>\\n\\n</div>\\n<script src=\"/lib/w3schools_footer.js?update=20220202\"></script>\\n\\n<script>\\n  MyLearning.loadUser(\\'footer\\', function () {\\n    if (UserSession.loggedIn) {\\n      document.getElementById(\"signupbtn_topnav\").style.display = \"none\";\\n      document.getElementById(\"spacesbtn_topnav\").style.display = \"block\";\\n    } else {\\n      addMyLearnButt();\\n    }\\n  });\\n  function docReady(fn) {\\n    document.addEventListener(\"DOMContentLoaded\", fn);\\n    if (document.readyState === \"interactive\" || document.readyState === \"complete\" ) {\\n      fn();\\n    }\\n  }\\n  uic_r_z();\\n  uic_r_d()\\n\\nfunction addMyLearnButt() {\\n  let nav = document.getElementsByClassName(\"nextprev\");\\n  if (document.body.contains(nav[1])) {\\n    if ((nav[1].firstElementChild.innerHTML.indexOf(\"Previous\") || nav[1].firstElementChild.innerHTML.indexOf(\"Home\") !== -1) && (nav[1].firstElementChild.nextElementSibling.innerHTML.indexOf(\"Next\") !== -1)) {\\n      let myLearnButt = document.createElement(\"a\");\\n      myLearnButt.innerHTML=\"Log in to track progress\";\\n      myLearnButt.classList.add(\"w3-btn\", \"w3-hide-small\", \"myl-nav-butt\");\\n      myLearnButt.href=\"https://www.w3schools.com/signup/?utm_source=classic&utm_medium=\" + subjectFolder + \"_tutorial&utm_campaign=button_lower_navigation\";\\n      myLearnButt.setAttribute(\"title\", \"Sign Up and improve Your Learning Experience\");\\n      myLearnButt.setAttribute(\"target\", \"_blank\");\\n      nav[1].classList.add(\"w3-center\");\\n      nav[1].firstElementChild.insertAdjacentElement(\"afterend\", myLearnButt);\\n    }\\n  }\\n}\\n</script>\\n\\n<!--[if lt IE 9]>\\n<script src=\"https://oss.maxcdn.com/libs/html5shiv/3.7.0/html5shiv.js\"></script>\\n<script src=\"https://oss.maxcdn.com/libs/respond.js/1.4.2/respond.min.js\"></script>  \\n<![endif]-->\\n</body>\\n</html>\\n'\n"
     ]
    }
   ],
   "source": [
    "text = urllib.request.urlopen(\"https://www.w3schools.com/html/html_basic.asp\")\n",
    "text\n",
    "t=text.read()\n",
    "print(t)"
   ]
  },
  {
   "cell_type": "code",
   "execution_count": 4,
   "id": "8ca00b22",
   "metadata": {},
   "outputs": [
    {
     "name": "stdout",
     "output_type": "stream",
     "text": [
      "b'<HEADER>\\n<TITLE>The World Wide Web project</TITLE>\\n<NEXTID N=\"55\">\\n</HEADER>\\n<BODY>\\n<H1>World Wide Web</H1>The WorldWideWeb (W3) is a wide-area<A\\nNAME=0 HREF=\"WhatIs.html\">\\nhypermedia</A> information retrieval\\ninitiative aiming to give universal\\naccess to a large universe of documents.<P>\\nEverything there is online about\\nW3 is linked directly or indirectly\\nto this document, including an <A\\nNAME=24 HREF=\"Summary.html\">executive\\nsummary</A> of the project, <A\\nNAME=29 HREF=\"Administration/Mailing/Overview.html\">Mailing lists</A>\\n, <A\\nNAME=30 HREF=\"Policy.html\">Policy</A> , November\\'s  <A\\nNAME=34 HREF=\"News/9211.html\">W3  news</A> ,\\n<A\\nNAME=41 HREF=\"FAQ/List.html\">Frequently Asked Questions</A> .\\n<DL>\\n<DT><A\\nNAME=44 HREF=\"../DataSources/Top.html\">What\\'s out there?</A>\\n<DD> Pointers to the\\nworld\\'s online information,<A\\nNAME=45 HREF=\"../DataSources/bySubject/Overview.html\"> subjects</A>\\n, <A\\nNAME=z54 HREF=\"../DataSources/WWW/Servers.html\">W3 servers</A>, etc.\\n<DT><A\\nNAME=46 HREF=\"Help.html\">Help</A>\\n<DD> on the browser you are using\\n<DT><A\\nNAME=13 HREF=\"Status.html\">Software Products</A>\\n<DD> A list of W3 project\\ncomponents and their current state.\\n(e.g. <A\\nNAME=27 HREF=\"LineMode/Browser.html\">Line Mode</A> ,X11 <A\\nNAME=35 HREF=\"Status.html#35\">Viola</A> ,  <A\\nNAME=26 HREF=\"NeXT/WorldWideWeb.html\">NeXTStep</A>\\n, <A\\nNAME=25 HREF=\"Daemon/Overview.html\">Servers</A> , <A\\nNAME=51 HREF=\"Tools/Overview.html\">Tools</A> ,<A\\nNAME=53 HREF=\"MailRobot/Overview.html\"> Mail robot</A> ,<A\\nNAME=52 HREF=\"Status.html#57\">\\nLibrary</A> )\\n<DT><A\\nNAME=47 HREF=\"Technical.html\">Technical</A>\\n<DD> Details of protocols, formats,\\nprogram internals etc\\n<DT><A\\nNAME=40 HREF=\"Bibliography.html\">Bibliography</A>\\n<DD> Paper documentation\\non  W3 and references.\\n<DT><A\\nNAME=14 HREF=\"People.html\">People</A>\\n<DD> A list of some people involved\\nin the project.\\n<DT><A\\nNAME=15 HREF=\"History.html\">History</A>\\n<DD> A summary of the history\\nof the project.\\n<DT><A\\nNAME=37 HREF=\"Helping.html\">How can I help</A> ?\\n<DD> If you would like\\nto support the web..\\n<DT><A\\nNAME=48 HREF=\"../README.html\">Getting code</A>\\n<DD> Getting the code by<A\\nNAME=49 HREF=\"LineMode/Defaults/Distribution.html\">\\nanonymous FTP</A> , etc.</A>\\n</DL>\\n</BODY>\\n'\n"
     ]
    }
   ],
   "source": [
    "text = urllib.request.urlopen(\"http://info.cern.ch/hypertext/WWW/TheProject.html\")\n",
    "text\n",
    "t=text.read()\n",
    "print(t)"
   ]
  },
  {
   "cell_type": "code",
   "execution_count": 5,
   "id": "e38c1f22",
   "metadata": {},
   "outputs": [
    {
     "name": "stdout",
     "output_type": "stream",
     "text": [
      "<class 'bytes'>\n"
     ]
    }
   ],
   "source": [
    "print(type(t))\n",
    "t=str(t)"
   ]
  },
  {
   "cell_type": "code",
   "execution_count": 6,
   "id": "93ecaea8",
   "metadata": {},
   "outputs": [
    {
     "data": {
      "text/plain": [
       "['<HEADER>',\n",
       " '<TITLE>',\n",
       " '</TITLE>',\n",
       " '<NEXTID N=\"55\">',\n",
       " '</HEADER>',\n",
       " '<BODY>',\n",
       " '<H1>',\n",
       " '</H1>',\n",
       " '<A\\\\nNAME=0 HREF=\"WhatIs.html\">',\n",
       " '</A>',\n",
       " '<P>',\n",
       " '<A\\\\nNAME=24 HREF=\"Summary.html\">',\n",
       " '</A>',\n",
       " '<A\\\\nNAME=29 HREF=\"Administration/Mailing/Overview.html\">',\n",
       " '</A>',\n",
       " '<A\\\\nNAME=30 HREF=\"Policy.html\">',\n",
       " '</A>',\n",
       " '<A\\\\nNAME=34 HREF=\"News/9211.html\">',\n",
       " '</A>',\n",
       " '<A\\\\nNAME=41 HREF=\"FAQ/List.html\">',\n",
       " '</A>',\n",
       " '<DL>',\n",
       " '<DT>',\n",
       " '<A\\\\nNAME=44 HREF=\"../DataSources/Top.html\">',\n",
       " '</A>',\n",
       " '<DD>',\n",
       " '<A\\\\nNAME=45 HREF=\"../DataSources/bySubject/Overview.html\">',\n",
       " '</A>',\n",
       " '<A\\\\nNAME=z54 HREF=\"../DataSources/WWW/Servers.html\">',\n",
       " '</A>',\n",
       " '<DT>',\n",
       " '<A\\\\nNAME=46 HREF=\"Help.html\">',\n",
       " '</A>',\n",
       " '<DD>',\n",
       " '<DT>',\n",
       " '<A\\\\nNAME=13 HREF=\"Status.html\">',\n",
       " '</A>',\n",
       " '<DD>',\n",
       " '<A\\\\nNAME=27 HREF=\"LineMode/Browser.html\">',\n",
       " '</A>',\n",
       " '<A\\\\nNAME=35 HREF=\"Status.html#35\">',\n",
       " '</A>',\n",
       " '<A\\\\nNAME=26 HREF=\"NeXT/WorldWideWeb.html\">',\n",
       " '</A>',\n",
       " '<A\\\\nNAME=25 HREF=\"Daemon/Overview.html\">',\n",
       " '</A>',\n",
       " '<A\\\\nNAME=51 HREF=\"Tools/Overview.html\">',\n",
       " '</A>',\n",
       " '<A\\\\nNAME=53 HREF=\"MailRobot/Overview.html\">',\n",
       " '</A>',\n",
       " '<A\\\\nNAME=52 HREF=\"Status.html#57\">',\n",
       " '</A>',\n",
       " '<DT>',\n",
       " '<A\\\\nNAME=47 HREF=\"Technical.html\">',\n",
       " '</A>',\n",
       " '<DD>',\n",
       " '<DT>',\n",
       " '<A\\\\nNAME=40 HREF=\"Bibliography.html\">',\n",
       " '</A>',\n",
       " '<DD>',\n",
       " '<DT>',\n",
       " '<A\\\\nNAME=14 HREF=\"People.html\">',\n",
       " '</A>',\n",
       " '<DD>',\n",
       " '<DT>',\n",
       " '<A\\\\nNAME=15 HREF=\"History.html\">',\n",
       " '</A>',\n",
       " '<DD>',\n",
       " '<DT>',\n",
       " '<A\\\\nNAME=37 HREF=\"Helping.html\">',\n",
       " '</A>',\n",
       " '<DD>',\n",
       " '<DT>',\n",
       " '<A\\\\nNAME=48 HREF=\"../README.html\">',\n",
       " '</A>',\n",
       " '<DD>',\n",
       " '<A\\\\nNAME=49 HREF=\"LineMode/Defaults/Distribution.html\">',\n",
       " '</A>',\n",
       " '</A>',\n",
       " '</DL>',\n",
       " '</BODY>']"
      ]
     },
     "execution_count": 6,
     "metadata": {},
     "output_type": "execute_result"
    }
   ],
   "source": [
    "import re\n",
    "\n",
    "pattern =\"<.*?>\"\n",
    "\n",
    "tags=re.findall(pattern,t)\n",
    "tags"
   ]
  },
  {
   "cell_type": "markdown",
   "id": "ae6c1c91",
   "metadata": {},
   "source": [
    "## WebScrapping \n",
    "* There are three types of WebScrapping \n",
    " * 1) From Api\n",
    " * 2) From HTML\n",
    " * 3) From JS"
   ]
  },
  {
   "cell_type": "markdown",
   "id": "f41cc554",
   "metadata": {},
   "source": [
    "# Beautiful Soap"
   ]
  },
  {
   "cell_type": "code",
   "execution_count": null,
   "id": "ac6ad60a",
   "metadata": {},
   "outputs": [],
   "source": []
  },
  {
   "cell_type": "code",
   "execution_count": 7,
   "id": "be48e5dc",
   "metadata": {},
   "outputs": [],
   "source": [
    "html_doc = \"\"\"<html><head><title>The Dormouse's story</title></head>\n",
    "<body>\n",
    "<p class=\"title\"><b>The Dormouse's story</b></p>\n",
    "\n",
    "<p class=\"story\">Once upon a time there were three little sisters; and their names were\n",
    "<a href=\"http://example.com/elsie\" class=\"sister\" id=\"link1\">Elsie</a>,\n",
    "<a href=\"http://example.com/lacie\" class=\"sister\" id=\"link2\">Lacie</a> and\n",
    "<a href=\"http://example.com/tillie\" class=\"sister\" id=\"link3\">Tillie</a>;\n",
    "and they lived at the bottom of a well.</p>\n",
    "\n",
    "<p class=\"story\">...</p>\n",
    "\"\"\""
   ]
  },
  {
   "cell_type": "code",
   "execution_count": 12,
   "id": "cab4e8e7",
   "metadata": {},
   "outputs": [
    {
     "name": "stdout",
     "output_type": "stream",
     "text": [
      "<class 'bs4.BeautifulSoup'>\n",
      "<html>\n",
      " <head>\n",
      "  <title>\n",
      "   The Dormouse's story\n",
      "  </title>\n",
      " </head>\n",
      " <body>\n",
      "  <p class=\"title\">\n",
      "   <b>\n",
      "    The Dormouse's story\n",
      "   </b>\n",
      "  </p>\n",
      "  <p class=\"story\">\n",
      "   Once upon a time there were three little sisters; and their names were\n",
      "   <a class=\"sister\" href=\"http://example.com/elsie\" id=\"link1\">\n",
      "    Elsie\n",
      "   </a>\n",
      "   ,\n",
      "   <a class=\"sister\" href=\"http://example.com/lacie\" id=\"link2\">\n",
      "    Lacie\n",
      "   </a>\n",
      "   and\n",
      "   <a class=\"sister\" href=\"http://example.com/tillie\" id=\"link3\">\n",
      "    Tillie\n",
      "   </a>\n",
      "   ;\n",
      "and they lived at the bottom of a well.\n",
      "  </p>\n",
      "  <p class=\"story\">\n",
      "   ...\n",
      "  </p>\n",
      " </body>\n",
      "</html>\n"
     ]
    },
    {
     "data": {
      "text/plain": [
       "<title>The Dormouse's story</title>"
      ]
     },
     "execution_count": 12,
     "metadata": {},
     "output_type": "execute_result"
    }
   ],
   "source": [
    "from bs4 import BeautifulSoup\n",
    "soup = BeautifulSoup(html_doc,\"html.parser\")\n",
    "print(type(soup))\n",
    "print(soup.prettify())\n"
   ]
  },
  {
   "cell_type": "code",
   "execution_count": 15,
   "id": "6132cd95",
   "metadata": {},
   "outputs": [
    {
     "name": "stdout",
     "output_type": "stream",
     "text": [
      "<title>The Dormouse's story</title>\n",
      "<head><title>The Dormouse's story</title></head>\n",
      "<body>\n",
      "<p class=\"title\"><b>The Dormouse's story</b></p>\n",
      "<p class=\"story\">Once upon a time there were three little sisters; and their names were\n",
      "<a class=\"sister\" href=\"http://example.com/elsie\" id=\"link1\">Elsie</a>,\n",
      "<a class=\"sister\" href=\"http://example.com/lacie\" id=\"link2\">Lacie</a> and\n",
      "<a class=\"sister\" href=\"http://example.com/tillie\" id=\"link3\">Tillie</a>;\n",
      "and they lived at the bottom of a well.</p>\n",
      "<p class=\"story\">...</p>\n",
      "</body>\n"
     ]
    }
   ],
   "source": [
    "print(soup.title)\n",
    "print(soup.head)\n",
    "print(soup.body)"
   ]
  },
  {
   "cell_type": "code",
   "execution_count": 16,
   "id": "89548662",
   "metadata": {},
   "outputs": [
    {
     "data": {
      "text/plain": [
       "'title'"
      ]
     },
     "execution_count": 16,
     "metadata": {},
     "output_type": "execute_result"
    }
   ],
   "source": [
    "soup.title.name"
   ]
  },
  {
   "cell_type": "code",
   "execution_count": 17,
   "id": "62f53e66",
   "metadata": {},
   "outputs": [
    {
     "data": {
      "text/plain": [
       "<head><title>The Dormouse's story</title></head>"
      ]
     },
     "execution_count": 17,
     "metadata": {},
     "output_type": "execute_result"
    }
   ],
   "source": [
    "soup.title.parent"
   ]
  },
  {
   "cell_type": "code",
   "execution_count": 18,
   "id": "581e856e",
   "metadata": {},
   "outputs": [
    {
     "data": {
      "text/plain": [
       "'head'"
      ]
     },
     "execution_count": 18,
     "metadata": {},
     "output_type": "execute_result"
    }
   ],
   "source": [
    "soup.title.parent.name"
   ]
  },
  {
   "cell_type": "code",
   "execution_count": 19,
   "id": "ea14c6fb",
   "metadata": {},
   "outputs": [
    {
     "data": {
      "text/plain": [
       "<p class=\"title\"><b>The Dormouse's story</b></p>"
      ]
     },
     "execution_count": 19,
     "metadata": {},
     "output_type": "execute_result"
    }
   ],
   "source": [
    "soup.p"
   ]
  },
  {
   "cell_type": "code",
   "execution_count": 22,
   "id": "817d66ea",
   "metadata": {},
   "outputs": [
    {
     "data": {
      "text/plain": [
       "['title']"
      ]
     },
     "execution_count": 22,
     "metadata": {},
     "output_type": "execute_result"
    }
   ],
   "source": [
    "soup.p[\"class\"]"
   ]
  },
  {
   "cell_type": "code",
   "execution_count": 26,
   "id": "3f1d6b88",
   "metadata": {},
   "outputs": [
    {
     "data": {
      "text/plain": [
       "<a class=\"sister\" href=\"http://example.com/elsie\" id=\"link1\">Elsie</a>"
      ]
     },
     "execution_count": 26,
     "metadata": {},
     "output_type": "execute_result"
    }
   ],
   "source": [
    "soup.a"
   ]
  },
  {
   "cell_type": "code",
   "execution_count": 25,
   "id": "4c6f79cd",
   "metadata": {},
   "outputs": [
    {
     "data": {
      "text/plain": [
       "'http://example.com/elsie'"
      ]
     },
     "execution_count": 25,
     "metadata": {},
     "output_type": "execute_result"
    }
   ],
   "source": [
    "soup.a[\"href\"]"
   ]
  },
  {
   "cell_type": "code",
   "execution_count": 27,
   "id": "a1cdc2af",
   "metadata": {},
   "outputs": [
    {
     "data": {
      "text/plain": [
       "'link1'"
      ]
     },
     "execution_count": 27,
     "metadata": {},
     "output_type": "execute_result"
    }
   ],
   "source": [
    "soup.a[\"id\"]"
   ]
  },
  {
   "cell_type": "code",
   "execution_count": 31,
   "id": "c043f053",
   "metadata": {},
   "outputs": [
    {
     "data": {
      "text/plain": [
       "[<a class=\"sister\" href=\"http://example.com/elsie\" id=\"link1\">Elsie</a>,\n",
       " <a class=\"sister\" href=\"http://example.com/lacie\" id=\"link2\">Lacie</a>,\n",
       " <a class=\"sister\" href=\"http://example.com/tillie\" id=\"link3\">Tillie</a>]"
      ]
     },
     "execution_count": 31,
     "metadata": {},
     "output_type": "execute_result"
    }
   ],
   "source": [
    "links =soup.find_all(\"a\")\n",
    "links"
   ]
  },
  {
   "cell_type": "code",
   "execution_count": 9,
   "id": "7b736618",
   "metadata": {},
   "outputs": [
    {
     "name": "stdout",
     "output_type": "stream",
     "text": [
      "<http.client.HTTPResponse object at 0x000001D4ED42C8E0>\n"
     ]
    }
   ],
   "source": [
    "import urllib\n",
    "\n",
    "data=urllib.request.urlopen(\"http://info.cern.ch/hypertext/WWW/TheProject.html\")\n",
    "data\n",
    "print(data)"
   ]
  },
  {
   "cell_type": "code",
   "execution_count": 32,
   "id": "d7947f0a",
   "metadata": {},
   "outputs": [
    {
     "name": "stdout",
     "output_type": "stream",
     "text": [
      "['sister'] http://example.com/elsie link1\n",
      "['sister'] http://example.com/lacie link2\n",
      "['sister'] http://example.com/tillie link3\n"
     ]
    }
   ],
   "source": [
    "for l in links:\n",
    "    print(l[\"class\"],l[\"href\"],l[\"id\"])"
   ]
  },
  {
   "cell_type": "code",
   "execution_count": 33,
   "id": "d6aa6726",
   "metadata": {},
   "outputs": [
    {
     "data": {
      "text/plain": [
       "[<p class=\"title\"><b>The Dormouse's story</b></p>,\n",
       " <p class=\"story\">Once upon a time there were three little sisters; and their names were\n",
       " <a class=\"sister\" href=\"http://example.com/elsie\" id=\"link1\">Elsie</a>,\n",
       " <a class=\"sister\" href=\"http://example.com/lacie\" id=\"link2\">Lacie</a> and\n",
       " <a class=\"sister\" href=\"http://example.com/tillie\" id=\"link3\">Tillie</a>;\n",
       " and they lived at the bottom of a well.</p>,\n",
       " <p class=\"story\">...</p>]"
      ]
     },
     "execution_count": 33,
     "metadata": {},
     "output_type": "execute_result"
    }
   ],
   "source": [
    "all_p=soup.find_all(\"p\")\n",
    "all_p"
   ]
  },
  {
   "cell_type": "code",
   "execution_count": 35,
   "id": "726aeceb",
   "metadata": {},
   "outputs": [
    {
     "name": "stdout",
     "output_type": "stream",
     "text": [
      "['title']\n",
      "['story']\n",
      "['story']\n"
     ]
    }
   ],
   "source": [
    "for p in all_p:\n",
    "    print(p[\"class\"])"
   ]
  },
  {
   "cell_type": "code",
   "execution_count": 40,
   "id": "8277bd86",
   "metadata": {},
   "outputs": [
    {
     "data": {
      "text/plain": [
       "<a class=\"sister\" href=\"http://example.com/elsie\" id=\"link1\">Elsie</a>"
      ]
     },
     "execution_count": 40,
     "metadata": {},
     "output_type": "execute_result"
    }
   ],
   "source": [
    "soup.find(id=\"link1\")"
   ]
  },
  {
   "cell_type": "code",
   "execution_count": 42,
   "id": "ee0b7982",
   "metadata": {},
   "outputs": [
    {
     "name": "stdout",
     "output_type": "stream",
     "text": [
      "http://example.com/elsie link1 ['sister'] None\n",
      "http://example.com/lacie link2 ['sister'] None\n",
      "http://example.com/tillie link3 ['sister'] None\n"
     ]
    }
   ],
   "source": [
    "for aa in soup.find_all(\"a\"):\n",
    "    print(aa.get(\"href\"),aa.get(\"id\"),aa.get(\"class\"),aa.get(\"style\"))"
   ]
  },
  {
   "cell_type": "code",
   "execution_count": 41,
   "id": "dcc56509",
   "metadata": {},
   "outputs": [
    {
     "data": {
      "text/plain": [
       "<a class=\"sister\" href=\"http://example.com/elsie\" id=\"link1\">Elsie</a>"
      ]
     },
     "execution_count": 41,
     "metadata": {},
     "output_type": "execute_result"
    }
   ],
   "source": [
    "soup.find(href=\"http://example.com/elsie\")"
   ]
  },
  {
   "cell_type": "code",
   "execution_count": 44,
   "id": "15856f78",
   "metadata": {},
   "outputs": [
    {
     "name": "stdout",
     "output_type": "stream",
     "text": [
      "The Dormouse's story\n",
      "\n",
      "The Dormouse's story\n",
      "Once upon a time there were three little sisters; and their names were\n",
      "Elsie,\n",
      "Lacie and\n",
      "Tillie;\n",
      "and they lived at the bottom of a well.\n",
      "...\n",
      "\n"
     ]
    }
   ],
   "source": [
    "print(soup.get_text())"
   ]
  },
  {
   "cell_type": "code",
   "execution_count": 45,
   "id": "4a62f9e8",
   "metadata": {},
   "outputs": [
    {
     "data": {
      "text/plain": [
       "<p class=\"story\">...</p>"
      ]
     },
     "execution_count": 45,
     "metadata": {},
     "output_type": "execute_result"
    }
   ],
   "source": [
    "p1=soup.find_all(\"p\")\n",
    "p1[2]"
   ]
  },
  {
   "cell_type": "code",
   "execution_count": 10,
   "id": "48149e4d",
   "metadata": {},
   "outputs": [],
   "source": [
    "from bs4 import BeautifulSoup"
   ]
  },
  {
   "cell_type": "code",
   "execution_count": 11,
   "id": "7759e335",
   "metadata": {},
   "outputs": [
    {
     "name": "stdout",
     "output_type": "stream",
     "text": [
      "<header>\n",
      " <title>\n",
      "  The World Wide Web project\n",
      " </title>\n",
      " <nextid n=\"55\"/>\n",
      "</header>\n",
      "<body>\n",
      " <h1>\n",
      "  World Wide Web\n",
      " </h1>\n",
      " The WorldWideWeb (W3) is a wide-area\n",
      " <a href=\"WhatIs.html\" name=\"0\">\n",
      "  hypermedia\n",
      " </a>\n",
      " information retrieval\n",
      "initiative aiming to give universal\n",
      "access to a large universe of documents.\n",
      " <p>\n",
      "  Everything there is online about\n",
      "W3 is linked directly or indirectly\n",
      "to this document, including an\n",
      "  <a href=\"Summary.html\" name=\"24\">\n",
      "   executive\n",
      "summary\n",
      "  </a>\n",
      "  of the project,\n",
      "  <a href=\"Administration/Mailing/Overview.html\" name=\"29\">\n",
      "   Mailing lists\n",
      "  </a>\n",
      "  ,\n",
      "  <a href=\"Policy.html\" name=\"30\">\n",
      "   Policy\n",
      "  </a>\n",
      "  , November's\n",
      "  <a href=\"News/9211.html\" name=\"34\">\n",
      "   W3  news\n",
      "  </a>\n",
      "  ,\n",
      "  <a href=\"FAQ/List.html\" name=\"41\">\n",
      "   Frequently Asked Questions\n",
      "  </a>\n",
      "  .\n",
      "  <dl>\n",
      "   <dt>\n",
      "    <a href=\"../DataSources/Top.html\" name=\"44\">\n",
      "     What's out there?\n",
      "    </a>\n",
      "    <dd>\n",
      "     Pointers to the\n",
      "world's online information,\n",
      "     <a href=\"../DataSources/bySubject/Overview.html\" name=\"45\">\n",
      "      subjects\n",
      "     </a>\n",
      "     ,\n",
      "     <a href=\"../DataSources/WWW/Servers.html\" name=\"z54\">\n",
      "      W3 servers\n",
      "     </a>\n",
      "     , etc.\n",
      "     <dt>\n",
      "      <a href=\"Help.html\" name=\"46\">\n",
      "       Help\n",
      "      </a>\n",
      "      <dd>\n",
      "       on the browser you are using\n",
      "       <dt>\n",
      "        <a href=\"Status.html\" name=\"13\">\n",
      "         Software Products\n",
      "        </a>\n",
      "        <dd>\n",
      "         A list of W3 project\n",
      "components and their current state.\n",
      "(e.g.\n",
      "         <a href=\"LineMode/Browser.html\" name=\"27\">\n",
      "          Line Mode\n",
      "         </a>\n",
      "         ,X11\n",
      "         <a href=\"Status.html#35\" name=\"35\">\n",
      "          Viola\n",
      "         </a>\n",
      "         ,\n",
      "         <a href=\"NeXT/WorldWideWeb.html\" name=\"26\">\n",
      "          NeXTStep\n",
      "         </a>\n",
      "         ,\n",
      "         <a href=\"Daemon/Overview.html\" name=\"25\">\n",
      "          Servers\n",
      "         </a>\n",
      "         ,\n",
      "         <a href=\"Tools/Overview.html\" name=\"51\">\n",
      "          Tools\n",
      "         </a>\n",
      "         ,\n",
      "         <a href=\"MailRobot/Overview.html\" name=\"53\">\n",
      "          Mail robot\n",
      "         </a>\n",
      "         ,\n",
      "         <a href=\"Status.html#57\" name=\"52\">\n",
      "          Library\n",
      "         </a>\n",
      "         )\n",
      "         <dt>\n",
      "          <a href=\"Technical.html\" name=\"47\">\n",
      "           Technical\n",
      "          </a>\n",
      "          <dd>\n",
      "           Details of protocols, formats,\n",
      "program internals etc\n",
      "           <dt>\n",
      "            <a href=\"Bibliography.html\" name=\"40\">\n",
      "             Bibliography\n",
      "            </a>\n",
      "            <dd>\n",
      "             Paper documentation\n",
      "on  W3 and references.\n",
      "             <dt>\n",
      "              <a href=\"People.html\" name=\"14\">\n",
      "               People\n",
      "              </a>\n",
      "              <dd>\n",
      "               A list of some people involved\n",
      "in the project.\n",
      "               <dt>\n",
      "                <a href=\"History.html\" name=\"15\">\n",
      "                 History\n",
      "                </a>\n",
      "                <dd>\n",
      "                 A summary of the history\n",
      "of the project.\n",
      "                 <dt>\n",
      "                  <a href=\"Helping.html\" name=\"37\">\n",
      "                   How can I help\n",
      "                  </a>\n",
      "                  ?\n",
      "                  <dd>\n",
      "                   If you would like\n",
      "to support the web..\n",
      "                   <dt>\n",
      "                    <a href=\"../README.html\" name=\"48\">\n",
      "                     Getting code\n",
      "                    </a>\n",
      "                    <dd>\n",
      "                     Getting the code by\n",
      "                     <a href=\"LineMode/Defaults/Distribution.html\" name=\"49\">\n",
      "                      anonymous FTP\n",
      "                     </a>\n",
      "                     , etc.\n",
      "                    </dd>\n",
      "                   </dt>\n",
      "                  </dd>\n",
      "                 </dt>\n",
      "                </dd>\n",
      "               </dt>\n",
      "              </dd>\n",
      "             </dt>\n",
      "            </dd>\n",
      "           </dt>\n",
      "          </dd>\n",
      "         </dt>\n",
      "        </dd>\n",
      "       </dt>\n",
      "      </dd>\n",
      "     </dt>\n",
      "    </dd>\n",
      "   </dt>\n",
      "  </dl>\n",
      " </p>\n",
      "</body>\n",
      "\n"
     ]
    }
   ],
   "source": [
    "data=BeautifulSoup(data,\"html.parser\")\n",
    "print(data.prettify())"
   ]
  },
  {
   "cell_type": "code",
   "execution_count": null,
   "id": "430c13be",
   "metadata": {},
   "outputs": [],
   "source": []
  }
 ],
 "metadata": {
  "kernelspec": {
   "display_name": "Python 3 (ipykernel)",
   "language": "python",
   "name": "python3"
  },
  "language_info": {
   "codemirror_mode": {
    "name": "ipython",
    "version": 3
   },
   "file_extension": ".py",
   "mimetype": "text/x-python",
   "name": "python",
   "nbconvert_exporter": "python",
   "pygments_lexer": "ipython3",
   "version": "3.9.13"
  }
 },
 "nbformat": 4,
 "nbformat_minor": 5
}
