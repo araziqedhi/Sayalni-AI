{
 "cells": [
  {
   "cell_type": "code",
   "execution_count": 3,
   "id": "56558e56",
   "metadata": {},
   "outputs": [
    {
     "name": "stdout",
     "output_type": "stream",
     "text": [
      "Hello  raziq\n",
      "power(3,2) :  9\n"
     ]
    }
   ],
   "source": [
    "from mypackage import power, average, SayHello\n",
    "SayHello(\"raziq\")\n",
    "x=power(3,2)\n",
    "print(\"power(3,2) : \", x)"
   ]
  },
  {
   "cell_type": "code",
   "execution_count": null,
   "id": "2814a918",
   "metadata": {},
   "outputs": [],
   "source": []
  }
 ],
 "metadata": {
  "kernelspec": {
   "display_name": "Python 3 (ipykernel)",
   "language": "python",
   "name": "python3"
  },
  "language_info": {
   "codemirror_mode": {
    "name": "ipython",
    "version": 3
   },
   "file_extension": ".py",
   "mimetype": "text/x-python",
   "name": "python",
   "nbconvert_exporter": "python",
   "pygments_lexer": "ipython3",
   "version": "3.9.13"
  }
 },
 "nbformat": 4,
 "nbformat_minor": 5
}
