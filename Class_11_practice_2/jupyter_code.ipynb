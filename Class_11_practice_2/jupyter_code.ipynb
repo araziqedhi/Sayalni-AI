{
 "cells": [
  {
   "cell_type": "code",
   "execution_count": 1,
   "id": "3974030a",
   "metadata": {},
   "outputs": [],
   "source": [
    "from mypackage import functions"
   ]
  },
  {
   "cell_type": "code",
   "execution_count": 4,
   "id": "ae29b16c",
   "metadata": {},
   "outputs": [
    {
     "data": {
      "text/plain": [
       "8"
      ]
     },
     "execution_count": 4,
     "metadata": {},
     "output_type": "execute_result"
    }
   ],
   "source": [
    "functions.power(2,3)"
   ]
  },
  {
   "cell_type": "code",
   "execution_count": 5,
   "id": "824b94e0",
   "metadata": {},
   "outputs": [],
   "source": [
    "from mypackage.functions import sum "
   ]
  },
  {
   "cell_type": "code",
   "execution_count": 6,
   "id": "2f83f9b9",
   "metadata": {},
   "outputs": [
    {
     "data": {
      "text/plain": [
       "68"
      ]
     },
     "execution_count": 6,
     "metadata": {},
     "output_type": "execute_result"
    }
   ],
   "source": [
    "sum(23,45)"
   ]
  },
  {
   "cell_type": "code",
   "execution_count": 8,
   "id": "826d3f2c",
   "metadata": {},
   "outputs": [
    {
     "data": {
      "text/plain": [
       "18.5"
      ]
     },
     "execution_count": 8,
     "metadata": {},
     "output_type": "execute_result"
    }
   ],
   "source": [
    "from mypackage.functions import average\n",
    "average(34,3)"
   ]
  },
  {
   "cell_type": "code",
   "execution_count": null,
   "id": "d89bc9cc",
   "metadata": {},
   "outputs": [],
   "source": []
  }
 ],
 "metadata": {
  "kernelspec": {
   "display_name": "Python 3 (ipykernel)",
   "language": "python",
   "name": "python3"
  },
  "language_info": {
   "codemirror_mode": {
    "name": "ipython",
    "version": 3
   },
   "file_extension": ".py",
   "mimetype": "text/x-python",
   "name": "python",
   "nbconvert_exporter": "python",
   "pygments_lexer": "ipython3",
   "version": "3.9.13"
  }
 },
 "nbformat": 4,
 "nbformat_minor": 5
}
