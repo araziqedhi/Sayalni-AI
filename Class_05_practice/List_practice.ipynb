{
 "cells": [
  {
   "cell_type": "markdown",
   "id": "84c308c4",
   "metadata": {},
   "source": [
    "## Lists"
   ]
  },
  {
   "cell_type": "code",
   "execution_count": 1,
   "id": "891fa39e",
   "metadata": {},
   "outputs": [
    {
     "name": "stdout",
     "output_type": "stream",
     "text": [
      "['raziq', 'anas', 'bajwa', 'ayan', 344, 3.2, True, (2+1j)]\n",
      "<class 'complex'>\n",
      "['ayan', 3.2]\n"
     ]
    }
   ],
   "source": [
    "names=[\"raziq\",'anas','bajwa','ayan',344,3.2,True,2+1j]\n",
    "print(names)\n",
    "print(type(names[7]))\n",
    "a=[names[3],names[5]]\n",
    "print(a)"
   ]
  },
  {
   "cell_type": "markdown",
   "id": "331fb3d6",
   "metadata": {},
   "source": [
    "## Slicing"
   ]
  },
  {
   "cell_type": "code",
   "execution_count": 2,
   "id": "37f4fead",
   "metadata": {},
   "outputs": [
    {
     "name": "stdout",
     "output_type": "stream",
     "text": [
      "['anas', 'ayan']\n",
      "[(2+1j), True, 3.2, 344, 'ayan', 'bajwa', 'anas', 'raziq']\n",
      "['raziq', 'anas', 'bajwa', 'ayan', 344]\n"
     ]
    }
   ],
   "source": [
    "names=[\"raziq\",'anas','bajwa','ayan',344,3.2,True,2+1j]\n",
    "print(names[1:5:2])\n",
    "print(names[::-1])\n",
    "print(names[:5:])"
   ]
  },
  {
   "cell_type": "markdown",
   "id": "ef1c3f03",
   "metadata": {},
   "source": [
    "## Applying Different Operators on lists"
   ]
  },
  {
   "cell_type": "code",
   "execution_count": 3,
   "id": "49eeb813",
   "metadata": {},
   "outputs": [
    {
     "data": {
      "text/plain": [
       "['__add__',\n",
       " '__class__',\n",
       " '__class_getitem__',\n",
       " '__contains__',\n",
       " '__delattr__',\n",
       " '__delitem__',\n",
       " '__dir__',\n",
       " '__doc__',\n",
       " '__eq__',\n",
       " '__format__',\n",
       " '__ge__',\n",
       " '__getattribute__',\n",
       " '__getitem__',\n",
       " '__gt__',\n",
       " '__hash__',\n",
       " '__iadd__',\n",
       " '__imul__',\n",
       " '__init__',\n",
       " '__init_subclass__',\n",
       " '__iter__',\n",
       " '__le__',\n",
       " '__len__',\n",
       " '__lt__',\n",
       " '__mul__',\n",
       " '__ne__',\n",
       " '__new__',\n",
       " '__reduce__',\n",
       " '__reduce_ex__',\n",
       " '__repr__',\n",
       " '__reversed__',\n",
       " '__rmul__',\n",
       " '__setattr__',\n",
       " '__setitem__',\n",
       " '__sizeof__',\n",
       " '__str__',\n",
       " '__subclasshook__',\n",
       " 'append',\n",
       " 'clear',\n",
       " 'copy',\n",
       " 'count',\n",
       " 'extend',\n",
       " 'index',\n",
       " 'insert',\n",
       " 'pop',\n",
       " 'remove',\n",
       " 'reverse',\n",
       " 'sort']"
      ]
     },
     "execution_count": 3,
     "metadata": {},
     "output_type": "execute_result"
    }
   ],
   "source": [
    "dir(names)"
   ]
  },
  {
   "cell_type": "code",
   "execution_count": 4,
   "id": "49bbdd01",
   "metadata": {},
   "outputs": [
    {
     "name": "stdout",
     "output_type": "stream",
     "text": [
      "['raziq', 'anas', 'bajwa', 'ayan', 344, 3.2, True, (2+1j), 'Usmna']\n"
     ]
    }
   ],
   "source": [
    "names.append(\"Usmna\")\n",
    "print(names)"
   ]
  },
  {
   "cell_type": "code",
   "execution_count": 5,
   "id": "ac351b44",
   "metadata": {},
   "outputs": [],
   "source": [
    "names.clear()"
   ]
  },
  {
   "cell_type": "code",
   "execution_count": 6,
   "id": "e4c0b7e9",
   "metadata": {},
   "outputs": [
    {
     "name": "stdout",
     "output_type": "stream",
     "text": [
      "[]\n"
     ]
    }
   ],
   "source": [
    "print(names)"
   ]
  },
  {
   "cell_type": "code",
   "execution_count": 7,
   "id": "cad256de",
   "metadata": {},
   "outputs": [
    {
     "name": "stdout",
     "output_type": "stream",
     "text": [
      "['raziq', 'anas', 'bajwa', 'ayan', 344, 3.2, True, (2+1j)]\n"
     ]
    }
   ],
   "source": [
    "names=[\"raziq\",'anas','bajwa','ayan',344,3.2,True,2+1j]\n",
    "names2=names.copy()\n",
    "print(names2)"
   ]
  },
  {
   "cell_type": "code",
   "execution_count": 8,
   "id": "8dfdbb15",
   "metadata": {},
   "outputs": [
    {
     "data": {
      "text/plain": [
       "1"
      ]
     },
     "execution_count": 8,
     "metadata": {},
     "output_type": "execute_result"
    }
   ],
   "source": [
    "names.count(\"bajwa\")"
   ]
  },
  {
   "cell_type": "code",
   "execution_count": 9,
   "id": "46b5bd7b",
   "metadata": {},
   "outputs": [
    {
     "name": "stdout",
     "output_type": "stream",
     "text": [
      "['raziq', 'anas', 'bajwa', 'ayan', 344, 3.2, True, (2+1j), 'r', 'r', 'r']\n"
     ]
    }
   ],
   "source": [
    "names.extend(\"rrr\")\n",
    "print(names)"
   ]
  },
  {
   "cell_type": "code",
   "execution_count": 13,
   "id": "7bfe8a2b",
   "metadata": {},
   "outputs": [
    {
     "data": {
      "text/plain": [
       "'r'"
      ]
     },
     "execution_count": 13,
     "metadata": {},
     "output_type": "execute_result"
    }
   ],
   "source": [
    "names.pop()"
   ]
  },
  {
   "cell_type": "code",
   "execution_count": 15,
   "id": "c06a58d6",
   "metadata": {},
   "outputs": [
    {
     "name": "stdout",
     "output_type": "stream",
     "text": [
      "['raziq', 'anas', 'bajwa', 'ayan', 344, 3.2, True, (2+1j), 'r', 'r']\n"
     ]
    }
   ],
   "source": [
    "names.reverse()\n",
    "print(names)"
   ]
  },
  {
   "cell_type": "code",
   "execution_count": 18,
   "id": "0b0b89ac",
   "metadata": {},
   "outputs": [
    {
     "name": "stdout",
     "output_type": "stream",
     "text": [
      "[None, None, None, None, None, None, None, None, None, None]\n"
     ]
    }
   ],
   "source": [
    "l=[None]*10\n",
    "print(l)\n"
   ]
  },
  {
   "cell_type": "code",
   "execution_count": 19,
   "id": "45de52cb",
   "metadata": {},
   "outputs": [
    {
     "name": "stdout",
     "output_type": "stream",
     "text": [
      "Hello-Python\n"
     ]
    }
   ],
   "source": [
    "my_list = [\"Hello\", \"Python\"]\n",
    "print(\"-\".join(my_list))"
   ]
  },
  {
   "cell_type": "code",
   "execution_count": 28,
   "id": "19d0b525",
   "metadata": {},
   "outputs": [
    {
     "name": "stdout",
     "output_type": "stream",
     "text": [
      "zz\n"
     ]
    }
   ],
   "source": [
    "list1 = ['xyz', 'zara', 'PYnative',\"zz\"]\n",
    "print (max(list1))\n"
   ]
  },
  {
   "cell_type": "code",
   "execution_count": 31,
   "id": "9189e36e",
   "metadata": {},
   "outputs": [
    {
     "name": "stdout",
     "output_type": "stream",
     "text": [
      "[25, 10]\n"
     ]
    }
   ],
   "source": [
    "aList = [5, 10, 15, 25]\n",
    "print(aList[::-2])"
   ]
  },
  {
   "cell_type": "code",
   "execution_count": 33,
   "id": "af4fc805",
   "metadata": {},
   "outputs": [
    {
     "name": "stdout",
     "output_type": "stream",
     "text": [
      "[]\n"
     ]
    }
   ],
   "source": [
    "sampleList = [10, 20, 30, 40]\n",
    "del sampleList[0:100]\n",
    "print(sampleList)"
   ]
  },
  {
   "cell_type": "code",
   "execution_count": null,
   "id": "7e7a8c2b",
   "metadata": {},
   "outputs": [],
   "source": []
  }
 ],
 "metadata": {
  "kernelspec": {
   "display_name": "Python 3 (ipykernel)",
   "language": "python",
   "name": "python3"
  },
  "language_info": {
   "codemirror_mode": {
    "name": "ipython",
    "version": 3
   },
   "file_extension": ".py",
   "mimetype": "text/x-python",
   "name": "python",
   "nbconvert_exporter": "python",
   "pygments_lexer": "ipython3",
   "version": "3.9.13"
  }
 },
 "nbformat": 4,
 "nbformat_minor": 5
}
