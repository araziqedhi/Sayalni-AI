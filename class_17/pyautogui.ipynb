{
 "cells": [
  {
   "cell_type": "markdown",
   "id": "d76ef54f",
   "metadata": {},
   "source": [
    "## Automation"
   ]
  },
  {
   "cell_type": "code",
   "execution_count": 1,
   "id": "88352378",
   "metadata": {},
   "outputs": [
    {
     "name": "stdout",
     "output_type": "stream",
     "text": [
      "Collecting pyautogui\n",
      "  Downloading PyAutoGUI-0.9.53.tar.gz (59 kB)\n",
      "     ---------------------------------------- 59.0/59.0 kB 1.5 MB/s eta 0:00:00\n",
      "  Preparing metadata (setup.py): started\n",
      "  Preparing metadata (setup.py): finished with status 'done'\n",
      "Collecting pymsgbox\n",
      "  Downloading PyMsgBox-1.0.9.tar.gz (18 kB)\n",
      "  Installing build dependencies: started\n",
      "  Installing build dependencies: finished with status 'done'\n",
      "  Getting requirements to build wheel: started\n",
      "  Getting requirements to build wheel: finished with status 'done'\n",
      "  Preparing metadata (pyproject.toml): started\n",
      "  Preparing metadata (pyproject.toml): finished with status 'done'\n",
      "Collecting PyTweening>=1.0.1\n",
      "  Downloading pytweening-1.0.7.tar.gz (168 kB)\n",
      "     -------------------------------------- 168.2/168.2 kB 2.5 MB/s eta 0:00:00\n",
      "  Preparing metadata (setup.py): started\n",
      "  Preparing metadata (setup.py): finished with status 'done'\n",
      "Collecting pyscreeze>=0.1.21\n",
      "  Downloading PyScreeze-0.1.28.tar.gz (25 kB)\n",
      "  Installing build dependencies: started\n",
      "  Installing build dependencies: finished with status 'done'\n",
      "  Getting requirements to build wheel: started\n",
      "  Getting requirements to build wheel: finished with status 'done'\n",
      "  Preparing metadata (pyproject.toml): started\n",
      "  Preparing metadata (pyproject.toml): finished with status 'done'\n",
      "Collecting pygetwindow>=0.0.5\n",
      "  Downloading PyGetWindow-0.0.9.tar.gz (9.7 kB)\n",
      "  Preparing metadata (setup.py): started\n",
      "  Preparing metadata (setup.py): finished with status 'done'\n",
      "Collecting mouseinfo\n",
      "  Downloading MouseInfo-0.1.3.tar.gz (10 kB)\n",
      "  Preparing metadata (setup.py): started\n",
      "  Preparing metadata (setup.py): finished with status 'done'\n",
      "Collecting pyrect\n",
      "  Downloading PyRect-0.2.0.tar.gz (17 kB)\n",
      "  Preparing metadata (setup.py): started\n",
      "  Preparing metadata (setup.py): finished with status 'done'\n",
      "Collecting pyperclip\n",
      "  Downloading pyperclip-1.8.2.tar.gz (20 kB)\n",
      "  Preparing metadata (setup.py): started\n",
      "  Preparing metadata (setup.py): finished with status 'done'\n",
      "Building wheels for collected packages: pyautogui, pygetwindow, pyscreeze, PyTweening, mouseinfo, pymsgbox, pyperclip, pyrect\n",
      "  Building wheel for pyautogui (setup.py): started\n",
      "  Building wheel for pyautogui (setup.py): finished with status 'done'\n",
      "  Created wheel for pyautogui: filename=PyAutoGUI-0.9.53-py3-none-any.whl size=36601 sha256=36f1c10c5c7929674901c1a282fa58c6743758a0852940e89d1e38019c90efbb\n",
      "  Stored in directory: c:\\users\\zbook\\appdata\\local\\pip\\cache\\wheels\\d8\\97\\e4\\d2edca92a87d3b5fbfb527264750a17b4ba297b9a7cab6e67f\n",
      "  Building wheel for pygetwindow (setup.py): started\n",
      "  Building wheel for pygetwindow (setup.py): finished with status 'done'\n",
      "  Created wheel for pygetwindow: filename=PyGetWindow-0.0.9-py3-none-any.whl size=11063 sha256=ce46b8a07d8060e426466834e66842f9607a8f148ee6a2e7340db6fd9fbe92cb\n",
      "  Stored in directory: c:\\users\\zbook\\appdata\\local\\pip\\cache\\wheels\\44\\ab\\20\\423c3a444793767e4e41f8377bc902f77bee212e68dcce85a5\n",
      "  Building wheel for pyscreeze (pyproject.toml): started\n",
      "  Building wheel for pyscreeze (pyproject.toml): finished with status 'done'\n",
      "  Created wheel for pyscreeze: filename=PyScreeze-0.1.28-py3-none-any.whl size=13026 sha256=abc13fb86bf76bd95de3d02a9b62246b211948d394f1335433b54ffb9963fcad\n",
      "  Stored in directory: c:\\users\\zbook\\appdata\\local\\pip\\cache\\wheels\\a2\\5b\\86\\99f1d8fac5d92de0ccb3f0d4ad15e3f4278baf75a9b0f20b93\n",
      "  Building wheel for PyTweening (setup.py): started\n",
      "  Building wheel for PyTweening (setup.py): finished with status 'done'\n",
      "  Created wheel for PyTweening: filename=pytweening-1.0.7-py3-none-any.whl size=6198 sha256=cbd1c8af13fd9f1408945bd8739624c0df989a75f988602efe6cd788dbc04192\n",
      "  Stored in directory: c:\\users\\zbook\\appdata\\local\\pip\\cache\\wheels\\d1\\d6\\29\\c2adb2c73f3e9ac2486786fe1f16e8036bd062205303e1ed6a\n",
      "  Building wheel for mouseinfo (setup.py): started\n",
      "  Building wheel for mouseinfo (setup.py): finished with status 'done'\n",
      "  Created wheel for mouseinfo: filename=MouseInfo-0.1.3-py3-none-any.whl size=10891 sha256=d5900578d6968e0c299d60b204bee7a8088dfc98990c8e1609538c87a9a4f64f\n",
      "  Stored in directory: c:\\users\\zbook\\appdata\\local\\pip\\cache\\wheels\\61\\73\\b9\\6fb1131ab36e650206e3aa0ad7a68907b41b32ac2d4f75f543\n",
      "  Building wheel for pymsgbox (pyproject.toml): started\n",
      "  Building wheel for pymsgbox (pyproject.toml): finished with status 'done'\n",
      "  Created wheel for pymsgbox: filename=PyMsgBox-1.0.9-py3-none-any.whl size=7417 sha256=5dde4b026bc1c6035ef4389b55f855142f8a3693178e71c236018b0b59362590\n",
      "  Stored in directory: c:\\users\\zbook\\appdata\\local\\pip\\cache\\wheels\\7f\\13\\8c\\584c519464297d9637f9cd29fd1dcdf55e2a2cab225c76a2db\n",
      "  Building wheel for pyperclip (setup.py): started\n",
      "  Building wheel for pyperclip (setup.py): finished with status 'done'\n",
      "  Created wheel for pyperclip: filename=pyperclip-1.8.2-py3-none-any.whl size=11123 sha256=027a4fb5b91869c97395008aeaa05b56faf3c8cdb0e977160067ea57a2625005\n",
      "  Stored in directory: c:\\users\\zbook\\appdata\\local\\pip\\cache\\wheels\\0c\\09\\9e\\49e21a6840ef7955b06d47394afef0058f0378c0914e48b8b8\n",
      "  Building wheel for pyrect (setup.py): started\n",
      "  Building wheel for pyrect (setup.py): finished with status 'done'\n",
      "  Created wheel for pyrect: filename=PyRect-0.2.0-py2.py3-none-any.whl size=11179 sha256=3ffef18f186d4aa7eea4315b38fbfc974d1f9814f802efe133339a2b1e6db3bc\n",
      "  Stored in directory: c:\\users\\zbook\\appdata\\local\\pip\\cache\\wheels\\25\\80\\fa\\27bb4a1c2e21f64ec71390489d52e57b7cc8afbe79bd595c5e\n",
      "Successfully built pyautogui pygetwindow pyscreeze PyTweening mouseinfo pymsgbox pyperclip pyrect\n",
      "Installing collected packages: PyTweening, pyscreeze, pyrect, pyperclip, pymsgbox, pygetwindow, mouseinfo, pyautogui\n",
      "Successfully installed PyTweening-1.0.7 mouseinfo-0.1.3 pyautogui-0.9.53 pygetwindow-0.0.9 pymsgbox-1.0.9 pyperclip-1.8.2 pyrect-0.2.0 pyscreeze-0.1.28\n"
     ]
    }
   ],
   "source": [
    "!pip install pyautogui"
   ]
  },
  {
   "cell_type": "code",
   "execution_count": 2,
   "id": "82e92eae",
   "metadata": {},
   "outputs": [
    {
     "data": {
      "text/plain": [
       "Size(width=1920, height=1080)"
      ]
     },
     "execution_count": 2,
     "metadata": {},
     "output_type": "execute_result"
    }
   ],
   "source": [
    "import pyautogui\n",
    "pyautogui.size()"
   ]
  },
  {
   "cell_type": "code",
   "execution_count": 5,
   "id": "a42dcef0",
   "metadata": {},
   "outputs": [
    {
     "name": "stdout",
     "output_type": "stream",
     "text": [
      "318 580\n"
     ]
    }
   ],
   "source": [
    "x,y=pyautogui.position()\n",
    "print(x,y)"
   ]
  },
  {
   "cell_type": "code",
   "execution_count": 3,
   "id": "b8f3242f",
   "metadata": {},
   "outputs": [
    {
     "data": {
      "text/plain": [
       "Point(x=1183, y=107)"
      ]
     },
     "execution_count": 3,
     "metadata": {},
     "output_type": "execute_result"
    }
   ],
   "source": [
    "pyautogui.position()"
   ]
  },
  {
   "cell_type": "code",
   "execution_count": 25,
   "id": "e21cccb1",
   "metadata": {},
   "outputs": [
    {
     "data": {
      "text/plain": [
       "Point(x=665, y=217)"
      ]
     },
     "execution_count": 25,
     "metadata": {},
     "output_type": "execute_result"
    }
   ],
   "source": [
    "pyautogui.position()"
   ]
  },
  {
   "cell_type": "code",
   "execution_count": 8,
   "id": "80989bbb",
   "metadata": {},
   "outputs": [],
   "source": [
    "pyautogui.moveTo(100,100) # absolute Path"
   ]
  },
  {
   "cell_type": "code",
   "execution_count": 12,
   "id": "831ac09a",
   "metadata": {},
   "outputs": [],
   "source": [
    "pyautogui.moveTo(100,100,1)"
   ]
  },
  {
   "cell_type": "code",
   "execution_count": 14,
   "id": "1724b4cf",
   "metadata": {},
   "outputs": [],
   "source": [
    "pyautogui.moveTo(500,34,3)\n",
    "pyautogui.moveTo(1000,444,3)"
   ]
  },
  {
   "cell_type": "code",
   "execution_count": 18,
   "id": "65fc1b04",
   "metadata": {},
   "outputs": [],
   "source": [
    "pyautogui.moveTo(500,34,3)\n",
    "pyautogui.click()\n",
    "pyautogui.moveTo(1000,444,3)\n",
    "pyautogui.click(interval=2)\n"
   ]
  },
  {
   "cell_type": "code",
   "execution_count": 23,
   "id": "837fdc1e",
   "metadata": {},
   "outputs": [],
   "source": [
    "pyautogui.click(500,34,interval=1)"
   ]
  },
  {
   "cell_type": "code",
   "execution_count": 30,
   "id": "5d506426",
   "metadata": {},
   "outputs": [],
   "source": [
    "pyautogui.click(1064,0)\n",
    "pyautogui.click(665,117,clicks=3)"
   ]
  },
  {
   "cell_type": "code",
   "execution_count": 41,
   "id": "44c102b8",
   "metadata": {},
   "outputs": [],
   "source": [
    "pyautogui.click(46,35,2)\n"
   ]
  },
  {
   "cell_type": "code",
   "execution_count": 48,
   "id": "c813b971",
   "metadata": {},
   "outputs": [
    {
     "data": {
      "text/plain": [
       "Point(x=250, y=1050)"
      ]
     },
     "execution_count": 48,
     "metadata": {},
     "output_type": "execute_result"
    }
   ],
   "source": [
    "pyautogui.position()"
   ]
  },
  {
   "cell_type": "code",
   "execution_count": 57,
   "id": "2957b6a9",
   "metadata": {},
   "outputs": [],
   "source": [
    "pyautogui.click(250,1050,2)\n",
    "pyautogui.write(\"chrome\",interval=0.2)\n",
    "pyautogui.press(\"enter\")\n",
    "pyautogui.write(\"Pakistan\")\n",
    "pyautogui.press(\"enter\")"
   ]
  },
  {
   "cell_type": "code",
   "execution_count": 60,
   "id": "4b3a5bcb",
   "metadata": {
    "scrolled": false
   },
   "outputs": [],
   "source": [
    "pyautogui.click(442,329,2)\n",
    "with pyautogui.hold('shift'):  # Press the Shift key down and hold it.\n",
    "        pyautogui.press(['left', 'left', 'left', 'left'])"
   ]
  },
  {
   "cell_type": "code",
   "execution_count": 61,
   "id": "6f5306a6",
   "metadata": {},
   "outputs": [],
   "source": [
    "pyautogui.hotkey(\"ctrl\",\"a\")"
   ]
  },
  {
   "cell_type": "code",
   "execution_count": 59,
   "id": "014c969b",
   "metadata": {},
   "outputs": [
    {
     "data": {
      "text/plain": [
       "'OK'"
      ]
     },
     "execution_count": 59,
     "metadata": {},
     "output_type": "execute_result"
    }
   ],
   "source": [
    "pyautogui.alert(\"pakistan zindabad\")"
   ]
  },
  {
   "cell_type": "code",
   "execution_count": null,
   "id": "4a5db0b8",
   "metadata": {},
   "outputs": [],
   "source": []
  }
 ],
 "metadata": {
  "kernelspec": {
   "display_name": "Python 3 (ipykernel)",
   "language": "python",
   "name": "python3"
  },
  "language_info": {
   "codemirror_mode": {
    "name": "ipython",
    "version": 3
   },
   "file_extension": ".py",
   "mimetype": "text/x-python",
   "name": "python",
   "nbconvert_exporter": "python",
   "pygments_lexer": "ipython3",
   "version": "3.9.13"
  }
 },
 "nbformat": 4,
 "nbformat_minor": 5
}
