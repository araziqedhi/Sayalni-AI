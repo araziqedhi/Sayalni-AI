{
 "cells": [
  {
   "cell_type": "code",
   "execution_count": 1,
   "id": "81ce78db",
   "metadata": {},
   "outputs": [],
   "source": [
    "import re"
   ]
  },
  {
   "cell_type": "code",
   "execution_count": 4,
   "id": "6df36b16",
   "metadata": {},
   "outputs": [
    {
     "name": "stdout",
     "output_type": "stream",
     "text": [
      "['P', 'P']\n",
      "['p']\n"
     ]
    }
   ],
   "source": [
    "text=\"Pakistan Zindabad, Pakistan pakistan\"\n",
    "print(re.findall(\"P\",text))\n",
    "print(re.findall(\"p\",text))"
   ]
  },
  {
   "cell_type": "code",
   "execution_count": 6,
   "id": "8f94716e",
   "metadata": {},
   "outputs": [
    {
     "data": {
      "text/plain": [
       "['Pa', 'Pa']"
      ]
     },
     "execution_count": 6,
     "metadata": {},
     "output_type": "execute_result"
    }
   ],
   "source": [
    "re.findall(\"P[ak]\",text)"
   ]
  },
  {
   "cell_type": "code",
   "execution_count": 7,
   "id": "7d8854f9",
   "metadata": {},
   "outputs": [
    {
     "data": {
      "text/plain": [
       "[]"
      ]
     },
     "execution_count": 7,
     "metadata": {},
     "output_type": "execute_result"
    }
   ],
   "source": [
    "re.findall(\"P[is]\",text)"
   ]
  },
  {
   "cell_type": "code",
   "execution_count": 9,
   "id": "096e7503",
   "metadata": {},
   "outputs": [
    {
     "data": {
      "text/plain": [
       "['ak', 'ak', 'ak']"
      ]
     },
     "execution_count": 9,
     "metadata": {},
     "output_type": "execute_result"
    }
   ],
   "source": [
    "re.findall(\"a[iks]\",text)"
   ]
  },
  {
   "cell_type": "code",
   "execution_count": 11,
   "id": "526d86f2",
   "metadata": {},
   "outputs": [
    {
     "data": {
      "text/plain": [
       "['aki', 'aki', 'aki']"
      ]
     },
     "execution_count": 11,
     "metadata": {},
     "output_type": "execute_result"
    }
   ],
   "source": [
    "re.findall(\"a[kbn][ist]\",text)"
   ]
  },
  {
   "cell_type": "code",
   "execution_count": 23,
   "id": "41bfd039",
   "metadata": {},
   "outputs": [
    {
     "name": "stdout",
     "output_type": "stream",
     "text": [
      "['Pak']\n",
      "['aki', 'ani', 'aUi']\n",
      "['arac']\n",
      "['living']\n",
      "['Pa']\n",
      "['Pakistan Zindabad !']\n",
      "['Pakistan Zindabad !']\n",
      "['akistan Zindabad !', 'arachi', 'aylani Mass IT Training ', 'aaaaUiHHHHH', 'abcd       a ']\n",
      "['akistan Zindabad !', 'arachi', 'aylani Mass IT Training ', 'aaaaUiHHHHH', 'abcd       a ']\n",
      "['akist']\n",
      "['akista', 'ani Ma']\n",
      "['akistan']\n",
      "[]\n",
      "['i', 'i', 'i', 'i', 'i', 'i', 'i', 'ai', 'i', 'i', 'i']\n"
     ]
    }
   ],
   "source": [
    "text = \"\"\"\n",
    "Pakistan Zindabad !\n",
    "I'm living in Karachi\n",
    "Saylani Mass IT Training \n",
    "hello world aaaaUiHHHHH\n",
    "abcd       a \n",
    "i\n",
    "\"\"\"\n",
    "print(re.findall(\"P.k\",text))\n",
    "print(re.findall(\"a.i\",text))\n",
    "print(re.findall(\"a..c\",text))\n",
    "print(re.findall(\"l....g\",text))\n",
    "print(re.findall(\"P.\",text))\n",
    "print(re.findall(\"P.+\",text))\n",
    "print(re.findall(\"P.*\",text))\n",
    "print(re.findall(\"a.+\",text))\n",
    "print(re.findall(\"a.*\",text))\n",
    "print(re.findall(\"a.{3}t\",text))\n",
    "print(re.findall(\"a.{4}a\",text))\n",
    "print(re.findall(\"a.{5}n\",text))\n",
    "print(re.findall(\"a.{6}t\",text))\n",
    "print(re.findall(\"a*i\",text))"
   ]
  },
  {
   "cell_type": "code",
   "execution_count": 32,
   "id": "de590475",
   "metadata": {},
   "outputs": [
    {
     "name": "stdout",
     "output_type": "stream",
     "text": [
      "['akista', 'aba', 'ara', 'ayla', 'aaaa']\n"
     ]
    }
   ],
   "source": [
    "print(re.findall(\"a.{1,5}a\",text))"
   ]
  },
  {
   "cell_type": "code",
   "execution_count": 35,
   "id": "473fcd54",
   "metadata": {},
   "outputs": [
    {
     "name": "stdout",
     "output_type": "stream",
     "text": [
      "['ai19284', 'ai19345', 'ai43944', 'aimdd', 'ai2']\n"
     ]
    }
   ],
   "source": [
    "text = \"\"\"\n",
    "Pakistan Zindabad !\n",
    "ai19284\n",
    "ai19345\n",
    "ai43944\n",
    "aimdd\n",
    "ai2\n",
    "ai\n",
    "\"\"\"\n",
    "\n",
    "print(re.findall(\"ai.{1,5}\",text))"
   ]
  },
  {
   "cell_type": "code",
   "execution_count": 1,
   "id": "117636a7",
   "metadata": {},
   "outputs": [],
   "source": [
    "import re"
   ]
  },
  {
   "cell_type": "code",
   "execution_count": 7,
   "id": "0c94d732",
   "metadata": {},
   "outputs": [
    {
     "name": "stdout",
     "output_type": "stream",
     "text": [
      "['Islamabad', 'Islamabad']\n"
     ]
    },
    {
     "data": {
      "text/plain": [
       "<re.Match object; span=(17, 26), match='Islamabad'>"
      ]
     },
     "execution_count": 7,
     "metadata": {},
     "output_type": "execute_result"
    }
   ],
   "source": [
    "text = \"\"\"There is rain in Islamabad . \n",
    "Islamabad is beautiful city\"\"\"\n",
    "print(re.findall(\"Islamabad\",text))\n",
    "re.search(\"Islamabad\",text)"
   ]
  },
  {
   "cell_type": "code",
   "execution_count": 10,
   "id": "6de9e66b",
   "metadata": {},
   "outputs": [],
   "source": [
    "text1=re.sub(\"Islamabad\",\"Karachi\",text)"
   ]
  },
  {
   "cell_type": "code",
   "execution_count": 11,
   "id": "7352abae",
   "metadata": {},
   "outputs": [
    {
     "name": "stdout",
     "output_type": "stream",
     "text": [
      "There is rain in Karachi . \n",
      "Karachi is beautiful city\n"
     ]
    }
   ],
   "source": [
    "print(text1)"
   ]
  },
  {
   "cell_type": "code",
   "execution_count": 14,
   "id": "44c43864",
   "metadata": {},
   "outputs": [
    {
     "name": "stdout",
     "output_type": "stream",
     "text": [
      "['There', 'is', 'rain', 'in', 'Karachi', '.', '', 'Karachi', 'is', 'beautiful', 'city']\n"
     ]
    }
   ],
   "source": [
    "text2=re.split(\"\\s\",text1)\n",
    "print(text2)"
   ]
  },
  {
   "cell_type": "code",
   "execution_count": 32,
   "id": "15fbc99e",
   "metadata": {},
   "outputs": [
    {
     "name": "stdout",
     "output_type": "stream",
     "text": [
      "['aylan', 'ainin']\n",
      "['aaaaaUi']\n",
      "['arachi', 'aylani', 'aaaaUi']\n",
      "['an zi', 'arachi', 'aylani', 'aaaaaUi']\n",
      "['aki', 'ani', 'aUi']\n",
      "['achi', 'aini', 'aaUi']\n",
      "['an zi', 'aaaUi']\n",
      "['ki', 'i', 'i', 'i', 'i', 'i', 'i', 'i', 'i', 'i', 'i', 'i']\n",
      "['ki']\n",
      "['akistan zinda bad!', 'arachi', 'ajk1U5n hello', 'aylani Mass IT Training', 'aaaaaUiHHHHH', 'abcd   a']\n",
      "['akistan zinda bad!', 'arachi', 'ajk1U5n hello', 'aylani Mass IT Training', 'aaaaaUiHHHHH', 'abcd   a']\n"
     ]
    }
   ],
   "source": [
    "text = \"\"\"\n",
    "pakistan zinda bad!\n",
    "i'm living in karachi\n",
    "ajk1U5n hello\n",
    "Saylani Mass IT Training\n",
    "hello world aaaaaUiHHHHH\n",
    "abcd   a\n",
    "i\n",
    "\"\"\"\n",
    "print(re.findall(\"a.{3}n\",text))\n",
    "print(re.findall(\"a.{5}i\",text))\n",
    "print(re.findall(\"a.{4}i\",text))\n",
    "print(re.findall(\"a.{3,5}i\",text))\n",
    "print(re.findall(\"a.i\",text))\n",
    "print(re.findall(\"a..i\",text))\n",
    "print(re.findall(\"a...i\",text))\n",
    "print(re.findall(\"k*i\",text))\n",
    "print(re.findall(\"k+i\",text))\n",
    "print(re.findall(\"a.+\",text))\n",
    "print(re.findall(\"a.*\",text))"
   ]
  },
  {
   "cell_type": "markdown",
   "id": "6e5a9dcb",
   "metadata": {},
   "source": [
    "* '+' shows one or more occurances \n",
    "* '*' shows zero or more occurances"
   ]
  },
  {
   "cell_type": "code",
   "execution_count": 55,
   "id": "bf153461",
   "metadata": {},
   "outputs": [
    {
     "name": "stdout",
     "output_type": "stream",
     "text": [
      "[]\n",
      "['ai19284', 'ai12345', 'ai73295', 'ai0488888888894']\n",
      "['ai19284', 'ai12345', 'ai73295', 'ai0488888888894', 'ai']\n",
      "['ai19284 ', 'ai12345 ', 'ai73295 ', 'ai0488888888894', 'aiT']\n",
      "['ai19284 a', 'ai12345 d', 'ai73295 d', 'ai0488888888894', 'aiTJ']\n",
      "['ai19284 aadss', 'ai12345 ddd', 'ai73295 dddd', 'ai0488888888894', 'aiTJKL']\n",
      "['ai19284 ', 'ai12345 ', 'ai73295 ', 'ai0488888888894', 'aiTJKL']\n",
      "['ai19284 ', 'ai12345 ', 'ai73295 ', 'ai0488888888894', 'aiTJKL']\n"
     ]
    }
   ],
   "source": [
    "text = \"\"\"\n",
    "pakistan zinda bad!\n",
    "ai19284 aadss\n",
    "ai12345 ddd\n",
    "ai73295 dddd\n",
    "ai0488888888894\n",
    "aiTJKL\n",
    "\"\"\"\n",
    "print(re.findall(\"ai[0-9]+[a-z]+\",text))\n",
    "print(re.findall(\"ai[0-9]+\",text))\n",
    "print(re.findall(\"ai[0-9]*\",text))\n",
    "print(re.findall(\"ai[0-9]*.\",text))\n",
    "print(re.findall(\"ai[0-9]*..\",text))\n",
    "print(re.findall(\"ai[0-9]*.*\",text))\n",
    "print(re.findall(\"ai[0-9 | A-Z]+\",text))\n",
    "print(re.findall(\"ai[0-9 | A-Z]*\",text))"
   ]
  },
  {
   "cell_type": "code",
   "execution_count": 68,
   "id": "f93ce0ce",
   "metadata": {},
   "outputs": [
    {
     "data": {
      "text/plain": [
       "['aaa', 'abc', 'aba', 'abc', 'cba', 'bac', 'bca']"
      ]
     },
     "execution_count": 68,
     "metadata": {},
     "output_type": "execute_result"
    }
   ],
   "source": [
    "text = \"\"\"\n",
    "pakistan  zinda bad!\n",
    "i'm living in karachi\n",
    "ajk1U5n hello\n",
    "Saylani Mass IT Training\n",
    "hello world aaaaaUiHHHHH\n",
    "abcd   a\n",
    "ai0001\n",
    "abac\n",
    "abc\n",
    "cba\n",
    "bac\n",
    "bca\n",
    "i\n",
    "\"\"\"\n",
    "\n",
    "re.findall(\"[a-c]{3,5}\",text)\n",
    "re.findall(\"[a-c]{3}\",text)"
   ]
  },
  {
   "cell_type": "code",
   "execution_count": 69,
   "id": "2d6a3892",
   "metadata": {},
   "outputs": [
    {
     "name": "stdout",
     "output_type": "stream",
     "text": [
      "['pakistan', 'zinda', 'bad', 'i', 'm', 'living', 'in', 'karachi', 'ajk', 'n', 'hello', 'aylani', 'ass', 'raining', 'hello', 'world', 'aaaaa', 'i', 'abcd', 'a', 'ai', 'abac', 'abc', 'cba', 'bac', 'bca', 'i']\n",
      "['U', 'S', 'M', 'IT', 'T', 'U', 'HHHHH']\n",
      "['pakistan  zinda bad!', \"i'm living in karachi\", 'ajk1U5n hello', 'aylani Mass IT Training', 'hello world aaaaaUiHHHHH', 'abcd   a', 'ai0001', 'abac', 'abc', 'cba', 'bac', 'bca']\n"
     ]
    }
   ],
   "source": [
    "print(re.findall(\"[a-z]+\",text))\n",
    "print(re.findall(\"[A-Z]+\",text))\n",
    "print(re.findall(\"[a-z].+\",text))"
   ]
  },
  {
   "cell_type": "code",
   "execution_count": 70,
   "id": "49aebd5a",
   "metadata": {},
   "outputs": [],
   "source": [
    "text = \"\"\"\n",
    "0315-2968211\n",
    "03102222222\n",
    "0311-1234567\n",
    "0092315-1234567\n",
    "+92345-1234567\n",
    "hell world... 1234-1234567\n",
    "my zong number is 03152968211\n",
    "\"\"\"\n"
   ]
  },
  {
   "cell_type": "code",
   "execution_count": 91,
   "id": "00df35e0",
   "metadata": {},
   "outputs": [
    {
     "name": "stdout",
     "output_type": "stream",
     "text": [
      "['0315-2968211', '03102222222', '0311-1234567', '0092315-1234567', '+92345-1234567', '1234-1234567', '03152968211']\n",
      "['0315-2968211', '0311-1234567', '0092315-1234567', '+92345-1234567', '1234-1234567']\n"
     ]
    }
   ],
   "source": [
    "text1=re.findall(\"[+|0-9].+\",text)\n",
    "print(text1)\n",
    "text2=re.findall(\"[+|0-9]+[- | ].+\",text)\n",
    "print(text2)"
   ]
  },
  {
   "cell_type": "code",
   "execution_count": 95,
   "id": "fdccf173",
   "metadata": {},
   "outputs": [
    {
     "data": {
      "text/plain": [
       "['0315-2968211',\n",
       " '03102222222',\n",
       " '0311-1234567',\n",
       " '0092315-1234567',\n",
       " '+92345-1234567']"
      ]
     },
     "execution_count": 95,
     "metadata": {},
     "output_type": "execute_result"
    }
   ],
   "source": [
    "re.findall(\"^[+|0-9].+[0-9]$\",text,re.MULTILINE)"
   ]
  },
  {
   "cell_type": "code",
   "execution_count": 105,
   "id": "751b1829",
   "metadata": {},
   "outputs": [
    {
     "data": {
      "text/plain": [
       "['0315-2968211', '03102222222', '0311-1234567', '0092315-1234567']"
      ]
     },
     "execution_count": 105,
     "metadata": {},
     "output_type": "execute_result"
    }
   ],
   "source": [
    "re.findall(\"^\\d.+\\d$\",text,re.MULTILINE)"
   ]
  },
  {
   "cell_type": "code",
   "execution_count": 106,
   "id": "ae8c48af",
   "metadata": {},
   "outputs": [
    {
     "name": "stdout",
     "output_type": "stream",
     "text": [
      "\n",
      "0315-2968211\n",
      "03102222222\n",
      "0311-1234567\n",
      "0092315-1234567\n",
      "+92345-1234567\n",
      "hell world... 1234-1234567\n",
      "my zong number is 03152968211\n",
      "\n"
     ]
    }
   ],
   "source": [
    "print(text)"
   ]
  },
  {
   "cell_type": "code",
   "execution_count": 116,
   "id": "dd4e8f65",
   "metadata": {},
   "outputs": [
    {
     "name": "stdout",
     "output_type": "stream",
     "text": [
      "['0315-2968211', '03102222222', '0311-1234567', '0092315-1234567', '92345-1234567', '1234-1234567', '03152968211']\n"
     ]
    }
   ],
   "source": [
    "phone_no=re.findall(r\"\\b\\+?\\d{4,7}-?\\d{7}\\b\",text)\n",
    "print(phone_no)"
   ]
  },
  {
   "cell_type": "markdown",
   "id": "e8c1cef7",
   "metadata": {},
   "source": [
    "## Applying it on real world DAta"
   ]
  },
  {
   "cell_type": "code",
   "execution_count": 121,
   "id": "0843c09e",
   "metadata": {},
   "outputs": [
    {
     "name": "stdout",
     "output_type": "stream",
     "text": [
      "\n",
      "05:40 From Ali Asar To Everyone : PIAIC-187258\n",
      "12:05:41 From Hasnain Munir To Everyone : PIAIC-187272\n",
      "12:05:44 From Shaheer Baig To Everyone : PIAIC-169519\n",
      "12:05:45 From Humera Naz To Everyone : PIAIC-173431\n",
      "12:05:47 From Sadia Anwar To Everyone : PIAIC-180028\n",
      "12:05:47 From Muhammad Mehroz To Everyone : PIAIC-131496\n",
      "12:05:47 From Home To Everyone : PIAIC-172998\n",
      "12:05:47 From Muhammad Sadullah = PIAIC-178950 To Everyone : PIAIC-178950\n",
      "12:05:48 From Muhammad Uzair-177637 To Everyone : PIAIC-177637\n",
      "12:05:48 From Taqwa Khaliq To Everyone : PIAIC-173701 TAQWA KHALIQ\n",
      "12:05:48 From asghar ibraheem CNC-012105 To Everyone : CNC-012105\n",
      "12:05:49 From Faisal Bashir-177802 To Everyone : PIAIC-177802\n",
      "12:05:50 From Talha Munir Rana To Everyone : PIAIC-173761\n",
      "12:05:52 From Abdul Qadar To Everyone : PIAIC-172941\n",
      "12:05:57 From Dr. Bhagwan Das To Everyone : PIAIC-96879\n",
      "12:05:57 From Uzair Ullah (PIAIC169405) To Everyone : PIAIC-169405\n",
      "12:06:00 From Arshad To Everyone : PIAIC168092\n",
      "12:06:01 From PIAIC188523 Subhan Ahmed To Everyone : PIAIC188523\n",
      "12:06:04 From Taqwa Khaliq To Everyone : PIAIC 173701\n",
      "12:06:10 From Ali Asar To Everyone : PIAIC-188720\n",
      "12:06:23 From Mohammad Javed To Everyone : WhatsApp number?\n",
      "12:06:28 From Gulshan Ali To Everyone : PIAIC-176719\n",
      "12:06:29 From M Ali Asif Khan - PIAIC-57947 To Everyone : PIAIC-57947\n",
      "12:06:33 From Usman Noor PIAIC-188401 To Everyone : PIAIC-188401\n",
      "12:06:46 From Zia (piaic121514) To Everyone : thanks\n",
      "12:06:49 From Sohaib Baseer Ahmad To Everyone : PIAIC67260\n",
      "\n"
     ]
    }
   ],
   "source": [
    "x = \"\"\"\n",
    "05:40 From Ali Asar To Everyone : PIAIC-187258\n",
    "12:05:41 From Hasnain Munir To Everyone : PIAIC-187272\n",
    "12:05:44 From Shaheer Baig To Everyone : PIAIC-169519\n",
    "12:05:45 From Humera Naz To Everyone : PIAIC-173431\n",
    "12:05:47 From Sadia Anwar To Everyone : PIAIC-180028\n",
    "12:05:47 From Muhammad Mehroz To Everyone : PIAIC-131496\n",
    "12:05:47 From Home To Everyone : PIAIC-172998\n",
    "12:05:47 From Muhammad Sadullah = PIAIC-178950 To Everyone : PIAIC-178950\n",
    "12:05:48 From Muhammad Uzair-177637 To Everyone : PIAIC-177637\n",
    "12:05:48 From Taqwa Khaliq To Everyone : PIAIC-173701 TAQWA KHALIQ\n",
    "12:05:48 From asghar ibraheem CNC-012105 To Everyone : CNC-012105\n",
    "12:05:49 From Faisal Bashir-177802 To Everyone : PIAIC-177802\n",
    "12:05:50 From Talha Munir Rana To Everyone : PIAIC-173761\n",
    "12:05:52 From Abdul Qadar To Everyone : PIAIC-172941\n",
    "12:05:57 From Dr. Bhagwan Das To Everyone : PIAIC-96879\n",
    "12:05:57 From Uzair Ullah (PIAIC169405) To Everyone : PIAIC-169405\n",
    "12:06:00 From Arshad To Everyone : PIAIC168092\n",
    "12:06:01 From PIAIC188523 Subhan Ahmed To Everyone : PIAIC188523\n",
    "12:06:04 From Taqwa Khaliq To Everyone : PIAIC 173701\n",
    "12:06:10 From Ali Asar To Everyone : PIAIC-188720\n",
    "12:06:23 From Mohammad Javed To Everyone : WhatsApp number?\n",
    "12:06:28 From Gulshan Ali To Everyone : PIAIC-176719\n",
    "12:06:29 From M Ali Asif Khan - PIAIC-57947 To Everyone : PIAIC-57947\n",
    "12:06:33 From Usman Noor PIAIC-188401 To Everyone : PIAIC-188401\n",
    "12:06:46 From Zia (piaic121514) To Everyone : thanks\n",
    "12:06:49 From Sohaib Baseer Ahmad To Everyone : PIAIC67260\n",
    "\"\"\"\n",
    "print(x)"
   ]
  },
  {
   "cell_type": "code",
   "execution_count": 174,
   "id": "3e0d25e3",
   "metadata": {},
   "outputs": [
    {
     "name": "stdout",
     "output_type": "stream",
     "text": [
      "[('12:05:41', 'Hasnain Munir', 'PIAIC-187272'), ('12:05:44', 'Shaheer Baig', 'PIAIC-169519'), ('12:05:45', 'Humera Naz', 'PIAIC-173431'), ('12:05:47', 'Sadia Anwar', 'PIAIC-180028'), ('12:05:47', 'Muhammad Mehroz', 'PIAIC-131496'), ('12:05:47', 'Home', 'PIAIC-172998'), ('12:05:47', 'Muhammad Sadullah = PIAIC-178950', 'PIAIC-178950'), ('12:05:48', 'Muhammad Uzair-177637', 'PIAIC-177637'), ('12:05:48', 'Taqwa Khaliq', 'PIAIC-173701'), ('12:05:49', 'Faisal Bashir-177802', 'PIAIC-177802'), ('12:05:50', 'Talha Munir Rana', 'PIAIC-173761'), ('12:05:52', 'Abdul Qadar', 'PIAIC-172941'), ('12:05:57', 'Dr. Bhagwan Das', 'PIAIC-96879'), ('12:05:57', 'Uzair Ullah (PIAIC169405)', 'PIAIC-169405'), ('12:06:00', 'Arshad', 'PIAIC168092'), ('12:06:01', 'PIAIC188523 Subhan Ahmed', 'PIAIC188523'), ('12:06:10', 'Ali Asar', 'PIAIC-188720'), ('12:06:28', 'Gulshan Ali', 'PIAIC-176719'), ('12:06:29', 'M Ali Asif Khan - PIAIC-57947', 'PIAIC-57947'), ('12:06:33', 'Usman Noor PIAIC-188401', 'PIAIC-188401'), ('12:06:49', 'Sohaib Baseer Ahmad', 'PIAIC67260')]\n"
     ]
    }
   ],
   "source": [
    "pattern = r\"(\\b\\d{2}:\\d{2}:\\d{2}) From (\\(?[A-Z |a-z].*\\)?) To Everyone : (PIAIC-?\\d{5,6})\"\n",
    "details=re.findall(pattern,x)\n",
    "print(details)"
   ]
  },
  {
   "cell_type": "code",
   "execution_count": 177,
   "id": "4f30d6a8",
   "metadata": {},
   "outputs": [
    {
     "data": {
      "text/html": [
       "<div>\n",
       "<style scoped>\n",
       "    .dataframe tbody tr th:only-of-type {\n",
       "        vertical-align: middle;\n",
       "    }\n",
       "\n",
       "    .dataframe tbody tr th {\n",
       "        vertical-align: top;\n",
       "    }\n",
       "\n",
       "    .dataframe thead th {\n",
       "        text-align: right;\n",
       "    }\n",
       "</style>\n",
       "<table border=\"1\" class=\"dataframe\">\n",
       "  <thead>\n",
       "    <tr style=\"text-align: right;\">\n",
       "      <th></th>\n",
       "      <th>Timing</th>\n",
       "      <th>Name</th>\n",
       "      <th>Roll number</th>\n",
       "    </tr>\n",
       "  </thead>\n",
       "  <tbody>\n",
       "    <tr>\n",
       "      <th>0</th>\n",
       "      <td>12:05:41</td>\n",
       "      <td>Hasnain Munir</td>\n",
       "      <td>PIAIC-187272</td>\n",
       "    </tr>\n",
       "    <tr>\n",
       "      <th>1</th>\n",
       "      <td>12:05:44</td>\n",
       "      <td>Shaheer Baig</td>\n",
       "      <td>PIAIC-169519</td>\n",
       "    </tr>\n",
       "    <tr>\n",
       "      <th>2</th>\n",
       "      <td>12:05:45</td>\n",
       "      <td>Humera Naz</td>\n",
       "      <td>PIAIC-173431</td>\n",
       "    </tr>\n",
       "    <tr>\n",
       "      <th>3</th>\n",
       "      <td>12:05:47</td>\n",
       "      <td>Sadia Anwar</td>\n",
       "      <td>PIAIC-180028</td>\n",
       "    </tr>\n",
       "    <tr>\n",
       "      <th>4</th>\n",
       "      <td>12:05:47</td>\n",
       "      <td>Muhammad Mehroz</td>\n",
       "      <td>PIAIC-131496</td>\n",
       "    </tr>\n",
       "    <tr>\n",
       "      <th>5</th>\n",
       "      <td>12:05:47</td>\n",
       "      <td>Home</td>\n",
       "      <td>PIAIC-172998</td>\n",
       "    </tr>\n",
       "    <tr>\n",
       "      <th>6</th>\n",
       "      <td>12:05:47</td>\n",
       "      <td>Muhammad Sadullah = PIAIC-178950</td>\n",
       "      <td>PIAIC-178950</td>\n",
       "    </tr>\n",
       "    <tr>\n",
       "      <th>7</th>\n",
       "      <td>12:05:48</td>\n",
       "      <td>Muhammad Uzair-177637</td>\n",
       "      <td>PIAIC-177637</td>\n",
       "    </tr>\n",
       "    <tr>\n",
       "      <th>8</th>\n",
       "      <td>12:05:48</td>\n",
       "      <td>Taqwa Khaliq</td>\n",
       "      <td>PIAIC-173701</td>\n",
       "    </tr>\n",
       "    <tr>\n",
       "      <th>9</th>\n",
       "      <td>12:05:49</td>\n",
       "      <td>Faisal Bashir-177802</td>\n",
       "      <td>PIAIC-177802</td>\n",
       "    </tr>\n",
       "    <tr>\n",
       "      <th>10</th>\n",
       "      <td>12:05:50</td>\n",
       "      <td>Talha Munir Rana</td>\n",
       "      <td>PIAIC-173761</td>\n",
       "    </tr>\n",
       "    <tr>\n",
       "      <th>11</th>\n",
       "      <td>12:05:52</td>\n",
       "      <td>Abdul Qadar</td>\n",
       "      <td>PIAIC-172941</td>\n",
       "    </tr>\n",
       "    <tr>\n",
       "      <th>12</th>\n",
       "      <td>12:05:57</td>\n",
       "      <td>Dr. Bhagwan Das</td>\n",
       "      <td>PIAIC-96879</td>\n",
       "    </tr>\n",
       "    <tr>\n",
       "      <th>13</th>\n",
       "      <td>12:05:57</td>\n",
       "      <td>Uzair Ullah (PIAIC169405)</td>\n",
       "      <td>PIAIC-169405</td>\n",
       "    </tr>\n",
       "    <tr>\n",
       "      <th>14</th>\n",
       "      <td>12:06:00</td>\n",
       "      <td>Arshad</td>\n",
       "      <td>PIAIC168092</td>\n",
       "    </tr>\n",
       "    <tr>\n",
       "      <th>15</th>\n",
       "      <td>12:06:01</td>\n",
       "      <td>PIAIC188523 Subhan Ahmed</td>\n",
       "      <td>PIAIC188523</td>\n",
       "    </tr>\n",
       "    <tr>\n",
       "      <th>16</th>\n",
       "      <td>12:06:10</td>\n",
       "      <td>Ali Asar</td>\n",
       "      <td>PIAIC-188720</td>\n",
       "    </tr>\n",
       "    <tr>\n",
       "      <th>17</th>\n",
       "      <td>12:06:28</td>\n",
       "      <td>Gulshan Ali</td>\n",
       "      <td>PIAIC-176719</td>\n",
       "    </tr>\n",
       "    <tr>\n",
       "      <th>18</th>\n",
       "      <td>12:06:29</td>\n",
       "      <td>M Ali Asif Khan - PIAIC-57947</td>\n",
       "      <td>PIAIC-57947</td>\n",
       "    </tr>\n",
       "    <tr>\n",
       "      <th>19</th>\n",
       "      <td>12:06:33</td>\n",
       "      <td>Usman Noor PIAIC-188401</td>\n",
       "      <td>PIAIC-188401</td>\n",
       "    </tr>\n",
       "    <tr>\n",
       "      <th>20</th>\n",
       "      <td>12:06:49</td>\n",
       "      <td>Sohaib Baseer Ahmad</td>\n",
       "      <td>PIAIC67260</td>\n",
       "    </tr>\n",
       "  </tbody>\n",
       "</table>\n",
       "</div>"
      ],
      "text/plain": [
       "      Timing                              Name   Roll number\n",
       "0   12:05:41                     Hasnain Munir  PIAIC-187272\n",
       "1   12:05:44                      Shaheer Baig  PIAIC-169519\n",
       "2   12:05:45                        Humera Naz  PIAIC-173431\n",
       "3   12:05:47                       Sadia Anwar  PIAIC-180028\n",
       "4   12:05:47                   Muhammad Mehroz  PIAIC-131496\n",
       "5   12:05:47                              Home  PIAIC-172998\n",
       "6   12:05:47  Muhammad Sadullah = PIAIC-178950  PIAIC-178950\n",
       "7   12:05:48             Muhammad Uzair-177637  PIAIC-177637\n",
       "8   12:05:48                      Taqwa Khaliq  PIAIC-173701\n",
       "9   12:05:49              Faisal Bashir-177802  PIAIC-177802\n",
       "10  12:05:50                  Talha Munir Rana  PIAIC-173761\n",
       "11  12:05:52                       Abdul Qadar  PIAIC-172941\n",
       "12  12:05:57                   Dr. Bhagwan Das   PIAIC-96879\n",
       "13  12:05:57         Uzair Ullah (PIAIC169405)  PIAIC-169405\n",
       "14  12:06:00                            Arshad   PIAIC168092\n",
       "15  12:06:01          PIAIC188523 Subhan Ahmed   PIAIC188523\n",
       "16  12:06:10                          Ali Asar  PIAIC-188720\n",
       "17  12:06:28                       Gulshan Ali  PIAIC-176719\n",
       "18  12:06:29     M Ali Asif Khan - PIAIC-57947   PIAIC-57947\n",
       "19  12:06:33           Usman Noor PIAIC-188401  PIAIC-188401\n",
       "20  12:06:49               Sohaib Baseer Ahmad    PIAIC67260"
      ]
     },
     "execution_count": 177,
     "metadata": {},
     "output_type": "execute_result"
    }
   ],
   "source": [
    "import pandas as pd\n",
    "df=pd.DataFrame(details,columns=[\"Timing\",'Name',\"Roll number\"])\n",
    "df"
   ]
  },
  {
   "cell_type": "code",
   "execution_count": null,
   "id": "3366250a",
   "metadata": {},
   "outputs": [],
   "source": []
  }
 ],
 "metadata": {
  "kernelspec": {
   "display_name": "Python 3 (ipykernel)",
   "language": "python",
   "name": "python3"
  },
  "language_info": {
   "codemirror_mode": {
    "name": "ipython",
    "version": 3
   },
   "file_extension": ".py",
   "mimetype": "text/x-python",
   "name": "python",
   "nbconvert_exporter": "python",
   "pygments_lexer": "ipython3",
   "version": "3.9.13"
  }
 },
 "nbformat": 4,
 "nbformat_minor": 5
}
